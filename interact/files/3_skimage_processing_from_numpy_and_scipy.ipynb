{
 "cells": [
  {
   "cell_type": "markdown",
   "id": "8c2bbbe7",
   "metadata": {},
   "source": [
    "# (Scikit-) Image processing, via NumPy and SciPy\n",
    "\n",
    "This page will explore foundational image processing techniques, as operations on the values in a NumPy image array. First, we will explore how to achieve specific effects using NumPy and SciPy. We will demonstrate what these operations are doing to an image at the level of the array pixels. After that, we will show how more sophisticated extensions of these techniques can be implemented with Scikit-image, focusing on how it is often the same NumPy and SciPy operations that Scikit image is using \"under the hood\".\n",
    "\n",
    "Remember that *image processing is when we do something which changes the numbers inside an image array, and therefore changes the corresponding visual image*? Well, in fact, all that even the fanciest image processing software is doing is just changing the pixel values inside image arrays, in various ways. This is true for image processing software with a graphical user interface, like [Adobe Photoshop](https://www.adobe.com/th_en/products/photoshop), as well as for code-based image processing software like Scikit-image.\n",
    "\n",
    "Let's again build a simple image array, and look at how we can use NumPy alone to achieve some pretty radical changes to the original image. We will then look at the specific purposes that such changes are used for, with more complex images.\n",
    "\n",
    "First, we create our image array:"
   ]
  },
  {
   "cell_type": "code",
   "execution_count": null,
   "id": "2b087455",
   "metadata": {},
   "outputs": [],
   "source": [
    "import numpy as np\n",
    "import matplotlib.pyplot as plt\n",
    "import skimage as ski\n",
    "\n",
    "# Import a custom function to give hints for some exercises.\n",
    "from hints import hint_split_i, hint_cryptic_camera\n",
    "\n",
    "# Set precision for float numbers\n",
    "%precision 2\n",
    "\n",
    "# Set 'gray' as the default colormap\n",
    "plt.rcParams['image.cmap'] = 'gray'\n",
    "\n",
    "# A custom function for showing image attributes.\n",
    "from show_attributes import show_attributes\n",
    "\n",
    "# Create our image array.\n",
    "i_img = np.array([[0, 0, 0, 0, 0, 0, 0, 0],\n",
    "                  [0, 0, 0, 1, 1, 0, 0, 0],\n",
    "                  [0, 0, 0, 1, 1, 0, 0, 0],\n",
    "                  [0, 0, 0, 0, 0, 0, 0, 0],\n",
    "                  [0, 0, 0, 1, 1, 0, 0, 0],\n",
    "                  [0, 0, 0, 1, 1, 0, 0, 0],\n",
    "                  [0, 0, 0, 1, 1, 0, 0, 0],\n",
    "                  [0, 0, 0, 1, 1, 0, 0, 0],\n",
    "                  [0, 0, 0, 1, 1, 0, 0, 0],\n",
    "                  [0, 0, 0, 1, 1, 0, 0, 0],\n",
    "                  [0, 0, 0, 1, 1, 0, 0, 0],\n",
    "                  [0, 0, 0, 1, 1, 0, 0, 0],\n",
    "                  [0, 0, 0, 1, 1, 0, 0, 0],\n",
    "                  [0, 0, 0, 1, 1, 0, 0, 0],\n",
    "                  [0, 0, 0, 0, 0, 0, 0, 0]],\n",
    "                  dtype=float)\n",
    "\n",
    "# Show the image array.\n",
    "plt.imshow(i_img);"
   ]
  },
  {
   "cell_type": "markdown",
   "id": "9430e763",
   "metadata": {},
   "source": [
    "We have already encountered the use of `np.flip()` as a tool for rudimentary image manipulation. We use it to, well, flip an image array on its head:"
   ]
  },
  {
   "cell_type": "code",
   "execution_count": null,
   "id": "3da4ae6f",
   "metadata": {},
   "outputs": [],
   "source": [
    "# Flip the array.\n",
    "flipped_i = np.flip(i_img)\n",
    "\n",
    "# Show the \"raw\" array pixel values.\n",
    "print(flipped_i)\n",
    "\n",
    "# Display the array with Matplotlib.\n",
    "plt.imshow(flipped_i);"
   ]
  },
  {
   "cell_type": "markdown",
   "id": "1fc1e465",
   "metadata": {},
   "source": [
    "# Resizing an image\n",
    "\n",
    "Now, *any operation that changes the numbers in the array* is a form of image manipulation. The term *image processing* generally means we are applying image manipulations *to achieve a specific purpose* - like improving image quality or clarity, for instance.\n",
    "\n",
    "Let's say we want to *resize* our image array. Using NumPy, there are many ways to the same destination. Provided we want to *double* the size along a given dimension, we can achieve what we want using `np.repeat()`. "
   ]
  },
  {
   "cell_type": "code",
   "execution_count": null,
   "id": "915aa5e9",
   "metadata": {},
   "outputs": [],
   "source": [
    "# Double the image, along the rows.\n",
    "doubled_i_rows = np.repeat(i_img, \n",
    "                           repeats=2,\n",
    "                           axis=0)\n",
    "\n",
    "# Show the \"raw\" array pixel values.\n",
    "print(doubled_i_rows)\n",
    "\n",
    "# Display the array with Matplotlib.\n",
    "plt.imshow(doubled_i_rows);"
   ]
  },
  {
   "cell_type": "markdown",
   "id": "b8651824",
   "metadata": {},
   "source": [
    "We can compare the attributes, including the `shape` of each array, using a custom function we defined in the first cell of this notebook:"
   ]
  },
  {
   "cell_type": "code",
   "execution_count": null,
   "id": "b4b86a9f",
   "metadata": {},
   "outputs": [],
   "source": [
    "show_attributes(i_img)"
   ]
  },
  {
   "cell_type": "code",
   "execution_count": null,
   "id": "2080f32f",
   "metadata": {},
   "outputs": [],
   "source": [
    "show_attributes(doubled_i_rows)"
   ]
  },
  {
   "cell_type": "markdown",
   "id": "b4e79c3d",
   "metadata": {},
   "source": [
    "We can see that we have twice the number of rows in the `doubled_i_rows` image.\n",
    "\n",
    "We can also double along the columns, by setting `axis = 1`:"
   ]
  },
  {
   "cell_type": "code",
   "execution_count": null,
   "id": "f6277c5d",
   "metadata": {},
   "outputs": [],
   "source": [
    "# Double along the columns.\n",
    "doubled_i_cols = np.repeat(i_img, \n",
    "                           repeats=2,\n",
    "                           axis=1)\n",
    "# Show the result.\n",
    "print(doubled_i_cols)\n",
    "plt.imshow(doubled_i_cols);"
   ]
  },
  {
   "cell_type": "code",
   "execution_count": null,
   "id": "3022c799",
   "metadata": {},
   "outputs": [],
   "source": [
    "# Indeed, the columns have doubled.\n",
    "show_attributes(doubled_i_cols)"
   ]
  },
  {
   "cell_type": "markdown",
   "id": "98863452",
   "metadata": {},
   "source": [
    "By combining these operations, we can double along both the rows and the columns:"
   ]
  },
  {
   "cell_type": "code",
   "execution_count": null,
   "id": "1f772d3c",
   "metadata": {},
   "outputs": [],
   "source": [
    "# Double the whole image.\n",
    "doubled_i =  np.repeat(i_img, \n",
    "                       repeats=2, \n",
    "                       axis=0)\n",
    "doubled_i =  np.repeat(doubled_i, \n",
    "                       repeats=2,\n",
    "                       axis=1)\n",
    "\n",
    "# Show the result.\n",
    "print(doubled_i)\n",
    "plt.imshow(doubled_i);"
   ]
  },
  {
   "cell_type": "code",
   "execution_count": null,
   "id": "bed51bc5",
   "metadata": {},
   "outputs": [],
   "source": [
    "# The original image size was (15, 8).\n",
    "show_attributes(doubled_i)"
   ]
  },
  {
   "cell_type": "markdown",
   "id": "bac9808e",
   "metadata": {},
   "source": [
    "**Start of exercise**\n",
    "\n",
    "Your job now is to use NumPy operations *only* to create the following image array, using the `i_img` array as your starting point:\n",
    "\n",
    "![](images/eye-!.png)\n",
    "\n",
    "Your final array should have the following attributes:\n",
    "\n",
    "```\n",
    "Type: <class 'numpy.ndarray'>\n",
    "dtype: float64\n",
    "Shape: (30, 8)\n",
    "Max Pixel Value: 1.0\n",
    "Min Pixel Value: 0.0\n",
    "```\n",
    "\n",
    "*Hint*: you may want to investigate NumPy functions for combining arrays together..."
   ]
  },
  {
   "cell_type": "code",
   "execution_count": null,
   "id": "c44106c6",
   "metadata": {},
   "outputs": [],
   "source": [
    "# YOUR CODE HERE\n",
    "i_exclam = i_img.copy()"
   ]
  },
  {
   "cell_type": "markdown",
   "id": "8a2867ea",
   "metadata": {},
   "source": [
    "**End of exercise**"
   ]
  },
  {
   "cell_type": "markdown",
   "id": "b3d7fb1e",
   "metadata": {},
   "source": [
    "**See the [corresponding page](/skimage-tutorials-temp/3_skimage_processing_from_numpy_and_scipy.html) for solution**\n",
    "\n",
    "Here again is the `i_img` array, and a printout of its attributes:"
   ]
  },
  {
   "cell_type": "code",
   "execution_count": null,
   "id": "c19a835e",
   "metadata": {},
   "outputs": [],
   "source": [
    "plt.imshow(i_img)\n",
    "show_attributes(i_img);"
   ]
  },
  {
   "cell_type": "markdown",
   "id": "3608fdf9",
   "metadata": {},
   "source": [
    "Now, your task is to find a way, again using only NumPy, to alter the `i_img` array so it becomes this target image:\n",
    "\n",
    "![](images/split_i.png)\n",
    "\n",
    "The output image should have the following attributes:\n",
    "\n",
    "```\n",
    "Type: <class 'numpy.ndarray'>\n",
    "dtype: float64\n",
    "Shape: (15, 7)\n",
    "Max Pixel Value: 1.0\n",
    "Min Pixel Value: -1.0\n",
    "```\n",
    "\n",
    "*Note*: notice how we have lost a column, relative to the original `i_img` array...We also now have -1 values in the array, have a think about which colors in the displayed image you think that these negative values will correspond to.\n",
    "\n",
    "*Hint:* run the function `hint_split_i()`, which was imported at the beginning of this notebook, to see a helpful hint."
   ]
  },
  {
   "cell_type": "code",
   "execution_count": null,
   "id": "d858a286",
   "metadata": {},
   "outputs": [],
   "source": [
    "# YOUR CODE HERE\n",
    "split_i = ..."
   ]
  },
  {
   "cell_type": "markdown",
   "id": "58dbc686",
   "metadata": {},
   "source": [
    "**End of exercise**"
   ]
  },
  {
   "cell_type": "markdown",
   "id": "35f90c4d",
   "metadata": {},
   "source": [
    "**See the [corresponding page](/skimage-tutorials-temp/3_skimage_processing_from_numpy_and_scipy.html) for solution**\n",
    "\n",
    "# Resizing an image with `skimage`\n",
    "\n",
    "The `ski.transform` module contains a function called `resize`. It is probably easy to guess what `ski.transform.resize()` does. It takes an input image and changes its size (obviously!). Because all computer images are at least 2D arrays, this involves changing the dimensionality of the image. Let's demonstrate this with the following image array:"
   ]
  },
  {
   "cell_type": "code",
   "execution_count": null,
   "id": "9e1ca184",
   "metadata": {},
   "outputs": [],
   "source": [
    "# Create an image array.\n",
    "squares = np.array([[1, 0,], \n",
    "                    [0, 1,]], \n",
    "                   dtype=float)\n",
    "\n",
    "# Show the array (\"raw\" output from NumPy)\n",
    "print(squares)\n",
    "\n",
    "# Show the array, visualised with Matplotlib\n",
    "plt.matshow(squares);"
   ]
  },
  {
   "cell_type": "markdown",
   "id": "e86a9924",
   "metadata": {},
   "source": [
    "What happens if we resize `squares` to (10, 10)? We will use the optional Boolean `preserve_range` argument which ensures the numbers in the output image stay within the range of those we give to the function:"
   ]
  },
  {
   "cell_type": "code",
   "execution_count": null,
   "id": "eb43367b",
   "metadata": {},
   "outputs": [],
   "source": [
    "# Pass our `squares` array to the `ski.transform.resize()` function.\n",
    "squares_ten_by_ten = ski.transform.resize(squares,\n",
    "                                          output_shape=(10, 10),\n",
    "                                          preserve_range=True)\n",
    "\n",
    "# Show the resized array.\n",
    "squares_ten_by_ten"
   ]
  },
  {
   "cell_type": "code",
   "execution_count": null,
   "id": "0b4eabc0",
   "metadata": {},
   "outputs": [],
   "source": [
    "# Show the image attributes.\n",
    "show_attributes(squares_ten_by_ten)"
   ]
  },
  {
   "cell_type": "code",
   "execution_count": null,
   "id": "ee26426c",
   "metadata": {},
   "outputs": [],
   "source": [
    "# Display the image.\n",
    "plt.imshow(squares_ten_by_ten);"
   ]
  },
  {
   "cell_type": "markdown",
   "id": "d52c8b8e",
   "metadata": {},
   "source": [
    "Well, that is certainly more artistic than the original!\n",
    "\n",
    "We now have many more `unique` values in the output array than there were in the input array (the input array contained only 0's and 1's), because `skimage` is interpolating for many new pixels. This means that it is estimating values for the new pixels which fall in between the array pixels from the original array image, based on the a weighted average of the values of the original pixels which they are nearest to:"
   ]
  },
  {
   "cell_type": "code",
   "execution_count": null,
   "id": "062a34d2",
   "metadata": {},
   "outputs": [],
   "source": [
    "# Show the `unique` values.\n",
    "np.unique(squares_ten_by_ten)"
   ]
  },
  {
   "cell_type": "markdown",
   "id": "e562ab1d",
   "metadata": {},
   "source": [
    "The array pixels highlighted in red are the original pixels from the `(2, 2)` original array:\n",
    "\n",
    "![](images/resize_interpolation.png)\n",
    "\n",
    "All the other pixels have been added by `skimage` during the `resize`-ing process. Pixels closer to the original pixels share closer intensity values to the original pixel (meaning they are more black or more white, depending on the original pixel). Images further from the original pixels become more gray.\n",
    "\n",
    "We can control the type of interpolation that `skimage` uses by changing the (somewhat cryptically named) `order` argument. Setting this to 0 will activate [nearest neighbour interpolation](https://en.wikipedia.org/wiki/Nearest-neighbor_interpolation):"
   ]
  },
  {
   "cell_type": "code",
   "execution_count": null,
   "id": "dcddf8a0",
   "metadata": {},
   "outputs": [],
   "source": [
    "# Pass our `squares` array to the `ski.transform.resize()` function.\n",
    "squares_ten_by_ten = ski.transform.resize(squares,\n",
    "                                          output_shape=(10, 10),\n",
    "                                          preserve_range=True,\n",
    "                                          order=0) # Change the interpolation method.\n",
    "\n",
    "# Show the resized array.\n",
    "plt.imshow(squares_ten_by_ten);"
   ]
  },
  {
   "cell_type": "markdown",
   "id": "11858449",
   "metadata": {},
   "source": [
    "This seems much closer to what we want when we `resize` the image. However, the results of image processing are highly context-dependent, and there may be images for which the default interpolation setting works better..."
   ]
  },
  {
   "cell_type": "markdown",
   "id": "fb87973d",
   "metadata": {},
   "source": [
    "# Rotation\n",
    "\n",
    "Another common image manipulation we may want to do is to rotate an image. Should we only want to rotate by increments of 90 degrees, we can use the helpfully named `np.rot90()` function:"
   ]
  },
  {
   "cell_type": "code",
   "execution_count": null,
   "id": "d42acceb",
   "metadata": {},
   "outputs": [],
   "source": [
    "# Rotate the image.\n",
    "rotated_i = np.rot90(i_img)\n",
    "\n",
    "# Show the result.\n",
    "print(rotated_i)\n",
    "plt.imshow(rotated_i);"
   ]
  },
  {
   "cell_type": "markdown",
   "id": "d188fc6c",
   "metadata": {},
   "source": [
    "We can control the number of rotations with the `k` argument:"
   ]
  },
  {
   "cell_type": "code",
   "execution_count": null,
   "id": "b6ce9381",
   "metadata": {},
   "outputs": [],
   "source": [
    "# Rotate the image, twice!\n",
    "rotated_i_180 = np.rot90(i_img, \n",
    "                         k=2) # Two 90 degree rotations.\n",
    "\n",
    "# Show the result.\n",
    "print(rotated_i_180)\n",
    "plt.imshow(rotated_i_180);"
   ]
  },
  {
   "cell_type": "markdown",
   "id": "134f2217",
   "metadata": {},
   "source": [
    "Again, with NumPy there are many routes to the same destination, and you can see that has achieved (visually) the same result as using `np.flip()` as we saw above. Rotating in increments of 90 degrees will not change the *size* (e.g. number of pixels) in the array, however it will change the integer index location of the pixel values:"
   ]
  },
  {
   "cell_type": "code",
   "execution_count": null,
   "id": "4918b8a9",
   "metadata": {},
   "outputs": [],
   "source": [
    "# Show the shape of the original image and both 90 degree rotated images.\n",
    "plt.subplot(1, 3, 1)\n",
    "plt.title(f\"`.shape` = {i_img.shape}\")\n",
    "plt.imshow(i_img)\n",
    "plt.subplot(1, 3, 2)\n",
    "plt.title(f\"`.shape` = {rotated_i.shape}\")\n",
    "plt.imshow(rotated_i)\n",
    "plt.subplot(1, 3, 3)\n",
    "plt.title(f\"`.shape` = {rotated_i_180.shape}\")\n",
    "plt.imshow(rotated_i_180);"
   ]
  },
  {
   "cell_type": "code",
   "execution_count": null,
   "id": "abe9dbe5",
   "metadata": {},
   "outputs": [],
   "source": [
    "# Original image and 90 degree rotations all have the same number of elements (15*8 = 120)\n",
    "i_img.size == rotated_i.size == rotated_i_180.size"
   ]
  },
  {
   "cell_type": "markdown",
   "id": "e40ebbb3",
   "metadata": {},
   "source": [
    "The cell below demonstrates `np.flip`-ping an image, as well as `np.rot`-ating an image by 180 degrees:"
   ]
  },
  {
   "cell_type": "code",
   "execution_count": null,
   "id": "c4be6f27",
   "metadata": {},
   "outputs": [],
   "source": [
    "# Load in `camera`\n",
    "camera = ski.data.camera()\n",
    "\n",
    "# Rotate, flip 'n' plot!\n",
    "plt.figure(figsize=(14, 4))\n",
    "plt.subplot(1, 3, 1)\n",
    "plt.imshow(camera)\n",
    "plt.title('Original')\n",
    "plt.subplot(1, 3, 2)\n",
    "plt.imshow(np.rot90(camera, k=2))\n",
    "plt.title('np.rot90(k=2)')\n",
    "plt.subplot(1, 3, 3)\n",
    "plt.imshow(np.flip(camera))\n",
    "plt.title('np.flip()');"
   ]
  },
  {
   "cell_type": "markdown",
   "id": "228b12ea",
   "metadata": {},
   "source": [
    "To rotate an image by more flexible increments, we need to bring in SciPy, another foundational component library of Scikit-image. The SciPy function `ndimage.rotate()` offers more flexible rotation. However, rotating by other angles will alter both the `shape` and `size` of the output image:"
   ]
  },
  {
   "cell_type": "code",
   "execution_count": null,
   "id": "2d91e32f",
   "metadata": {},
   "outputs": [],
   "source": [
    "# Import SciPy using the conventional name (`sp`).\n",
    "import scipy as sp\n",
    "\n",
    "# Rotate the image by 193 degrees.\n",
    "rotated_i_193 = sp.ndimage.rotate(i_img, \n",
    "                                  angle=193) # Specify the rotation angle.\n",
    "\n",
    "# Show the \"raw\" array.\n",
    "print(rotated_i_193)\n",
    "\n",
    "# Render the image graphically.\n",
    "plt.imshow(rotated_i_193);"
   ]
  },
  {
   "cell_type": "code",
   "execution_count": null,
   "id": "afa7f766",
   "metadata": {},
   "outputs": [],
   "source": [
    "# Show the attributes of the rotated image.\n",
    "show_attributes(rotated_i_193)"
   ]
  },
  {
   "cell_type": "markdown",
   "id": "24b1e3fb",
   "metadata": {},
   "source": [
    "The cell below will loop through some different rotation angles, the `shape` of each image is shown below each plot:"
   ]
  },
  {
   "cell_type": "code",
   "execution_count": null,
   "id": "1a876cbf",
   "metadata": {},
   "outputs": [],
   "source": [
    "# A for loop to show multiple rotations, and the effect on\n",
    "# the dimensionality of the resultant image array.\n",
    "plt.figure(figsize=(12, 4))\n",
    "for i, i_2 in enumerate(np.arange(361, step=45)):\n",
    "    plt.subplot(1, 9, i+1)\n",
    "    current_rot = sp.ndimage.rotate(i_img, \n",
    "                                    angle=i_2)\n",
    "    plt.imshow(current_rot)\n",
    "    plt.title(f\"{i_2}°\")\n",
    "    plt.xlabel(f\"{current_rot.shape}\")\n",
    "    plt.xticks([])\n",
    "    plt.yticks([])"
   ]
  },
  {
   "cell_type": "markdown",
   "id": "397f5135",
   "metadata": {},
   "source": [
    "By default, the `shape` is altered so that the original array is shown within the output array. SciPy uses interpolation to estimate the values of the pixels it adds, where the `shape` of the output image is larger than the `shape` of the input image.\n",
    "\n",
    "We can disable this behaviour by settings `reshape=False`, however, then we risk \"cutting\" off aspects of what our original image depicts:"
   ]
  },
  {
   "cell_type": "code",
   "execution_count": null,
   "id": "bc065f69",
   "metadata": {},
   "outputs": [],
   "source": [
    "# A for loop to show multiple rotations, and the effect on\n",
    "# the dimensionality of the resultant image array., but this time\n",
    "# we do not allow SciPy to reshape the output arrays.\n",
    "plt.figure(figsize=(12, 4))\n",
    "for i, i_2 in enumerate(np.arange(361, step=45)):\n",
    "    plt.subplot(1, 9, i+1)\n",
    "    current_rot = sp.ndimage.rotate(i_img, \n",
    "                                    angle=i_2,\n",
    "                                    reshape=False) # Do not reshape the output images.\n",
    "    plt.imshow(current_rot)\n",
    "    plt.title(f\"{i_2}°\")\n",
    "    plt.xlabel(f\"{current_rot.shape}\")\n",
    "    plt.xticks([])\n",
    "    plt.yticks([])"
   ]
  },
  {
   "cell_type": "markdown",
   "id": "13bb4da4",
   "metadata": {},
   "source": [
    "# Rotating an image with `skimage`\n",
    "\n",
    "Let's now look now at how rotating image arrays is handled in `skimage`. Image rotation, which we saw above using `np.rot90` and `scipy.ndimage.rotate()` can be achieved using the straightforwardly named `ski.transform.rotate()`, and the syntax works identically to `scipy.ndimage.rotate()`. All this rotating has left us thirsty and caffeine-deprived, so let's get some `coffee`:"
   ]
  },
  {
   "cell_type": "code",
   "execution_count": null,
   "id": "cd486d7f",
   "metadata": {},
   "outputs": [],
   "source": [
    "# Import and show an image.\n",
    "coffee = ski.data.coffee()\n",
    "plt.imshow(coffee);"
   ]
  },
  {
   "cell_type": "markdown",
   "id": "5d0bd5a3",
   "metadata": {},
   "source": [
    "We can achieve easy and flexible rotation with `ski.transform.rotate()`:"
   ]
  },
  {
   "cell_type": "code",
   "execution_count": null,
   "id": "d6efb323",
   "metadata": {},
   "outputs": [],
   "source": [
    "# Rotate the `coffee` image with `skimage`.\n",
    "rotated_coffee = ski.transform.rotate(coffee, \n",
    "                                      angle=75,\n",
    "                                      resize=True) # Ensure the original image fits in side the\n",
    "                                                   # output image.\n",
    "\n",
    "plt.imshow(rotated_coffee);"
   ]
  },
  {
   "cell_type": "markdown",
   "id": "e503f7f9",
   "metadata": {},
   "source": [
    "The cell below plots a variety of rotations, using `skimage.transform.rotate()` to perform each rotation:"
   ]
  },
  {
   "cell_type": "code",
   "execution_count": null,
   "id": "5f22ea73",
   "metadata": {},
   "outputs": [],
   "source": [
    "# Many rotations...\n",
    "plt.figure(figsize=(16, 10))\n",
    "for i, i_2 in enumerate(np.arange(361, step=45)):\n",
    "    plt.subplot(3, 3, i+1)\n",
    "    current_rot = ski.transform.rotate(coffee, \n",
    "                                    angle=i_2,\n",
    "                                    resize=False) # Do not reshape the output images.\n",
    "    plt.imshow(current_rot)\n",
    "    plt.title(f\"{i_2}°\")\n",
    "    plt.xticks([])\n",
    "    plt.yticks([])"
   ]
  },
  {
   "cell_type": "markdown",
   "id": "e80f1e66",
   "metadata": {},
   "source": [
    "Specifically for 90 degree rotations, you might be tempted to use a NumPy shortcut, and use the `.T` (transpose) method. This however, will do something different to rotation. The cell below demonstrates the `.T` method, with the `camera` image:"
   ]
  },
  {
   "cell_type": "code",
   "execution_count": null,
   "id": "ba4752b3",
   "metadata": {},
   "outputs": [],
   "source": [
    "# Transpose `camera`.\n",
    "camera_transposed = camera.T\n",
    "show_attributes(camera_transposed)\n",
    "plt.imshow(camera_transposed)\n",
    "plt.title(\"camera.T\");"
   ]
  },
  {
   "cell_type": "markdown",
   "id": "1e6baf8e",
   "metadata": {},
   "source": [
    "We now show a 90 degree rotation, using `ski.transform.rotate()`"
   ]
  },
  {
   "cell_type": "code",
   "execution_count": null,
   "id": "4056a1f8",
   "metadata": {},
   "outputs": [],
   "source": [
    "# Rotate by 90 degrees.\n",
    "plt.imshow(ski.transform.rotate(camera, \n",
    "                                angle=90))\n",
    "plt.title('ski.transform.rotate()');"
   ]
  },
  {
   "cell_type": "markdown",
   "id": "d62b2da6",
   "metadata": {},
   "source": [
    "We can see that the cameraman is facing a different direction in each image (taking a photo of the bottom of the image for the `.T` method, and taking a photo of the top of the image for a 90 degree rotation via `skimage`). \n",
    "\n",
    "The difference here is that transposing an image switches the rows and columns, such that the first row becomes the first column etc. Conversely, `skimage.transform.rotate()` pivots the pixels around a central point. Essentially, transposing gives a *mirroring effect* which is different from a rotation.\n",
    "\n",
    "Pay attention to the location of the spoon in the `coffee` image. First, we `ski.transform.rotate()` it by 90 degrees. Then, we show it `.transpose`d, switching the rows and columns. As `coffee` is a 3D image, the `.T` method will produce an error, because the color channels will be moved into the wrong dimension - to avoid this we use the `.transpose` method, to keep the color channels in the third dimension, whilst switching the rows and columns:"
   ]
  },
  {
   "cell_type": "code",
   "execution_count": null,
   "id": "b7ace5d2",
   "metadata": {},
   "outputs": [],
   "source": [
    "# The `shape` of the original `coffee` image.\n",
    "coffee.shape"
   ]
  },
  {
   "cell_type": "code",
   "execution_count": null,
   "id": "d9775dd9",
   "metadata": {},
   "outputs": [],
   "source": [
    "# Why we cannot use the `.T` method. We get an array which\n",
    "# is the wrong `shape` for a color image!\n",
    "coffee.T.shape"
   ]
  },
  {
   "cell_type": "code",
   "execution_count": null,
   "id": "83bda061",
   "metadata": {},
   "outputs": [],
   "source": [
    "coffee_transposed = coffee.transpose((1, 0, 2)) # Move the columns into the rows, the rows into the columns, \n",
    "                                               # and leave the color channels in the third dimension.\n",
    "plt.imshow(coffee_transposed); \n",
    " \n",
    "# Show the attributes (not that the `shape` is still correct for a color image).\n",
    "show_attributes(coffee_transposed)"
   ]
  },
  {
   "cell_type": "markdown",
   "id": "7c16386c",
   "metadata": {},
   "source": [
    "Compare this to a 90 degree rotation via `skimage`, pay attention to the spoon!"
   ]
  },
  {
   "cell_type": "code",
   "execution_count": null,
   "id": "b06d6743",
   "metadata": {},
   "outputs": [],
   "source": [
    "# Show the difference between rotating and transposing.\n",
    "plt.subplot(1, 2, 1)\n",
    "plt.imshow(ski.transform.rotate(coffee, angle=90, resize=True))\n",
    "plt.title(\"ski.transform.rotate()\")\n",
    "plt.axis('off')\n",
    "plt.subplot(1, 2, 2)\n",
    "plt.imshow(coffee_transposed)\n",
    "plt.title(\".transpose()\")\n",
    "plt.axis('off');"
   ]
  },
  {
   "cell_type": "markdown",
   "id": "0c56eb22",
   "metadata": {},
   "source": [
    "Unless you specifically want a mirroring transformation, then use `.rotate()`!"
   ]
  },
  {
   "cell_type": "markdown",
   "id": "fb7267dc",
   "metadata": {},
   "source": [
    "**Start of exercise**\n",
    "\n",
    "Your mission now is to transform `camera` into this slightly brain-bending image:\n",
    "\n",
    "![](images/look_at_me.png)\n",
    "\n",
    "For comparison, here is the original `camera` image and its attributes:"
   ]
  },
  {
   "cell_type": "code",
   "execution_count": null,
   "id": "afa4a880",
   "metadata": {},
   "outputs": [],
   "source": [
    "camera = ski.data.camera()\n",
    "plt.imshow(camera)"
   ]
  },
  {
   "cell_type": "code",
   "execution_count": null,
   "id": "11f7d306",
   "metadata": {},
   "outputs": [],
   "source": [
    "show_attributes(camera)"
   ]
  },
  {
   "cell_type": "markdown",
   "id": "16f9a53c",
   "metadata": {},
   "source": [
    "Your final image should have the following attributes:\n",
    "\n",
    "```\n",
    "Type: <class 'numpy.ndarray'>\n",
    "dtype: uint8\n",
    "Shape: (512, 1024)\n",
    "Max Pixel Value: 255\n",
    "Min Pixel Value: 0\n",
    "```\n",
    "\n",
    "*Hint*: if you did not complete the earlier exercise involving combining two `i_img` arrays, then you may want to investigate NumPy functions for combining arrays together to complete the current exercise...\n",
    "\n",
    "*Caution:* you may run into some errors/odd outcomes because of `dtype`s here... so use the `ski.util` conversion functions if you need to..."
   ]
  },
  {
   "cell_type": "code",
   "execution_count": null,
   "id": "8006b154",
   "metadata": {},
   "outputs": [],
   "source": [
    "# YOUR CODE HERE\n",
    "look_at_me = ski.data.camera()"
   ]
  },
  {
   "cell_type": "markdown",
   "id": "0f6b44b7",
   "metadata": {},
   "source": [
    "**End of exercise**"
   ]
  },
  {
   "cell_type": "markdown",
   "id": "6d2db817",
   "metadata": {},
   "source": [
    "**See the [corresponding page](/skimage-tutorials-temp/3_skimage_processing_from_numpy_and_scipy.html) for solution**\n",
    "\n",
    "For this exercise, you should load in the `cat` image from `ski.data`. Here is the original `cat` image:\n",
    "\n",
    "![](images/cat.png)\n",
    "\n",
    "The original image has the following attributes:\n",
    "\n",
    "```\n",
    "Type: <class 'numpy.ndarray'>\n",
    "dtype: uint8\n",
    "Shape: (300, 451, 3)\n",
    "Max Pixel Value: 231\n",
    "Min Pixel Value: 0\n",
    "```\n",
    "\n",
    "Now, using only `numpy` and `skimage`, try to recreate this target image:\n",
    "\n",
    "![](images/poor_cat.png)\n",
    "\n",
    "...poor cat!\n",
    "\n",
    "Your output image should have the following attributes:\n",
    "\n",
    "```\n",
    "Type: <class 'numpy.ndarray'>\n",
    "dtype: float64\n",
    "Shape: (30, 30, 3)\n",
    "Max Pixel Value: 0.76\n",
    "Min Pixel Value: 0.0\n",
    "```"
   ]
  },
  {
   "cell_type": "code",
   "execution_count": null,
   "id": "14e72337",
   "metadata": {},
   "outputs": [],
   "source": [
    "# YOUR CODE HERE"
   ]
  },
  {
   "cell_type": "markdown",
   "id": "21b01d47",
   "metadata": {},
   "source": [
    "**End of exercise**"
   ]
  },
  {
   "cell_type": "markdown",
   "id": "6ac81ee7",
   "metadata": {},
   "source": [
    "**See the [corresponding page](/skimage-tutorials-temp/3_skimage_processing_from_numpy_and_scipy.html) for solution**\n",
    "\n",
    "# Cropping\n",
    "\n",
    "The process of \"cropping\" is the removal areas of pixels from an image.\n",
    "\n",
    "Because our images are just NumPy arrays, cropping is just NumPy indexing (duh!). As such, we can crop images just with indexing operations, without using specific NumPy (or `skimage`) functions.\n",
    "\n",
    "For instance, we can \"shave\" our `i_img` array in half, along the columns by slicing along the columns:"
   ]
  },
  {
   "cell_type": "code",
   "execution_count": null,
   "id": "37f43570",
   "metadata": {},
   "outputs": [],
   "source": [
    "# Cut in half.\n",
    "half_i = i_img[:, 4:8]\n",
    "print(half_i)\n",
    "plt.imshow(half_i);"
   ]
  },
  {
   "cell_type": "markdown",
   "id": "046bb93f",
   "metadata": {},
   "source": [
    "Likewise along the rows (albeit the number of rows is odd!):"
   ]
  },
  {
   "cell_type": "code",
   "execution_count": null,
   "id": "35cb7c4e",
   "metadata": {},
   "outputs": [],
   "source": [
    "plt.imshow(i_img[0:8, :]);"
   ]
  },
  {
   "cell_type": "markdown",
   "id": "3e533731",
   "metadata": {},
   "source": [
    "**Start of exercise**\n",
    "\n",
    "Take the original `camera` image:"
   ]
  },
  {
   "cell_type": "code",
   "execution_count": null,
   "id": "2963022e",
   "metadata": {},
   "outputs": [],
   "source": [
    "camera = ski.data.camera()\n",
    "plt.imshow(camera)"
   ]
  },
  {
   "cell_type": "markdown",
   "id": "65e5bc82",
   "metadata": {},
   "source": [
    "...and crop it down to this target image, using only NumPy indexing:\n",
    "\n",
    "![](images/camera_cropped.png)\n",
    "\n",
    "These are the attributes that your final image should possess:\n",
    "\n",
    "```\n",
    "Type: <class 'numpy.ndarray'>\n",
    "dtype: uint8\n",
    "Shape: (30, 80)\n",
    "Max Pixel Value: 250\n",
    "Min Pixel Value: 23\n",
    "```\n",
    "\n",
    "*Hint:* using `plt.grid()` might be of use here..."
   ]
  },
  {
   "cell_type": "code",
   "execution_count": null,
   "id": "d746841b",
   "metadata": {},
   "outputs": [],
   "source": [
    "# YOUR CODE HERE\n",
    "camera_crop_exercise = camera.copy()\n",
    "plt.imshow(camera);"
   ]
  },
  {
   "cell_type": "markdown",
   "id": "7b6af918",
   "metadata": {},
   "source": [
    "**End of exercise**"
   ]
  },
  {
   "cell_type": "markdown",
   "id": "91b2f16b",
   "metadata": {},
   "source": [
    "**See the [corresponding page](/skimage-tutorials-temp/3_skimage_processing_from_numpy_and_scipy.html) for solution**\n",
    "\n",
    "# Masks\n",
    "\n",
    "In image processing, a mask is a matrix/array containing a collection of elements in a certain shape. A mask is \"placed\" on an image, and pixel values under the mask are all replaced with a specific value. Let's demonstrate with a real image — a grayscale version of the standard `coffee` image:"
   ]
  },
  {
   "cell_type": "code",
   "execution_count": null,
   "id": "974c8ea7",
   "metadata": {},
   "outputs": [],
   "source": [
    "coffee_gray = ski.color.rgb2gray(ski.data.coffee())\n",
    "show_attributes(coffee_gray)\n",
    "plt.imshow(coffee_gray);"
   ]
  },
  {
   "cell_type": "markdown",
   "id": "52bebb01",
   "metadata": {},
   "source": [
    "First, we extract the `shape` of the image, and store each element as a separate variable. In this case, the image is 2D (e.g. single-channel, monochrome) and so we extract the number of rows and the number of columns:"
   ]
  },
  {
   "cell_type": "code",
   "execution_count": null,
   "id": "2d6b679d",
   "metadata": {},
   "outputs": [],
   "source": [
    "# Unpack and store the number of rows and number of columns.\n",
    "dim_1, dim_2 = coffee_gray.shape\n",
    "\n",
    "# Show the values.\n",
    "dim_1, dim_2"
   ]
  },
  {
   "cell_type": "markdown",
   "id": "087aafec",
   "metadata": {},
   "source": [
    "Then we can use these elements (400 and 600) via `np.orgid()` to create one array with 400 rows, and 1 column, and another array with 1 row and 600 columns. These elements can be used to make a 2D mask, in a specific shape:"
   ]
  },
  {
   "cell_type": "code",
   "execution_count": null,
   "id": "f6f060c2",
   "metadata": {},
   "outputs": [],
   "source": [
    "# Create a grid, based on the image `shape`.\n",
    "X, Y = np.ogrid[0:dim_1, 0:dim_2]\n",
    "\n",
    "# Show the `shape` of the X elements.\n",
    "print(X.shape)\n",
    "\n",
    "# Show the first 10 elements of X.\n",
    "X[:10, :]"
   ]
  },
  {
   "cell_type": "code",
   "execution_count": null,
   "id": "a575f419",
   "metadata": {},
   "outputs": [],
   "source": [
    "# Show the `shape` of the Y elements.\n",
    "print(Y.shape)\n",
    "\n",
    "# Show Y\n",
    "Y"
   ]
  },
  {
   "cell_type": "markdown",
   "id": "88fd61b2",
   "metadata": {},
   "source": [
    "We can then use a geometric formula to generate a 2D grid of a specific shape, as in the cell below:"
   ]
  },
  {
   "cell_type": "code",
   "execution_count": null,
   "id": "f8671cf4",
   "metadata": {},
   "outputs": [],
   "source": [
    "# Create a circulat mask.\n",
    "mask = (X - dim_1/ 2) ** 2 + (Y - dim_2 / 2) ** 2 > dim_1 * dim_2 / 4\n",
    "show_attributes(mask)\n",
    "plt.imshow(mask);"
   ]
  },
  {
   "cell_type": "markdown",
   "id": "218a72a6",
   "metadata": {},
   "source": [
    "Once we have our mask - which is just a Boolean array - it is just a matter of Boolean indexing to use it set all the pixel values underneath it to be equal to the same value:"
   ]
  },
  {
   "cell_type": "code",
   "execution_count": null,
   "id": "690b4123",
   "metadata": {},
   "outputs": [],
   "source": [
    "# Apply the mask.\n",
    "coffee_gray_masked = coffee_gray.copy()\n",
    "coffee_gray_masked[mask] = 0\n",
    "\n",
    "plt.matshow(coffee_gray_masked);"
   ]
  },
  {
   "cell_type": "markdown",
   "id": "499cfbb5",
   "metadata": {},
   "source": [
    "**Start of exercise**\n",
    "\n",
    "Your mission now is to use a mask, similar to the one we have just seen, to transform `camera` into the following image:\n",
    "    \n",
    "![](images/masked_camera.png)\n",
    "\n",
    "This is easier than you think...you can use the formula for the last mask as a guide. Try running the function `hint_cryptic_camera()` for a hint if you get stuck..."
   ]
  },
  {
   "cell_type": "markdown",
   "id": "763e6e5f",
   "metadata": {},
   "source": [
    "**End of exercise**"
   ]
  },
  {
   "cell_type": "markdown",
   "id": "ff6a6041",
   "metadata": {},
   "source": [
    "**See the [corresponding page](/skimage-tutorials-temp/3_skimage_processing_from_numpy_and_scipy.html) for solution**\n",
    "\n",
    "# Inverting image colors\n",
    "\n",
    "We saw *color inversion* on an [earlier page](0_images_as_numpy_arrays). This is where all the pixel values in an image are, shockingly, inverted: high numbers become low numbers and vice versa:\n",
    "\n",
    "For a binary image, this involves swapping 1s and 0s..."
   ]
  },
  {
   "cell_type": "code",
   "execution_count": null,
   "id": "4d1a008e",
   "metadata": {},
   "outputs": [],
   "source": [
    "# Original image\n",
    "print(i_img)\n",
    "plt.imshow(i_img);"
   ]
  },
  {
   "cell_type": "markdown",
   "id": "279305d4",
   "metadata": {},
   "source": [
    "...which can be accomplished with some simple numeric operations:"
   ]
  },
  {
   "cell_type": "code",
   "execution_count": null,
   "id": "a7f5eed7",
   "metadata": {},
   "outputs": [],
   "source": [
    "inverted_i = (i_img * -1) + 1\n",
    "print(inverted_i)\n",
    "plt.imshow(inverted_i);"
   ]
  },
  {
   "cell_type": "markdown",
   "id": "3ab06555",
   "metadata": {},
   "source": [
    "What about a color image? "
   ]
  },
  {
   "cell_type": "code",
   "execution_count": null,
   "id": "e113c491",
   "metadata": {},
   "outputs": [],
   "source": [
    "# Read in a color image.\n",
    "colorwheel = ski.io.imread(\"images/colorwheel.png\")\n",
    "show_attributes(colorwheel)\n",
    "plt.imshow(colorwheel);"
   ]
  },
  {
   "cell_type": "markdown",
   "id": "0550f924",
   "metadata": {},
   "source": [
    "The numerical trick that we used with the binary image will not work for a color image like this, because the pixel values range from 0 to 255. -255 is not allowed within the acceptable range for `uint8` image data and will produce an error!"
   ]
  },
  {
   "cell_type": "code",
   "execution_count": null,
   "id": "86c0dbfc",
   "metadata": {
    "tags": [
     "raises-exception"
    ]
   },
   "outputs": [],
   "source": [
    "# Shortcut will not work for color images\n",
    "plt.imshow(colorwheel * -1)"
   ]
  },
  {
   "cell_type": "markdown",
   "id": "3bb02ff3",
   "metadata": {},
   "source": [
    "But remember that inversion means we, well, \"invert\" the pixel values. Because the maximum value is now 255, we can subtract each array pixel value in each color channel from 255 to \"reverse\" the values:"
   ]
  },
  {
   "cell_type": "code",
   "execution_count": null,
   "id": "2edbbfc5",
   "metadata": {},
   "outputs": [],
   "source": [
    "# Invert the color image, manually.\n",
    "inverted_colorwheel = colorwheel.copy()\n",
    "for i in np.arange(3):\n",
    "    inverted_colorwheel[:, :, i] = 255 - inverted_colorwheel[:, :, i] \n",
    "    \n",
    "plt.imshow(inverted_colorwheel);"
   ]
  },
  {
   "cell_type": "markdown",
   "id": "05bf460e",
   "metadata": {},
   "source": [
    "# Inverting colors with `skimage`\n",
    "\n",
    "`ski.util.invert()` handles color inversion, we simply pass it a color NumPy image array and voilà!:"
   ]
  },
  {
   "cell_type": "code",
   "execution_count": null,
   "id": "b4ae93b8",
   "metadata": {},
   "outputs": [],
   "source": [
    "# Invert the color image, with `skimage`.\n",
    "invert_colorwheel_with_skimage = ski.util.invert(colorwheel)\n",
    "plt.imshow(invert_colorwheel_with_skimage);"
   ]
  },
  {
   "cell_type": "markdown",
   "id": "5ca419f5",
   "metadata": {},
   "source": [
    "**Start of exercise**\n",
    "\n",
    "Now over to you. Your task here is to load the `brick` image from `ski.data.image`.\n",
    "\n",
    "You should then invert every 2nd element on even numbered rows...\n",
    "\n",
    "So on *even* numbered rows (row 0, 2, 4, 6, etc.), if you went through the elements in pairs along the row, the *second* element in each pair should be inverted, vs the original image.\n",
    "\n",
    "The original `brick` image looks like this:\n",
    "\n",
    "![](images/bricks.png)\n",
    "\n",
    "The original image has the following attributes:\n",
    "\n",
    "```\n",
    "Type: <class 'numpy.ndarray'>\n",
    "dtype: uint8\n",
    "Shape: (512, 512)\n",
    "Max Pixel Value: 207\n",
    "Min Pixel Value: 63 \n",
    "```\n",
    "\n",
    "Your final image should look like this:\n",
    "\n",
    "![](images/inverted_bricks.png)\n",
    "\n",
    "Your new image should have the following attributes:\n",
    "\n",
    "```\n",
    "Type: <class 'numpy.ndarray'>\n",
    "dtype: uint8\n",
    "Shape: (512, 512)\n",
    "Max Pixel Value: 207\n",
    "Min Pixel Value: 48 \n",
    "```\n",
    "\n",
    "Use only NumPy indexing and Scikit-image functions to do this...\n",
    "\n",
    "*Hint:* remember that smaller NumPy arrays indexed out of larger NumPy arrays are still NumPy arrays, and so can be passed as arguments to most `skimage` functions."
   ]
  },
  {
   "cell_type": "code",
   "execution_count": null,
   "id": "5570a6d2",
   "metadata": {},
   "outputs": [],
   "source": [
    "# YOUR CODE HERE"
   ]
  },
  {
   "cell_type": "markdown",
   "id": "f6feaa46",
   "metadata": {},
   "source": [
    "**End of exercise**"
   ]
  },
  {
   "cell_type": "markdown",
   "id": "2854f3f3",
   "metadata": {},
   "source": [
    "**See the [corresponding page](/skimage-tutorials-temp/3_skimage_processing_from_numpy_and_scipy.html) for solution**\n",
    "\n",
    "Again using the `cat` image, try to recreate the following target image, using only `numpy` and `skimage`:\n",
    "\n",
    "![](images/purple_inverted_cat.png)\n",
    "\n",
    "Your output image should have the following attributes:\n",
    "\n",
    "```\n",
    "Type: <class 'numpy.ndarray'>\n",
    "dtype: uint8\n",
    "Shape: (300, 451, 3)\n",
    "Max Pixel Value: 255\n",
    "Min Pixel Value: 24\n",
    "```"
   ]
  },
  {
   "cell_type": "code",
   "execution_count": null,
   "id": "583053da",
   "metadata": {},
   "outputs": [],
   "source": [
    "# YOUR CODE HERE\n",
    "cat = ski.data.cat()\n",
    "plt.imshow(cat);\n",
    "show_attributes(cat)"
   ]
  },
  {
   "cell_type": "markdown",
   "id": "11831456",
   "metadata": {},
   "source": [
    "**End of exercise**"
   ]
  },
  {
   "cell_type": "markdown",
   "id": "82fb46d9",
   "metadata": {},
   "source": [
    "**See the [corresponding page](/skimage-tutorials-temp/3_skimage_processing_from_numpy_and_scipy.html) for solution**\n",
    "\n",
    "# Greyscale to binary conversion\n",
    "\n",
    "Greyscale to binary conversion can be achieved using comparison operators (`<`, `>`, `<=`, `>=`, `==`). The resulting Boolean array will always be binary.\n",
    "\n",
    "Let's demonstrate with a grayscale image:"
   ]
  },
  {
   "cell_type": "code",
   "execution_count": null,
   "id": "0de9dd06",
   "metadata": {},
   "outputs": [],
   "source": [
    "# Create a grayscale image.\n",
    "np.random.seed(10)\n",
    "random_check = np.array([[1, 0, 1, 0], \n",
    "                         [0, 1, 0, 1],\n",
    "                         [1, 0, 1, 0],\n",
    "                         [0, 1, 0, 1]], dtype=int)\n",
    "random_check[random_check == 1] = np.random.randint(low=3,\n",
    "                                                    high=11,\n",
    "                                                    size=np.sum(random_check == 1))\n",
    "plt.matshow(random_check);"
   ]
  },
  {
   "cell_type": "code",
   "execution_count": null,
   "id": "45810b0e",
   "metadata": {},
   "outputs": [],
   "source": [
    "# Convert to a binary image:\n",
    "binary_check = random_check > np.median(random_check)\n",
    "print(binary_check)\n",
    "plt.matshow(binary_check);"
   ]
  },
  {
   "cell_type": "markdown",
   "id": "303dd204",
   "metadata": {},
   "source": [
    "We can also easily achieve this conversion in `skimage` - see the [filtering page](5_mean_filter) for more detail. For now, we can use the `ski.filters.threshold_minimum()` function. This supplies us a recommended threshold value to attempt to divide the array pixels into two classes e.g. two classes where the pixels in each class are maximally different from pixels in the other class:"
   ]
  },
  {
   "cell_type": "code",
   "execution_count": null,
   "id": "be2a4c96",
   "metadata": {},
   "outputs": [],
   "source": [
    "# Get a recommended threshold from `skimage`.\n",
    "threshold = ski.filters.threshold_minimum(random_check)\n",
    "threshold"
   ]
  },
  {
   "cell_type": "markdown",
   "id": "02f4be4b",
   "metadata": {},
   "source": [
    "We can then use this threshold to create a binary array, successfully binarizing our grayscale image:"
   ]
  },
  {
   "cell_type": "code",
   "execution_count": null,
   "id": "9ecee87c",
   "metadata": {},
   "outputs": [],
   "source": [
    "# Binarize the array, based on the threshold.\n",
    "binary_check_from_ski = random_check > threshold\n",
    "show_attributes(binary_check_from_ski)\n",
    "plt.matshow(binary_check_from_ski);"
   ]
  },
  {
   "cell_type": "markdown",
   "id": "ba16c7e3",
   "metadata": {},
   "source": [
    "# Color to grayscale conversion\n",
    "\n",
    "To downgrade a color image to grayscale we can use a brute force method of taking the mean of the three color channels, to produce a 2D monochrome image array:"
   ]
  },
  {
   "cell_type": "code",
   "execution_count": null,
   "id": "92289116",
   "metadata": {},
   "outputs": [],
   "source": [
    "gray_wheel = np.mean(colorwheel, \n",
    "                     axis=2)\n",
    "\n",
    "plt.imshow(gray_wheel);"
   ]
  },
  {
   "cell_type": "markdown",
   "id": "74ddf114",
   "metadata": {},
   "source": [
    "A better option here, that we encountered on the [previous page](2_skimage_intro), is to use the *luminance formula*:\n",
    "\n",
    "$$\n",
    "Y = 0.2126R + 0.7152G + 0.0722B\n",
    "$$\n",
    "\n",
    "This \"collapses\" a 3D color image into a 2D grayscale image via a weighted sum of the channels.\n",
    "\n",
    "**Start of exercise**\n",
    "\n",
    "Here is the original `colorwheel` image:\n",
    "\n",
    "![](images/colorwheel.png)\n",
    "\n",
    "It has the following attributes:\n",
    "\n",
    "```\n",
    "Type: <class 'numpy.ndarray'>\n",
    "dtype: uint8\n",
    "Shape: (370, 371, 3)\n",
    "Max Pixel Value: 255\n",
    "Min Pixel Value: 0\n",
    "```\n",
    "\n",
    "Using the luminance formula, and any other required `numpy`, `scipy` or `skimage` operations, recreate the target image below, starting from the `colorwheel` array:\n",
    "\n",
    "![](images/gray_wheel.png)\n",
    "\n",
    "Your final image should have the following attributes:\n",
    "\n",
    "```\n",
    "Type: <class 'numpy.ndarray'>\n",
    "dtype: uint8\n",
    "Shape: (370, 371)\n",
    "Max Pixel Value: 255\n",
    "Min Pixel Value: 0\n",
    "```\n",
    "\n",
    "Try to use `np.dot()` rather than slicing, when you complete this exercise.\n",
    "\n",
    "*Hint*: you may need to rescale the intensity values to match the target image attributes. You may recall there is a `ski.exposure` function which can help you do this..."
   ]
  },
  {
   "cell_type": "code",
   "execution_count": null,
   "id": "7900cd58",
   "metadata": {},
   "outputs": [],
   "source": [
    "# YOUR CODE HERE"
   ]
  },
  {
   "cell_type": "markdown",
   "id": "b88da2ef",
   "metadata": {},
   "source": [
    "**End of exercise**"
   ]
  },
  {
   "cell_type": "markdown",
   "id": "be02e060",
   "metadata": {},
   "source": [
    "**See the [corresponding page](/skimage-tutorials-temp/3_skimage_processing_from_numpy_and_scipy.html) for solution**\n",
    "\n",
    "# Color to grayscale conversion with `skimage`\n",
    "\n",
    "As always, the `ski.color` module has us covered here with the `rgb2gray()` function. We simply pass it the color array that we want to convert to grayscale, without the direct need for the luminance formula:"
   ]
  },
  {
   "cell_type": "code",
   "execution_count": null,
   "id": "93a60ac9",
   "metadata": {},
   "outputs": [],
   "source": [
    "# Convert color to grayscale.\n",
    "gray_colorwheel_from_ski = ski.color.rgb2gray(colorwheel)\n",
    "show_attributes(gray_colorwheel_from_ski)\n",
    "plt.imshow(gray_colorwheel_from_ski);"
   ]
  },
  {
   "cell_type": "markdown",
   "id": "0b490ba5",
   "metadata": {},
   "source": [
    "# Summary\n",
    "\n",
    "This page has shown how to implement some fundamental image processing operations with NumPy, SciPy and Scikit-image. The next page will delve into [image filtering](5_mean_filter)."
   ]
  },
  {
   "cell_type": "markdown",
   "id": "8efcb4bf",
   "metadata": {},
   "source": [
    "# References\n",
    "\n",
    "Gulati, J. (2024) *NumPy for Image Processing*. KDnuggets. Available from: https://www.kdnuggets.com/numpy-for-image-processing \n",
    "\n",
    "Adapted from:\n",
    "\n",
    "* [Scientific Python Lecture Notes - image\n",
    "  processing](https://lectures.scientific-python.org/advanced/image_processing)\n",
    "* [Scientific Python Lecture Notes: scikit-image](https://lectures.scientific-python.org/packages/scikit-image/index.html)\n",
    "\n",
    "with further inspiration from [`skimage`](https://github.com/scikit-image/skimage-tutorials) [tutorials](https://scipy-2024-image-analysis.github.io/tutorial/01_images_are_arrays.html)."
   ]
  }
 ],
 "metadata": {
  "jupytext": {
   "formats": "ipynb,Rmd"
  },
  "kernelspec": {
   "display_name": "Python (Pyodide)",
   "name": "python"
  }
 },
 "nbformat": 4,
 "nbformat_minor": 5
}

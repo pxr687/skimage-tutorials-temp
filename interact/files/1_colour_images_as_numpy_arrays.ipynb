{
 "cells": [
  {
   "cell_type": "markdown",
   "id": "44d80759",
   "metadata": {},
   "source": [
    "# What about colour? "
   ]
  },
  {
   "cell_type": "markdown",
   "id": "d9cecccf",
   "metadata": {},
   "source": [
    "All of the arrays we have encountered [so far](0_images_as_numpy_arrays) contain just one value at each array pixel location. This page will look at image arrays with more complex shapes, and show how this can encode colour information, giving us beautiful colour images, that create deep aesthetic experiences, like this one:\n",
    "\n",
    "![](images/xenomorph.png)\n",
    "(Image from [here](https://static1.srcdn.com/wordpress/wp-content/uploads/2019/07/Xenomorph-from-the-Alien-franchise.jpg)).\n",
    "\n",
    "First, some library imports:"
   ]
  },
  {
   "cell_type": "code",
   "execution_count": null,
   "id": "ae15054e",
   "metadata": {},
   "outputs": [],
   "source": [
    "# Library imports.\n",
    "import numpy as np\n",
    "import matplotlib.pyplot as plt\n",
    "\n",
    "# Set 'gray' as the default colormap.\n",
    "plt.rcParams['image.cmap'] = 'gray'\n",
    "\n",
    "# Import a custom function to give hints for some exercises.\n",
    "from hints import hint_corrupted_camera"
   ]
  },
  {
   "cell_type": "markdown",
   "id": "52ff0e7b",
   "metadata": {},
   "source": [
    "Below, we create some low-resolution 2D image arrays, with which to explore colour representation:"
   ]
  },
  {
   "cell_type": "code",
   "execution_count": null,
   "id": "29474927",
   "metadata": {},
   "outputs": [],
   "source": [
    "# A two-dimensional numpy array of 1's and 0's.\n",
    "two_D_ones_and_zeros = np.array([[1, 0,], \n",
    "                                 [0, 1,]],\n",
    "                                 dtype=float)\n",
    "\n",
    "# A two dimensional numpy array of numbers between 0 and 10.\n",
    "two_D_other_integers = np.array([[0, 10], \n",
    "                                 [5, 3]],\n",
    "                                 dtype=float)\n",
    "\n",
    "# Another image array.\n",
    "smiley = np.array([[0, 0, 0, 0, 0, 0, 0, 0],\n",
    "                   [0, 0, 0, 0, 0, 0, 0, 0],\n",
    "                   [0, 0, 1, 0, 0, 1, 0, 0],\n",
    "                   [0, 0, 1, 0, 0, 1, 0, 0],\n",
    "                   [0, 0, 0, 0, 0, 0, 0, 0],\n",
    "                   [0, 1, 0, 0, 0, 0, 1, 0],\n",
    "                   [0, 1, 1, 0, 0, 1, 1, 0],\n",
    "                   [0, 0, 1, 1, 1, 1, 0, 0],\n",
    "                   [0, 0, 0, 1, 1, 0, 0, 0],\n",
    "                   [0, 0, 0, 0, 0, 0, 0, 0],\n",
    "                   [0, 0, 0, 0, 0, 0, 0, 0]],\n",
    "                 dtype=float)"
   ]
  },
  {
   "cell_type": "markdown",
   "id": "78f6013b",
   "metadata": {},
   "source": [
    "In our humble `two_D_ones_and_zeros` image array, each pixel is either a 1 or 0 in the `float64` `dtype`:"
   ]
  },
  {
   "cell_type": "code",
   "execution_count": null,
   "id": "3be83090",
   "metadata": {},
   "outputs": [],
   "source": [
    "# Show the array, via NumPy, then plot.\n",
    "print(two_D_ones_and_zeros)\n",
    "plt.matshow(two_D_ones_and_zeros)\n",
    "plt.colorbar();"
   ]
  },
  {
   "cell_type": "code",
   "execution_count": null,
   "id": "a2364c2a",
   "metadata": {},
   "outputs": [],
   "source": [
    "two_D_ones_and_zeros.dtype"
   ]
  },
  {
   "cell_type": "markdown",
   "id": "267a1851",
   "metadata": {},
   "source": [
    "Conversely, the array `two_D_other_integers` contains different integer values. Note that, though these *numbers* themselves are integers, they are represented by NumPy as `float64` values:"
   ]
  },
  {
   "cell_type": "code",
   "execution_count": null,
   "id": "d5938032",
   "metadata": {},
   "outputs": [],
   "source": [
    "# Another image from earlier.\n",
    "print(two_D_other_integers)\n",
    "plt.matshow(two_D_other_integers)\n",
    "plt.colorbar();"
   ]
  },
  {
   "cell_type": "markdown",
   "id": "c486af9e",
   "metadata": {},
   "source": [
    "The first image - with black and white squares only, no grey - is a *binary image*. This is an image where each array pixel contains only one of two values. In this case the two values are 0 or 1, with 0 corresponding to black pixels and 1 corresponding to white pixels.\n",
    "\n",
    "The second image - black, white and grey squares - is a *monochrome image*. This image contains more than two unique values. It has black pixels (the lowest pixel values, 0); white pixels (the highest pixel values, 1); and grey pixels (intermediate pixel values, > 0 but < 1).\n",
    "\n",
    "**This is important:** for two-dimensional arrays like these each array pixel is just a *single number*. Because of this, we can refer to both of these arrays as *single-channel image arrays*. Each individual array pixel value determines the *intensity* of that pixel, e.g. the brightness or darkness of that pixel. \n",
    "\n",
    "As we saw on the [last page](0_images_as_numpy_arrays), a colourmap (e.g. `viridis` or `gray`) maps  each single-valued pixel intensity to a gradient of colours/shades. This is a black-grey-white gradient for the `gray` colourmap and a purple-yellow gradient for the `viridis` colourmap. Technically speaking, for single-channel image arrays, the intensity values only convey black-white-gray information - the `viridis` colourmap merely *translates* this black-grey-white information into a coloured presentation for the purposes of display. \n",
    "\n",
    "What `viridis` is doing is called [*pseudo-colouring*](https://www.spiedigitallibrary.org/conference-proceedings-of-spie/0048/0000/Digital-Image-Processing-With-Pseudo-Color/10.1117/12.954071.short) - it is mapping black-grey-white information to display colours. The plot below show's both arrays, with both colourmaps, for comparison:"
   ]
  },
  {
   "cell_type": "code",
   "execution_count": null,
   "id": "b08df68e",
   "metadata": {},
   "outputs": [],
   "source": [
    "# An image from earlier (using the `grey` colourmap)\n",
    "plt.figure(figsize=(8, 8))\n",
    "plt.subplot(2, 2, 1)\n",
    "plt.matshow(two_D_ones_and_zeros,\n",
    "            fignum=0)\n",
    "plt.title('`gray` colourmap \\n(binary image)')\n",
    "plt.colorbar()\n",
    "plt.subplot(2, 2, 2)\n",
    "# Another image from earlier (using the `grey` colourmap)\n",
    "plt.matshow(two_D_other_integers,\n",
    "            fignum=0)\n",
    "plt.title('`gray` colourmap \\n(monochrome image)')\n",
    "plt.colorbar();\n",
    "\n",
    "# Show with pseudocolour using the `viridis` colourmap\n",
    "plt.subplot(2, 2, 3)\n",
    "plt.matshow(two_D_ones_and_zeros,\n",
    "            cmap='viridis',\n",
    "            fignum=0)\n",
    "plt.title('`viridis` colourmap \\n(binary image)')\n",
    "plt.colorbar()\n",
    "plt.subplot(2, 2, 4)\n",
    "plt.matshow(two_D_other_integers, \n",
    "            cmap='viridis',\n",
    "            fignum=0)\n",
    "plt.title('`viridis` colourmap \\n(monochrome image)')\n",
    "plt.colorbar()\n",
    "plt.tight_layout();"
   ]
  },
  {
   "cell_type": "markdown",
   "id": "fee7d623",
   "metadata": {},
   "source": [
    "We can say then, that the plots on the bottom row are *displayed using pseudo-colour*. The original image arrays only contain black-white-grey information in their pixel intensity values; they do not contain *true colour* information. **This will be true of any two-dimensional image array**, and both of these image arrays are two-dimensional:"
   ]
  },
  {
   "cell_type": "code",
   "execution_count": null,
   "id": "98004cb1",
   "metadata": {},
   "outputs": [],
   "source": [
    "# Show the dimensionality of our binary image array.\n",
    "two_D_ones_and_zeros.shape"
   ]
  },
  {
   "cell_type": "code",
   "execution_count": null,
   "id": "8120c115",
   "metadata": {},
   "outputs": [],
   "source": [
    "# Show the dimensionality of our greyscale image array.\n",
    "two_D_other_integers.shape"
   ]
  },
  {
   "cell_type": "markdown",
   "id": "6affb2a0",
   "metadata": {},
   "source": [
    "An image which has what we will call *true colour* contains information in each array pixel about more than just *intensity* - it also contains information about *colour*. So, to hammer this point home: greyscale and binary images displayed with the `viridis` colourmap do not contain true colour information in their array pixel values. Instead Matplotlib is *displaying* binary and greyscale information using colours. To introduce true colour into the image, we need a spooky third dimension... \n",
    "\n",
    "# True Colour in 3D\n",
    "\n",
    "Sounds Sci-Fi! But what does it mean?\n",
    "\n",
    "Let's focus on our lowly 4-pixel binary array (4 *array pixels*, that is):"
   ]
  },
  {
   "cell_type": "code",
   "execution_count": null,
   "id": "8ab07cc9",
   "metadata": {},
   "outputs": [],
   "source": [
    "# Show the array.\n",
    "two_D_ones_and_zeros"
   ]
  },
  {
   "cell_type": "markdown",
   "id": "65898997",
   "metadata": {},
   "source": [
    "Let's visualise this array with Matplotlib:"
   ]
  },
  {
   "cell_type": "code",
   "execution_count": null,
   "id": "6e0a95e2",
   "metadata": {},
   "outputs": [],
   "source": [
    "# Our 4-pixel, binary array.\n",
    "plt.matshow(two_D_ones_and_zeros);"
   ]
  },
  {
   "cell_type": "markdown",
   "id": "7c6b01c4",
   "metadata": {},
   "source": [
    "Now, picture this array as physical object, like a tray, standing on one side, in physical space:\n",
    "\n",
    "![](images/one_slice.png)\n",
    "\n",
    "Now, imagine \"stacking\" multiple copies of this array, and standing them in front of each other, like this:\n",
    "\n",
    "![](images/two_slice.png)\n",
    "\n",
    "Let's refer to each of these objects as a *slice*. So we have two slices in the image above, one in the foreground, and one in the background.\n",
    "\n",
    "We can do the equivalent of this three-dimensional stacking - to our actual binary arrays - using the helpfully named `np.stack()` function. We can use `np.stack()` to - as the name implies - stack two 2D arrays into a 3D array, like in the image shown above. To do this, we stack over the third axis using the argument `axis=2`. This adds new arrays to the stack along the third dimension, when we count the dimensions from 0, as we do in Python indexing:"
   ]
  },
  {
   "cell_type": "code",
   "execution_count": null,
   "id": "498b9f0a",
   "metadata": {},
   "outputs": [],
   "source": [
    "# Stack the arrays in the third dimension.\n",
    "three_D_stack_array = np.stack([two_D_ones_and_zeros,\n",
    "                                two_D_ones_and_zeros],\n",
    "                                axis=2)\n",
    "three_D_stack_array "
   ]
  },
  {
   "cell_type": "markdown",
   "id": "4e6bff92",
   "metadata": {},
   "source": [
    "At first glance, the \"raw\" output from NumPy may not look like the \"stacked\" slices in the image above, but please bear with us.\n",
    "Our 3D stacked array is of the right shape:"
   ]
  },
  {
   "cell_type": "code",
   "execution_count": null,
   "id": "d28a0a10",
   "metadata": {},
   "outputs": [],
   "source": [
    "three_D_stack_array.shape"
   ]
  },
  {
   "cell_type": "markdown",
   "id": "c9515577",
   "metadata": {},
   "source": [
    "We can refer to each dimension in the `shape` of `(2, 2, 2)` as `(x, y, z)`. These dimensions map to the image as shown below:\n",
    "\n",
    "![](images/two_slice_dims.png)\n",
    "\n",
    "We can read this shape as \"two slices, each with two rows and two columns\", which now clearly corresponds to the image.\n",
    "\n",
    "Imagine being in the same physical space as these slices. Starting at the front of the image, you begin walking toward the first slice (nearest to the reader, in the foreground), then past it toward the second slice (furthest from the reader, in the background). So, in this imaginative exercise, you are walking along the $z$ dimension.\n",
    "\n",
    "We can use indexing operations to create the experience of this walk, in \"Python space\". Because we are dealing with a three-dimensional array we use three elements for indexing, separated by commas. The first element is for rows, the second for columns, and the third for slices. We can retrieve the first slice using:"
   ]
  },
  {
   "cell_type": "code",
   "execution_count": null,
   "id": "780d508e",
   "metadata": {},
   "outputs": [],
   "source": [
    "# Get the first 2D slice from the 3D image.\n",
    "three_D_stack_array[:, :, 0]"
   ]
  },
  {
   "cell_type": "markdown",
   "id": "1f4c211f",
   "metadata": {},
   "source": [
    "And we can grab the second slice using:"
   ]
  },
  {
   "cell_type": "code",
   "execution_count": null,
   "id": "0bff9031",
   "metadata": {},
   "outputs": [],
   "source": [
    "# Get the second 2D slice from the 3D image.\n",
    "three_D_stack_array[:, :, 1]"
   ]
  },
  {
   "cell_type": "markdown",
   "id": "721ed0b2",
   "metadata": {},
   "source": [
    "The image below shows these indexing operations represented in three-dimensional space:\n",
    "\n",
    "![](images/two_slice_annotated.png)\n",
    "\n",
    "So far we have two slices in the third dimension. We can easily add a third slice, using `np.stack()`:"
   ]
  },
  {
   "cell_type": "code",
   "execution_count": null,
   "id": "1b1b8965",
   "metadata": {},
   "outputs": [],
   "source": [
    "# Add a third slice.\n",
    "three_D_stack_array = np.stack([two_D_ones_and_zeros,\n",
    "                                two_D_ones_and_zeros,\n",
    "                                two_D_ones_and_zeros], # Add a third slice in the third dimension.\n",
    "                                axis=2)\n",
    "three_D_stack_array"
   ]
  },
  {
   "cell_type": "markdown",
   "id": "ba521427",
   "metadata": {},
   "source": [
    "The `shape` of this new array now reads as \"three slices, each with two rows and two columns\":"
   ]
  },
  {
   "cell_type": "code",
   "execution_count": null,
   "id": "60370576",
   "metadata": {},
   "outputs": [],
   "source": [
    "three_D_stack_array.shape"
   ]
  },
  {
   "cell_type": "markdown",
   "id": "b600f6ac",
   "metadata": {},
   "source": [
    "We can visualise this new array, in the same three-dimensional space:\n",
    "\n",
    "![](images/three_slice.png)\n",
    "\n",
    "Again, we can use indexing to \"walk\" through the slices, along the $z$ dimension:"
   ]
  },
  {
   "cell_type": "code",
   "execution_count": null,
   "id": "7e06f91f",
   "metadata": {},
   "outputs": [],
   "source": [
    "# First 2D slice of the stack.\n",
    "three_D_stack_array[:, :, 0]"
   ]
  },
  {
   "cell_type": "code",
   "execution_count": null,
   "id": "848b9300",
   "metadata": {},
   "outputs": [],
   "source": [
    "# Second 2D slice of the stack.\n",
    "three_D_stack_array[:, :, 1]"
   ]
  },
  {
   "cell_type": "code",
   "execution_count": null,
   "id": "9efe6fc4",
   "metadata": {},
   "outputs": [],
   "source": [
    "# Third 2D slice of the stack.\n",
    "three_D_stack_array[:, :, 2]"
   ]
  },
  {
   "cell_type": "markdown",
   "id": "cb2b410c",
   "metadata": {},
   "source": [
    "![](images/three_slice_annotated.png)\n",
    "\n",
    "So far we have visualised these slices using a similar graphic to depicting an individual slice using the `gray` Matplotlib colourmap. We can just as well visualise the slices using the numbers they contain:\n",
    "\n",
    "![](images/three_slice_nums_only_annotated.png)\n",
    "\n",
    "Remember, the actual numbers in each \"slice\" are of the `float64` `dtype` and so contain (empty) decimal places. However, we will show the numbers just as 0 or 1, to keep the image uncluttered. Above we said we wanted to introduce a third dimension to introduce \"true\" colour information into the image. Well, now we have three dimensions surely plotting our image will render a vibrantly coloured picture?:"
   ]
  },
  {
   "cell_type": "code",
   "execution_count": null,
   "id": "51f9363e",
   "metadata": {},
   "outputs": [],
   "source": [
    "# Ooof...not what we wanted...\n",
    "plt.matshow(three_D_stack_array);"
   ]
  },
  {
   "cell_type": "markdown",
   "id": "9f6a991f",
   "metadata": {},
   "source": [
    "Ok, that is not what we wanted - nothing has changed! Interestingly though, the 3D image array still renders as a 2D display image:\n",
    "\n",
    "![](images/three_slice_all_1s.png)\n",
    "\n",
    "What happens if we set every element, in every slice, to equal 0? To do this, first we create a 2D, 4-pixel array containing only 0's:"
   ]
  },
  {
   "cell_type": "code",
   "execution_count": null,
   "id": "c6cf7faa",
   "metadata": {},
   "outputs": [],
   "source": [
    "# Create a 4-pixel array containing only 0's.\n",
    "two_D_zeros = two_D_ones_and_zeros * 0.\n",
    "\n",
    "two_D_zeros"
   ]
  },
  {
   "cell_type": "markdown",
   "id": "dbd237a6",
   "metadata": {},
   "source": [
    "Then, we stack into three dimensions with `np.stack()`:"
   ]
  },
  {
   "cell_type": "code",
   "execution_count": null,
   "id": "e7c7f69c",
   "metadata": {},
   "outputs": [],
   "source": [
    "# Stack three of these arrays, making a 3D array containing only 0's.\n",
    "three_D_zeros = np.stack([two_D_zeros,\n",
    "                          two_D_zeros, \n",
    "                          two_D_zeros],\n",
    "                          axis=2)\n",
    "three_D_zeros"
   ]
  },
  {
   "cell_type": "markdown",
   "id": "ea9f5160",
   "metadata": {},
   "source": [
    "We can visualise this new 3D array as:\n",
    "\n",
    "![](images/three_slice_zeros.png)\n",
    "\n",
    "Next, we plot with Matplotlib:"
   ]
  },
  {
   "cell_type": "code",
   "execution_count": null,
   "id": "a41116e2",
   "metadata": {},
   "outputs": [],
   "source": [
    "# Plot the 3D array which contains only 0s.\n",
    "plt.matshow(three_D_zeros);"
   ]
  },
  {
   "cell_type": "markdown",
   "id": "b70720be",
   "metadata": {},
   "source": [
    "Ok, so now we have a fully black 2D display image, from our 3D array which contains only 0's:\n",
    "\n",
    "![](images/three_slice_zeros_visualised.png)\n",
    "\n",
    "As an experiment, let's see what happens if put 1's on the diagonal in the *first slice only*. To do this, we will stack the `two_D_ones_and_zeros` array as the first slice, and `two_D_zeros` as the other two slices:"
   ]
  },
  {
   "cell_type": "code",
   "execution_count": null,
   "id": "ba09d447",
   "metadata": {},
   "outputs": [],
   "source": [
    "# Show the array (for the first slice).\n",
    "two_D_ones_and_zeros"
   ]
  },
  {
   "cell_type": "code",
   "execution_count": null,
   "id": "b5ba3661",
   "metadata": {},
   "outputs": [],
   "source": [
    "# Show the array (for the second and third slices).\n",
    "two_D_zeros"
   ]
  },
  {
   "cell_type": "code",
   "execution_count": null,
   "id": "b9d38f80",
   "metadata": {},
   "outputs": [],
   "source": [
    "three_D_stack_array_altered_first = np.stack([two_D_ones_and_zeros, # LOOK HERE!\n",
    "                                              two_D_zeros, \n",
    "                                              two_D_zeros], \n",
    "                                              axis=2)\n",
    "three_D_stack_array_altered_first "
   ]
  },
  {
   "cell_type": "markdown",
   "id": "996dff5b",
   "metadata": {},
   "source": [
    "More intuitively visualised, our new three dimensional array looks like this:\n",
    "\n",
    "![](images/three_slice_red.png)\n",
    "\n",
    "You can see the values of 1 in the top-left and bottom-right elements of the first slice, all other elements are 0. Once more we can \"walk\" along the $z$ dimension, using indexing operations:"
   ]
  },
  {
   "cell_type": "code",
   "execution_count": null,
   "id": "d13b5e2a",
   "metadata": {},
   "outputs": [],
   "source": [
    "# First 2D slice of the stack.\n",
    "three_D_stack_array_altered_first[:, :, 0]"
   ]
  },
  {
   "cell_type": "code",
   "execution_count": null,
   "id": "54c6bba0",
   "metadata": {},
   "outputs": [],
   "source": [
    "# Second 2D slice of the stack.\n",
    "three_D_stack_array_altered_first[:, :, 1]"
   ]
  },
  {
   "cell_type": "code",
   "execution_count": null,
   "id": "f7681a1b",
   "metadata": {},
   "outputs": [],
   "source": [
    "# Third 2D slice of the stack.\n",
    "three_D_stack_array_altered_first[:, :, 2]"
   ]
  },
  {
   "cell_type": "markdown",
   "id": "ac4f4162",
   "metadata": {},
   "source": [
    "Now let's see what happens if we plot this new 3D array using Matplotlib:"
   ]
  },
  {
   "cell_type": "code",
   "execution_count": null,
   "id": "f88245c0",
   "metadata": {},
   "outputs": [],
   "source": [
    "plt.matshow(three_D_stack_array_altered_first);"
   ]
  },
  {
   "cell_type": "markdown",
   "id": "e0b234b8",
   "metadata": {},
   "source": [
    "Great! We have now used the third dimension to introduce *true colour information* into our image array. We can visualise this process using the graphic below:\n",
    "\n",
    "![](images/three_slice_red_visualised.png)\n",
    "\n",
    "Just to clarify, again our *array image* is three-dimensional, but our *display image* - e.g. the image rendered/displayed by Matplotlib - is two-dimensional, like the visualisations we saw earlier. In virtue of being 3D, the image array itself contains three values for each array pixel - with one value in each \"slice\" in the third dimension.\n",
    "\n",
    "To produce this red and black square, we altered the *first slice* of the 3D array, such that it contains 1's along its diagonal, but all other elements in the array are 0's.\n",
    "\n",
    "The first slice of the third dimension - in our 3D image array - controls the amount of red in the image. We can therefore (for now) call this slice the *red slice*. \n",
    "\n",
    "What happens if we alter only the *second slice* in the third dimension, so that only it contains 1's along its diagonal, and all other array elements equal 0?"
   ]
  },
  {
   "cell_type": "code",
   "execution_count": null,
   "id": "581e0099",
   "metadata": {},
   "outputs": [],
   "source": [
    "three_D_stack_array_altered_second = np.stack([two_D_zeros, \n",
    "                                               two_D_ones_and_zeros, # LOOK HERE! Now we alter only the second slice.\n",
    "                                               two_D_zeros], \n",
    "                                               axis=2)\n",
    "three_D_stack_array_altered_second"
   ]
  },
  {
   "cell_type": "markdown",
   "id": "fc28cce5",
   "metadata": {},
   "source": [
    "We can visualise this new 3D array as:\n",
    "\n",
    "![](images/three_slice_green.png)\n",
    "\n",
    "We can proceed with another \"walk\" through the image again, with the familiar indexing operations:"
   ]
  },
  {
   "cell_type": "code",
   "execution_count": null,
   "id": "224f624e",
   "metadata": {},
   "outputs": [],
   "source": [
    "# First 2D place of the stack.\n",
    "three_D_stack_array_altered_second[:, :, 0]"
   ]
  },
  {
   "cell_type": "code",
   "execution_count": null,
   "id": "98bce2e9",
   "metadata": {},
   "outputs": [],
   "source": [
    "# Second 2D place of the stack.\n",
    "three_D_stack_array_altered_second[:, :, 1]"
   ]
  },
  {
   "cell_type": "code",
   "execution_count": null,
   "id": "e481486f",
   "metadata": {},
   "outputs": [],
   "source": [
    "# Third 2D slice of the stack.\n",
    "three_D_stack_array_altered_second[:, :, 2]"
   ]
  },
  {
   "cell_type": "markdown",
   "id": "416fb274",
   "metadata": {},
   "source": [
    "How does this 3D array look when we visualise it with Matplotlib?"
   ]
  },
  {
   "cell_type": "code",
   "execution_count": null,
   "id": "d14fc6b1",
   "metadata": {},
   "outputs": [],
   "source": [
    "plt.matshow(three_D_stack_array_altered_second);"
   ]
  },
  {
   "cell_type": "markdown",
   "id": "f5d0547a",
   "metadata": {},
   "source": [
    "Here we have altered only the second slice, such that only it contains nonzero (1) values. We now see green squares in the display image:\n",
    "\n",
    "![](images/three_slice_green_visualised.png)\n",
    "\n",
    "Alterations to the second slice in the third dimension control the amount of green in the image - the second slice in the third dimension is therefore the *green slice*.\n",
    "\n",
    "For completeness, let's change only the *third slice* in the third dimension:"
   ]
  },
  {
   "cell_type": "code",
   "execution_count": null,
   "id": "d75921dc",
   "metadata": {},
   "outputs": [],
   "source": [
    "# Put 1 values in the third slice only.\n",
    "three_D_stack_array_altered_third = np.stack([two_D_zeros,\n",
    "                                              two_D_zeros, \n",
    "                                              two_D_ones_and_zeros ], # LOOK HERE!\n",
    "                                              axis=2)\n",
    "three_D_stack_array_altered_third"
   ]
  },
  {
   "cell_type": "markdown",
   "id": "4ef5b982",
   "metadata": {},
   "source": [
    "Which gives us the following stacked slices:\n",
    "\n",
    "![](images/three_slice_blue.png)\n",
    "\n",
    "...and the following \"walk\" through the slices, via array indexing:"
   ]
  },
  {
   "cell_type": "code",
   "execution_count": null,
   "id": "93d9ab2a",
   "metadata": {},
   "outputs": [],
   "source": [
    "# First 2D slice of the stack.\n",
    "three_D_stack_array_altered_third[:, :, 0]"
   ]
  },
  {
   "cell_type": "code",
   "execution_count": null,
   "id": "1233ed1a",
   "metadata": {},
   "outputs": [],
   "source": [
    "# Second 2D slice of the stack.\n",
    "three_D_stack_array_altered_third[:, :, 1]"
   ]
  },
  {
   "cell_type": "code",
   "execution_count": null,
   "id": "42442259",
   "metadata": {},
   "outputs": [],
   "source": [
    "# Third 2D slice of the stack.\n",
    "three_D_stack_array_altered_third[:, :, 2]"
   ]
  },
  {
   "cell_type": "markdown",
   "id": "7834fe3e",
   "metadata": {},
   "source": [
    "Finally, when plotted, we get:"
   ]
  },
  {
   "cell_type": "code",
   "execution_count": null,
   "id": "25bc0fdc",
   "metadata": {},
   "outputs": [],
   "source": [
    "plt.matshow(three_D_stack_array_altered_third);"
   ]
  },
  {
   "cell_type": "markdown",
   "id": "23428fbd",
   "metadata": {},
   "source": [
    "So, this has given us:\n",
    "\n",
    "![](images/three_slice_blue_visualised.png)\n",
    "\n",
    "## Colour channels\n",
    "\n",
    "What is happening here?\n",
    "\n",
    "Recall that we referred to the 2D arrays that we used at the start of this tutorial as *single-channel image arrays*? The 3D arrays we just created are  *three-channel image arrays*. This means that each array pixel has three values, one in each slice of the 3D stacks we created. You can think of each slice as being one *colour channel*. Each colour channel controls the amount of a specific colour in the image, depending on the values of the array pixels in that slice.\n",
    "\n",
    "Using these three-channel arrays, when Matplotlib produces a two-dimensional *display image* (e.g. the matrix with coloured squares along the diagonal and black squares elsewhere). However, behind this 2D display image there are three slices in the third dimension, each with the same number of rows and columns as the final 2D display image. Each pixel (e.g. each array element) in the display image gets its colour information from a mix of the corresponding elements in each slice in the 3D image array.\n",
    "\n",
    "As we have seen, the first slice is the red channel, the second slice is the green channel and the third slice is the blue channel. The intensities in each colour channel are *mixed* to produce the rendered 2D image:\n",
    "\n",
    "![](images/colour_channels_all.png)\n",
    "\n",
    "Now, despite the visualisations of our array containing only one primary colour, the colour channels are in fact being mixed together. However, because we have set two of the slices to contain only 0's, we are essentially \"switching off\" those colour channels in the final mix (e.g. in the image displayed by Matplotlib). \n",
    "\n",
    "Other non-primary colours can be created using different blends of the primary colours (red, green, blue) in each slice of the array. For `float64` image data, you can think of 0 as meaning 0% and 1 as meaning 100%, 0.5 meaning 50% and so on. So a 1 in the red slice means 100% red is mixed in for that pixel, along with the percentages from the other colour channels (which in the arrays above, are 0's).\n",
    "\n",
    "We can see this by choosing intensity values randomly for each colour channel. The function `np.random.uniform()` can supply us with three random decimal numbers between 0 and 1. Run the cell below a few times if you are using this tutorial interactively, to see the random draw a few times:"
   ]
  },
  {
   "cell_type": "code",
   "execution_count": null,
   "id": "b67b29c3",
   "metadata": {},
   "outputs": [],
   "source": [
    "# Three random integers.\n",
    "X1, X2, X3 = np.random.uniform(size=3).round(2)\n",
    "\n",
    "print(f\"X1 = {X1}\\nX2 = {X2}\\nX3 = {X3}\")"
   ]
  },
  {
   "cell_type": "markdown",
   "id": "65165c62",
   "metadata": {},
   "source": [
    "We will use the `X1` value from this random draw to set nonzero diagonal values in the *red* colour channel (e.g. in the *first* slice of the stack).\n",
    "\n",
    "We will use the `X2` value from this random draw to set nonzero diagonal values in the *green* colour channel (e.g. in the *second* slice of the stack).\n",
    "\n",
    "We will use the `X3` value from this random draw to set nonzero diagonal values in  the *blue* colour channel (e.g. in the *third* slice of the stack).\n",
    "\n",
    "We will then view the resulting display image. Again, if you are using this tutorial interactively, run the cell a few times to see multiple random mixes across the colour channels:"
   ]
  },
  {
   "cell_type": "code",
   "execution_count": null,
   "id": "7708db3e",
   "metadata": {},
   "outputs": [],
   "source": [
    "# Get three random integers between 0 and 255\n",
    "X1, X2, X3 = np.random.uniform(size=3).round(2)\n",
    "\n",
    "# Display the values of the random integers.\n",
    "print(f\"Red (X1) = {X1}\\nGreen (X2) = {X2}\\nBlue (X3) = {X3}\")\n",
    "\n",
    "# Create a 3D stack, with the nonzero values in each slice set by the\n",
    "# random integers.\n",
    "three_D_stack_array_altered_blend= np.stack([two_D_ones_and_zeros * X1,\n",
    "                                             two_D_ones_and_zeros * X2,\n",
    "                                             two_D_ones_and_zeros * X3], \n",
    "                                             axis=2)\n",
    "# Visualise the 3D stack with Matplotlib\n",
    "plt.matshow(three_D_stack_array_altered_blend);"
   ]
  },
  {
   "cell_type": "markdown",
   "id": "bb85d5f1",
   "metadata": {},
   "source": [
    "So, each two-dimensional display image has a \"hidden\" three-dimensional array behind it. Each slice of the third dimension is a colour channel. The mix of values at a given element in each colour channel determines the colour of that pixel in the rendered image. You may want to view this image in a new browser window, to see more clearly the exact mixes of the colour channels, which are shown above each square on the right-hand side of the image:\n",
    "\n",
    "![](images/three_slice_algebraic_multi.png)\n",
    "\n",
    "You can view lots of random mixes across the colour channels, as a grid of plots, by running the cell below:"
   ]
  },
  {
   "cell_type": "code",
   "execution_count": null,
   "id": "f7030dcb",
   "metadata": {},
   "outputs": [],
   "source": [
    "# A custom function to demonstrate many mixes of values across the three\n",
    "# colour channels.\n",
    "from random_colours import random_colour_array\n",
    "random_colour_array(8, 8)"
   ]
  },
  {
   "cell_type": "markdown",
   "id": "65e041ee",
   "metadata": {},
   "source": [
    "We have now completed our perilous expedition into the third dimension... We have seen that we can use 3D arrays to encode *true colour* information. This means that the image array itself contains colour information for each pixel, where we are *not* just pseudocolouring greyscale information using `viridis` or another colourmap...\n",
    "\n",
    "Let's explore a colour image of a real object. We will introduce Scikit-image (`skimage`) in more detail on the [next page](2_skimage_intro), but for now we will again use the straightforwardly named `imread()` function to load an image from a file:"
   ]
  },
  {
   "cell_type": "code",
   "execution_count": null,
   "id": "7a2efb15",
   "metadata": {},
   "outputs": [],
   "source": [
    "# Import the input/output module from skimage.\n",
    "from skimage import io\n",
    "\n",
    "# Load our image array.\n",
    "coffee = io.imread(\"images/coffee.png\")\n",
    "\n",
    "# Show the \"raw\" array output.\n",
    "coffee"
   ]
  },
  {
   "cell_type": "markdown",
   "id": "4d3bf288",
   "metadata": {},
   "source": [
    "The cell below defines a function to let us quickly view the attributes of any image array. You'll noticed that this function just uses NumPy attributes, given that we are representing images as nothing but NumPy arrays:"
   ]
  },
  {
   "cell_type": "code",
   "execution_count": null,
   "id": "6c5c6742",
   "metadata": {},
   "outputs": [],
   "source": [
    "def show_attributes(img):\n",
    "\n",
    "    print(\"Type:\", type(img))\n",
    "    print(\"dtype:\", img.dtype)\n",
    "    print(\"Shape:\", img.shape)\n",
    "    print(\"Max Pixel Value:\", img.max().round(2))\n",
    "    print(\"Min Pixel Value:\", img.min().round(2))"
   ]
  },
  {
   "cell_type": "code",
   "execution_count": null,
   "id": "815ce33c",
   "metadata": {},
   "outputs": [],
   "source": [
    "# Inspect the attributes of the `coffee` image array.\n",
    "show_attributes(coffee)"
   ]
  },
  {
   "cell_type": "markdown",
   "id": "16847269",
   "metadata": {},
   "source": [
    "We can see that this image has three dimensions, with three slices in the third dimension. We are therefore dealing with a *true colour* image with three colour channels. We can also see that the image array represents the most intense pixel values with the number 255, and the least intense values with the number 0, in each colour channel. The `dtype` is `uint8`, in contrast the `float64` `dtype` we have been using in our custom-made low-resolution image arrays.\n",
    "\n",
    "Let's view the image with `imshow()`:"
   ]
  },
  {
   "cell_type": "code",
   "execution_count": null,
   "id": "6459a681",
   "metadata": {},
   "outputs": [],
   "source": [
    "# Show the array.\n",
    "plt.imshow(coffee);"
   ]
  },
  {
   "cell_type": "markdown",
   "id": "5e421b9d",
   "metadata": {},
   "source": [
    "Looks great! Though at the time of writing one of the authors is on their third coffee today...\n",
    "\n",
    "# Pixels and `dtype`\n",
    "\n",
    "Why is the highest pixel value in the `coffee` image the bizarrely specific integer value of 255? We will talk more about image data types [later](2_skimage_intro), but other values/`dtypes` would work here as well. For the two `dtype`s we have seen, the conventions are:\n",
    "\n",
    "0 - 1: where 0 is the least intense, 1 is the most intense (`float64`).\n",
    "\n",
    "0 - 255: where 0 is the least intense, 255 is the most intense (`uint8`).\n",
    "\n",
    "You will see both conventions in images you encounter \"in the wild\", and Sci-kit image supports both formats (as well as multiple other formats - see the table below). Neglecting to pay attention to `dtype` is a very common source of errors when dealing with image arrays, so keep track of it, and deliberately specify it as often as possible!\n",
    "\n",
    "![](images/dtypes_skimage.png)\n",
    "\n",
    "The plot below shows how to get the primary colours (red, green, blue) using both the `float64` and `unint8` convention for the maximum and minimum pixel values:"
   ]
  },
  {
   "cell_type": "code",
   "execution_count": null,
   "id": "3d9201d8",
   "metadata": {},
   "outputs": [],
   "source": [
    "# Use a custom function to plot the maximum intensity values in the diagonals, for `int` and `float` data,\n",
    "# using our familiar 1's and 0's array.\n",
    "from random_colours import plot_int_float\n",
    "plot_int_float();"
   ]
  },
  {
   "cell_type": "markdown",
   "id": "8998f28c",
   "metadata": {},
   "source": [
    "Ok, now we have clarified the mystical 255 pixel value, let's use a for loop to extract each colour channel of `coffee` image. What do you think Matplotlib will show when we visualise each 2D slice of the 3D image separately?"
   ]
  },
  {
   "cell_type": "code",
   "execution_count": null,
   "id": "83258291",
   "metadata": {},
   "outputs": [],
   "source": [
    "# The name of each colour channel.\n",
    "RGB_chan_names = [\"Red Channel\",\n",
    "                  \"Green Channel\",\n",
    "                  \"Blue Channel\"]\n",
    "\n",
    "# Loop through, extract each channel as a 2D slice, and visualise.\n",
    "plt.figure(figsize=(15, 5))\n",
    "for i in np.arange(len(RGB_chan_names)):\n",
    "        chan_name = RGB_chan_names[i]\n",
    "        plt.subplot(1, 3, i+1)\n",
    "        current_slice = coffee[:, :, i]\n",
    "        plt.title(f\"{chan_name}:\")\n",
    "        plt.imshow(current_slice)\n",
    "        plt.xticks([])\n",
    "        plt.yticks([])\n",
    "        plt.xlabel(f\"\\n\\nShape: {current_slice.shape}\")"
   ]
  },
  {
   "cell_type": "markdown",
   "id": "3775f970",
   "metadata": {},
   "source": [
    "Now we are viewing each slice/colour channel separately, we are again visualising 2D arrays - you can see the `.shape` of each slice below each image. \n",
    "\n",
    "The image from each colour channel, when visualised separately, is now essentially a single-channel image, and so Matplotlib is rendering it in greyscale. As we know, we could also use the `viridis` colourmap to pseudocolour the greyscale information in the images for the purposes of the display. Though in this instance, `viridis` results in some slightly queasy-looking images:"
   ]
  },
  {
   "cell_type": "code",
   "execution_count": null,
   "id": "7f13524c",
   "metadata": {},
   "outputs": [],
   "source": [
    "# Pseudo-colour with `viridis`.\n",
    "plt.figure(figsize=(15, 5))\n",
    "for i in np.arange(len(RGB_chan_names)):\n",
    "        chan_name = RGB_chan_names[i]\n",
    "        plt.subplot(1, 3, i+1)\n",
    "        current_slice = coffee[:, :, i]\n",
    "        plt.title(f\"{chan_name}:\")\n",
    "        plt.imshow(current_slice, cmap='viridis')\n",
    "        plt.xticks([])\n",
    "        plt.yticks([])\n",
    "        plt.xlabel(f\"\\n\\nShape: {current_slice.shape}\")"
   ]
  },
  {
   "cell_type": "markdown",
   "id": "11893515",
   "metadata": {},
   "source": [
    "When we visualise the full 3D array however, then, as we have seen, each slice controls the amount of a specific colour, and the resultant mix gives us our beautiful, full-colour image:"
   ]
  },
  {
   "cell_type": "code",
   "execution_count": null,
   "id": "8e6e6bc5",
   "metadata": {},
   "outputs": [],
   "source": [
    "plt.imshow(coffee);"
   ]
  },
  {
   "cell_type": "markdown",
   "id": "7b60cae7",
   "metadata": {},
   "source": [
    "**Start of exercise**\n",
    "\n",
    "Now over to you for some NumPy-fuelled colour wizardry. Your job is take our binary `two_D_ones_and_zeros` array and to use numerical and/or NumPy operations **only** to manipulate the image so that it looks as follows, when displayed with `plt.matshow()`:\n",
    "\n",
    "![](images/all_blue.png)\n",
    "\n",
    "An array called `all_blue` contains your raw materials..."
   ]
  },
  {
   "cell_type": "code",
   "execution_count": null,
   "id": "6bbd523a",
   "metadata": {},
   "outputs": [],
   "source": [
    "# Show `two_D_ones_and_zeros`.\n",
    "two_D_ones_and_zeros"
   ]
  },
  {
   "cell_type": "code",
   "execution_count": null,
   "id": "c72e2551",
   "metadata": {},
   "outputs": [],
   "source": [
    "# YOUR CODE HERE\n",
    "all_blue = two_D_ones_and_zeros.copy()"
   ]
  },
  {
   "cell_type": "markdown",
   "id": "18d28e46",
   "metadata": {},
   "source": [
    "**End of exercise**"
   ]
  },
  {
   "cell_type": "markdown",
   "id": "35d734a8",
   "metadata": {},
   "source": [
    "**See the [corresponding page](/skimage-tutorials-temp/1_colour_images_as_numpy_arrays.html) for solution**\n",
    "\n",
    "Time for some more horrifying computer art. Your task now is to modify the `smiley` image from earlier, using only numerical and/or NumPy operations, to make a \"blood smiley\". The new \"blood smiley\" should have a black background, and a red face, meaning that Matplotlib will render it as:\n",
    "\n",
    "![](images/blood_smile.png)\n",
    "\n",
    "Once more, your raw ingredients are in the cell below:"
   ]
  },
  {
   "cell_type": "code",
   "execution_count": null,
   "id": "dac6c6af",
   "metadata": {},
   "outputs": [],
   "source": [
    "# YOUR CODE HERE\n",
    "blood_smiley = smiley.copy()"
   ]
  },
  {
   "cell_type": "markdown",
   "id": "ee603d38",
   "metadata": {},
   "source": [
    "**End of exercise**"
   ]
  },
  {
   "cell_type": "markdown",
   "id": "9035e5ae",
   "metadata": {},
   "source": [
    "**See the [corresponding page](/skimage-tutorials-temp/1_colour_images_as_numpy_arrays.html) for solution**\n",
    "\n",
    "When we \"invert\" the colour of an image this means we reverse the intensity values. So the highest values become the lowest, and the lowest values become the highest. \n",
    "\n",
    "Your job is to figure out how, again using only numerical or NumPy operations on the `smiley` image, to produce this final result:\n",
    "\n",
    "![](images/inverted_blood_smiley.png)"
   ]
  },
  {
   "cell_type": "code",
   "execution_count": null,
   "id": "500c6760",
   "metadata": {},
   "outputs": [],
   "source": [
    "# YOUR CODE HERE\n",
    "inverted_blood_smiley = smiley.copy()"
   ]
  },
  {
   "cell_type": "markdown",
   "id": "cb3c4744",
   "metadata": {},
   "source": [
    "**End of exercise**"
   ]
  },
  {
   "cell_type": "markdown",
   "id": "592189ee",
   "metadata": {},
   "source": [
    "**See the [corresponding page](/skimage-tutorials-temp/1_colour_images_as_numpy_arrays.html) for solution**\n",
    "\n",
    "Ok, that was all scary. Now we need a coffee to relax (is coffee relaxing?!). \n",
    "\n",
    "Your next task is to take the `coffee` image and use only numerical or NumPy operations to convert it to a single-channel (e.g. monochrome image):"
   ]
  },
  {
   "cell_type": "code",
   "execution_count": null,
   "id": "33dfd2f4",
   "metadata": {},
   "outputs": [],
   "source": [
    "# YOUR CODE HERE\n",
    "colourless_coffee = coffee.copy()"
   ]
  },
  {
   "cell_type": "markdown",
   "id": "6e349bff",
   "metadata": {},
   "source": [
    "**End of exercise**"
   ]
  },
  {
   "cell_type": "markdown",
   "id": "a36c8943",
   "metadata": {},
   "source": [
    "**See the [corresponding page](/skimage-tutorials-temp/1_colour_images_as_numpy_arrays.html) for solution**\n",
    "\n",
    "In image processing \"signal\" can very roughly be thought of as a meaningful visual representation of something, in pixel values. Conversely, noise can be thought of as meaningless randomness in pixel values. \n",
    "\n",
    "Your job now, like an aging memory card or broken file system, is to corrupt the `camera` image below with some noisy pixels.\n",
    "\n",
    "Here is the original image:\n",
    "\n",
    "![](images/camera_plot.png)\n",
    "\n",
    "You should use NumPy and numerical operations only, to create the following image:\n",
    "\n",
    "![](images/corrupted_camera.png)\n",
    "\n",
    "Your final image should have the following attributes:\n",
    "\n",
    "```\n",
    "Type: <class 'numpy.ndarray'>\n",
    "dtype: uint8\n",
    "Shape: (512, 512, 3)\n",
    "Max Pixel Value: 255\n",
    "Min Pixel Value: 0\n",
    "```\n",
    "\n",
    "*Hint 1*: this sort of noise is *random*, you can think about functions in the `np.random` module which might be of use here...\n",
    "\n",
    "*Hint 2*: to work out what values should random, it may help to pay attention to the colour of the noisy region...\n",
    "\n",
    "*Hint 3*: run the function `hint_corrupted_camera()` for additional help..."
   ]
  },
  {
   "cell_type": "code",
   "execution_count": null,
   "id": "591e7c5e",
   "metadata": {},
   "outputs": [],
   "source": [
    "# Import the camera image.\n",
    "camera = io.imread(\"images/camera.png\")\n",
    "\n",
    "# Show the attributes of `camera`/\n",
    "show_attributes(camera)\n",
    "\n",
    "# YOUR CODE HERE\n",
    "noisy_camera = ..."
   ]
  },
  {
   "cell_type": "markdown",
   "id": "3edc12e0",
   "metadata": {},
   "source": [
    "**End of exercise**"
   ]
  },
  {
   "cell_type": "markdown",
   "id": "5315b906",
   "metadata": {},
   "source": [
    "**See the [corresponding page](/skimage-tutorials-temp/1_colour_images_as_numpy_arrays.html) for solution**\n",
    "\n",
    "# More (actually) complex images\n",
    "\n",
    "So far we have looked at simple images - 2D binary and greyscale low-resolution image arrays, like `smiley` - or more complex colour images with three colour channels (like `coffee`). However, the principles we have seen extend to even more complex images, like the image arrays generated by [brain imaging](https://en.wikipedia.org/wiki/Neuroimaging), for instance.\n",
    "\n",
    "Here is an image of one \"slice\" of one of the authors brains, which was captured by a [magnetic resonance imaging](https://en.wikipedia.org/wiki/Magnetic_resonance_imaging) scanner:"
   ]
  },
  {
   "cell_type": "code",
   "execution_count": null,
   "id": "34e19f0c",
   "metadata": {},
   "outputs": [],
   "source": [
    "# One author's own brain (a 2D slice).\n",
    "brain = io.imread(\"images/pxr_brain.png\")\n",
    "\n",
    "plt.imshow(brain);"
   ]
  },
  {
   "cell_type": "markdown",
   "id": "414bc302",
   "metadata": {},
   "source": [
    "The physics of magnetic resonance imaging are very complicated, but the image arrays that it produces, as with our very simple low-resolution arrays, are nothing but arrays of numbers:"
   ]
  },
  {
   "cell_type": "code",
   "execution_count": null,
   "id": "38da8486",
   "metadata": {},
   "outputs": [],
   "source": [
    "# Show the attributes of the brain image.\n",
    "show_attributes(brain)"
   ]
  },
  {
   "cell_type": "markdown",
   "id": "3ac36f77",
   "metadata": {},
   "source": [
    "Note that this image is 2D, and it is actually a relatively simple brain image. Other brain images can also contain *time* information - e.g. an image of the brain through time, as it responds to different stimuli. Such images are actually 4-D, with an extra dimension for temporal information. However, all of these images can still be represented as NumPy arrays, with varying dimensionalities and various min/max pixel value conventions. Importantly, these higher-dimensional images do not always contain colour information - the way we have seen above is just one way of using higher-dimensional image arrays, to encode colour. We will investigate this topic more on the [next page](2_skimage_intro).\n",
    "\n",
    "# Summary\n",
    "\n",
    "On this page we have seen how colour can be represented in NumPy array images:\n",
    "\n",
    "* Images are (at least) two-dimensional arrays of numbers. Multiple `dtype`s in image arrays are supported by Sci-kit image.\n",
    "\n",
    "* We have seen images where the number at each array pixel location determines the grey-level (in a 2D array) or colour (in a 3D array) of that location when the image is displayed. For 3D colour arrays the number in each slice/channel is summed to determine the colour in the 2D displayed image.\n",
    "\n",
    "* These methods of colour encoding can apply to both to very simple and very complex images. Some types of image (e.g. brain images) use higher-dimensionality to encode information other than colour (e.g. time).\n",
    "\n",
    "On the [next page](2_skimage_intro) we will formally introduce Scikit-image, which uses NumPy image arrays as its fundamental representation of images."
   ]
  },
  {
   "cell_type": "markdown",
   "id": "d85b9141",
   "metadata": {},
   "source": [
    "# References\n",
    "\n",
    "Adapted from: https://lectures.scientific-python.org/advanced/image_processing\n",
    "\n",
    "Adapted from: https://lectures.scientific-python.org/packages/scikit-image/index.html \n",
    "\n",
    "Reference: inspiration from Nipraxis also re: arrays/images.\n",
    "\n",
    "Reference: inspiration from `skimage` tutorials\n",
    "\n",
    "Reference: https://bic-berkeley.github.io/psych-214-fall-2016/arrays_and_images.html"
   ]
  }
 ],
 "metadata": {
  "jupytext": {
   "formats": "ipynb,Rmd"
  },
  "kernelspec": {
   "display_name": "Python (Pyodide)",
   "name": "python"
  }
 },
 "nbformat": 4,
 "nbformat_minor": 5
}

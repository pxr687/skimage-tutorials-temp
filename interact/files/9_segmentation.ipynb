{
 "cells": [
  {
   "cell_type": "markdown",
   "id": "ab1f09d2",
   "metadata": {},
   "source": [
    "# Image segmentation\n",
    "\n",
    "Based on: https://scikit-image.org/skimage-tutorials/lectures/4_segmentation.html\n",
    "\n",
    "[Recap how we saw it before]\n",
    "\n",
    "[Terminator image from skimage lectures]\n",
    "\n",
    "## Otsu method - great if it works"
   ]
  },
  {
   "cell_type": "code",
   "execution_count": null,
   "id": "c86cd7ac",
   "metadata": {},
   "outputs": [],
   "source": [
    "import matplotlib.pyplot as plt\n",
    "import skimage as ski\n",
    "from skimage import data\n",
    "from skimage import filters\n",
    "from skimage import exposure\n",
    "\n",
    "camera = data.camera()\n",
    "val = filters.threshold_otsu(camera)\n",
    "\n",
    "hist, bins_center = exposure.histogram(camera)\n",
    "\n",
    "plt.figure(figsize=(9, 4))\n",
    "plt.subplot(131)\n",
    "plt.imshow(camera, cmap=\"gray\", interpolation=\"nearest\")\n",
    "plt.axis(\"off\")\n",
    "plt.subplot(132)\n",
    "plt.imshow(camera < val, cmap=\"gray\", interpolation=\"nearest\")\n",
    "plt.axis(\"off\")\n",
    "plt.subplot(133)\n",
    "plt.plot(bins_center, hist, lw=2)\n",
    "plt.axvline(val, color=\"k\", ls=\"--\")\n",
    "\n",
    "plt.tight_layout()\n",
    "plt.show()"
   ]
  },
  {
   "cell_type": "markdown",
   "id": "acc42130",
   "metadata": {},
   "source": [
    "# Labelling connected components"
   ]
  },
  {
   "cell_type": "code",
   "execution_count": null,
   "id": "103801b0",
   "metadata": {},
   "outputs": [],
   "source": [
    "from skimage import measure\n",
    "from skimage import filters\n",
    "import matplotlib.pyplot as plt\n",
    "import numpy as np\n",
    "\n",
    "n = 12\n",
    "l = 256\n",
    "rng = np.random.default_rng(27446968)\n",
    "im = np.zeros((l, l))\n",
    "points = l * rng.random((2, n**2))\n",
    "im[(points[0]).astype(int), (points[1]).astype(int)] = 1\n",
    "im = filters.gaussian(im, sigma=l / (4.0 * n))\n",
    "blobs = im > 0.7 * im.mean()\n",
    "\n",
    "all_labels = measure.label(blobs)\n",
    "blobs_labels = measure.label(blobs, background=0)\n",
    "\n",
    "plt.figure(figsize=(9, 3.5))\n",
    "plt.subplot(131)\n",
    "plt.imshow(blobs, cmap=\"gray\")\n",
    "plt.axis(\"off\")\n",
    "plt.subplot(132)\n",
    "plt.imshow(all_labels, cmap=\"nipy_spectral\")\n",
    "plt.axis(\"off\")\n",
    "plt.subplot(133)\n",
    "plt.imshow(blobs_labels, cmap=\"nipy_spectral\")\n",
    "plt.axis(\"off\")\n",
    "\n",
    "plt.tight_layout()\n",
    "plt.show()"
   ]
  },
  {
   "cell_type": "markdown",
   "id": "ae307cfe",
   "metadata": {},
   "source": [
    "# Marker based methods"
   ]
  },
  {
   "cell_type": "code",
   "execution_count": null,
   "id": "afc88240",
   "metadata": {},
   "outputs": [],
   "source": []
  },
  {
   "cell_type": "markdown",
   "id": "7c2e1c2f",
   "metadata": {},
   "source": [
    "# Watershed and random walker segmentation"
   ]
  },
  {
   "cell_type": "code",
   "execution_count": null,
   "id": "335e0ee5",
   "metadata": {},
   "outputs": [],
   "source": [
    "import numpy as np\n",
    "from skimage.segmentation import watershed\n",
    "from skimage.feature import peak_local_max\n",
    "from skimage import measure\n",
    "from skimage.segmentation import random_walker\n",
    "import matplotlib.pyplot as plt\n",
    "import scipy as sp\n",
    "\n",
    "# Generate an initial image with two overlapping circles\n",
    "x, y = np.indices((80, 80))\n",
    "x1, y1, x2, y2 = 28, 28, 44, 52\n",
    "r1, r2 = 16, 20\n",
    "mask_circle1 = (x - x1) ** 2 + (y - y1) ** 2 < r1**2\n",
    "mask_circle2 = (x - x2) ** 2 + (y - y2) ** 2 < r2**2\n",
    "image = np.logical_or(mask_circle1, mask_circle2)\n",
    "# Now we want to separate the two objects in image\n",
    "# Generate the markers as local maxima of the distance\n",
    "# to the background\n",
    "distance = sp.ndimage.distance_transform_edt(image)\n",
    "peak_idx = peak_local_max(distance, footprint=np.ones((3, 3)), labels=image)\n",
    "peak_mask = np.zeros_like(distance, dtype=bool)\n",
    "peak_mask[tuple(peak_idx.T)] = True\n",
    "markers = measure.label(peak_mask)\n",
    "labels_ws = watershed(-distance, markers, mask=image)\n",
    "\n",
    "markers[~image] = -1\n",
    "labels_rw = random_walker(image, markers)\n",
    "\n",
    "plt.figure(figsize=(12, 3.5))\n",
    "plt.subplot(141)\n",
    "plt.imshow(image, cmap=\"gray\", interpolation=\"nearest\")\n",
    "plt.axis(\"off\")\n",
    "plt.title(\"image\")\n",
    "plt.subplot(142)\n",
    "plt.imshow(-distance, interpolation=\"nearest\")\n",
    "plt.axis(\"off\")\n",
    "plt.title(\"distance map\")\n",
    "plt.subplot(143)\n",
    "plt.imshow(labels_ws, cmap=\"nipy_spectral\", interpolation=\"nearest\")\n",
    "plt.axis(\"off\")\n",
    "plt.title(\"watershed segmentation\")\n",
    "plt.subplot(144)\n",
    "plt.imshow(labels_rw, cmap=\"nipy_spectral\", interpolation=\"nearest\")\n",
    "plt.axis(\"off\")\n",
    "plt.title(\"random walker segmentation\")\n",
    "\n",
    "plt.tight_layout()\n",
    "plt.show()"
   ]
  },
  {
   "cell_type": "code",
   "execution_count": null,
   "id": "d764b86b",
   "metadata": {},
   "outputs": [],
   "source": []
  }
 ],
 "metadata": {
  "jupytext": {
   "formats": "ipynb,Rmd"
  },
  "kernelspec": {
   "display_name": "Python (Pyodide)",
   "name": "python"
  },
  "orphan": true
 },
 "nbformat": 4,
 "nbformat_minor": 5
}

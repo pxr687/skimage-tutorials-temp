{
 "cells": [
  {
   "cell_type": "markdown",
   "id": "d9c8390a",
   "metadata": {},
   "source": [
    "# Introducing Scikit-image\n",
    "\n",
    "[Scikit-image](https://scikit-image.org) (`skimage`) is a powerful image processing package which is built in a large part from NumPy and SciPy, and uses NumPy arrays as its fundamental image representations. This page will show some foundational aspects of `skimage`, focusing on its coherence with the NumPy image array concepts we saw on the last two pages.\n",
    "\n",
    "# Images are arrays, arrays are images\n",
    "\n",
    "As we have seen, the technical definition of an image is *an (at least) two-dimensional array*. We know that each element of an image array (an \"array pixel\") contains information about the gray-level or color of that element. Perhaps obviously, these fundamental principles apply equally to Scikit-image, given that it represents images as NumPy arrays. The table below outlines how images are represented in `skimage` - you'll notice it is identical to the principles we have seen for representing images in NumPy: \n",
    "\n",
    "|||\n",
    "|:---|:---|\n",
    "|Image|`np.ndarray`|\n",
    "|Pixels|array values e.g. `img_arr[2, 3]`|\n",
    "|Image Array `dtypes` |(`np.uint8`, `np.float`, many others)|\n",
    "\n",
    "Before exploring how `skimage` works, let's start by building some image objects to perform image manipulations on. As normal, we begin by importing some libraries:"
   ]
  },
  {
   "cell_type": "code",
   "execution_count": null,
   "id": "91c3fa25",
   "metadata": {},
   "outputs": [],
   "source": [
    "# Import libraries.\n",
    "import numpy as np\n",
    "import matplotlib.pyplot as plt\n",
    "\n",
    "# Set the default colormap for this session.\n",
    "plt.rcParams['image.cmap'] = 'gray'\n",
    "\n",
    "# Import a custom function to give hints for some exercises.\n",
    "from hints import hint_cat, hint_camera\n",
    "\n",
    "# A custom function to quickly report array image attributes.\n",
    "from show_attributes import show_attributes"
   ]
  },
  {
   "cell_type": "markdown",
   "id": "563af294",
   "metadata": {},
   "source": [
    "We can use some simple NumPy functions and the familiar array indexing syntax to create our familiar, exceedingly artistic, image array:"
   ]
  },
  {
   "cell_type": "code",
   "execution_count": null,
   "id": "8fd15ea4",
   "metadata": {},
   "outputs": [],
   "source": [
    "# Create an image array.\n",
    "squares = np.array([[1, 0,], \n",
    "                    [0, 1,]], \n",
    "                   dtype=float)\n",
    "\n",
    "# Show the array (\"raw\" output from NumPy)\n",
    "print(squares)\n",
    "\n",
    "# Show the array, visualised with Matplotlib\n",
    "plt.matshow(squares);"
   ]
  },
  {
   "cell_type": "markdown",
   "id": "1bf7b72f",
   "metadata": {},
   "source": [
    "You will recall that this array - in virtue of being 2D and having only one numeric value per array pixel - is a single-channel array. This means that it contains only information about pixel intensity (gray-level), and not about color. \n",
    "\n",
    "To include true color information, our array must be of *at least* three dimensions. A three-dimensional color image array typically has three \"slices\" in the third dimension. Each element of each slice contains a number between 0 and 1 (for `float64` data), or between 1 and 255 (for `uint8` data). For the standard RGB (Red-Green-Blue) format the number in each element of each slice in the third dimension tells that array pixel what color to be (e.g. a mix of red, green and blue, across the three slices). Hence these slices, in the third dimension, are called \"color channels\". \n",
    "\n",
    "![](images/three_slice_algebraic_multi.png)\n",
    "\n",
    "As we saw previously, we can control the amount of color in the image by manipulating each channel in the third dimension:"
   ]
  },
  {
   "cell_type": "code",
   "execution_count": null,
   "id": "2cab025e",
   "metadata": {},
   "outputs": [],
   "source": [
    "# Using `np.stack()` to create a multi-channel array.\n",
    "red_squares = np.stack([squares, # 1's are only present in the red channel.\n",
    "                        squares * 0, # The green channel is \"switched off\".\n",
    "                        squares * 0], # The blue channel is \"switched off\".\n",
    "                        axis=2)\n",
    "show_attributes(red_squares)\n",
    "plt.matshow(red_squares);"
   ]
  },
  {
   "cell_type": "markdown",
   "id": "38ef6b91",
   "metadata": {},
   "source": [
    "We show this principle again below, for each color channel. The top row of the plot shows the channels for `uint8` data with 255 as the maximum pixel intensity value. The second row of the plot shows each channel for `float64` data, using 1 as the maximum pixel intensity value:"
   ]
  },
  {
   "cell_type": "code",
   "execution_count": null,
   "id": "b0f0ca3a",
   "metadata": {},
   "outputs": [],
   "source": [
    "# Use a custom function to plot the maximum intensity values in the diagonals, for `int` and `float` data,\n",
    "# using our familiar 1's and 0's array.\n",
    "from random_colors import plot_int_float\n",
    "plot_int_float();"
   ]
  },
  {
   "cell_type": "markdown",
   "id": "63210a54",
   "metadata": {},
   "source": [
    "These are the basic aspects of images represented as NumPy arrays. Other ways of representing color exist and are supported by `skimage`, and indeed, not all 3D image arrays contain color information (e.g. structural brain images). We will look at these concepts in later sections, but `skimage` can work with these images as easily as the basic colored squares we have just made - all these images *are just NumPy arrays* and can be handled just as any NumPy array.  \n",
    "\n",
    "# Going `ski`-ing : arrays as arguments\n",
    "\n",
    "So far so good, we have an image array to experiment with. Let's import `skimage` itself. The convention for importing `skimage` (e.g. what you will see in other peoples' code) is to name the import `ski`:"
   ]
  },
  {
   "cell_type": "code",
   "execution_count": null,
   "id": "0e7719e2",
   "metadata": {},
   "outputs": [],
   "source": [
    "# Import statement and the conventional shorthand.\n",
    "import skimage as ski"
   ]
  },
  {
   "cell_type": "markdown",
   "id": "4d70ffc1",
   "metadata": {},
   "source": [
    "Because Scikit-image represents images as NumPy arrays, *the majority of Scikit-image functions take NumPy `ndarray`s as arguments.* For instance, the `rgb2gray()` function from the `ski.color` module can take a multi-channel array, and convert it to a single channel, grayscale image. We will show this with the `red_squares` array from above:"
   ]
  },
  {
   "cell_type": "code",
   "execution_count": null,
   "id": "bc9d22f6",
   "metadata": {},
   "outputs": [],
   "source": [
    "# Show the original `red_squares` array\n",
    "show_attributes(red_squares)\n",
    "plt.matshow(red_squares);"
   ]
  },
  {
   "cell_type": "markdown",
   "id": "163ebf9f",
   "metadata": {},
   "source": [
    "Now, we just pass the `squares` array to `ski.color.rgb2gray()` as an argument:"
   ]
  },
  {
   "cell_type": "code",
   "execution_count": null,
   "id": "a1cd393e",
   "metadata": {},
   "outputs": [],
   "source": [
    "# Convert the `red_squares` array to grayscale.\n",
    "back_to_black = ski.color.rgb2gray(red_squares)\n",
    "show_attributes(back_to_black)\n",
    "plt.matshow(back_to_black);"
   ]
  },
  {
   "cell_type": "markdown",
   "id": "711d3781",
   "metadata": {},
   "source": [
    "Most Scikit-image functions work like  this - they take a NumPy array as input, do something to the array pixel values, then return an altered image array. As we mentioned above, under the hood `skimage` is often using NumPy and SciPy functions to do the image manipulation, something we will explore in more detail on the [next page](3_skimage_processing_from_numpy_and_scipy). \n",
    "\n",
    "You may ask why the maximum pixel values are now 0.21, rather than 1? This is because of the [formula](https://stackoverflow.com/questions/596216/formula-to-determine-perceived-brightness-of-rgb-color) that `rgb2gray()` uses to do the conversion. We will show this in detail in the *Colourspaces* section later in this tutorial.\n",
    "\n",
    "# Scikit-image ships with built-in images\n",
    "\n",
    "Conveniently, `skimage` ships with image arrays included. It should come as no surprise that these are also NumPy arrays. We can access all of the built-in images through the `ski.data` module. Here we use `dir()` to show all of the available options:"
   ]
  },
  {
   "cell_type": "code",
   "execution_count": null,
   "id": "1a34d850",
   "metadata": {},
   "outputs": [],
   "source": [
    "dir(ski.data)"
   ]
  },
  {
   "cell_type": "markdown",
   "id": "8ea4819c",
   "metadata": {},
   "source": [
    "Here we will load the `coffee` image from `ski.data`:"
   ]
  },
  {
   "cell_type": "code",
   "execution_count": null,
   "id": "601a192a",
   "metadata": {},
   "outputs": [],
   "source": [
    "# Load in the image.\n",
    "coffee = ski.data.coffee()\n",
    "\n",
    "# Show the image array.\n",
    "coffee"
   ]
  },
  {
   "cell_type": "code",
   "execution_count": null,
   "id": "c8947a6d",
   "metadata": {},
   "outputs": [],
   "source": [
    "# Inspect the attributes of the image.\n",
    "show_attributes(coffee)"
   ]
  },
  {
   "cell_type": "code",
   "execution_count": null,
   "id": "2c329f9e",
   "metadata": {},
   "outputs": [],
   "source": [
    "# Show the image with Matplotlib.\n",
    "plt.imshow(coffee);"
   ]
  },
  {
   "cell_type": "markdown",
   "id": "a9bae97a",
   "metadata": {},
   "source": [
    "Because these images are nothing but NumPy arrays, we can use all the standard array slicing to interact with them. For instance, we can easily use slicing to ruin the `coffee` image by placing a huge green square over it:"
   ]
  },
  {
   "cell_type": "code",
   "execution_count": null,
   "id": "51abae12",
   "metadata": {},
   "outputs": [],
   "source": [
    "ruined_coffee = coffee.copy()\n",
    "ruined_coffee[100:300, 200:400, :] = [0, 255, 0]  # [Red channel, Green channel, Blue channel]\n",
    "plt.imshow(ruined_coffee);"
   ]
  },
  {
   "cell_type": "markdown",
   "id": "72e91791",
   "metadata": {},
   "source": [
    "Remember our [maxim](0_images_as_numpy_arrays) that \"image-processing is just the application of operations which change the values inside an image array, and therefore change the corresponding visual image\"?\n",
    "\n",
    "When we explore different image processing operations, using smaller arrays often makes it easier to understand what a given processing operation is doing to individual array pixels. However, in larger, more complex arrays, it is often easier to appreciate the \"global\" visual/perceptual effect of an image processing operation. \n",
    "\n",
    "As such, we will use a variety of simple arrays (like `squares`) along with a variety of more complex images from `skimage.data`, like `coffee`, to show the effect of different `skimage` manipulations, as well as their constituent `numpy` and `scipy` operations."
   ]
  },
  {
   "cell_type": "markdown",
   "id": "db9bbd5c",
   "metadata": {},
   "source": [
    "# Input/output and `dtype`s in `skimage`\n",
    "\n",
    "Before manipulating and processing images, we will need to load them into memory. After we are finished with our high concept digital art, we will want to save our creations. To help us with this, input and output (e.g. loading and saving image files) is handled by the `skimage.io` module. \n",
    "\n",
    "We have already met this module on [earlier pages](0_images_as_numpy_arrays) but we will discuss some of its finer details here. `skimage` supports multiple image `dtypes` (e.g. the types of numbers within the image array), and loading and saving files can require close attention to, or even conversion of, the image `dtype`, as we will see shortly.\n",
    "\n",
    "For now, let's use `ski.io.imread()` to load a `.png` of the terrifying smile we hand-crafted in the earlier tutorials:"
   ]
  },
  {
   "cell_type": "code",
   "execution_count": null,
   "id": "3cd49b57",
   "metadata": {},
   "outputs": [],
   "source": [
    "# Read in an image file.\n",
    "smiley_from_file = ski.io.imread(\"images/smiley.png\",\n",
    "                                 as_gray=True) # Ensure dimensions match the original.\n",
    "\n",
    "# Show the \"raw\" NumPy output\n",
    "print(smiley_from_file)\n",
    "\n",
    "# Show the array (graphically).\n",
    "plt.imshow(smiley_from_file);"
   ]
  },
  {
   "cell_type": "code",
   "execution_count": null,
   "id": "9b54512c",
   "metadata": {},
   "outputs": [],
   "source": [
    "# Show the attributes of the image.\n",
    "show_attributes(smiley_from_file)"
   ]
  },
  {
   "cell_type": "markdown",
   "id": "08632108",
   "metadata": {},
   "source": [
    "No less terrifying than when we first saw it...\n",
    "\n",
    "Note that `ski.io.imread()` loads image files as NumPy arrays by default. This is not the case with some other python image libraries (like [`pillow`](https://pillow.readthedocs.io/en/stable/reference/Image.html)) which have their own native image representations.\n",
    "\n",
    "Now, a lot of `skimage` functions serve specific purposes - like improving the quality or clarity of an image. Others are just there to look cool. The `ski.transform.swirl()` function falls into the latter category. According to the [documentation](https://scikit-image.org/docs/0.25.x/auto_examples/transform/plot_swirl.html), this function performs a non-linear deformation creating a whirlpool effect. Because `skimage` has loaded `smiley.png` as a NumPy array, we can pass the image straight to the `swirl` function:"
   ]
  },
  {
   "cell_type": "code",
   "execution_count": null,
   "id": "e3d4fb3a",
   "metadata": {},
   "outputs": [],
   "source": [
    "#  Swirl the `smiley_from_file` array.\n",
    "smiley_swirled = ski.transform.swirl(smiley_from_file,\n",
    "                                     center=(3, 6), # Set the central pixel coordinate.\n",
    "                                     radius=10)  # Set the extent of the `swirl` \n",
    "                                                 # (in number of pixels)\n",
    "# Show the \"raw\" NumPy output.\n",
    "print(smiley_swirled)\n",
    "\n",
    "# Show the swirled array (graphically).\n",
    "plt.matshow(smiley_swirled);"
   ]
  },
  {
   "cell_type": "markdown",
   "id": "d9fe7d2f",
   "metadata": {},
   "source": [
    "`smiley` only gets more terrifying with each manipulation, it seems...\n",
    "\n",
    "What `swirl` has done here is, well, swirled the pixels around a central point, resulting in this crooked, wonky smile. Now, if we want to save our terrifying creation, we can use `ski.io.imsave()` to save images..."
   ]
  },
  {
   "cell_type": "code",
   "execution_count": null,
   "id": "dddc98a2",
   "metadata": {
    "tags": [
     "raises-exception"
    ]
   },
   "outputs": [],
   "source": [
    "# OUCH!\n",
    "ski.io.imsave(\"images/smiley_swirled.png\", # Path to save image to.\n",
    "              smiley_swirled)              # Image array to save."
   ]
  },
  {
   "cell_type": "markdown",
   "id": "3a43fec1",
   "metadata": {},
   "source": [
    "Oh dear, what a horrible looking error for such a simple request. What has happened here? The error message is cryptic...\n",
    "\n",
    "`OSError: cannot write mode F as PNG`\n",
    "\n",
    "...but it means that there is an issue with the `dtype` of the array we are trying to save:"
   ]
  },
  {
   "cell_type": "code",
   "execution_count": null,
   "id": "1ba6705a",
   "metadata": {},
   "outputs": [],
   "source": [
    "smiley_swirled.dtype"
   ]
  },
  {
   "cell_type": "markdown",
   "id": "49983d81",
   "metadata": {},
   "source": [
    "As we have already seen, `skimage` [supports the following `dtypes`](https://scikit-image.org/docs/0.25.x/user_guide/data_types.html):\n",
    "\n",
    "![](images/dtypes_skimage.png)\n",
    "\n",
    "The error above occurred because we are trying to save our image to the `.png` file format, which does not support the `float64` `dtype`. Issues like these are common, and as such `skimage` has a variety of functions to address them.\n",
    "\n",
    "In this case, we can convert our image array from `float64` to `uint8` using the `ski.util.img_as_ubyte()` function:"
   ]
  },
  {
   "cell_type": "code",
   "execution_count": null,
   "id": "e8d9c808",
   "metadata": {},
   "outputs": [],
   "source": [
    "smiley_swirled = ski.util.img_as_ubyte(smiley_swirled)\n",
    "\n",
    "smiley_swirled.dtype"
   ]
  },
  {
   "cell_type": "markdown",
   "id": "ecb88307",
   "metadata": {},
   "source": [
    "This format *is* supported for `.png` files, and we can painlessly save our image using `ski.io.imsave()`:"
   ]
  },
  {
   "cell_type": "code",
   "execution_count": null,
   "id": "b00a8a18",
   "metadata": {},
   "outputs": [],
   "source": [
    "# Saving our image (successfully).\n",
    "ski.io.imsave(\"images/smiley_swirled.png\", # Path to save image to.\n",
    "              smiley_swirled)              # Image array to save."
   ]
  },
  {
   "cell_type": "markdown",
   "id": "9309f703",
   "metadata": {},
   "source": [
    "We can now use `ski.io.imread()` to read the file we just saved, back into this notebook:"
   ]
  },
  {
   "cell_type": "code",
   "execution_count": null,
   "id": "728c9a0e",
   "metadata": {},
   "outputs": [],
   "source": [
    "# Load the file back in.\n",
    "load_back_in = ski.io.imread(\"images/smiley_swirled.png\")\n",
    "\n",
    "# Show the file.\n",
    "plt.imshow(load_back_in);"
   ]
  },
  {
   "cell_type": "markdown",
   "id": "0cf99c67",
   "metadata": {},
   "source": [
    "We can see that the `dtype` of the freshly saved, freshly loaded image is indeed `uint8`:"
   ]
  },
  {
   "cell_type": "code",
   "execution_count": null,
   "id": "dbba836a",
   "metadata": {},
   "outputs": [],
   "source": [
    "show_attributes(load_back_in)"
   ]
  },
  {
   "cell_type": "markdown",
   "id": "e60d5915",
   "metadata": {},
   "source": [
    "Another option here, is just to save to another image format, like `.jpg`. Below we save the original `smiley_swirled` array as a `.jpg` file, avoiding the ugly error message:"
   ]
  },
  {
   "cell_type": "code",
   "execution_count": null,
   "id": "e8d92e04",
   "metadata": {},
   "outputs": [],
   "source": [
    "# Save as `.jpg`.\n",
    "ski.io.imsave(\"images/smiley_swirled.jpg\", # Path to save image to.\n",
    "              smiley_swirled)              # Image array to save."
   ]
  },
  {
   "cell_type": "markdown",
   "id": "256ae57c",
   "metadata": {},
   "source": [
    "Issues with `dtype` can be a source of errors, so it is important to be aware of what `dtype` your image arrays are using. Fortunately, as we have seen, to help remedy or avoid such errors, `skimage` makes it easy to convert between `dtypes`, where such errors do occur.\n",
    "\n",
    "*Note*: you should prefer the `ski.util` conversion functions to using the NumPy `ndarray.astype()` method, when altering image `dtype`s. This is because the `skimage` functions will respect the min/max pixel intensity value conventions shown in the table above, where `.astype()` may not. Here is a list of the `skimage` conversion functions - you will need them!:"
   ]
  },
  {
   "cell_type": "code",
   "execution_count": null,
   "id": "088da264",
   "metadata": {},
   "outputs": [],
   "source": [
    "# Show the `skimage` `dtype` conversion functions.\n",
    "[func for func in dir(ski.util) if func.startswith('img')]"
   ]
  },
  {
   "cell_type": "markdown",
   "id": "5fd76697",
   "metadata": {},
   "source": [
    "# Small image arrays, big image arrays\n",
    "\n",
    "Before we move on, a note on `swirl` - we said earlier that it is easier to understand a manipulation at the array pixel-level using a small (low-resolution) array, but easier to appreciate its global visual effect on a larger (high-resolution) image. We saw the effect of `swirl` on `smiley_swirled`, but the nature of the visual effect can be seen more clearly when we apply it to `coffee`:"
   ]
  },
  {
   "cell_type": "code",
   "execution_count": null,
   "id": "96cbad74",
   "metadata": {},
   "outputs": [],
   "source": [
    "# `swirl` the coffee image\n",
    "plt.imshow(ski.transform.swirl(coffee, \n",
    "                    strength=100));"
   ]
  },
  {
   "cell_type": "markdown",
   "id": "a12c596a",
   "metadata": {},
   "source": [
    "Pretty trippy..."
   ]
  },
  {
   "cell_type": "markdown",
   "id": "3b001d7c",
   "metadata": {},
   "source": [
    "**Start of exercise**\n",
    "\n",
    "Now investigate the use of `ski.util.random_noise()` to add extra noise to an image. Remember that in the context of image processing, noise is *randomness*. Here is the original `camera` image from `ski.data`:\n",
    "\n",
    "![](images/camera_plot.png)\n",
    "\n",
    "\n",
    "Try to recreate something like the image below, by adding noise to the image with `ski.util.random_noise()`. Like most `skimage` functions, `random_noise()` takes a NumPy image array as an argument, and adds random quantities to the array pixel values. To match the target image below, you will need to adjust an optional argument, see if you can work out which argument it is by reading the [documentation](https://scikit-image.org/docs/0.25.x/api/skimage.util.html#skimage.util.random_noise).\n",
    "\n",
    "![](images/noisy_camera.png)\n",
    "\n",
    "Make sure you pay attention to the *color* of the noise...\n",
    "\n",
    "Your new image should have the following attributes:\n",
    "\n",
    "```\n",
    "Type: <class 'numpy.ndarray'>\n",
    "dtype: float64\n",
    "Shape: (512, 512, 3)\n",
    "Max Pixel Value: 1.0\n",
    "Min Pixel Value: 0.0\n",
    "```"
   ]
  },
  {
   "cell_type": "code",
   "execution_count": null,
   "id": "33d2411c",
   "metadata": {},
   "outputs": [],
   "source": [
    "# YOUR CODE HERE"
   ]
  },
  {
   "cell_type": "markdown",
   "id": "c38b1dff",
   "metadata": {},
   "source": [
    "**End of exercise**"
   ]
  },
  {
   "cell_type": "markdown",
   "id": "23b5534b",
   "metadata": {},
   "source": [
    "**See the [corresponding page](/skimage-tutorials-temp/2_skimage_intro.html) for solution**\n",
    "\n",
    "# Colourspaces\n",
    "\n",
    "So far we have looked primarily at binary/monochrome single-channel image arrays and three-channel RGB color image arrays. We can use the `shape` conventions from NumPy to think about these image types. Single channel images have a `shape` of `(n, m)` where `n` is the number of rows and `m` is the number of columns. RGB images have a shape of `(n, m, 3)`, so `n` rows, `m` columns and `3` slices (the color channels).\n",
    "\n",
    "RGB is the default, but color images of shape `(n, m, 3)` can use different representations of color to the RGB method we have seen. We call these different color representation formats *colorspaces*. `skimage` supports many of them, and contains many functions for converting image arrays between colorspaces. These functions are contained in the `ski.color` module:"
   ]
  },
  {
   "cell_type": "code",
   "execution_count": null,
   "id": "5f434943",
   "metadata": {},
   "outputs": [],
   "source": [
    "# Show the functions in `ski.color`.\n",
    "dir(ski.color)"
   ]
  },
  {
   "cell_type": "markdown",
   "id": "aa3da582",
   "metadata": {},
   "source": [
    "Let's load in the `cat` image from `ski.data`, to look at a different colorspace:"
   ]
  },
  {
   "cell_type": "code",
   "execution_count": null,
   "id": "3e144d9d",
   "metadata": {},
   "outputs": [],
   "source": [
    "# Load the image and show it.\n",
    "cat = ski.data.cat()\n",
    "show_attributes(cat)\n",
    "plt.imshow(cat);"
   ]
  },
  {
   "cell_type": "markdown",
   "id": "050b50f3",
   "metadata": {},
   "source": [
    "On the [previous page](1_color_images_as_numpy_arrays) we manually converted color images to grayscale, using NumPy operations. As we saw earlier on the present page, functions from the `ski.color` module, like `ski.color.rgb2gray()`, can do this more elegantly, with less code:"
   ]
  },
  {
   "cell_type": "code",
   "execution_count": null,
   "id": "7440cde3",
   "metadata": {},
   "outputs": [],
   "source": [
    "# From RGB to grayscale.\n",
    "gray_cat = ski.color.rgb2gray(cat)\n",
    "show_attributes(gray_cat)\n",
    "plt.imshow(gray_cat);"
   ]
  },
  {
   "cell_type": "markdown",
   "id": "2c85cee8",
   "metadata": {},
   "source": [
    "This grayscale conversion is achieved by calculating the luminance of the image via a weighted sum of the information in each color channel:\n",
    "\n",
    "$$\n",
    "Y = 0.2126R + 0.7152G + 0.0722B\n",
    "$$\n",
    "\n",
    "This has the effect of removing the color channels, so the output array is 2D. Why do we use these specific numbers? You could go and knock on the door of your physicist friend to ask (don't worry, they'll be in...), or you can see [this page](https://stackoverflow.com/questions/596216/formula-to-determine-perceived-brightness-of-rgb-color) for a detailed explanation of where the weights come from.\n",
    "\n",
    "**Start of exercise**\n",
    "\n",
    "Re-color the `cat` image using the luminance formula provided above. Your output image should have the following attributes:\n",
    "\n",
    "```\n",
    "Type: <class 'numpy.ndarray'>\n",
    "dtype: float64\n",
    "Shape: (300, 451)\n",
    "Max Pixel Value: 1.0\n",
    "Min Pixel Value: 0.0\n",
    "```\n",
    "\n",
    "*Hint:* you may want to investigate `ski.exposure.rescale_intensity()` to help ensure that you match the attributes of the target image...\n",
    "\n",
    "The `cat` image array is copied for you in the cell below:"
   ]
  },
  {
   "cell_type": "code",
   "execution_count": null,
   "id": "527eee41",
   "metadata": {},
   "outputs": [],
   "source": [
    "# YOUR CODE HERE\n",
    "cat_for_exercise = cat.copy()"
   ]
  },
  {
   "cell_type": "markdown",
   "id": "c8666ea7",
   "metadata": {},
   "source": [
    "**End of exercise**"
   ]
  },
  {
   "cell_type": "markdown",
   "id": "2793a03e",
   "metadata": {},
   "source": [
    "**See the [corresponding page](/skimage-tutorials-temp/2_skimage_intro.html) for solution**\n",
    "\n",
    "We can also convert an image into a different true colorspace (e.g. not grayscale). `ski.color.rgb2hsv()` will convert an RGB image to an image in the HSV colorspace. HSV stands for [Hue, Saturation, Value](https://en.wikipedia.org/wiki/HSL_and_HSV):"
   ]
  },
  {
   "cell_type": "code",
   "execution_count": null,
   "id": "92594852",
   "metadata": {},
   "outputs": [],
   "source": [
    "# Convert `cat` to the HSV colorspcae\n",
    "hsv_cat = ski.color.rgb2hsv(cat)\n",
    "show_attributes(hsv_cat)\n",
    "plt.imshow(hsv_cat);"
   ]
  },
  {
   "cell_type": "markdown",
   "id": "12109479",
   "metadata": {},
   "source": [
    "Psychedelic! Maybe this is how cats look, from the perspective of other cats (e.g. from within their \"[umwelt](https://en.wikipedia.org/wiki/Umwelt)\"), but sadly this is probably not the case...\n",
    "\n",
    "Let's extract the individual channels with some array indexing operations. Each channel is 2D, and therefore will render as a grayscale image when displayed with Matplotlib:"
   ]
  },
  {
   "cell_type": "code",
   "execution_count": null,
   "id": "7699f947",
   "metadata": {},
   "outputs": [],
   "source": [
    "# Extract the HSV channels.\n",
    "hue_slice = hsv_cat[:, :, 0]\n",
    "saturation_slice = hsv_cat[:, :, 1]\n",
    "value_slice = hsv_cat[:, :, 2]\n",
    "\n",
    "# Plot them for comparison.\n",
    "plt.figure(figsize=(12, 7))\n",
    "plt.subplot(2, 2, 1)\n",
    "plt.imshow(cat)\n",
    "plt.title('Original (RGB)')\n",
    "plt.subplot(2, 2, 2)\n",
    "plt.imshow(hue_slice)\n",
    "plt.title('Hue Channel')\n",
    "plt.subplot(2, 2, 3)\n",
    "plt.imshow(saturation_slice)\n",
    "plt.title('Saturation Channel')\n",
    "plt.subplot(2, 2, 4)\n",
    "plt.imshow(value_slice)\n",
    "plt.title('Value Channel')\n",
    "plt.tight_layout();"
   ]
  },
  {
   "cell_type": "markdown",
   "id": "66451ade",
   "metadata": {},
   "source": [
    "# Colourspaces 2: transparency in the 3rd dimension\n",
    "\n",
    "Now, other colorspaces involve arrays of different `shape`s. For instance, some image arrays are `(n, m, 4)` - so that's `n` rows, `m` columns and `4` slices in the third dimension.\n",
    "\n",
    "Let's see what that extra slice does, using our tried and true `squares` image array:"
   ]
  },
  {
   "cell_type": "code",
   "execution_count": null,
   "id": "76879888",
   "metadata": {},
   "outputs": [],
   "source": [
    "# Show the array.\n",
    "plt.matshow(squares);"
   ]
  },
  {
   "cell_type": "markdown",
   "id": "f040fb31",
   "metadata": {},
   "source": [
    "Let's `np.stack()` this image array into 4-D, and set only the 1st and 4th channels to have nonzero values (e.g. so all values in the other, green and blue, channels are 0's):"
   ]
  },
  {
   "cell_type": "code",
   "execution_count": null,
   "id": "d4fd77d1",
   "metadata": {},
   "outputs": [],
   "source": [
    "# Create an array with 4 channels (e.g. 4 slices in the third dimension).\n",
    "four_channel_stack = np.stack([squares, \n",
    "                               squares * 0, # All 0's in the green channel.\n",
    "                               squares * 0, # All 0's in the blue channel.\n",
    "                               squares], # Add a fourth slice in the third dimension.\n",
    "                               axis=2)\n",
    "\n",
    "plt.matshow(four_channel_stack);"
   ]
  },
  {
   "cell_type": "markdown",
   "id": "a2a9ae8e",
   "metadata": {},
   "source": [
    "Ok, so we just get red nonzero pixels. So what does the 4th channel do?\n",
    "\n",
    "It controls *transparency*. Setting it to 1 gives maximum *opacity* e.g. solid, non-see through color.\n",
    "\n",
    "Let's set it lower:"
   ]
  },
  {
   "cell_type": "code",
   "execution_count": null,
   "id": "2dd36adb",
   "metadata": {},
   "outputs": [],
   "source": [
    "four_channel_stack[:, :, 3] = four_channel_stack[:, :, 3] * 0.25     # Fourth slice nonzero values to equal .25\n",
    "\n",
    "plt.matshow(four_channel_stack);"
   ]
  },
  {
   "cell_type": "markdown",
   "id": "827332b6",
   "metadata": {},
   "source": [
    "This new transparency channel is called an *alpha channel*. Let's add one to our `cat` image. We'll duplicate the first slice of the third dimension, as the fourth slice:"
   ]
  },
  {
   "cell_type": "code",
   "execution_count": null,
   "id": "492fbf65",
   "metadata": {},
   "outputs": [],
   "source": [
    "four_channel_stack_cat = np.stack([cat[:, :, 0],\n",
    "                                   cat[:, :, 1],\n",
    "                                   cat[:, :, 2],\n",
    "                                   cat[:, :, 0]], # Duplicate the first slice as the fourth slice...\n",
    "                                   axis=2)\n",
    "\n",
    "plt.imshow(four_channel_stack_cat);"
   ]
  },
  {
   "cell_type": "markdown",
   "id": "59fdae7c",
   "metadata": {},
   "source": [
    "Pretty ghostly...maybe *this* is how cats look to one another..."
   ]
  },
  {
   "cell_type": "markdown",
   "id": "1bbc641c",
   "metadata": {},
   "source": [
    "**Start of exercise**\n",
    "\n",
    "Your task now, is to manipulate `camera` to make it look like the target image below. Use whatever `numpy`, `skimage` and numerical operations you need, based on what you have seen on this page and the previous pages. Here is the original `camera` image:\n",
    "\n",
    "![](images/camera_plot.png)\n",
    "\n",
    "The original image has the following attributes:\n",
    "\n",
    "```\n",
    "Type: <class 'numpy.ndarray'>\n",
    "dtype: uint8\n",
    "Shape: (512, 512)\n",
    "Max Pixel Value: 255\n",
    "Min Pixel Value: 0\n",
    "```\n",
    "\n",
    "Here is your target image:\n",
    "\n",
    "![](images/shoegaze.png)\n",
    "\n",
    "Your final image array should have the following attributes:\n",
    "\n",
    "```\n",
    "Type: <class 'numpy.ndarray'>\n",
    "dtype: float64\n",
    "Shape: (512, 512, 4)\n",
    "Max Pixel Value: 1.0\n",
    "Min Pixel Value: 0.0\n",
    "```\n",
    "\n",
    "Here are some things to pay attention to, in the target image, to help you think about what operations you need here:\n",
    "\n",
    "- the `shape` of the target image.\n",
    "\n",
    "- the color of the target image in different regions.\n",
    "\n",
    "- the `dtype` of the target image.\n",
    "\n",
    "*Hint 1:* run the function `hint_camera()` for some additional help if you get stuck."
   ]
  },
  {
   "cell_type": "code",
   "execution_count": null,
   "id": "655292c7",
   "metadata": {},
   "outputs": [],
   "source": [
    "# YOUR CODE HERE\n",
    "camera = ski.data.camera()"
   ]
  },
  {
   "cell_type": "markdown",
   "id": "8c5eaf6d",
   "metadata": {},
   "source": [
    "**End of exercise**"
   ]
  },
  {
   "cell_type": "markdown",
   "id": "37b659c8",
   "metadata": {},
   "source": [
    "**See the [corresponding page](/skimage-tutorials-temp/2_skimage_intro.html) for solution**\n",
    "\n",
    "# Not all 3D images are in color...\n",
    "\n",
    "We noted [earlier](1_color_images_as_numpy_arrays) that it is important to know that not all 3D images contain color information. What sort of images are these? Typically, they are images obtained during [medical imaging](https://en.wikipedia.org/wiki/Medical_imaging) scans, like brain imaging. The \"slices\" in the third dimension, for these images, are literally slices of a 3D object (like a brain, chest, arm or leg!) rather than color channels. \n",
    "\n",
    "To show this, below we use `ski.io.imread()` to load in an image in one of these formats. The image is an X-ray of the head of a desert [iguana](https://github.com/neurolabusc/niivue-images/tree/main).\n",
    "\n",
    "*Note:* here we are loading in a `.png` image, this is a highly atypical format to store medical images, but we use it just for illustration of a 3D image that does not contain color, using a familiar image format... The original image file, in the more standard [Nifti format](https://brainder.org/2012/09/23/the-nifti-file-format), is [here](https://github.com/neurolabusc/niivue-images/blob/main/Iguana.nii.gz)."
   ]
  },
  {
   "cell_type": "code",
   "execution_count": null,
   "id": "60c092c9",
   "metadata": {},
   "outputs": [],
   "source": [
    "# Read in the `iguana` image, show its attributes.\n",
    "iguana = ski.io.imread(\"images/brainy.png\")\n",
    "show_attributes(iguana)"
   ]
  },
  {
   "cell_type": "markdown",
   "id": "3c3c8ba4",
   "metadata": {},
   "source": [
    "We can see now that there are 179 slices in the third dimension - however, we do not have 179 color channels! Each \"slice\" is a different literal \"slice\" of the iguana's head. Below, we \"walk\" through the slices, showing those early in the stack (`iguana[:, :, 10]`) as well as those in the middle (`iguana[:, :, 84]`) and at the end (`iguana[:, :, 178]`):"
   ]
  },
  {
   "cell_type": "code",
   "execution_count": null,
   "id": "47aa07d7",
   "metadata": {},
   "outputs": [],
   "source": [
    "# Show multiple slices of the iguana's head...\n",
    "plt.figure(figsize=(16, 6))\n",
    "for count, i in enumerate(np.linspace(10, iguana.shape[2]-1, num=10, dtype=int)):\n",
    "    plt.subplot(2, 5, count+1)\n",
    "    plt.imshow(iguana[:, :, i])\n",
    "    plt.title(f\"`iguana[:, :, {i}]`\")\n",
    "    plt.axis('off')"
   ]
  },
  {
   "cell_type": "markdown",
   "id": "c9c7ee47",
   "metadata": {},
   "source": [
    "You can see that we are walking through the iguana's head, in the vertical direction.\n",
    "\n",
    "Because this image file contains information about a literal 3D object (e.g. an iguana's head), we can refer to it as a *volumetric* image. In such images, the third dimension contains *spatial information*, and not *color information*.\n",
    "\n",
    "Both `skimage` and `matplotlib` know the slices in the third dimension are not color channels because there are many too many slices to function as color channels, so it is assumed that the image is volumetric."
   ]
  },
  {
   "cell_type": "markdown",
   "id": "b371651d",
   "metadata": {},
   "source": [
    "# Summary\n",
    "\n",
    "On this page we have seen that:\n",
    "\n",
    "- `skimage` represents images as NumPy arrays. \n",
    "\n",
    "- Most `skimage` functions take NumPy arrays as arguments.\n",
    "\n",
    "- The `ski.io` module handles input and output (e.g. reading and saving image files).\n",
    "\n",
    "- `skimage` supports multiple `dtypes` in image arrays, and contains convenience functions for converting between `dtypes`.\n",
    "\n",
    "- `skimage` supports multiple colorspaces which use different color representations to the default RGB colorspace.\n",
    "\n",
    "- `skimage` supports both three-channel color image arrays with shape `(n, m, 3)` and four-channel color image arrays with shape `(n, m, 4)`, where an extra channel codes for transparency/opacity.\n",
    "\n",
    "- Some 3D images are volumetric, and do not contain color channels, despite having a third dimension. `skimage` supports these image formats as well.\n",
    "\n",
    "On the [next page](3_skimage_processing_from_numpy_and_scipy) we will look at how image processing can be performed using NumPy, SciPy and Scikit-image."
   ]
  },
  {
   "cell_type": "markdown",
   "id": "ead18aa1",
   "metadata": {},
   "source": [
    "# References\n",
    "\n",
    "Based on: https://lectures.scientific-python.org/packages/scikit-image/index.html\n",
    "\n",
    "Based on: https://github.com/scikit-image/skimage-tutorials/blob/main/lectures/\n",
    "\n",
    "Reference: https://jni.github.io/i2k-skimage-napari/lectures/1_image_filters.html"
   ]
  }
 ],
 "metadata": {
  "jupytext": {
   "formats": "ipynb,Rmd"
  },
  "kernelspec": {
   "display_name": "Python (Pyodide)",
   "name": "python"
  }
 },
 "nbformat": 4,
 "nbformat_minor": 5
}

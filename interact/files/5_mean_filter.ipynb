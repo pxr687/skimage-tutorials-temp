{
 "cells": [
  {
   "cell_type": "markdown",
   "id": "e7459a48",
   "metadata": {},
   "source": [
    "# Convolution filters I - the mean filter\n",
    "\n",
    "## Kernels and pixel neighbourhoods"
   ]
  },
  {
   "cell_type": "markdown",
   "id": "f4f278d4",
   "metadata": {},
   "source": [
    "On the last page we filtered images based on a single threshold value, or based on multiple threshold values. Other filters work differently to this: they work by adjusting a given pixel's value based on the value of other pixels which surround it, in a specified area. The mean filter is one such filter that works in this manner.\n",
    "\n",
    "The mean filter is a *local filter*, because it alters a given pixel's value based on the values of other pixels in the surrounding \"local neighborhood\". The image below shows the pixel values in the `smiley` image array that we created on an earlier [page](0_images_as_numpy_arrays). Two possible \"local neighbourhoods\" are shown for a given pixel, which is highlighted in red. One neighbourhood is 3-by-3, and the other is 5-by-5 - we could use either when using a local filter:\n",
    "\n",
    "![](images/smiley_neighbourhoods.png)\n",
    "\n",
    "The values within a pixel's local neighbourhood will influence the change that a local filter makes to the central pixel. The `size` and `shape` of the \"neighborhood\" are up to the user. We can synonomously refer to the neighborhood as a \"kernel\", \"footprint\" or \"structuring element\". As we will see later, Sci-kit image favours the term \"footprint\". For now, we will use the terms \"kernel\" and \"neighborhood\" interchangeably to refer to some set of pixels that surround a given pixel.\n",
    "\n",
    "The mean filter, as the name suggests, *averages* the pixel values within a kernel/neighbourhood. To see this in action, let's build a simple mean filter to filter an image array. First, we perform some imports:"
   ]
  },
  {
   "cell_type": "code",
   "execution_count": null,
   "id": "e9afbb1e",
   "metadata": {},
   "outputs": [],
   "source": [
    "# Library imports.\n",
    "import numpy as np\n",
    "import matplotlib.pyplot as plt\n",
    "import scipy.ndimage as ndi\n",
    "import skimage as ski\n",
    "\n",
    "# Set 'gray' as the default colormap\n",
    "plt.rcParams['image.cmap'] = 'gray'\n",
    "\n",
    "# Set NumPy precision to 2 decimal places\n",
    "np.set_printoptions(precision=2)\n",
    "\n",
    "#  Custom functions for illustrations, hints, and to quickly report image attributes.\n",
    "from show_attributes import show_attributes\n",
    "from hints import hint_strange_coffee"
   ]
  },
  {
   "cell_type": "markdown",
   "id": "643c2dbd",
   "metadata": {},
   "source": [
    "Next, we create the `random_i` image array:"
   ]
  },
  {
   "cell_type": "code",
   "execution_count": null,
   "id": "8ef8cd0f",
   "metadata": {},
   "outputs": [],
   "source": [
    "# Create a greyscale image array.\n",
    "random_i = np.array([[0, 0, 0, 0, 0, 0, 0, 0],\n",
    "                     [0, 0, 0, 4, 8, 0, 0, 0],\n",
    "                     [0, 0, 0, 3, 8, 0, 0, 0],\n",
    "                     [0, 0, 0, 0, 0, 0, 0, 0],\n",
    "                     [0, 0, 0, 4, 5, 0, 0, 0],\n",
    "                     [0, 0, 0, 3, 4, 0, 0, 0],\n",
    "                     [0, 0, 0, 3, 5, 0, 0, 0],\n",
    "                     [0, 0, 0, 3, 9, 0, 0, 0],\n",
    "                     [0, 0, 0, 7, 6, 0, 0, 0],\n",
    "                     [0, 0, 0, 0, 0, 0, 0, 0]])\n",
    "print(random_i)\n",
    "plt.imshow(random_i);"
   ]
  },
  {
   "cell_type": "markdown",
   "id": "0e1130eb",
   "metadata": {},
   "source": [
    "Let's use some indexing to go for a walk through the neighbourhoods (kernels) in this array. We will treat each `(3,3)` set of pixels as a separate neighbourhood. For now, we only walk through the neighborhoods at the \"top\" of the array. We will start our \"walk\" in the top-left corner of the array, so that each 3-by-3 slice is centered on a pixel in the second row of the image:"
   ]
  },
  {
   "cell_type": "code",
   "execution_count": null,
   "id": "9a5b188b",
   "metadata": {},
   "outputs": [],
   "source": [
    "# The first neighbourhood.\n",
    "i_row_start, i_col_start = 0, 0\n",
    "i_row_end, i_col_end = 3, 3\n",
    "random_i[i_row_start:i_row_end, i_col_start:i_col_end]"
   ]
  },
  {
   "cell_type": "code",
   "execution_count": null,
   "id": "5ca1b30f",
   "metadata": {},
   "outputs": [],
   "source": [
    "# The second neighbourhood.\n",
    "i_row_start, i_col_start = 0, 1\n",
    "i_row_end, i_col_end = 3, 4\n",
    "random_i[i_row_start:i_row_end, i_col_start:i_col_end]"
   ]
  },
  {
   "cell_type": "code",
   "execution_count": null,
   "id": "2d13f7b0",
   "metadata": {
    "lines_to_next_cell": 0
   },
   "outputs": [],
   "source": [
    "# The third neighbourhood.\n",
    "i_row_start, i_col_start = 0, 3\n",
    "i_row_end, i_col_end = 3, 6\n",
    "random_i[i_row_start:i_row_end, i_col_start:i_col_end]"
   ]
  },
  {
   "cell_type": "markdown",
   "id": "7cb74d38",
   "metadata": {},
   "source": [
    "Obviously, this \"walk\" is more efficient in a for loop:"
   ]
  },
  {
   "cell_type": "code",
   "execution_count": null,
   "id": "98df7780",
   "metadata": {},
   "outputs": [],
   "source": [
    "for i in np.arange(6):\n",
    "    i_row_start, i_col_start = 0, i\n",
    "    i_row_end, i_col_end = 3, i+3\n",
    "    print(f\"\\nrandom_i[{i_row_start}:{i_row_end}, {i_col_start}:{i_col_end}]\\n\")\n",
    "    print(random_i[i_row_start:i_row_end, i_col_start:i_col_end])"
   ]
  },
  {
   "cell_type": "markdown",
   "id": "1ae668b2",
   "metadata": {},
   "source": [
    "We can visualise the \"walk\" we have just taken, with prettier graphics - (you may want to right click on these images and open them in a new tab/window, for easier viewing):\n",
    "\n",
    "![](images/kernel_1.png)\n",
    "\n",
    "Now, imagine we calculate the mean within each neighbourhood (kernel) - the mean of each kernel is shown below the image of each indexing operation:\n",
    "\n",
    "![](images/kernel_2_mean.png)\n",
    "\n",
    "...and now further imagine that we replace *central pixel value of the 3-by-3 kernel with the mean of all the values in the kernel*. The image below shows the central value being replaced with the mean of each kernel:\n",
    "\n",
    "![](images/kernel_3_replace_central_pixel.png)\n",
    "\n",
    "This is how the mean filter operates:\n",
    "\n",
    "* We define our kernel (e.g. our pixel neighborhood size and shape).\n",
    "\n",
    "* We center our kernel on a pixel.\n",
    "\n",
    "* We then replace the value of the central pixel with the mean of the pixels in the neighborhood.\n",
    "\n",
    "The illustrations above only show the kernel proceeding through the pixels at the \"top\" of the array. In reality, filtering operations are applied every pixel in the image. You can think of this as the kernel \"walking\" through the entire array, being centered on one pixel at a time.\n",
    "\n",
    "Astute readers might ask \"what happens near the edges of the array? If we center our kernel on a pixel in the last column or row, won't part of the kernel 'fall off' the edge of the array?'\":\n",
    "\n",
    "![](images/kernel_hit_the_edge.png)\n",
    "\n",
    "Indeed, we need a strategy for this. There are actually many options for how a kernel should behave at the edges of an image array - we could \"pad\" the kernel elements that fall outside of the image with 0 values, for instance. Or we could duplicate values from the pixels at the edge of the array, to fill in kernel elements that fall outside of the array.\n",
    "\n",
    "**For now we will not worry about the edges, we just use the kernel only where it \"fits\" within the array.** In effect, this just ignores pixels near the edges of the image. Presently, most of these pixels at the edges of the image are 0, and there is some distance between the \"i\" and the image edges, so ignoring the pixels near the edge will not affect the \"i\" shape too much itself. The image below illustrates this concept, for a generic array:\n",
    "\n",
    "![](images/kernel_general.png)\n",
    "\n",
    "The cell below defines a function that will apply this mean kernel, step-by-step in a for loop to the whole image array, only for pixel neighbourhoods where the kernel \"fits\" over the central pixel, without extending outside of the image:"
   ]
  },
  {
   "cell_type": "code",
   "execution_count": null,
   "id": "8b5b0ff1",
   "metadata": {},
   "outputs": [],
   "source": [
    "# A function to apply our crude mean kernel.\n",
    "def three_by_three_mean_kernel(image):\n",
    "    \n",
    "    # Convert to float `dtype`.\n",
    "    image = np.array(image, \n",
    "                     dtype=float)\n",
    "    \n",
    "    # Get the image shape.\n",
    "    n_rows, n_cols = image.shape\n",
    "    \n",
    "    # Create an empty image array (for the result of the\n",
    "    # filtering operation)\n",
    "    filtered_image = np.zeros(image.shape)\n",
    "    \n",
    "    # Loop through the pixels and get the mean of each kernel.\n",
    "    for i in np.arange(1, n_rows-1):\n",
    "        for j in np.arange(1, n_cols-1):\n",
    "            row_start = i-1\n",
    "            col_start = j-1\n",
    "            row_end = i+2\n",
    "            col_end = j+2\n",
    "            kernel = image[row_start:row_end, col_start:col_end].copy()\n",
    "            filtered_image[i, j] = kernel.mean()           \n",
    "    return filtered_image"
   ]
  },
  {
   "cell_type": "markdown",
   "id": "14d836c2",
   "metadata": {},
   "source": [
    "Let's apply our crude mean filter to the image array, and compare it to the original image array:"
   ]
  },
  {
   "cell_type": "code",
   "execution_count": null,
   "id": "550a3922",
   "metadata": {},
   "outputs": [],
   "source": [
    "# Apply our mean filtering function.\n",
    "mean_filtered_i = three_by_three_mean_kernel(random_i)\n",
    "\n",
    "# Show the original array and the filtered array, from the \n",
    "# \"raw\" NumPy perspective.\n",
    "print(f\"Original:\\n\\n {random_i}\")\n",
    "print(f\"\\nCrude Mean filter:\\n\\n {mean_filtered_i}\")\n",
    "\n",
    "# Plot both arrays/\n",
    "plt.subplot(1,2,1)\n",
    "plt.imshow(random_i);\n",
    "plt.title('Original')\n",
    "plt.subplot(1,2,2)\n",
    "plt.imshow(mean_filtered_i)\n",
    "plt.title(\"Crude Mean Filter\");"
   ]
  },
  {
   "cell_type": "markdown",
   "id": "e4df5f43",
   "metadata": {},
   "source": [
    "Ok, so we can see that some of the non-black (non-zero) pixel intensity values have been \"spread around\" to neighbouring pixels, which is unsurprising, given what we know about how this operation works. We have literally, for each given pixel, \"averaged out\" between the pixels in the 3-by-3 neighbourhood around the pixel. This is a very crude mean filter, intended to show the foundational principles of how filtering via a kernel works. There is a better, less crude way to implement a mean filter, however, to which we will turn in the next section.\n",
    "\n",
    "**Start of exercise**\n",
    "\n",
    "For this exercise, you should build a function which filters an image using a 3-by-3 kernel, like we did above. Your function should \"walk\" the 3-by-3 kernel through an image array, but it can ignore edge pixels, as we did above. E.g. you can just alter central pixels where the kernel \"fits\", as in the image below:\n",
    "\n",
    "![](images/kernel_general_resize.png)\n",
    "\n",
    "However, your kernel should do something different to the mean kernel we implemented earlier. Your function will do something dark, something illegal (at least by the standards of `skimage` `dtype` conventions)...\n",
    "\n",
    "It should replace the central pixel value with the *negative sum* of the values under the kernel (e.g. add the values under the kernel up, and then make the sum negative). You should apply this to the `coins` image from `ski.data`. Here is the original image:\n",
    "\n",
    "![](images/coins.png)\n",
    "\n",
    "Here is how your image should look, after applying the negative sum filter, with a 3-by-3 kernel:\n",
    "\n",
    "![](images/neg_sum_coins.png)\n",
    "\n",
    "This operation will create some illegal pixel values. You should `rescale_intensity()` to ensure your image has the follow (legal!) attributes:\n",
    "\n",
    "```\n",
    "Type: <class 'numpy.ndarray'>\n",
    "dtype: float64\n",
    "Shape: (303, 384)\n",
    "Max Pixel Value: 1.0\n",
    "Min Pixel Value: -1.0\n",
    "```\n",
    "\n",
    "**DO NOT ADJUST ANY OF THE FUNCTIONS USED ABOVE WHEN MAKING YOUR FUNCTION**. Try to do this from scratch, clearly thinking about what you need to do."
   ]
  },
  {
   "cell_type": "code",
   "execution_count": null,
   "id": "4c69ce62",
   "metadata": {},
   "outputs": [],
   "source": [
    "# YOUR CODE HERE\n",
    "def three_by_three_negative_sum_kernel():\n",
    "    ...\n",
    "\n",
    "# Load in the `coins` image.\n",
    "coins = ski.data.coins()\n",
    "show_attributes(coins)\n",
    "plt.imshow(coins);"
   ]
  },
  {
   "cell_type": "markdown",
   "id": "696c198c",
   "metadata": {},
   "source": [
    "**End of exercise**"
   ]
  },
  {
   "cell_type": "markdown",
   "id": "d95eef73",
   "metadata": {},
   "source": [
    "**See the [corresponding page](/skimage-tutorials-temp/5_mean_filter.html) for solution**\n",
    "\n",
    "# Convolution\n",
    "\n",
    "In normal practice, filtering operations which use kernels rely on [convolution](https://en.wikipedia.org/wiki/Convolution). In fact, one name for the kernel is \"convolution kernel\". In image processing, convolution is similar to the process we saw with our crude mean filter - we \"walk\" a kernel across our whole image, centering it on every pixel, and perform a computation which modifies the central pixel based on the other values in the kernel/neighbourhood.\n",
    "\n",
    "Let's implement a true mean filter, using convolution. Obviously, we start with our kernel. First, we define its shape:"
   ]
  },
  {
   "cell_type": "code",
   "execution_count": null,
   "id": "f272a0aa",
   "metadata": {},
   "outputs": [],
   "source": [
    "# Define our kernel shape.\n",
    "kernel_shape = (3, 3)"
   ]
  },
  {
   "cell_type": "markdown",
   "id": "f666a859",
   "metadata": {},
   "source": [
    "We can take the product of the elements in the shape tuple, to get the number of elements inside the kernel (in this case 3 * 3 = 9, so 9 elements in the 3-by-3 kernel):"
   ]
  },
  {
   "cell_type": "code",
   "execution_count": null,
   "id": "61d21a0e",
   "metadata": {},
   "outputs": [],
   "source": [
    "# Get our kernel size, e.g. the number of elements in the kernel.\n",
    "kernel_size = np.prod(kernel_shape)\n",
    "\n",
    "kernel_size"
   ]
  },
  {
   "cell_type": "markdown",
   "id": "eeb1afcd",
   "metadata": {},
   "source": [
    "We can then construct our kernel, using `np.full()` which allows us to fill an array with a given value. In this case we will fill it with $\\frac{1}{n}$, where $n$ is the number of elements in our kernel (9 kernel elements - so $\\frac{1}{9}$ = 0.11):"
   ]
  },
  {
   "cell_type": "code",
   "execution_count": null,
   "id": "18dcd733",
   "metadata": {},
   "outputs": [],
   "source": [
    "mean_kernel = np.full(shape=kernel_shape, \n",
    "                      fill_value=1/kernel_size)\n",
    "\n",
    "mean_kernel"
   ]
  },
  {
   "cell_type": "markdown",
   "id": "1bf8f9f1",
   "metadata": {},
   "source": [
    "Our purpose here is to take the mean of the values under the kernel, so how does a 3-by-3 kernel filled with $\\frac{1}{n}$ help us?\n",
    "\n",
    "Well, this value can be used to find the mean (duh!)...we'll show this quickly using just four random values:"
   ]
  },
  {
   "cell_type": "code",
   "execution_count": null,
   "id": "df9d50a4",
   "metadata": {},
   "outputs": [],
   "source": [
    "nums = np.array([10, 21, 3, 45])\n",
    "nums.mean()"
   ]
  },
  {
   "cell_type": "markdown",
   "id": "109996f1",
   "metadata": {},
   "source": [
    "If we multiply each value by $\\frac{1}{n}$ and then take the sum of those values, we get..."
   ]
  },
  {
   "cell_type": "code",
   "execution_count": null,
   "id": "2750e511",
   "metadata": {},
   "outputs": [],
   "source": [
    "n = len(nums)\n",
    "\n",
    "np.sum(nums * 1/n)"
   ]
  },
  {
   "cell_type": "markdown",
   "id": "738fc837",
   "metadata": {},
   "source": [
    "...the mean! And we can do exactly the same thing with the `mean_kernel` we made above. We can use the `scipy.ndimage.correlate()` function to achieve this with maximum efficiency (relative to the crude method we used above). This function involves [\"moving a [...] kernel over [an] image and computing the sum of products at each location\"](https://docs.scipy.org/doc/scipy/reference/generated/scipy.ndimage.correlate.html). This means we:\n",
    "\n",
    "- Center the kernel on given array pixel in the original image.\n",
    "\n",
    "- Multiply the array pixel values covered by the kernel with the elements in the kernel (in this case every kernel element value is $\\frac{1}{9}$).\n",
    "\n",
    "- Get the sum of those products (e.g. add them all together to produce a single value).\n",
    "\n",
    "- Replace the central array pixel value in the original image with the single value we just computed.\n",
    "\n",
    "Because we are using a mean kernel, this operation will, shockingly, return the mean of the kernel. This process is illustrated below for three kernel locations - (once more you may want to right click on these images and open them in a new tab/window, for easier viewing):\n",
    "\n",
    "![](images/kernel_convolution_three_locs.png)\n",
    "\n",
    "Now, let's apply this kernel convolution to every pixel in the image array:"
   ]
  },
  {
   "cell_type": "code",
   "execution_count": null,
   "id": "1d5611cd",
   "metadata": {},
   "outputs": [],
   "source": [
    "# A new import.\n",
    "import scipy.ndimage as ndi\n",
    "\n",
    "# Perform the convolution.\n",
    "mean_filtered_random_i_via_sp = ndi.correlate(input=random_i, # Our input image array.\n",
    "                                              weights=mean_kernel, # Our kernel to convolve the image with.\n",
    "                                              output=float) # Output `dtype`\n",
    "\n",
    "# Show the original image array, and the mean filtered image array\n",
    "print(f\"Original:\\n\\n {random_i}\")\n",
    "print(f\"\\nMean filter:\\n\\n {mean_filtered_random_i_via_sp}\")\n",
    "plt.subplot(1, 2, 1)\n",
    "plt.imshow(random_i)\n",
    "plt.title(\"Original\")\n",
    "plt.subplot(1, 2, 2)\n",
    "plt.title('Mean Filtered')\n",
    "plt.imshow(mean_filtered_random_i_via_sp);"
   ]
  },
  {
   "cell_type": "markdown",
   "id": "476dd48b",
   "metadata": {},
   "source": [
    "The result is very similar to that obtained by our crude mean filter, only now it has been applied to *every* array pixel, where our crude filter simply ignored pixels at the edge of the image:"
   ]
  },
  {
   "cell_type": "code",
   "execution_count": null,
   "id": "f0db7c8b",
   "metadata": {},
   "outputs": [],
   "source": [
    "# Show the result from our crude mean filter\n",
    "print(f\"\\nCrude mean filter:\\n\\n {mean_filtered_i}\")\n",
    "print(f\"\\n\\nMean filter via SciPy `correlate`:\\n\\n {mean_filtered_random_i_via_sp}\")"
   ]
  },
  {
   "cell_type": "markdown",
   "id": "b56ce2f5",
   "metadata": {},
   "source": [
    "These two arrays are shown below side-by-side, and more nicely rendered, for easier comparison:\n",
    "\n",
    "![](images/two_mean_filters.png)\n",
    "\n",
    "You can see that the values differ only near the top and bottom edges of the image. `ndi.correlate()` offers several options for dealing with pixels at the edge of the array (e.g. those pixels for which the kernel \"falls off\" the edge of the image). Here are the options, from the [documentation](https://docs.scipy.org/doc/scipy/reference/generated/scipy.ndimage.correlate.html), we can choose an option by specifying the `mode` argument to `ndi.correlate` (e.g. `mode = 'constant'` etc.):\n",
    "\n",
    "\n",
    "> **mode** : *{‘reflect’, ‘constant’, ‘nearest’, ‘mirror’, ‘wrap’}, optional*\n",
    ">\n",
    "> The `mode` parameter determines how the input array is extended beyond its boundaries. Default is `'reflect'`. Behavior for each valid value is as follows:\n",
    ">\n",
    "> - **`reflect`** *(d c b a | a b c d | d c b a)*  \n",
    ">   The input is extended by reflecting about the edge of the last pixel. This mode is also sometimes referred to as half-sample symmetric.\n",
    ">\n",
    "> - **`constant`** *(k k k k | a b c d | k k k k)*  \n",
    ">   The input is extended by filling all values beyond the edge with the same constant value, defined by the `cval` parameter.\n",
    ">\n",
    "> - **`nearest`** *(a a a a | a b c d | d d d d)*  \n",
    ">   The input is extended by replicating the last pixel.\n",
    ">\n",
    "> - **`mirror`** *(d c b | a b c d | c b a)*  \n",
    ">   The input is extended by reflecting about the center of the last pixel. This mode is also sometimes referred to as whole-sample symmetric.\n",
    ">\n",
    "> - **`wrap`** *(a b c d | a b c d | a b c d)*  \n",
    ">   The input is extended by wrapping around to the opposite edge.\n",
    "\n",
    "Let's define a function so that we can apply the mean filter to any image, using the proper `scipy.ndimage.correlate()` machinery, so we no longer ignore edge pixels (poor pixels!):"
   ]
  },
  {
   "cell_type": "code",
   "execution_count": null,
   "id": "f2b2c937",
   "metadata": {},
   "outputs": [],
   "source": [
    "def mean_filter(image_array, kernel_shape):\n",
    "    kernel_size = np.prod(kernel_shape) # Get the kernel size (n).\n",
    "    mean_kernel = np.full(kernel_shape, # Make the mean kernel in the desired shape... \n",
    "                          1/kernel_size)# ...each each element in the mean kernel is 1/n.\n",
    "    return ndi.correlate(image_array, \n",
    "                        mean_kernel,\n",
    "                        output=float)"
   ]
  },
  {
   "cell_type": "markdown",
   "id": "761b7e66",
   "metadata": {},
   "source": [
    "We'll apply it to a greyscale `coffee` image, originally a color image from `ski.data`:"
   ]
  },
  {
   "cell_type": "code",
   "execution_count": null,
   "id": "71714cf0",
   "metadata": {},
   "outputs": [],
   "source": [
    "# Read in an image file.\n",
    "coffee_grey =  ski.io.imread(\"images/coffee_grey.png\", \n",
    "                             as_gray=True)\n",
    "plt.imshow(coffee_grey);"
   ]
  },
  {
   "cell_type": "markdown",
   "id": "d0bb6769",
   "metadata": {},
   "source": [
    "But first, we will use `np.random.normal()` to add some normally distributed (Gaussian) noise to the image:"
   ]
  },
  {
   "cell_type": "code",
   "execution_count": null,
   "id": "8b0de266",
   "metadata": {},
   "outputs": [],
   "source": [
    "# Add some noise to the pixel values in `coffee`.\n",
    "noisy_coffee_grey = coffee_grey + np.random.normal(0,\n",
    "                                                   2,\n",
    "                                                   coffee_grey.shape)\n",
    "\n",
    "plt.imshow(noisy_coffee_grey);"
   ]
  },
  {
   "cell_type": "markdown",
   "id": "2c933785",
   "metadata": {},
   "source": [
    "The mean filter can remove some of the noise, restoring the clarity of the image:"
   ]
  },
  {
   "cell_type": "code",
   "execution_count": null,
   "id": "77176b72",
   "metadata": {},
   "outputs": [],
   "source": [
    "# Mean filter the noisy coffee image, and show the result.\n",
    "noisy_coffee_grey_mean_filtered = mean_filter(noisy_coffee_grey, (10, 10))\n",
    "plt.figure(figsize=(20, 20))\n",
    "plt.subplot(1, 3, 1)\n",
    "plt.imshow(coffee_grey)\n",
    "plt.title(\"Original\")\n",
    "plt.axis('off')\n",
    "plt.subplot(1, 3, 2)\n",
    "plt.title('Noisy')\n",
    "plt.imshow(noisy_coffee_grey)\n",
    "plt.axis('off')\n",
    "plt.subplot(1, 3, 3)\n",
    "plt.title('Mean Filtered')\n",
    "plt.imshow(noisy_coffee_grey_mean_filtered)\n",
    "plt.axis('off');"
   ]
  },
  {
   "cell_type": "markdown",
   "id": "89f24f45",
   "metadata": {},
   "source": [
    "We can see that the image is clearer, the noise has been reduced and some of the signal has been restored.\n",
    "\n",
    "Let's try out some different kernel sizes:"
   ]
  },
  {
   "cell_type": "code",
   "execution_count": null,
   "id": "ab16bf40",
   "metadata": {},
   "outputs": [],
   "source": [
    "# Mean filter, with various kernel sizes.\n",
    "n_cols = 3\n",
    "plt.figure(figsize=(12, 7))\n",
    "plt.subplot(2, n_cols, 1)\n",
    "plt.imshow(coffee_grey)\n",
    "plt.title(\"Original\")\n",
    "plt.axis('off')\n",
    "plt.subplot(2, n_cols, 2)\n",
    "plt.title('Noisy')\n",
    "plt.imshow(noisy_coffee_grey)\n",
    "plt.axis('off')\n",
    "for i in np.arange(3, int(n_cols*2)+1):\n",
    "    plt.subplot(2, n_cols, i)\n",
    "    kernel_shape = (i+(i*3), i+(i*3))\n",
    "    plt.title(f'Mean Filtered\\nKernel = ({i+(i*3)},{i+(i*3)})')\n",
    "    plt.imshow(mean_filter(noisy_coffee_grey, kernel_shape))\n",
    "    plt.axis('off')\n",
    "plt.subplots_adjust()\n",
    "plt.tight_layout();"
   ]
  },
  {
   "cell_type": "markdown",
   "id": "e88346eb",
   "metadata": {},
   "source": [
    "As with many filtering operations, the effect of altering aspects of the filtering process (like a threshold value or kernel size), is very context-dependent. It may take many iterations before finding a \"sweet spot\", and where the sweet spot is may be somewhat subjective."
   ]
  },
  {
   "cell_type": "markdown",
   "id": "860654ca",
   "metadata": {},
   "source": [
    "**Start of exercise**\n",
    "\n",
    "The nice thing about applying filtering via convolution kernels is that changing the kernel itself lets us implement a wide variety of functions, even strange ones. In this exercise, you will write a function called `strange_filter()`. You should apply it to `coffe_grey` to produce the following image:\n",
    "\n",
    "![](images/coffee_strange_kernel.png)\n",
    "\n",
    "For a given pixel value, when the value is multiplied by it's corresponding kernel element, the *absolute* value of the result should be *half as big as the absolute original pixel value*.\n",
    "\n",
    "Write your function so that it can be used with kernels of different `shape`s, so you can work out what kernel `shape` you need to recreate the target image, by trial and error.\n",
    "\n",
    "Your final image should have the following attributes (again, you may need to `rescale_intensity()` or take other steps to avoid illegal pixel values, for the `dtype`):\n",
    "\n",
    "```\n",
    "Type: <class 'numpy.ndarray'>\n",
    "dtype: int8\n",
    "Shape: (579, 867)\n",
    "Max Pixel Value: 0\n",
    "Min Pixel Value: -49\n",
    "```\n",
    "\n",
    "**DO *NOT* COPY THE `mean_filter()` FUNCTION FROM ABOVE AND MODIFY IT** - try to write a function from scratch, thinking carefully about what you need to do.\n",
    "\n",
    "*Hint:* run the `hint_strange_coffee()` function for additional help."
   ]
  },
  {
   "cell_type": "code",
   "execution_count": null,
   "id": "4314ca55",
   "metadata": {},
   "outputs": [],
   "source": [
    "# YOUR CODE HERE\n",
    "strange_coffee = coffee_grey.copy()\n",
    "\n",
    "# Show `strange_coffee`.\n",
    "plt.imshow(strange_coffee)\n",
    "show_attributes(strange_coffee)"
   ]
  },
  {
   "cell_type": "markdown",
   "id": "ffe7dd64",
   "metadata": {},
   "source": [
    "**End of exercise**"
   ]
  },
  {
   "cell_type": "markdown",
   "id": "42ce5074",
   "metadata": {},
   "source": [
    "**See the [corresponding page](/skimage-tutorials-temp/5_mean_filter.html) for solution**\n",
    "\n",
    "# Mean filtering with `skimage`\n",
    "\n",
    "We can implement a mean filter using the `ski.filters.rank.mean()` function. `skimage` prefers the term `footprint` to \"kernel\", but the meaning is the same. We supply a small matrix with which to \"walk\" through the image, centering the kernel on every pixel, and modifying that central pixel's value based on the values of the other pixels in it's neighbourhood, with the size and shape of the neighbourhood being defined by the kernel (`footprint`). \n",
    "\n",
    "Inspecting the `skimage` documentation will reveal that the format expected for the `footprint` should be [\"the [pixel] neighborhood expressed as an ndarray of 1’s and 0’s.\"](https://scikit-image.org/docs/0.25.x/api/skimage.filters.rank.html#skimage.filters.rank.mean). We will uses `np.ones()` to generate an array in this format. We use a (9, 9) kernel to achieve a stronger visual effect:"
   ]
  },
  {
   "cell_type": "code",
   "execution_count": null,
   "id": "97ea0803",
   "metadata": {},
   "outputs": [],
   "source": [
    "# A \"footprint\" (eg. kernel) to pass to `skimage`.\n",
    "footprint_9_by_9 = np.ones( (9, 9) )\n",
    "\n",
    "footprint_9_by_9"
   ]
  },
  {
   "cell_type": "markdown",
   "id": "c37196da",
   "metadata": {},
   "source": [
    "We will use it to filter the stalwart `camera` image:"
   ]
  },
  {
   "cell_type": "code",
   "execution_count": null,
   "id": "6e31e50a",
   "metadata": {},
   "outputs": [],
   "source": [
    "# Import and show the `camera` image.\n",
    "camera = ski.data.camera()\n",
    "plt.imshow(camera);"
   ]
  },
  {
   "cell_type": "markdown",
   "id": "39d8960e",
   "metadata": {},
   "source": [
    "Below, we apply the mean filter, using the `footprint_9_by_9` array as the kernel:"
   ]
  },
  {
   "cell_type": "code",
   "execution_count": null,
   "id": "4d9ba686",
   "metadata": {},
   "outputs": [],
   "source": [
    "# Mean filter the `camera` image with `skimage`\n",
    "mean_filtered_camera = ski.filters.rank.mean(camera,\n",
    "                                             footprint=footprint_9_by_9)\n",
    "\n",
    "# Plot both image to compare\n",
    "plt.figure(figsize=(10, 4))\n",
    "plt.subplot(1, 2, 1)\n",
    "plt.title('Original')\n",
    "plt.imshow(camera)\n",
    "plt.subplot(1, 2, 2)\n",
    "plt.title('Mean filtered\\n(9,9) kernel')\n",
    "plt.imshow(mean_filtered_camera);"
   ]
  },
  {
   "cell_type": "markdown",
   "id": "f6919d19",
   "metadata": {},
   "source": [
    "# Filtering 3D images\n",
    "\n",
    "We can filter a 3D color image just by convolving our filtering kernel with each color channel separately. Let's load a 3D image:"
   ]
  },
  {
   "cell_type": "code",
   "execution_count": null,
   "id": "6bd3f19e",
   "metadata": {},
   "outputs": [],
   "source": [
    "# Load in and show an image.\n",
    "astronaut = ski.data.astronaut()\n",
    "show_attributes(astronaut)\n",
    "plt.imshow(astronaut);"
   ]
  },
  {
   "cell_type": "markdown",
   "id": "c2da64bc",
   "metadata": {},
   "source": [
    "If we try to filter this image with our (3, 3) `mean_kernel` we will get an error:"
   ]
  },
  {
   "cell_type": "code",
   "execution_count": null,
   "id": "e722d16e",
   "metadata": {
    "tags": [
     "raises-exception"
    ]
   },
   "outputs": [],
   "source": [
    "# Oh dear.\n",
    "astronaut_mean_filtered = ndi.correlate(astronaut, weights=mean_kernel)"
   ]
  },
  {
   "cell_type": "markdown",
   "id": "0032321f",
   "metadata": {},
   "source": [
    "As you can see, the error results from using a 2D kernel to filter a 3D image. A simple solution to this is just to apply the filter to each color channel separately. This is done in the cell below, using a for loop to filter each channel, storing the channels separately in a dictionary, and then `np.stacking()` the individually filtered channels back into a 3D image:"
   ]
  },
  {
   "cell_type": "code",
   "execution_count": null,
   "id": "abb0140f",
   "metadata": {},
   "outputs": [],
   "source": [
    "# A dictionary to store the individually filtered channels.\n",
    "filtered_channels = {}\n",
    "\n",
    "# Loop through and filter each channel individually, store\n",
    "# the results in the dictionary.\n",
    "for i in np.arange(astronaut.shape[2]):\n",
    "    current_filtered_channel = ndi.correlate(astronaut[:, :, i],\n",
    "                                             weights=mean_kernel)\n",
    "    filtered_channels[i] = current_filtered_channel\n",
    "\n",
    "# Stack back to 3D.\n",
    "astronaut_mean_filtered = np.stack([filtered_channels[0],\n",
    "                                    filtered_channels[1],\n",
    "                                    filtered_channels[2]], \n",
    "                                   axis=2)\n",
    "\n",
    "# Show the result.\n",
    "plt.figure(figsize=(12, 6))\n",
    "plt.subplot(1,2,1)\n",
    "plt.title(\"Original\")\n",
    "plt.imshow(astronaut)\n",
    "plt.subplot(1,2,2)\n",
    "plt.title(\"Mean Filtered \\n (3, 3) kernel\")\n",
    "plt.imshow(astronaut_mean_filtered)\n",
    "plt.tight_layout();"
   ]
  },
  {
   "cell_type": "markdown",
   "id": "972002dc",
   "metadata": {},
   "source": [
    "This is straightforward to do with `skimage` as well; we also use the larger (9, 9) `footprint_9_by_9` kernel:"
   ]
  },
  {
   "cell_type": "code",
   "execution_count": null,
   "id": "e31745f2",
   "metadata": {},
   "outputs": [],
   "source": [
    "# A dictionary to store the individually filtered channels.\n",
    "filtered_channels = {}\n",
    "\n",
    "# Loop through and filter each channel individually, store\n",
    "# the results in the dictionary.\n",
    "for i in np.arange(astronaut.shape[2]):\n",
    "    current_filtered_channel = ski.filters.rank.mean(astronaut[:, :, i],   # Use `skimage` for the filtering.\n",
    "                                                    footprint=footprint_9_by_9) # Use a larger kernel.\n",
    "    filtered_channels[i] = current_filtered_channel\n",
    "\n",
    "# Stack back to 3D.\n",
    "astronaut_mean_filtered = np.stack([filtered_channels[0],\n",
    "                                    filtered_channels[1],\n",
    "                                    filtered_channels[2]], \n",
    "                                   axis=2)\n",
    "\n",
    "# Show the result.\n",
    "plt.figure(figsize=(12, 6))\n",
    "plt.subplot(1,2,1)\n",
    "plt.title(\"Original\")\n",
    "plt.imshow(astronaut)\n",
    "plt.subplot(1,2,2)\n",
    "plt.title(\"Mean Filtered with `ski.filters.rank.mean()` \\n (9, 9) kernel\")\n",
    "plt.imshow(astronaut_mean_filtered)\n",
    "plt.tight_layout();"
   ]
  },
  {
   "cell_type": "markdown",
   "id": "17daca78",
   "metadata": {},
   "source": [
    "We got a blurrier output image via `skimage` here, than in the manual convolution using `ndi.correlate()`. This is because we used a larger kernel for the `skimage` filtering, and so are averaging over larger pixel neighbourhoods.\n",
    "\n",
    "Scikit-image will also handle this using a 3D kernel. Below we adjust our `footprint_9_by_9` kernel by `np.stack()`-ing it into 3D:"
   ]
  },
  {
   "cell_type": "code",
   "execution_count": null,
   "id": "5730d793",
   "metadata": {},
   "outputs": [],
   "source": [
    "# Stack to 3D.\n",
    "footprint_9_by_9_3D = np.stack([footprint_9_by_9,\n",
    "                                footprint_9_by_9,\n",
    "                                footprint_9_by_9],\n",
    "                                axis=2)\n",
    "\n",
    "footprint_9_by_9_3D.shape"
   ]
  },
  {
   "cell_type": "code",
   "execution_count": null,
   "id": "ba7e584a",
   "metadata": {},
   "outputs": [],
   "source": [
    "# Mean filter the color image, with `skimage`.\n",
    "astronaut_mean_filtered_ski = ski.filters.rank.mean(astronaut,\n",
    "                                                    footprint=footprint_9_by_9_3D)\n",
    "\n",
    "# Show the result.\n",
    "plt.figure(figsize=(12, 6))\n",
    "plt.subplot(1,2,1)\n",
    "plt.title(\"Original\")\n",
    "plt.imshow(astronaut)\n",
    "plt.subplot(1,2,2)\n",
    "plt.title(\"Mean Filtered (via Scikit-image)\\n (9, 9) kernel\")\n",
    "plt.imshow(astronaut_mean_filtered_ski)\n",
    "plt.tight_layout();"
   ]
  },
  {
   "cell_type": "markdown",
   "id": "0770797f",
   "metadata": {},
   "source": [
    "Pay attention here to the effect on the *color* of the image. How is it different to filtering the color channels separately?\n",
    "\n",
    "You'll notice that the colors have changed substantially, relative to when we filtered each channel separately. This is because the 3D kernel is averaging across the color channels. We may want this effect (it is somewhat retro), but if we do not want to affect the color of the image, then generally filtering the channels separately is the way to go..."
   ]
  },
  {
   "cell_type": "markdown",
   "id": "67742d93",
   "metadata": {},
   "source": [
    "# Summary\n",
    "\n",
    "This page has showed how to perform mean filtering, using `numpy`, `scipy` and `skimage`. On the [next page](6_gaussian_sharpening_edge), we will look at using different convolution kernels to get different filtering effects.\n",
    "\n",
    "# References\n",
    "\n",
    "Based on 3.3.5 onward from: https://lectures.scientific-python.org/packages/scikit-image/index.html\n",
    "\n",
    "Based on: https://scikit-image.org/skimage-tutorials/lectures/1_image_filters.html\n",
    "\n",
    "Reference: https://www.kdnuggets.com/numpy-for-image-processing\n",
    "\n",
    "Reference: https://setosa.io/ev/image-kernels\n",
    "\n",
    "Reference: https://wiki.imindlabs.com.au/ds/aml/4_problem_domains/1-image-processing/3_edge_detectors\n",
    "\n",
    "Reference: https://www.geeksforgeeks.org/deep-learning/types-of-convolution-kernels\n",
    "\n",
    "Reference: skimage tutorials (check versions), scipy lecture notes\n",
    "\n",
    "Reference: https://jni.github.io/i2k-skimage-napari/lectures/1_image_filters.html"
   ]
  }
 ],
 "metadata": {
  "jupytext": {
   "cell_metadata_filter": "tags,-all",
   "main_language": "python",
   "notebook_metadata_filter": "-all"
  },
  "kernelspec": {
   "display_name": "Python (Pyodide)",
   "name": "python"
  }
 },
 "nbformat": 4,
 "nbformat_minor": 5
}

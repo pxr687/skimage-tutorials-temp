{
 "cells": [
  {
   "cell_type": "markdown",
   "id": "587aef8e",
   "metadata": {},
   "source": [
    "# Threshold filtering\n",
    "\n",
    "A common operation we will want to perform on images is *filtering*. This is where we modify all of the pixels in an image according to a certain rule or algorithm, often based on a specific pixel intensity value, or the pixel intensity values of other pixels within the \"local neighbourhood\" of a given pixel. Filtering techniques can be used to remove noise from an image, or to achieve specific visual effects, amongst other purposes.\n",
    "\n",
    "Here we will look at *threshold filtering* where we filter an image based on specific pixel intensity values. We will show how threshold filtering works at the pixel-level, using `numpy` and `scipy`, and then we will show how to implement it in `skimage`."
   ]
  },
  {
   "cell_type": "code",
   "execution_count": null,
   "id": "6f7c2101",
   "metadata": {
    "lines_to_next_cell": 2
   },
   "outputs": [],
   "source": [
    "# Library imports.\n",
    "import numpy as np\n",
    "import matplotlib.pyplot as plt\n",
    "import scipy.ndimage as ndi\n",
    "import skimage as ski\n",
    "\n",
    "# Set 'gray' as the default colormap\n",
    "plt.rcParams['image.cmap'] = 'gray'\n",
    "\n",
    "# Set NumPy precision to 2 decimal places\n",
    "np.set_printoptions(precision=2)\n",
    "\n",
    "#  Custom functions for illustrations, hints, and to quickly report image attributes.\n",
    "from noise_illustration import generate_image, original_image\n",
    "from show_attributes import show_attributes"
   ]
  },
  {
   "cell_type": "markdown",
   "id": "79a28846",
   "metadata": {},
   "source": [
    "# What is signal? What is noise?\n",
    "\n",
    "Imagine that I want to send you a picture message. Let's use \"the signal\" as the name for the message before I send it to you. Before transmission, the signal has a clear meaning which I am confident you will be able to interpret. However, imagine that I am sending you the message via an unreliable medium; a messaging system that is prone to corrupting messages when transmitting them.\n",
    "\n",
    "When I send you the message, there is a decent chance that unwanted randomness will be added to the image file, because of technical problems with the transmission medium. This might result in an image which contains so much randomness that it is hard to discern the original signal. \n",
    "\n",
    "Imagine that the cell below attempts to send my picture message - can you see what the signal is?"
   ]
  },
  {
   "cell_type": "code",
   "execution_count": null,
   "id": "634f2a3b",
   "metadata": {},
   "outputs": [],
   "source": [
    "# Generate a noisy image array.\n",
    "noisy = generate_image()  \n",
    "show_attributes(noisy)\n",
    "plt.imshow(noisy);"
   ]
  },
  {
   "cell_type": "markdown",
   "id": "555dad18",
   "metadata": {},
   "source": [
    "Any ideas? Maybe you can determine what signal is in there, but we trust that it is at least somewhat ambiguous, to most readers.\n",
    "\n",
    "We saw simple threshold filtering on an [earlier page](3_skimage_processing_from_numpy_and_scipy). This is where we select a threshold value, and binarize the image using that value. So a given pixel becomes `True` if a pixel is more intense than the threshold, and `False` if it is lower (or vice versa, depending on the comparison operator). \n",
    "\n",
    "The aim here is typically to split the pixels into distinct classes, based on their intensity values. We can use the `ndarray` `.ravel()` method to view a histogram of the pixel intensities, in order to find a threshold that might be useful to use in a filter. The `.ravel()` method \"flattens\" the image array to 1-D, so that it can be displayed as a histogram:"
   ]
  },
  {
   "cell_type": "code",
   "execution_count": null,
   "id": "81953c8d",
   "metadata": {},
   "outputs": [],
   "source": [
    "# The `shape` of the original `noisy` image.\n",
    "print(noisy)\n",
    "noisy.shape"
   ]
  },
  {
   "cell_type": "code",
   "execution_count": null,
   "id": "c8c24b1b",
   "metadata": {},
   "outputs": [],
   "source": [
    "# Flatten to 1-D with the `.ravel()` method.\n",
    "print(noisy.ravel())\n",
    "noisy.ravel().shape"
   ]
  },
  {
   "cell_type": "markdown",
   "id": "ab117ddf",
   "metadata": {},
   "source": [
    "When we plot a histogram of the flattened image array, what we are doing is dividing the $x$-axis into intervals (e.g. 0 to 0.25), and then getting a count of how many pixel intensity values fall within each $x$-axis interval:"
   ]
  },
  {
   "cell_type": "code",
   "execution_count": null,
   "id": "4fe74a0b",
   "metadata": {},
   "outputs": [],
   "source": [
    "# Show a histogram of the pixel intensity values, from the \"flattened\" `noisy` array.\n",
    "plt.hist(noisy.ravel(), \n",
    "         bins=13) # Set a reasonable number of x-axis intervals.\n",
    "plt.xlabel('Pixel Intensity Value')\n",
    "plt.ylabel('Pixel Count');"
   ]
  },
  {
   "cell_type": "markdown",
   "id": "f0a248dc",
   "metadata": {},
   "source": [
    "Ok, so it looks like the distribution is trimodal. The message image is in the `float64` `dtype`, using intensities ranging from -1 to 1. Let's set a threshold filter for each dip, in between the three peaks. So, we'll try once with a threshold of -0.50, and once with a threshold of 0.25. These threshold values are shown as vertical lines on the plot below:"
   ]
  },
  {
   "cell_type": "code",
   "execution_count": null,
   "id": "c23e83a7",
   "metadata": {},
   "outputs": [],
   "source": [
    "# Show a histogram of the pixel intensity values, with some thresholds.\n",
    "plt.hist(noisy.ravel(), bins=13)\n",
    "plt.axvline(-0.5, color='red', label='Threshold 1')\n",
    "plt.axvline(0.25, color='darkred', label='Threshold 2')\n",
    "plt.legend()\n",
    "plt.xlabel('Pixel Intensity Value')\n",
    "plt.ylabel('Pixel Count');"
   ]
  },
  {
   "cell_type": "markdown",
   "id": "075e8894",
   "metadata": {},
   "source": [
    "The filters are created, using the `>` comparison operator, in the next two cells:"
   ]
  },
  {
   "cell_type": "code",
   "execution_count": null,
   "id": "5bd64bd2",
   "metadata": {},
   "outputs": [],
   "source": [
    "# The first simple, Boolean threshold filter.\n",
    "simple_threshold_filter_1 = noisy > -0.50\n",
    "simple_threshold_filter_1"
   ]
  },
  {
   "cell_type": "code",
   "execution_count": null,
   "id": "df4f3752",
   "metadata": {},
   "outputs": [],
   "source": [
    "# The second simple, Boolean threshold filter.\n",
    "simple_threshold_filter_2 = noisy > 0.25\n",
    "simple_threshold_filter_2"
   ]
  },
  {
   "cell_type": "markdown",
   "id": "17186b82",
   "metadata": {},
   "source": [
    "Each threshold filter is just a Boolean array, with the same `.shape` as the image. When we render these arrays with Matplotlib, we will see a binary image, where `True` values are mapped to white and `False` values are mapped to 0.\n",
    "\n",
    "Because we used the `>` comparison operator, only pixels larger than the threshold values will be `True`. Let's see if this clears up any of the noise:"
   ]
  },
  {
   "cell_type": "code",
   "execution_count": null,
   "id": "536b1d3f",
   "metadata": {},
   "outputs": [],
   "source": [
    "# Threshold filters.\n",
    "plt.figure(figsize=(10, 4))\n",
    "plt.subplot(1, 2, 1)\n",
    "plt.title('Threshold = -0.5')\n",
    "plt.imshow(simple_threshold_filter_1)\n",
    "plt.subplot(1, 2, 2)\n",
    "plt.title('Threshold = 0.25')\n",
    "plt.imshow(simple_threshold_filter_2);"
   ]
  },
  {
   "cell_type": "markdown",
   "id": "52b6dd28",
   "metadata": {},
   "source": [
    "Ok, so the first image still looks very noisy still, but the second looks like we might be getting somewhere. Maybe you can already guess what the original signal was...\n",
    "\n",
    "Let's loop through some other threshold values, between just below 0 to just larger than 0.25, to see if the clarity of the signal improves:"
   ]
  },
  {
   "cell_type": "code",
   "execution_count": null,
   "id": "c8d8522d",
   "metadata": {},
   "outputs": [],
   "source": [
    "# Loop through some different threshold values, and plot the results.\n",
    "plt.figure(figsize=(16, 8))\n",
    "n_plots=6\n",
    "for i, val in enumerate(np.linspace(start=-0.1, \n",
    "                                    stop=0.25, \n",
    "                                    num=n_plots)):\n",
    "    plt.subplot(2, int(n_plots/2), i+1)\n",
    "    plt.title(f\"Threshold =\\n {val.round(2)}\")\n",
    "    plt.imshow(noisy > val)\n",
    "    plt.axis('off')\n",
    "plt.tight_layout();"
   ]
  },
  {
   "cell_type": "markdown",
   "id": "fe1c379f",
   "metadata": {},
   "source": [
    "We hope you feel suitably greeted! The threshold of 0.18 seems to reveal what signal was originally in this image, before the unwanted random noise was added, by the faulty transmission system. \n",
    "\n",
    "Here we have recovered a signal from a noisy image, and made the features in the image easier to discern. You'll notice that we had to try numerous threshold values to find the \"sweet spot\" with the best results. Other values \"overshoot\" and \"undershoot\" the optimum value.\n",
    "\n",
    "Here was the original image, before the noise was added:"
   ]
  },
  {
   "cell_type": "code",
   "execution_count": null,
   "id": "1920d156",
   "metadata": {},
   "outputs": [],
   "source": [
    "plt.imshow(original_image());"
   ]
  },
  {
   "cell_type": "markdown",
   "id": "ee855533",
   "metadata": {},
   "source": [
    "Reducing noise and enhancing image features are both common aims in image filtering. Both processes often require some trial and error with different values for optional arguments that go into the filtering operation, as it did here. We will now turn to some other common methods for threshold filtering, using a variety of other images.\n",
    "\n",
    "# Threshold filtering is just Boolean filtering\n",
    "\n",
    "As we have seen, threshold filtering involves modifying pixel values based on a threshold value. Let's investigate other thresholding methods using a greyscale image:"
   ]
  },
  {
   "cell_type": "code",
   "execution_count": null,
   "id": "e2f652da",
   "metadata": {},
   "outputs": [],
   "source": [
    "# Create a greyscale image array.\n",
    "random_i = np.array([[0, 0, 0, 0, 0, 0, 0, 0],\n",
    "                     [0, 0, 0, 4, 8, 0, 0, 0],\n",
    "                     [0, 0, 0, 3, 8, 0, 0, 0],\n",
    "                     [0, 0, 0, 0, 0, 0, 0, 0],\n",
    "                     [0, 0, 0, 4, 5, 0, 0, 0],\n",
    "                     [0, 0, 0, 3, 4, 0, 0, 0],\n",
    "                     [0, 0, 0, 3, 5, 0, 0, 0],\n",
    "                     [0, 0, 0, 3, 9, 0, 0, 0],\n",
    "                     [0, 0, 0, 7, 6, 0, 0, 0],\n",
    "                     [0, 0, 0, 0, 0, 0, 0, 0]])\n",
    "print(random_i)\n",
    "plt.imshow(random_i);"
   ]
  },
  {
   "cell_type": "markdown",
   "id": "144f86fd",
   "metadata": {},
   "source": [
    "As we saw above, it is simple to create a Boolean filter, using the `>` comparison operator:"
   ]
  },
  {
   "cell_type": "code",
   "execution_count": null,
   "id": "d3baa8ad",
   "metadata": {},
   "outputs": [],
   "source": [
    "# Create a Boolean array using a comparison operator.\n",
    "random_i_thresholded = random_i > 5\n",
    "print(random_i_thresholded)\n",
    "plt.matshow(random_i_thresholded);"
   ]
  },
  {
   "cell_type": "markdown",
   "id": "f930f3ec",
   "metadata": {},
   "source": [
    "This filters *out* pixels *below* the threshold value (5), by setting them to 0/`False`. Different threshold values will allow more or less pixels to \"survive\" the filtering operation:"
   ]
  },
  {
   "cell_type": "code",
   "execution_count": null,
   "id": "077a8c13",
   "metadata": {},
   "outputs": [],
   "source": [
    "# A sole survivor!\n",
    "random_i_filtered_9 = random_i >= 9\n",
    "print(random_i_filtered_9)\n",
    "plt.matshow(random_i_filtered_9);"
   ]
  },
  {
   "cell_type": "markdown",
   "id": "8a3e881f",
   "metadata": {},
   "source": [
    "# Image segmentation via threshold filtering\n",
    "\n",
    "This threshold filtering technique can be useful for segregating the foreground from the background of real images, like `camera`:"
   ]
  },
  {
   "cell_type": "code",
   "execution_count": null,
   "id": "7c3ab3e0",
   "metadata": {},
   "outputs": [],
   "source": [
    "# Import the `camera` image from `ski.data`.\n",
    "camera = ski.data.camera()\n",
    "# Show the \"raw\" `camera` array.\n",
    "print(camera)\n",
    "# Show `camera` graphically.\n",
    "plt.imshow(camera);"
   ]
  },
  {
   "cell_type": "markdown",
   "id": "89beed3e",
   "metadata": {},
   "source": [
    "We can again use the NumPy `.ravel()` method of the `camera` array to allow us to view a histogram of the pixel intensities. We set the number of bins ($x$-axis intervals) for the histogram to be 128, to keep the plot looking smooth:"
   ]
  },
  {
   "cell_type": "code",
   "execution_count": null,
   "id": "66267375",
   "metadata": {},
   "outputs": [],
   "source": [
    "# Plot a histogram of the `camera` pixel intensities, with 128 bins.\n",
    "n_bins = 128\n",
    "histogram = plt.hist(camera.ravel(), bins=n_bins)\n",
    "plt.xlabel('Pixel Intensity Value')\n",
    "plt.ylabel('Pixel Count');"
   ]
  },
  {
   "cell_type": "markdown",
   "id": "aa83d743",
   "metadata": {},
   "source": [
    "The \"bins\" are the intervals along the $x$-axis in which pixel intensity values are counted to determine the height of the blue \"hills\" in the histogram above, within a given interval. It is important, when thresholding, to choose a sensible number of bins. Too few bins we miss important information, because we are cramming many disparate pixel intensity values into one bin. Too many bins and we clutter our histogram with lots of spikes which occlude the general pattern. \n",
    "\n",
    "To illustrate this, the plot below shows the `camera` pixel intensity histograms, with too few and too many bins. The bin interval starts and ends are indicated with vertical red lines. The height on the histogram, for a given bin, is determined by the `Pixel Count` falling with the range of intensities for that bin:"
   ]
  },
  {
   "cell_type": "code",
   "execution_count": null,
   "id": "4a76ad00",
   "metadata": {},
   "outputs": [],
   "source": [
    "# Some plot formatting parameters (to show the bins).\n",
    "marker = '|'\n",
    "color = 'red'\n",
    "markersize = 40\n",
    "\n",
    "# Too few bins...\n",
    "plt.figure(figsize=(16, 4))\n",
    "n_bins_few = 4\n",
    "plt.subplot(1, 2, 1)\n",
    "histogram = plt.hist(camera.ravel(), bins=n_bins_few)\n",
    "plt.title(f\"{n_bins_few} bins. Too few!\")\n",
    "plt.xlabel('Pixel Intensity Value')\n",
    "plt.ylabel('Pixel Count')\n",
    "colours=['red', 'yellow']\n",
    "for val in histogram[1]:\n",
    "    plt.plot(val, 0, marker=marker,\n",
    "             color = \"red\", markersize=markersize,\n",
    "            markeredgewidth=8)\n",
    "\n",
    "# Too many bins...\n",
    "n_bins_many = 200\n",
    "plt.subplot(1, 2, 2)\n",
    "plt.title(f\"{n_bins_many} bins. Too many!\")\n",
    "histogram = plt.hist(camera.ravel(), bins=n_bins_many)\n",
    "plt.xlabel('Pixel Intensity Value')\n",
    "plt.ylabel('Pixel Count')\n",
    "for val in histogram[1]:\n",
    "    plt.plot(val, 0, marker=marker, color = \"red\", markersize=markersize);"
   ]
  },
  {
   "cell_type": "markdown",
   "id": "f66532d0",
   "metadata": {},
   "source": [
    "128 bins gives us a good middle ground, where we can see patterns in the distribution easily, without losing information or overemphasising unrepresentative values. Using the sensible number of bins, the distribution is clearly trimodal, with a clear dip/separation around between 50 and 100-ish, and another just before 200-ish. This locations are indicated on the plot with vertical lines:"
   ]
  },
  {
   "cell_type": "code",
   "execution_count": null,
   "id": "294394e4",
   "metadata": {},
   "outputs": [],
   "source": [
    "# Show some \"by eye\" thresholds.\n",
    "plt.hist(camera.ravel(), bins=n_bins)\n",
    "plt.axvline(80, color='red')\n",
    "plt.axvline(190, color='darkred')\n",
    "plt.xlabel('Pixel Intensity Value')\n",
    "plt.ylabel('Pixel Count');"
   ]
  },
  {
   "cell_type": "markdown",
   "id": "44236045",
   "metadata": {},
   "source": [
    "Let's use these \"by eye\" crude threshold values and apply a threshold filter using them. Remember, our aim here is to separate the pixels into distinct classes; these two distinct pixel classes will hopefully correspond to the foreground and background of the image:"
   ]
  },
  {
   "cell_type": "code",
   "execution_count": null,
   "id": "c947852b",
   "metadata": {},
   "outputs": [],
   "source": [
    "# Define a threshold, \"by eye\".\n",
    "crude_threshold = 80"
   ]
  },
  {
   "cell_type": "code",
   "execution_count": null,
   "id": "4dc0f13b",
   "metadata": {},
   "outputs": [],
   "source": [
    "# Apply the filter.\n",
    "camera_threshold_filtered = camera.copy()\n",
    "camera_threshold_filtered = camera_threshold_filtered < crude_threshold\n",
    "plt.imshow(camera_threshold_filtered);"
   ]
  },
  {
   "cell_type": "markdown",
   "id": "a631d076",
   "metadata": {},
   "source": [
    "That has worked fairly well, as far as it goes, for segmenting the foreground (the cameraman) away from the background (the field and buildings behind the cameraman).\n",
    "\n",
    "We can show the \"opposite\" binary image, by reversing the comparison operation:"
   ]
  },
  {
   "cell_type": "code",
   "execution_count": null,
   "id": "162379b9",
   "metadata": {},
   "outputs": [],
   "source": [
    "# Using the \"opposite\" comparison operator.\n",
    "plt.imshow(camera > crude_threshold);"
   ]
  },
  {
   "cell_type": "markdown",
   "id": "99d18b52",
   "metadata": {},
   "source": [
    "Stylish! Someone should put that on a t-shirt..."
   ]
  },
  {
   "cell_type": "markdown",
   "id": "4d3b8984",
   "metadata": {},
   "source": [
    "# Threshold filters in `skimage` - the Otsu method\n",
    "\n",
    "`skimage` contains many threshold filters, the cell below uses the `dir()` function to show the available selection:"
   ]
  },
  {
   "cell_type": "code",
   "execution_count": null,
   "id": "5c598c23",
   "metadata": {},
   "outputs": [],
   "source": [
    "# Show the `skimage` threshold filters.\n",
    "[fil for fil in dir(ski.filters) if fil.startswith('threshold')]"
   ]
  },
  {
   "cell_type": "markdown",
   "id": "18b882ce",
   "metadata": {},
   "source": [
    "These filters typically, when passed an image array, find a threshold value automatically - e.g. at value at which to binarize the image to split the pixels into distinct classes. These distinct pixel classes often correspond to distinct *features* or *regions* in the image (cameraman vs field, foreground vs background etc.). The threshold value search performed by the `ski.filter.threshold*` functions aims to maximize the separation between pixel classes, and the different available functions use different algorithms to identify the \"best\" threshold value(s).\n",
    "\n",
    "One simple method, similar to the \"look at the histogram\" method we just used above, is the [Otsu method](https://en.wikipedia.org/wiki/Otsu%27s_method). This aims to divide pixels into *two* distinct classes, by mathematically analysing a histogram of the pixel intensities. Below we use the `ski.filters.threshold_otsu()` function to recommend a threshold value, to segment our image into two separate pixel classes.\n",
    "\n",
    "By specifying the `nbins` argument, we instruct the `.threshold_otsu()` function to analyse a histogram which has the same number of bins as the one we were using above:"
   ]
  },
  {
   "cell_type": "code",
   "execution_count": null,
   "id": "76e92395",
   "metadata": {},
   "outputs": [],
   "source": [
    "# Pass our `camera` array to the `threshold_otsu()` function.\n",
    "otsu_thresh = ski.filters.threshold_otsu(camera, \n",
    "                                         nbins=n_bins)\n",
    "\n",
    "# Show the Otsu threshold\n",
    "otsu_thresh"
   ]
  },
  {
   "cell_type": "markdown",
   "id": "3daac27b",
   "metadata": {},
   "source": [
    "We show the Otsu threshold (`otsu_thesh`) as a vertical line on the histogram below:"
   ]
  },
  {
   "cell_type": "code",
   "execution_count": null,
   "id": "28436077",
   "metadata": {},
   "outputs": [],
   "source": [
    "# Plot the pixel intensities, and the Otsu threshold.\n",
    "plt.hist(camera.ravel(), bins=n_bins);\n",
    "plt.axvline(otsu_thresh, color='red', label='Otsu Threshold')\n",
    "plt.xlabel('Pixel Intensity Value')\n",
    "plt.ylabel('Pixel Count')\n",
    "plt.legend();"
   ]
  },
  {
   "cell_type": "markdown",
   "id": "374a9d57",
   "metadata": {},
   "source": [
    "You can see that the method finds a threshold is pretty close to the one we chose \"by eye\" earlier on the page. Let's apply the Otsu filter, simply by using `camera < otsu_thresh`:"
   ]
  },
  {
   "cell_type": "code",
   "execution_count": null,
   "id": "77f6880f",
   "metadata": {},
   "outputs": [],
   "source": [
    "# Filter in the image using the Otsu threshold.\n",
    "camera_otsu_filtered = camera < otsu_thresh\n",
    "\n",
    "# Show a plot of the whole Otsu filtering process.\n",
    "plt.figure(figsize=(14, 3))\n",
    "plt.subplot(1, 3, 1)\n",
    "plt.imshow(camera)\n",
    "plt.title('Original')\n",
    "plt.subplot(1, 3, 2)\n",
    "plt.hist(camera.ravel(), bins=n_bins)\n",
    "plt.xlabel('Pixel Intensity Value')\n",
    "plt.ylabel('Pixel Count')\n",
    "plt.axvline(otsu_thresh, color='red')\n",
    "plt.title('Otsu threshold')\n",
    "plt.subplot(1, 3, 3)\n",
    "plt.imshow(camera_otsu_filtered)\n",
    "plt.title('Otsu filtered')\n",
    "plt.subplots_adjust();"
   ]
  },
  {
   "cell_type": "markdown",
   "id": "6bcc6c11",
   "metadata": {},
   "source": [
    "If you look at the filtered image (on the right-hand side of the plot), it seems to have achieved pretty good foreground/background segmentation...\n",
    "\n",
    "How does the Otsu threshold filter work? Conceptually, the Otsu method involves splitting the histogram into two parts, lots of times, and comparing different splits for how well they separate pixels into two classes, based on a specific numeric metric. The histogram, for each threshold, is split at the center one of the bin intervals. \n",
    "\n",
    "The aim is to find which bin interval center gives a split that yields two classes of pixels which are maximally different from one another, by the aforementioned numeric metric. Hopefully this corresponds to pixels forming the background of the image vs pixels forming the foreground of the image.\n",
    "\n",
    "Since the Otsu method relies on some the \"mechanics\" of histograms, let's \"deconstruct\" the histogram in the center of the plot above, to see how the method works. To perform this deconstruction, we can use the `np.histogram()` function. We give it a flattened 1-D image array (e.g. flattened with the `.ravel()` method), and we tell it a number of bins to use. Again, we will use the sensible value of 128 bins. (*Note*: you could also use `ski.exposure.histogram()` here, for similar results). \n",
    "\n",
    "`np.histogram()` will return two arrays. The first is the pixel count within each bin, so in this case we will get 128 individual numbers, because there are 128 bins. We will call this array `counts`. These `counts` determine the height of the histogram over each bin. The first `count` is for the first bin, the second `count` is for the second bin, and so on, as we move along the $x$-axis from left to right.\n",
    "\n",
    "The second array returned by `np.histogram()` contains the start point of each bin (e.g. each $x$-axis interval within which we get the `Pixel Count`). We will call this array `edges`.\n",
    "\n",
    "The size of each array will vary, based on the number of bins we ask NumPy to use to make the histogram:"
   ]
  },
  {
   "cell_type": "code",
   "execution_count": null,
   "id": "e73caaa0",
   "metadata": {},
   "outputs": [],
   "source": [
    "# Get `counts` and `edges`.\n",
    "counts, edges = np.histogram(camera.ravel(), \n",
    "                             bins=n_bins)"
   ]
  },
  {
   "cell_type": "code",
   "execution_count": null,
   "id": "43a4190b",
   "metadata": {},
   "outputs": [],
   "source": [
    "# Show counts.\n",
    "counts"
   ]
  },
  {
   "cell_type": "code",
   "execution_count": null,
   "id": "2b09422b",
   "metadata": {},
   "outputs": [],
   "source": [
    "# Show `edges`.\n",
    "edges"
   ]
  },
  {
   "cell_type": "markdown",
   "id": "1cec03ac",
   "metadata": {},
   "source": [
    "Look at the first two values in the `edges` array, they form the interval for the first bin. So the first bin interval runs between 0 and 1.99, the second interval runs between the next two values of 1.99 and 3.98 and so on.\n",
    "\n",
    "Each value in `counts` is the count of pixel intensity values in `camera` which fall within the corresponding interval. Let's check this is correct by Boolean indexing `camera` to see how many pixels fall within the first interval (0 to 1.99):"
   ]
  },
  {
   "cell_type": "code",
   "execution_count": null,
   "id": "ffb5f3ee",
   "metadata": {},
   "outputs": [],
   "source": [
    "# For the first bin interval.\n",
    "camera[(camera >= 0) & (camera <= 1.99)]"
   ]
  },
  {
   "cell_type": "markdown",
   "id": "400b8cfa",
   "metadata": {},
   "source": [
    "Sure enough there are two pixels in the interval, which corresponds to the first value in the `counts` array:"
   ]
  },
  {
   "cell_type": "code",
   "execution_count": null,
   "id": "571da5b5",
   "metadata": {},
   "outputs": [],
   "source": [
    "# The first value in the `counts` array.\n",
    "counts[0]"
   ]
  },
  {
   "cell_type": "markdown",
   "id": "bc3fea06",
   "metadata": {},
   "source": [
    "The second interval (e.g. the next two `edges` values) runs between 1.99 and 3.98. The second value of the `counts` array is 628, so there should be 628 pixels within this interval:"
   ]
  },
  {
   "cell_type": "code",
   "execution_count": null,
   "id": "f0e5e7a5",
   "metadata": {},
   "outputs": [],
   "source": [
    "# The second value in `counts`.\n",
    "counts[1]"
   ]
  },
  {
   "cell_type": "markdown",
   "id": "f1c59cdb",
   "metadata": {},
   "source": [
    "Let's manually get the pixels in `camera` which fall in this second bin interval:"
   ]
  },
  {
   "cell_type": "code",
   "execution_count": null,
   "id": "b56bbbcc",
   "metadata": {},
   "outputs": [],
   "source": [
    "# For the second bin interval.\n",
    "camera[(camera > 1.99) & (camera <= 3.98)]"
   ]
  },
  {
   "cell_type": "markdown",
   "id": "d34dcefd",
   "metadata": {},
   "source": [
    "It certainly looks like there could be 600+ values in there! We don't feel like counting, so let's verify how many pixels there are in this bin interval using `len()`:"
   ]
  },
  {
   "cell_type": "code",
   "execution_count": null,
   "id": "5a8c78c8",
   "metadata": {},
   "outputs": [],
   "source": [
    "# Count the pixels in the second bin interval.\n",
    "len(camera[(camera > 1.99) & (camera <= 3.98)])"
   ]
  },
  {
   "cell_type": "markdown",
   "id": "49329b39",
   "metadata": {},
   "source": [
    "So, each adjacent pair of numbers in `edges` tells us the range of each bin interval, and the corresponding value in `counts` tells us the height on the histogram within that interval. The image below shows the first, second, third and final (128th) interval in the `edges` array:\n",
    "\n",
    "![](images/hist_bins.png)\n",
    "\n",
    "Ok, so we now have our deconstructed histogram. To implement the Otsu method, we next need to find the center of each bin interval (e.g. the middle point between the lower and higher number in each pair). Once we have the bin centers, we can use those to start splitting the histogram in two, to find the split that gives us the two most distinct groupings of pixels, on either side of the split. This is a simple calculation, we can get the start value of each bin interval with the following slicing operation:"
   ]
  },
  {
   "cell_type": "code",
   "execution_count": null,
   "id": "faeb6c9b",
   "metadata": {},
   "outputs": [],
   "source": [
    "# The first value of each bin interval.\n",
    "edges[:-1]"
   ]
  },
  {
   "cell_type": "markdown",
   "id": "ba68d640",
   "metadata": {},
   "source": [
    "...and we can get the second value of each bin interval with:"
   ]
  },
  {
   "cell_type": "code",
   "execution_count": null,
   "id": "73dbda07",
   "metadata": {},
   "outputs": [],
   "source": [
    "# The second value of each interval.\n",
    "edges[1:]"
   ]
  },
  {
   "cell_type": "markdown",
   "id": "108a4e4f",
   "metadata": {},
   "source": [
    "Check the numbers in these two arrays against the image above (of the bin intervals) to verify they are correct. To get the bin center points, we just take the average of each pair:"
   ]
  },
  {
   "cell_type": "code",
   "execution_count": null,
   "id": "4a15bbf2",
   "metadata": {},
   "outputs": [],
   "source": [
    "# Get the center of each bin.\n",
    "bin_centers = (edges[1:] + edges[:-1]) / 2\n",
    "\n",
    "bin_centers"
   ]
  },
  {
   "cell_type": "markdown",
   "id": "c8e52e72",
   "metadata": {},
   "source": [
    "You'll see that if we plot our `bin_centers` ($x$-axis) and our pixel `counts` ($y$-axis) we get something very much resembling the `camera` histogram, with 128 bins. Below the original `camera` histogram is shown on the left, and the plot of the `bin_centers` and `counts` arrays is shown on the right:"
   ]
  },
  {
   "cell_type": "code",
   "execution_count": null,
   "id": "4c2518ab",
   "metadata": {},
   "outputs": [],
   "source": [
    "# Generate a plot.\n",
    "plt.figure(figsize=(14, 4))\n",
    "plt.subplot(1, 2, 1)\n",
    "plt.hist(camera.ravel(), bins=n_bins)\n",
    "plt.xlabel('Pixel Intensity Value')\n",
    "plt.ylabel('Pixel Count')\n",
    "plt.title('Original `camera` histogram')\n",
    "plt.subplot(1, 2, 2)\n",
    "plt.plot(bin_centers, counts, color='red', marker='X')\n",
    "plt.xlabel('Bin Centers')\n",
    "plt.ylabel('Pixel Count')\n",
    "plt.title('Bin centers vs pixel counts');"
   ]
  },
  {
   "cell_type": "markdown",
   "id": "7ff4af8f",
   "metadata": {},
   "source": [
    "To implement the Otsu filter, we \"split\" the histogram into two sides, at a given bin center. We can think of this as creating two separate histograms. Here is a visualisation of splitting at the 50th bin center (which is centered on the pixel intensity value of 98.6). The location of the \"split\" is shown as a thick, dashed line:"
   ]
  },
  {
   "cell_type": "code",
   "execution_count": null,
   "id": "2bae0c2f",
   "metadata": {},
   "outputs": [],
   "source": [
    "# The 50th bin center value.\n",
    "bin_centers[49]"
   ]
  },
  {
   "cell_type": "code",
   "execution_count": null,
   "id": "ccec57e8",
   "metadata": {},
   "outputs": [],
   "source": [
    "# A function to visualise different threshold values.\n",
    "def plot_bins_with_threshold(threshold_bin_number, legend=True, axis=True):\n",
    "    plt.plot(bin_centers[:threshold_bin_number], counts[:threshold_bin_number], color='red',\n",
    "             marker='X', label='Left Side Histogram')\n",
    "    plt.plot(bin_centers[threshold_bin_number:], counts[threshold_bin_number:], color='green',\n",
    "             marker='X', label='Right Side Histogram')\n",
    "    plt.axvline(bin_centers[threshold_bin_number], color='black', label='Threshold', \n",
    "                linestyle=\"--\", linewidth=3)\n",
    "    plt.xlabel('Bin Centers')\n",
    "    plt.ylabel('Pixel Count')\n",
    "    plt.title(f'Threshold Pixel Intensity = {bin_centers[threshold_bin_number].round(2)}')\n",
    "    if legend == True:\n",
    "        plt.legend(bbox_to_anchor=(1, 1))\n",
    "    if axis == False:\n",
    "        plt.xticks([])\n",
    "        plt.yticks([]);\n",
    "\n",
    "# Generate the plot.\n",
    "plot_bins_with_threshold(49)"
   ]
  },
  {
   "cell_type": "markdown",
   "id": "fef58f4f",
   "metadata": {},
   "source": [
    "We now effectively have two histograms, the red one (below the 50th bin center; below a pixel intensity value of 98.6), and the green one (above the 50th bin center; above a pixel intensity value of 98.6).\n",
    "\n",
    "We can choose any bin center for the threshold, in fact, the Otsu filtering process will compare all possible thresholds/splits, comparing all of the bin centers. Multiple different splits are visualised below:"
   ]
  },
  {
   "cell_type": "code",
   "execution_count": null,
   "id": "74f0b09f",
   "metadata": {},
   "outputs": [],
   "source": [
    "# Visualise multiple thresholds.\n",
    "n_threshold_plots = 6\n",
    "plt.figure(figsize=(18, 10))\n",
    "for i, threshold_bin_num in enumerate(np.linspace(10, len(bin_centers)-20, num=n_threshold_plots).astype(int)):\n",
    "    plt.subplot(2, int(n_threshold_plots/2), i+1)\n",
    "    plot_bins_with_threshold(threshold_bin_num, legend=False, axis=False)"
   ]
  },
  {
   "cell_type": "markdown",
   "id": "bcc66a55",
   "metadata": {},
   "source": [
    "Once we have \"split\" the histogram, we calculate the mean of the pixel intensity values in the left-hand histogram, and the mean of the pixel intensity values in the right-hand histogram (e.g. either side of the split). \n",
    "\n",
    "Then we calculate the sum of squared deviations (`ssd`) for each side of the histogram, each around its respective mean. This gives a metric of how \"spread out\" the values in each histogram are, around each mean.\n",
    "\n",
    "*It is this `ssd` metric which can allow us to select the \"best\" threshold; for giving distinct pixel classes...* \n",
    "\n",
    "The cell below defines a function which calculates the sum of the squared deviations, for a given histogram:"
   ]
  },
  {
   "cell_type": "code",
   "execution_count": null,
   "id": "5b41c204",
   "metadata": {},
   "outputs": [],
   "source": [
    "def ssd(counts, centers):\n",
    "    \"\"\" Sum of squared deviations from mean \"\"\"\n",
    "    n = np.sum(counts)\n",
    "    mean = np.sum(centers * counts) / n\n",
    "    ssd = np.sum(counts * ((centers - mean) ** 2))\n",
    "    return mean, ssd, n"
   ]
  },
  {
   "cell_type": "markdown",
   "id": "4f9b9d3c",
   "metadata": {},
   "source": [
    "Let's use this function to calculate the mean and `ssd` of each histogram, when using the 50th bin center as the threshold:"
   ]
  },
  {
   "cell_type": "code",
   "execution_count": null,
   "id": "82d4d3cb",
   "metadata": {},
   "outputs": [],
   "source": [
    "# The mean and SSD for the left-hand histogram.\n",
    "mean_below_50th_bin, ssd_below_50th_bin, n_below_50th_bin  = ssd(counts[:49], bin_centers[:49])\n",
    "print(\"Mean of histogram below the 50th bin:\", mean_below_50th_bin.round(2))\n",
    "print(\"SSD of histogram  below the 50th bin:\", ssd_below_50th_bin.round(2))"
   ]
  },
  {
   "cell_type": "code",
   "execution_count": null,
   "id": "a293724b",
   "metadata": {},
   "outputs": [],
   "source": [
    "# The mean and SSD for the right-hand histogram.\n",
    "mean_above_50th_bin, ssd_above_50th_bin, n_above_50th_bin = ssd(counts[49:], bin_centers[49:])\n",
    "print(\"Mean of histogram above the 50th bin:\", mean_above_50th_bin.round(2))\n",
    "print(\"SSD of histogram above the 50th bin:\", ssd_above_50th_bin.round(2))"
   ]
  },
  {
   "cell_type": "markdown",
   "id": "dccf8987",
   "metadata": {},
   "source": [
    "The cell below defines a convenience plotting function, the mean of each histogram is shown on the plot, as a vertical line in the same colour as the histogram that it corresponds to (left or right). A horizontal line around each mean indicates the spread around that mean (FYI this spread has been converted back to the original scale of the plot, rather than the squared value of the `ssd`):"
   ]
  },
  {
   "cell_type": "code",
   "execution_count": null,
   "id": "d19f1cc1",
   "metadata": {},
   "outputs": [],
   "source": [
    "# A convenience plotting function.\n",
    "def plot_thresh_mean_and_spread(threshold_bin_num, show_total_SSD=False, legend=True):\n",
    "    plot_bins_with_threshold(threshold_bin_num, legend=legend)\n",
    "    \n",
    "    # Histogram 1\n",
    "    color='red'\n",
    "    mean_1, ssd_1, n_1 = ssd(counts[:threshold_bin_num], bin_centers[:threshold_bin_num])\n",
    "    std_1 = np.sqrt(ssd_1/n_1)\n",
    "    plt.axvline(mean_1, color='dark'+color, label=f'Mean and Spread (Left Histogram)')\n",
    "    plt.hlines(10, mean_1 - std_1, mean_1 + std_1, color='dark'+color)\n",
    "    \n",
    "    # Histogram 2\n",
    "    hist_number = 2\n",
    "    color='green'\n",
    "    mean_2, ssd_2, n_2 = ssd(counts[threshold_bin_num:], bin_centers[threshold_bin_num:])\n",
    "    std_2 = np.sqrt(ssd_2/n_2)\n",
    "    plt.axvline(mean_2, color='dark'+color, label=f'Mean and Spread (Right Histogram)')\n",
    "    plt.hlines(10, mean_2 - std_2, mean_2 + std_2, color='dark'+color)\n",
    "    \n",
    "    if show_total_SSD == True:\n",
    "        total_SSD = ssd_1 + ssd_2\n",
    "        plt.title(f'Threshold Pixel Intensity = {bin_centers[threshold_bin_num].round(2)}\\nTotal SSD: {total_SSD.round(2):.2e}')\n",
    "    \n",
    "# Add both means to the plot.\n",
    "plot_thresh_mean_and_spread(49)\n",
    "plt.legend(bbox_to_anchor=(1, 1));"
   ]
  },
  {
   "cell_type": "markdown",
   "id": "687a8670",
   "metadata": {},
   "source": [
    "Different threshold values change the mean and the spread (`ssd`) of each histogram. For each different split visualised below, pay attention to the width of the spread around each mean (e.g. the horizontal lines coming off the vertical line for each mean). This will let you see how the different splits influence the mean and the `ssd` of each histogram, when we compare the left histogram vs right histogram, for a given split:"
   ]
  },
  {
   "cell_type": "code",
   "execution_count": null,
   "id": "0cf6b52d",
   "metadata": {},
   "outputs": [],
   "source": [
    "# Visualise multiple thresholds.\n",
    "n_threshold_plots = 4\n",
    "plt.figure(figsize=(18, 10))\n",
    "for i, threshold_bin_num in enumerate(np.linspace(10, len(bin_centers)-20, num=n_threshold_plots).astype(int)):\n",
    "    plt.subplot(2, int(n_threshold_plots/2), i+1)\n",
    "    # Add both means to the plot.\n",
    "    plot_thresh_mean_and_spread(threshold_bin_num, legend=False)\n",
    "    if i%2 != 0:\n",
    "        plt.legend(bbox_to_anchor=(1, 1));"
   ]
  },
  {
   "cell_type": "markdown",
   "id": "c1e0981f",
   "metadata": {},
   "source": [
    "In Otsu's method, we want to find the threshold value which gives the *minimum total `ssd`* - e.g. the smallest value of the combined spread when we add together the `ssd` values for each histogram. This value corresponds to the *maximum between pixel class variance*, when comparing each side of the histogram. \n",
    "\n",
    "In other words, the threshold value which gives the lowest combined `ssd` identifies two classes of pixels that are most different from each other, compared to other classes/splits we could choose, according the metric that the Otsu method cares about (the `ssd`).\n",
    "\n",
    "You can think of this as finding a threshold which groups pixels such that the pixel values in each side of the \"split\" are clustered closely around their respective mean. In fact, it turns out minimizing the total `ssd` also has the effect that the *distance* between the means will be large, as well as giving a big separation between the pixels in each class as a result.\n",
    "\n",
    "The cell below will find the threshold which gives the minimum combined `ssd`:"
   ]
  },
  {
   "cell_type": "code",
   "execution_count": null,
   "id": "e23dca67",
   "metadata": {},
   "outputs": [],
   "source": [
    "# An empty list to store all the `ssd` values, for all bin centers.\n",
    "total_ssds = []\n",
    "\n",
    "# Loop through the bin centers, compute the `ssd` of both\n",
    "# histograms, for each threshold.\n",
    "for bin_no in range(1, n_bins):\n",
    "    left_mean, left_ssd, left_n = ssd(counts[:bin_no], bin_centers[:bin_no])\n",
    "    right_mean, right_ssd, right_n = ssd(counts[bin_no:], bin_centers[bin_no:])\n",
    "    \n",
    "    # Calculate and store the total `ssd`, for the current threshold.\n",
    "    total_ssds.append(left_ssd + right_ssd)\n",
    "    \n",
    "# Find the threshold which gives the smallest `ssd`. This is the Otsu threshold.\n",
    "otsu_bin = np.argmin(total_ssds)\n",
    "print('Otsu bin :', otsu_bin)\n",
    "print('Otsu threshold:', bin_centers[otsu_bin])"
   ]
  },
  {
   "cell_type": "markdown",
   "id": "9e9bffed",
   "metadata": {},
   "source": [
    "We can see that this is the same Otsu threshold we get from `ski.filters.threshold_otsu()`, when we use the same number of bins (128)."
   ]
  },
  {
   "cell_type": "code",
   "execution_count": null,
   "id": "152972bc",
   "metadata": {},
   "outputs": [],
   "source": [
    "# Show the number of bins.\n",
    "n_bins"
   ]
  },
  {
   "cell_type": "code",
   "execution_count": null,
   "id": "33fee199",
   "metadata": {},
   "outputs": [],
   "source": [
    "# Get the Otsu threshold from `skimage`.\n",
    "ski.filters.threshold_otsu(camera,\n",
    "                           nbins=n_bins)"
   ]
  },
  {
   "cell_type": "markdown",
   "id": "ed95cc33",
   "metadata": {},
   "source": [
    "Here is the graph showing the Otsu threshold, the total `ssd` is shown, in [scientific notation](https://sparrow.dev/python-scientific-notation), in the title of the plot:"
   ]
  },
  {
   "cell_type": "code",
   "execution_count": null,
   "id": "c5972a33",
   "metadata": {},
   "outputs": [],
   "source": [
    "plot_thresh_mean_and_spread(otsu_bin, show_total_SSD=True)"
   ]
  },
  {
   "cell_type": "markdown",
   "id": "2c0259f9",
   "metadata": {},
   "source": [
    "The total `ssd` for the optimal Otsu threshold is an order of magnitude smaller than for some possible other threshold values. We show a different, much worse threshold below, which has a considerably larger total `ssd` (again, the total `ssd` is shown in the title of the plot):"
   ]
  },
  {
   "cell_type": "code",
   "execution_count": null,
   "id": "782919c7",
   "metadata": {},
   "outputs": [],
   "source": [
    "# A much worse split.\n",
    "plot_thresh_mean_and_spread(10, show_total_SSD=True)"
   ]
  },
  {
   "cell_type": "markdown",
   "id": "db530420",
   "metadata": {},
   "source": [
    "Compare the spreads on each plot by looking at the horizontal lines around the mean of each histogram. You can see that the spreads are much smaller for the Otsu threshold, than for the other, suboptimal threshold. The other threshold, because it has much worse between pixel-class variance than the Otsu threshold, gives much worse image segmentation, in terms of separating foreground from background:"
   ]
  },
  {
   "cell_type": "code",
   "execution_count": null,
   "id": "b379b222",
   "metadata": {},
   "outputs": [],
   "source": [
    "# A bad segmentation, from the worse threshold value...\n",
    "plt.imshow(camera < bin_centers[10]);"
   ]
  },
  {
   "cell_type": "markdown",
   "id": "abc2c468",
   "metadata": {},
   "source": [
    "Admittedly that is quite a cool visual effect, but it is poor segmentation performance. The `ssd`s for multiple different thresholds are shown in the title of each plot below; the `camera` image filtered to the same threshold is shown to the right of each histogram plot:"
   ]
  },
  {
   "cell_type": "code",
   "execution_count": null,
   "id": "16855a2b",
   "metadata": {},
   "outputs": [],
   "source": [
    "# Visualise multiple thresholds, as well as filtering `camera` using those thresholds.\n",
    "n_threshold_plots = 6\n",
    "plt.figure(figsize=(24, 24))\n",
    "thresholds=[10, 10, 60, 60, 120, 120]\n",
    "for i in np.arange(n_threshold_plots):\n",
    "    plt.subplot(int(n_threshold_plots/2), 2, i+1)\n",
    "    if i % 2 == 0:\n",
    "        plot_thresh_mean_and_spread(thresholds[i], show_total_SSD=True, legend=False)\n",
    "    else:\n",
    "        plt.imshow(camera < bin_centers[thresholds[i]])\n",
    "        plt.title(f\"Threshold Pixel Intensity: {bin_centers[thresholds[i]].round(2)}\")\n",
    "plt.subplots_adjust()\n",
    "plt.tight_layout();"
   ]
  },
  {
   "cell_type": "markdown",
   "id": "8895eaeb",
   "metadata": {},
   "source": [
    "Remember: Otsu's method finds the threshold which gives us the smallest *sum of the `ssd` values*, where we sum together the `ssd` value for each histogram. This identifies the two classes of pixels (one class in each histogram) which have the *maximum between pixel-class variance*, e.g. pixel classes which are optimally distinct from one another, when assessed with the `ssd` metric.\n",
    "\n",
    "Compare the segmentation of the \"best\" Otsu threshold (shown below) to the poorer-performing thresholds shown on the right of the plot above - you will see substantially better foreground/background segmentation, from the optimal threshold:"
   ]
  },
  {
   "cell_type": "code",
   "execution_count": null,
   "id": "b36b5e5b",
   "metadata": {},
   "outputs": [],
   "source": [
    "# Show a plot of the whole Otsu filtering process.\n",
    "plt.figure(figsize=(14, 3))\n",
    "plt.subplot(1, 3, 1)\n",
    "plt.imshow(camera)\n",
    "plt.title('Original')\n",
    "plt.subplot(1, 3, 2)\n",
    "plot_thresh_mean_and_spread(otsu_bin, show_total_SSD=True, legend=False)\n",
    "plt.subplot(1, 3, 3)\n",
    "plt.imshow(camera_otsu_filtered)\n",
    "plt.title('Otsu filtered')\n",
    "plt.subplots_adjust();"
   ]
  },
  {
   "cell_type": "markdown",
   "id": "3d2658ba",
   "metadata": {},
   "source": [
    "To recap, [Otsu’s method](http://ieeexplore.ieee.org/stamp/stamp.jsp?arnumber=4310076) proceeds like [this](https://textbook.nipraxis.org/otsu_threshold.html):\n",
    "\n",
    "* create the 1D histogram of image values, where the histogram has $L$ bins.\n",
    "  The histogram is $L$ bin counts $\\vec{c} = [c_1, c_2, ... c_L]$, where $c_i$\n",
    "  is the number of values falling in bin $i$.  The histogram has bin centers\n",
    "  $\\vec{v} = [v_1, v_2, ..., v_L]$, where $v_i$ is the image value\n",
    "  corresponding to the center of bin $i$;\n",
    "\n",
    "* for every bin number $k \\in [1, 2, 3, ..., L-1]$, divide the histogram at\n",
    "  that bin to form a *left histogram* and a *right histogram*, where the left\n",
    "  histogram has counts, centers $[c_1, ... c_k], [v_1, ... v_k]$, and the\n",
    "  right histogram has counts, centers $[c_{k+1} ... c_L], [v_{k+1} .. v_L]$;\n",
    "\n",
    "* calculate the mean corresponding to the values in the left and right\n",
    "  histogram:\n",
    "\n",
    "  $$\n",
    "  \\begin{align}\n",
    "  n_k^{left} = \\sum_{i=1}^{k} c_i \\\\\n",
    "  \\mu_k^{left} = \\frac{1}{n_k^{left}} \\sum_{i=1}^{k} c_i v_i \\\\\n",
    "  n_k^{right} = \\sum_{i={k+1}}^{L} c_i \\\\\n",
    "  \\mu_k^{right} = \\frac{1}{n_k^{right}} \\sum_{i={k+1}}^{L} c_i v_i\n",
    "  \\end{align}\n",
    "  $$\n",
    "\n",
    "* calculate the sum of squared deviations from the left and right means:\n",
    "\n",
    "  $$\n",
    "\n",
    "  \\begin{align}\n",
    "  \\mathrm{SSD}_k^{left} = \\sum_{i=1}^{k} c_i (v_i - \\mu_k^{left}) \\\\\n",
    "  \\mathrm{SSD}_k^{right} = \\sum_{i={k+1}}^{L} c_i (v_i - \\mu_k^{right}) \\\\\n",
    "  \\mathrm{SSD}_k^{total} = SSD_k^{left} + SSD_k^{right}\n",
    "  \\end{align}\n",
    "  $$\n",
    "\n",
    "* find the bin number $k$ that minimizes $\\mathrm{SSD}_k^{total}$:\n",
    "\n",
    "  $$\n",
    "  z = \\mathrm{argmin}_k \\mathrm{SSD}_k^{total}\n",
    "  $$\n",
    "\n",
    "* the binarizing threshold for the image is the value corresponding to this\n",
    "  bin $z$:\n",
    "\n",
    "  $$\n",
    "  t = v_z\n",
    "  $$"
   ]
  },
  {
   "cell_type": "markdown",
   "id": "c97397ba",
   "metadata": {},
   "source": [
    "**Start of exercise**\n",
    "\n",
    "Your task now is to split `camera` into *three distinct pixel classes*, using threshold filtering. Here is your target image:\n",
    "\n",
    "![](images/camera_3_regions.png)\n",
    "\n",
    "Roughly, in the target image, the sky has white pixels, the ground has grey pixels and the cameraman's body has black pixels. Your final image should contain only the following `np.unique()` values:\n",
    "\n",
    "```\n",
    "array([0, 1, 2])\n",
    "```\n",
    "\n",
    "You can use a \"by eye\" method to decide your thresholds, from inspecting a histogram of `camera`. Or you can investigate using the `skimage` Otsu filter to get thresholds for more than two pixel classes..."
   ]
  },
  {
   "cell_type": "code",
   "execution_count": null,
   "id": "9f08bbbc",
   "metadata": {},
   "outputs": [],
   "source": [
    "# YOUR CODE HERE"
   ]
  },
  {
   "cell_type": "markdown",
   "id": "5e371464",
   "metadata": {},
   "source": [
    "**End of exercise**"
   ]
  },
  {
   "cell_type": "markdown",
   "id": "aa5c2970",
   "metadata": {},
   "source": [
    "**See the [corresponding page](/skimage-tutorials-temp/4_threshold_filters.html) for solution**\n",
    "\n",
    "A useful trick, when thresholding in `skimage` to try to separate foreground and background, is to use the `ski.filters.try_all_threshold()` to test out all of the available thresholding methods, and visually inspect the results.\n",
    "\n",
    "This function is both a filtering function and a plotting function. Behind the scenes it is using Matplotlib to generate the plots. Such is the utility of `skimage` being highly integrated with the rest of the [Scientific Python eco-system](https://scientific-python.org).\n",
    "\n",
    "We run the function in the cell below. The name of each thresholding method is shown as the title of each plot:"
   ]
  },
  {
   "cell_type": "code",
   "execution_count": null,
   "id": "44ab3ecd",
   "metadata": {},
   "outputs": [],
   "source": [
    "# Try all thresholding methods, and plot the results.\n",
    "ski.filters.try_all_threshold(camera,\n",
    "                              verbose=False, # Avoid clutter from printouts.\n",
    "                              figsize=(12, 12))\n",
    "plt.tight_layout();"
   ]
  },
  {
   "cell_type": "markdown",
   "id": "1d0f90b9",
   "metadata": {},
   "source": [
    "# Summary\n",
    "\n",
    "This page has showed how to perform threshold filtering using `numpy`, `scipy` and `skimage`. On the [next page](5_mean_filter) we will look at convolutional filtering, where we modify pixel values based on the \"local neighbourhood\" of surrounding pixels.\n",
    "\n",
    "# References\n",
    "\n",
    "Based on 3.3.5 onward from: https://lectures.scientific-python.org/packages/scikit-image/index.html\n",
    "\n",
    "Based on: https://scikit-image.org/skimage-tutorials/lectures/1_image_filters.html\n",
    "\n",
    "Reference: https://www.kdnuggets.com/numpy-for-image-processing\n",
    "\n",
    "Reference: https://setosa.io/ev/image-kernels\n",
    "\n",
    "Reference: https://wiki.imindlabs.com.au/ds/aml/4_problem_domains/1-image-processing/3_edge_detectors\n",
    "\n",
    "Reference: https://www.geeksforgeeks.org/deep-learning/types-of-convolution-kernels\n",
    "\n",
    "Reference: skimage tutorials (check versions), scipy lecture notes\n",
    "\n",
    "Reference: https://jni.github.io/i2k-skimage-napari/lectures/1_image_filters.html\n",
    "\n",
    "Reference: https://textbook.nipraxis.org/otsu_threshold.html"
   ]
  }
 ],
 "metadata": {
  "jupytext": {
   "cell_metadata_filter": "-all",
   "main_language": "python",
   "notebook_metadata_filter": "-all"
  },
  "kernelspec": {
   "display_name": "Python (Pyodide)",
   "name": "python"
  }
 },
 "nbformat": 4,
 "nbformat_minor": 5
}

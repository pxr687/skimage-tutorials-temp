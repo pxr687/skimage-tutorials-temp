{
 "cells": [
  {
   "cell_type": "markdown",
   "id": "d6e067b9",
   "metadata": {},
   "source": [
    "# What about color?"
   ]
  },
  {
   "cell_type": "markdown",
   "id": "e1227077",
   "metadata": {},
   "source": [
    "All of the arrays we have encountered [so far](0_images_as_numpy_arrays)\n",
    "contain just one value at each array pixel location. This page will look at\n",
    "image arrays with more than one value per pixel, and show how this can encode\n",
    "color information, giving us beautiful color images, that create deep\n",
    "aesthetic experiences, like this one:\n",
    "\n",
    "![](images/xenomorph.jpg)\n",
    "\n",
    "(Photo by\n",
    "[Stockcake](https://stockcake.com/i/alien-head-close-up_1354662_1093149)).\n",
    "\n",
    "First, some library imports:"
   ]
  },
  {
   "cell_type": "code",
   "execution_count": null,
   "id": "1773e9e2",
   "metadata": {},
   "outputs": [],
   "source": [
    "# Library imports.\n",
    "import numpy as np\n",
    "import matplotlib.pyplot as plt\n",
    "\n",
    "# Set 'gray' as the default colormap.\n",
    "plt.rcParams['image.cmap'] = 'gray'\n",
    "\n",
    "# Import a custom function to give hints for some exercises.\n",
    "# This is a function we wrote for the tutorial.\n",
    "from hints import hint_corrupted_camera"
   ]
  },
  {
   "cell_type": "markdown",
   "id": "62441dda",
   "metadata": {},
   "source": [
    "Below, we create some small 2D image arrays, with which to explore color\n",
    "representation:"
   ]
  },
  {
   "cell_type": "code",
   "execution_count": null,
   "id": "c470064e",
   "metadata": {},
   "outputs": [],
   "source": [
    "# A two-dimensional numpy array of 1's and 0's.\n",
    "two_D_ones_and_zeros = np.array([[1, 0,],\n",
    "                                 [0, 1,]],\n",
    "                                 dtype=float)\n",
    "\n",
    "# A two dimensional numpy array of numbers between 0 and 10.\n",
    "two_D_other_integers = np.array([[0, 10],\n",
    "                                 [5, 3]],\n",
    "                                 dtype=float)\n",
    "\n",
    "# Another image array.\n",
    "smiley = np.array([[0, 0, 0, 0, 0, 0, 0, 0],\n",
    "                   [0, 0, 0, 0, 0, 0, 0, 0],\n",
    "                   [0, 0, 1, 0, 0, 1, 0, 0],\n",
    "                   [0, 0, 1, 0, 0, 1, 0, 0],\n",
    "                   [0, 0, 0, 0, 0, 0, 0, 0],\n",
    "                   [0, 1, 0, 0, 0, 0, 1, 0],\n",
    "                   [0, 1, 1, 0, 0, 1, 1, 0],\n",
    "                   [0, 0, 1, 1, 1, 1, 0, 0],\n",
    "                   [0, 0, 0, 1, 1, 0, 0, 0],\n",
    "                   [0, 0, 0, 0, 0, 0, 0, 0],\n",
    "                   [0, 0, 0, 0, 0, 0, 0, 0]],\n",
    "                 dtype=float)"
   ]
  },
  {
   "cell_type": "markdown",
   "id": "5593844a",
   "metadata": {},
   "source": [
    "In our humble `two_D_ones_and_zeros` image array, each pixel is either a 1 or 0 in the `float64` `dtype`:"
   ]
  },
  {
   "cell_type": "code",
   "execution_count": null,
   "id": "e1ad54f3",
   "metadata": {},
   "outputs": [],
   "source": [
    "# Show the array\n",
    "two_D_ones_and_zeros"
   ]
  },
  {
   "cell_type": "code",
   "execution_count": null,
   "id": "fe7b2302",
   "metadata": {},
   "outputs": [],
   "source": [
    "# Display array on screen.\n",
    "plt.matshow(two_D_ones_and_zeros)\n",
    "plt.colorbar();"
   ]
  },
  {
   "cell_type": "markdown",
   "id": "d8b616d2",
   "metadata": {},
   "source": [
    "Conversely, the array `two_D_other_integers` contains values other than 0 and\n",
    "1.  Note that, though these *numbers* themselves are integers, they are\n",
    "represented by NumPy as `float64` values, because we specified the `float` data type."
   ]
  },
  {
   "cell_type": "code",
   "execution_count": null,
   "id": "891dda7b",
   "metadata": {},
   "outputs": [],
   "source": [
    "# Another image from earlier.\n",
    "two_D_other_integers"
   ]
  },
  {
   "cell_type": "code",
   "execution_count": null,
   "id": "1d92bace",
   "metadata": {},
   "outputs": [],
   "source": [
    "plt.matshow(two_D_other_integers)\n",
    "plt.colorbar();"
   ]
  },
  {
   "cell_type": "markdown",
   "id": "dc6b95ca",
   "metadata": {},
   "source": [
    "The first image - with black and white squares only, no gray - is a *binary image*. This is an image where each array pixel contains only one of two values. In this case the two values are 0 or 1.  The \"gray\" colormap tells Matplotlib to display the minimum value (0) as black pixels and the maximum value (1) as white.\n",
    "\n",
    "The second image - black, white and gray squares - is a *monochrome image*.\n",
    "This image contains more than two unique values. It has black pixels (the\n",
    "lowest pixel values, 0); white pixels (the highest pixel values, 1); and gray\n",
    "pixels (intermediate pixel values, > 0 but < 1).\n",
    "\n",
    "**Start of attention**\n",
    "\n",
    "For two-dimensional arrays like these, each array pixel is just a *single\n",
    "number*. Because of this, we can refer to both of these arrays as\n",
    "*single-channel image arrays*.  By *single channel*, we mean there is just one\n",
    "value for each pixel.  Each individual array pixel value determines the\n",
    "*intensity* of that pixel, e.g. the brightness or darkness of that pixel.\n",
    "\n",
    "Later we will see three-dimensional arrays, where we think of the last axis as\n",
    "giving different channels of information, for each pixel.  These channels\n",
    "allow us to specify color as well as intensity.\n",
    "\n",
    "**End of attention**\n",
    "\n",
    "As we saw on the [last page](0_images_as_numpy_arrays), a colormap (e.g.\n",
    "`viridis` or `gray`) maps each single-valued pixel intensity onto a gradient\n",
    "(a map) of colors/shades. This map is black (low intensity)-gray (medium\n",
    "intensity)-white (high intensity) for the `gray` colormap.  For the viridis colormap, low intensity gives a purple color and high intensity gives a yellow color, with intermediate intensities giving intermediate colors.\n",
    "\n",
    "The colormap *translates* (maps) the intensity values to colors, where the\n",
    "`gray` colormap simply maps intensity to intensity of white, and the `viridis`\n",
    "colormap maps intensity to a color from the purple to yellow.\n",
    "\n",
    "We can think of the `gray` colormap as a straightforward map of image\n",
    "intensity to white intensity, whereas  `viridis` maps intensity to a range of\n",
    "color. The plot below shows both arrays, with both colormaps, for comparison:"
   ]
  },
  {
   "cell_type": "code",
   "execution_count": null,
   "id": "249c4419",
   "metadata": {},
   "outputs": [],
   "source": [
    "# An image from earlier (using the `gray` colormap)\n",
    "plt.figure(figsize=(8, 8))\n",
    "plt.subplot(2, 2, 1)\n",
    "plt.matshow(two_D_ones_and_zeros,\n",
    "            fignum=0)\n",
    "plt.title('`gray` colormap \\n(binary image)')\n",
    "plt.colorbar()\n",
    "plt.subplot(2, 2, 2)\n",
    "# Another image from earlier (using the `gray` colormap)\n",
    "plt.matshow(two_D_other_integers,\n",
    "            fignum=0)\n",
    "plt.title('`gray` colormap \\n(monochrome image)')\n",
    "plt.colorbar();\n",
    "\n",
    "# Show with pseudocolor using the `viridis` colormap\n",
    "plt.subplot(2, 2, 3)\n",
    "plt.matshow(two_D_ones_and_zeros,\n",
    "            cmap='viridis',\n",
    "            fignum=0)\n",
    "plt.title('`viridis` colormap \\n(binary image)')\n",
    "plt.colorbar()\n",
    "plt.subplot(2, 2, 4)\n",
    "plt.matshow(two_D_other_integers,\n",
    "            cmap='viridis',\n",
    "            fignum=0)\n",
    "plt.title('`viridis` colormap \\n(monochrome image)')\n",
    "plt.colorbar()\n",
    "plt.tight_layout();"
   ]
  },
  {
   "cell_type": "markdown",
   "id": "aabb4b46",
   "metadata": {},
   "source": [
    "The original image arrays only contain one values-worth of information in\n",
    "their pixel values; they cannot themselves specify color information. **This\n",
    "will be true of any two-dimensional image array**, because there is only one\n",
    "value per pixel, and both of these image arrays are two-dimensional:"
   ]
  },
  {
   "cell_type": "code",
   "execution_count": null,
   "id": "e6015ede",
   "metadata": {},
   "outputs": [],
   "source": [
    "# Show the dimensionality of our binary image array.\n",
    "two_D_ones_and_zeros.shape"
   ]
  },
  {
   "cell_type": "code",
   "execution_count": null,
   "id": "d775022a",
   "metadata": {},
   "outputs": [],
   "source": [
    "# Show the dimensionality of our grayscale image array.\n",
    "two_D_other_integers.shape"
   ]
  },
  {
   "cell_type": "markdown",
   "id": "c934fb9a",
   "metadata": {},
   "source": [
    "A two-dimensional image has one value per pixel, so we will call this a *single-channel* image.\n",
    "\n",
    "However, it is common to have images that have three values per pixel — and\n",
    "these are *three-channel* images.  The three values represent the intensity of\n",
    "red, the intensity of green and the intensity of blue (RGB).  By giving the\n",
    "intensity of the three primary colors, the three pixel values encode the color\n",
    "at that pixel.\n",
    "\n",
    "To hammer this point home — although single-channel images can be displayed in\n",
    "color, the single value per pixel cannot itself specify the color; grayscale\n",
    "and binary images displayed with the `viridis` colormap do not contain color\n",
    "information in their array pixel values. Instead Matplotlib is *displaying*\n",
    "binary and intensity information using colors. To *specify* color at each\n",
    "pixel, we need at least three values.  To store the three values for each\n",
    "pixel, we need a spooky third dimension..."
   ]
  },
  {
   "cell_type": "markdown",
   "id": "c034055c",
   "metadata": {},
   "source": [
    "## Color from 3D\n",
    "\n",
    "Sounds Sci-Fi! But what does it mean?\n",
    "\n",
    "Let's focus on our lowly 4-pixel binary array (4 *array pixels*, that is):"
   ]
  },
  {
   "cell_type": "code",
   "execution_count": null,
   "id": "7bc5a790",
   "metadata": {},
   "outputs": [],
   "source": [
    "# Show the array.\n",
    "two_D_ones_and_zeros"
   ]
  },
  {
   "cell_type": "markdown",
   "id": "89750767",
   "metadata": {},
   "source": [
    "We visualise this array with Matplotlib:"
   ]
  },
  {
   "cell_type": "code",
   "execution_count": null,
   "id": "325c4af1",
   "metadata": {},
   "outputs": [],
   "source": [
    "# Our 4-pixel, binary array.\n",
    "plt.matshow(two_D_ones_and_zeros);"
   ]
  },
  {
   "cell_type": "markdown",
   "id": "a70b2f00",
   "metadata": {},
   "source": [
    "Now, picture this array as a physical object, like a tray, standing on one\n",
    "side, in physical space:\n",
    "\n",
    "![](images/one_slice.png)\n",
    "\n",
    "Now, imagine \"stacking\" another copy of this array *behind* the first, like this:\n",
    "\n",
    "![](images/two_slice.png)\n",
    "\n",
    "Let's refer to each of these trays as a *slice*. So we have two slices in the\n",
    "image above, one in the foreground, and one in the background.\n",
    "\n",
    "We can do the equivalent of this three-dimensional stacking — to our actual\n",
    "binary arrays — using the helpfully named `np.stack()` function. We can use\n",
    "`np.stack()` to — as the name implies — *stack* two 2D arrays into a 3D array,\n",
    "as in the image shown above. To do this, we stack over the third axis using\n",
    "the argument `axis=2`. This adds new arrays to the stack along the third\n",
    "dimension, when we count the dimensions (axes) from 0, as we do in Python\n",
    "indexing:"
   ]
  },
  {
   "cell_type": "code",
   "execution_count": null,
   "id": "ed6c6045",
   "metadata": {},
   "outputs": [],
   "source": [
    "# Stack the arrays in the third dimension.\n",
    "three_D_stack_array = np.stack([two_D_ones_and_zeros,\n",
    "                                two_D_ones_and_zeros],\n",
    "                                axis=2)\n",
    "three_D_stack_array"
   ]
  },
  {
   "cell_type": "markdown",
   "id": "84a9b9fb",
   "metadata": {},
   "source": [
    "At first glance, the \"raw\" output from NumPy may not look like the \"stacked\"\n",
    "slices in the image above, but please bear with us. Our 3D stacked array is of\n",
    "the right shape:"
   ]
  },
  {
   "cell_type": "code",
   "execution_count": null,
   "id": "cbc2a6e0",
   "metadata": {},
   "outputs": [],
   "source": [
    "three_D_stack_array.shape"
   ]
  },
  {
   "cell_type": "markdown",
   "id": "a2f42726",
   "metadata": {},
   "source": [
    "We can refer to each dimension in the `shape` of `(2, 2, 2)` as `(i, j, k)`.\n",
    "`i` is the vertical (or *row*) dimension, `j` is the horizontal (*column*)\n",
    "dimension, and `k` is the slice dimension.  (See the [note on rows and\n",
    "columns](on-rows-and-columns) for some discussion).  These dimensions map to\n",
    "the image as shown below:\n",
    "\n",
    "![](images/two_slice_dims.png)\n",
    "\n",
    "We can read this shape as \"two slices, each with two rows and two columns\", which now clearly corresponds to the image.\n",
    "\n",
    "Imagine being in the same physical space as these slices. Starting at the front of the image, you begin walking toward the first slice (nearest to the reader, in the foreground), then past it toward the second slice (furthest from the reader, in the background). So, in this imaginative exercise, you are walking along the $k$ dimension.\n",
    "\n",
    "We can use indexing operations to create the experience of this walk, in \"Python space\". Because we are dealing with a three-dimensional array we use three elements for indexing, separated by commas. The first element is for rows, the second for columns, and the third for slices. We can retrieve the first slice using:"
   ]
  },
  {
   "cell_type": "code",
   "execution_count": null,
   "id": "2951ec44",
   "metadata": {},
   "outputs": [],
   "source": [
    "# Get the first 2D slice from the 3D image.\n",
    "# All rows, all columns, first slice.\n",
    "three_D_stack_array[:, :, 0]"
   ]
  },
  {
   "cell_type": "markdown",
   "id": "79a5b950",
   "metadata": {},
   "source": [
    "And we can grab the second slice using:"
   ]
  },
  {
   "cell_type": "code",
   "execution_count": null,
   "id": "736fc03a",
   "metadata": {},
   "outputs": [],
   "source": [
    "# Get the second 2D slice from the 3D image.\n",
    "# All rows, all columns, second slice.\n",
    "three_D_stack_array[:, :, 1]"
   ]
  },
  {
   "cell_type": "markdown",
   "id": "9f541d6a",
   "metadata": {},
   "source": [
    "The image below shows these indexing operations represented in three-dimensional space:\n",
    "\n",
    "![](images/two_slice_annotated.png)\n",
    "\n",
    "So far we have two slices in the third dimension. We can easily add a third\n",
    "slice, using `np.stack()`:"
   ]
  },
  {
   "cell_type": "code",
   "execution_count": null,
   "id": "5d0380d9",
   "metadata": {},
   "outputs": [],
   "source": [
    "# Add a third slice in the third dimension.\n",
    "three_D_stack_array = np.stack([two_D_ones_and_zeros,  # first slice\n",
    "                                two_D_ones_and_zeros,  # second slice\n",
    "                                two_D_ones_and_zeros],  # third slice\n",
    "                                axis=2)\n",
    "three_D_stack_array"
   ]
  },
  {
   "cell_type": "markdown",
   "id": "fe7889ac",
   "metadata": {},
   "source": [
    "The `shape` of this new array now reads as \"three slices, each with two rows and two columns\":"
   ]
  },
  {
   "cell_type": "code",
   "execution_count": null,
   "id": "e1741e83",
   "metadata": {},
   "outputs": [],
   "source": [
    "three_D_stack_array.shape"
   ]
  },
  {
   "cell_type": "markdown",
   "id": "521a6e0f",
   "metadata": {},
   "source": [
    "We can visualise this new array, in the same three-dimensional space:\n",
    "\n",
    "![](images/three_slice.png)\n",
    "\n",
    "Again, we can use indexing to \"walk\" through the slices, along the $k$ dimension:"
   ]
  },
  {
   "cell_type": "code",
   "execution_count": null,
   "id": "798b0377",
   "metadata": {},
   "outputs": [],
   "source": [
    "# First 2D slice of the stack.\n",
    "three_D_stack_array[:, :, 0]"
   ]
  },
  {
   "cell_type": "code",
   "execution_count": null,
   "id": "c78b6e2a",
   "metadata": {},
   "outputs": [],
   "source": [
    "# Second 2D slice of the stack.\n",
    "three_D_stack_array[:, :, 1]"
   ]
  },
  {
   "cell_type": "code",
   "execution_count": null,
   "id": "ab356459",
   "metadata": {},
   "outputs": [],
   "source": [
    "# Third 2D slice of the stack.\n",
    "three_D_stack_array[:, :, 2]"
   ]
  },
  {
   "cell_type": "markdown",
   "id": "9c8f6241",
   "metadata": {},
   "source": [
    "![](images/three_slice_annotated.png)\n",
    "\n",
    "So far we have visualised these slices using a similar graphic to depicting an individual slice using the `gray` Matplotlib colormap. We can just as well visualise the slices using the numbers they contain:[^digits-decimal]\n",
    "\n",
    "![](images/three_slice_nums_only_annotated.png)\n",
    "\n",
    "[^digits-decimal]: Remember, the actual numbers in each \"slice\" are of the\n",
    "  `float64` `dtype` and so can (but here, do not) have digits after the\n",
    "  decimal point. However, we will show the numbers just as 0 or 1, to keep the\n",
    "  image uncluttered.\n",
    "\n",
    "Above we said we wanted to introduce a third dimension to specify\n",
    "color information in the image itself. Well, now we have three dimensions\n",
    "surely plotting our image will render a vibrantly colored picture?:"
   ]
  },
  {
   "cell_type": "code",
   "execution_count": null,
   "id": "b35fdf97",
   "metadata": {},
   "outputs": [],
   "source": [
    "# Ooof...not what we wanted...\n",
    "plt.matshow(three_D_stack_array);"
   ]
  },
  {
   "cell_type": "markdown",
   "id": "2216b1b7",
   "metadata": {},
   "source": [
    "**Start of exercise**\n",
    "\n",
    "Given what you've read above, why do you think that the image with the three channels is all white?\n",
    "\n",
    "**End of exercise**"
   ]
  },
  {
   "cell_type": "markdown",
   "id": "2c3ef13e",
   "metadata": {},
   "source": [
    "**See the [corresponding page](/skimage-tutorials-temp/1_color_images_as_numpy_arrays.html) for solution**\n",
    "\n",
    "Ok, that is not what we wanted — nothing has changed! Interestingly though, the 3D image array still renders as a 2D display image:\n",
    "\n",
    "![](images/three_slice_all_1s.png)\n",
    "\n",
    "What happens if we set every element, in every slice, to equal 0? To do this,\n",
    "first we create a 2D, 4-pixel array containing only 0's:"
   ]
  },
  {
   "cell_type": "code",
   "execution_count": null,
   "id": "30e9af1f",
   "metadata": {},
   "outputs": [],
   "source": [
    "# Create a 4-pixel array containing only 0's.\n",
    "two_D_zeros = np.zeros(two_D_ones_and_zeros.shape)\n",
    "two_D_zeros"
   ]
  },
  {
   "cell_type": "markdown",
   "id": "1cb2e16a",
   "metadata": {},
   "source": [
    "Then, we stack into three dimensions with `np.stack()`:"
   ]
  },
  {
   "cell_type": "code",
   "execution_count": null,
   "id": "19ff3834",
   "metadata": {},
   "outputs": [],
   "source": [
    "# Stack three of these arrays, making a 3D array containing only 0's.\n",
    "three_D_zeros = np.stack([two_D_zeros,\n",
    "                          two_D_zeros,\n",
    "                          two_D_zeros],\n",
    "                          axis=2)\n",
    "three_D_zeros"
   ]
  },
  {
   "cell_type": "markdown",
   "id": "90fc6c09",
   "metadata": {},
   "source": [
    "We can visualise this new 3D array as:\n",
    "\n",
    "![](images/three_slice_zeros.png)\n",
    "\n",
    "Next, we plot with Matplotlib:"
   ]
  },
  {
   "cell_type": "code",
   "execution_count": null,
   "id": "51cecb04",
   "metadata": {},
   "outputs": [],
   "source": [
    "# Plot the 3D array which contains only 0s.\n",
    "plt.matshow(three_D_zeros);"
   ]
  },
  {
   "cell_type": "markdown",
   "id": "b342714d",
   "metadata": {},
   "source": [
    "Ok, so now we have a fully black 2D display image, from our 3D array which\n",
    "contains only 0's:\n",
    "\n",
    "![](images/three_slice_zeros_visualised.png)\n",
    "\n",
    "As an experiment, let's see what happens if we put 1's on the diagonal in the\n",
    "*first slice only*. To do this, we will stack the `two_D_ones_and_zeros` array\n",
    "as the first slice, and `two_D_zeros` as the other two slices:"
   ]
  },
  {
   "cell_type": "code",
   "execution_count": null,
   "id": "a1ece857",
   "metadata": {},
   "outputs": [],
   "source": [
    "# Show the array (for the first slice).\n",
    "two_D_ones_and_zeros"
   ]
  },
  {
   "cell_type": "code",
   "execution_count": null,
   "id": "23866d2e",
   "metadata": {},
   "outputs": [],
   "source": [
    "# Show the array (for the second and third slices).\n",
    "two_D_zeros"
   ]
  },
  {
   "cell_type": "code",
   "execution_count": null,
   "id": "2db2923b",
   "metadata": {},
   "outputs": [],
   "source": [
    "three_D_stack_array_altered_first = np.stack([two_D_ones_and_zeros, # LOOK HERE!\n",
    "                                              two_D_zeros,\n",
    "                                              two_D_zeros],\n",
    "                                              axis=2)\n",
    "three_D_stack_array_altered_first"
   ]
  },
  {
   "cell_type": "markdown",
   "id": "a450ed8f",
   "metadata": {},
   "source": [
    "More intuitively visualised, our new three dimensional array looks like this:\n",
    "\n",
    "![](images/three_slice_red.png)\n",
    "\n",
    "You can see the values of 1 in the top-left and bottom-right elements of the first slice, all other elements are 0. Once more we can \"walk\" along the $k$ dimension, using indexing operations:"
   ]
  },
  {
   "cell_type": "code",
   "execution_count": null,
   "id": "53fc30d9",
   "metadata": {},
   "outputs": [],
   "source": [
    "# First 2D slice of the stack.\n",
    "three_D_stack_array_altered_first[:, :, 0]"
   ]
  },
  {
   "cell_type": "code",
   "execution_count": null,
   "id": "df282975",
   "metadata": {},
   "outputs": [],
   "source": [
    "# Second 2D slice of the stack.\n",
    "three_D_stack_array_altered_first[:, :, 1]"
   ]
  },
  {
   "cell_type": "code",
   "execution_count": null,
   "id": "f58ca333",
   "metadata": {},
   "outputs": [],
   "source": [
    "# Third 2D slice of the stack.\n",
    "three_D_stack_array_altered_first[:, :, 2]"
   ]
  },
  {
   "cell_type": "markdown",
   "id": "b57859ee",
   "metadata": {},
   "source": [
    "Now let's see what happens if we plot this new 3D array using Matplotlib:"
   ]
  },
  {
   "cell_type": "code",
   "execution_count": null,
   "id": "cc70eccd",
   "metadata": {},
   "outputs": [],
   "source": [
    "plt.matshow(three_D_stack_array_altered_first);"
   ]
  },
  {
   "cell_type": "markdown",
   "id": "70170ea8",
   "metadata": {},
   "source": [
    "Great! We have now used the third dimension to introduce *color information*\n",
    "into our image array. We can visualise this process using the graphic below:\n",
    "\n",
    "![](images/three_slice_red_visualised.png)\n",
    "\n",
    "Just to clarify, again our *array image* is three-dimensional, but our\n",
    "*display image* — e.g. the image rendered/displayed by Matplotlib — is\n",
    "two-dimensional, like the visualisations we saw earlier. In virtue of being\n",
    "3D, the image array itself contains three values for each array pixel - with\n",
    "one value in each \"slice\" in the third dimension.\n",
    "\n",
    "To produce this red and black square, we altered the *first slice* of the 3D array, such that it contains 1's along its diagonal, but all other elements in the array are 0's.\n",
    "\n",
    "The first slice of the third dimension - in our 3D image array - controls the\n",
    "amount of red in the image. We can therefore (for now) call this slice the\n",
    "*red slice*.\n",
    "\n",
    "What happens if we alter only the *second slice* in the third dimension, so that only it contains 1's along its diagonal, and all other array elements equal 0?"
   ]
  },
  {
   "cell_type": "code",
   "execution_count": null,
   "id": "0d4fa0f7",
   "metadata": {},
   "outputs": [],
   "source": [
    "three_D_stack_array_altered_second = np.stack([two_D_zeros,\n",
    "                                               two_D_ones_and_zeros, # LOOK HERE! Now we alter only the second slice.\n",
    "                                               two_D_zeros],\n",
    "                                               axis=2)\n",
    "three_D_stack_array_altered_second"
   ]
  },
  {
   "cell_type": "markdown",
   "id": "7674e416",
   "metadata": {},
   "source": [
    "We can visualise this new 3D array as:\n",
    "\n",
    "![](images/three_slice_green.png)\n",
    "\n",
    "We can proceed with another \"walk\" through the image again, with the familiar indexing operations:"
   ]
  },
  {
   "cell_type": "code",
   "execution_count": null,
   "id": "8110c929",
   "metadata": {},
   "outputs": [],
   "source": [
    "# First 2D place of the stack.\n",
    "three_D_stack_array_altered_second[:, :, 0]"
   ]
  },
  {
   "cell_type": "code",
   "execution_count": null,
   "id": "b72aa4da",
   "metadata": {},
   "outputs": [],
   "source": [
    "# Second 2D place of the stack.\n",
    "three_D_stack_array_altered_second[:, :, 1]"
   ]
  },
  {
   "cell_type": "code",
   "execution_count": null,
   "id": "d2b3e7c2",
   "metadata": {},
   "outputs": [],
   "source": [
    "# Third 2D slice of the stack.\n",
    "three_D_stack_array_altered_second[:, :, 2]"
   ]
  },
  {
   "cell_type": "markdown",
   "id": "67f407d2",
   "metadata": {},
   "source": [
    "How does this 3D array look when we visualise it with Matplotlib?"
   ]
  },
  {
   "cell_type": "code",
   "execution_count": null,
   "id": "293d27f7",
   "metadata": {},
   "outputs": [],
   "source": [
    "plt.matshow(three_D_stack_array_altered_second);"
   ]
  },
  {
   "cell_type": "markdown",
   "id": "94a41467",
   "metadata": {},
   "source": [
    "Here we have altered only the second slice, such that only it contains nonzero (1) values. We now see green squares in the display image:\n",
    "\n",
    "![](images/three_slice_green_visualised.png)\n",
    "\n",
    "Alterations to the second slice in the third dimension control the amount of green in the image - the second slice in the third dimension is therefore the *green slice*.\n",
    "\n",
    "For completeness, let's change only the *third slice* in the third dimension:"
   ]
  },
  {
   "cell_type": "code",
   "execution_count": null,
   "id": "e7e747f3",
   "metadata": {},
   "outputs": [],
   "source": [
    "# Put 1 values in the third slice only.\n",
    "three_D_stack_array_altered_third = np.stack([two_D_zeros,\n",
    "                                              two_D_zeros,\n",
    "                                              two_D_ones_and_zeros ], # LOOK HERE!\n",
    "                                              axis=2)\n",
    "three_D_stack_array_altered_third"
   ]
  },
  {
   "cell_type": "markdown",
   "id": "5ed03ca0",
   "metadata": {},
   "source": [
    "Which gives us the following stacked slices:\n",
    "\n",
    "![](images/three_slice_blue.png)\n",
    "\n",
    "...and the following \"walk\" through the slices, via array indexing:"
   ]
  },
  {
   "cell_type": "code",
   "execution_count": null,
   "id": "754209e5",
   "metadata": {},
   "outputs": [],
   "source": [
    "# First 2D slice of the stack.\n",
    "three_D_stack_array_altered_third[:, :, 0]"
   ]
  },
  {
   "cell_type": "code",
   "execution_count": null,
   "id": "6db7dd60",
   "metadata": {},
   "outputs": [],
   "source": [
    "# Second 2D slice of the stack.\n",
    "three_D_stack_array_altered_third[:, :, 1]"
   ]
  },
  {
   "cell_type": "code",
   "execution_count": null,
   "id": "b4918d76",
   "metadata": {},
   "outputs": [],
   "source": [
    "# Third 2D slice of the stack.\n",
    "three_D_stack_array_altered_third[:, :, 2]"
   ]
  },
  {
   "cell_type": "markdown",
   "id": "b9f90d09",
   "metadata": {},
   "source": [
    "Finally, when plotted, we get:"
   ]
  },
  {
   "cell_type": "code",
   "execution_count": null,
   "id": "1ce7799d",
   "metadata": {},
   "outputs": [],
   "source": [
    "plt.matshow(three_D_stack_array_altered_third);"
   ]
  },
  {
   "cell_type": "markdown",
   "id": "01c05601",
   "metadata": {},
   "source": [
    "So, this has given us:\n",
    "\n",
    "![](images/three_slice_blue_visualised.png)"
   ]
  },
  {
   "cell_type": "markdown",
   "id": "e64fde21",
   "metadata": {},
   "source": [
    "## Color channels\n",
    "\n",
    "What is happening here?\n",
    "\n",
    "Recall that we referred to the 2D arrays that we used at the start of this tutorial as *single-channel image arrays*? The 3D arrays we just created are  *three-channel image arrays*. This means that each array pixel has three values, one in each slice of the 3D stacks we created. You can think of each slice as being one *color channel*. Each color channel controls the amount of a specific color in the image, depending on the values of the array pixels in that slice.\n",
    "\n",
    "Using these three-channel arrays, when Matplotlib produces a two-dimensional *display image* (e.g. the matrix with colored squares along the diagonal and black squares elsewhere). However, behind this 2D display image there are three slices in the third dimension, each with the same number of rows and columns as the final 2D display image. Each pixel (e.g. each array element) in the display image gets its color information from a mix of the corresponding elements in each slice in the 3D image array.\n",
    "\n",
    "As we have seen, the first slice is the red channel, the second slice is the green channel and the third slice is the blue channel. The intensities in each color channel are *mixed* to produce the rendered 2D image:\n",
    "\n",
    "![](images/color_channels_all.png)\n",
    "\n",
    "Now, despite the visualisations of our array containing only one primary color, the color channels are in fact being mixed together. However, because we have set two of the slices to contain only 0's, we are essentially \"switching off\" those color channels in the final mix (e.g. in the image displayed by Matplotlib).\n",
    "\n",
    "Other non-primary colors can be created using different blends of the primary colors (red, green, blue) in each slice of the array. For `float64` image data, you can think of 0 as meaning 0% and 1 as meaning 100%, 0.5 meaning 50% and so on. So a 1 in the red slice means 100% red is mixed in for that pixel, along with the percentages from the other color channels (which in the arrays above, are 0's).\n",
    "\n",
    "We can see this by choosing intensity values randomly for each color channel. The function `np.random.uniform()` can supply us with three random decimal numbers between 0 and 1. Run the cell below a few times if you are using this tutorial interactively, to see the random draw a few times:"
   ]
  },
  {
   "cell_type": "code",
   "execution_count": null,
   "id": "f698de94",
   "metadata": {},
   "outputs": [],
   "source": [
    "# Three random integers.\n",
    "X1, X2, X3 = np.random.uniform(size=3).round(2)\n",
    "\n",
    "print(f\"X1 = {X1}\\nX2 = {X2}\\nX3 = {X3}\")"
   ]
  },
  {
   "cell_type": "markdown",
   "id": "cca85795",
   "metadata": {},
   "source": [
    "We will use the `X1` value from this random draw to set nonzero diagonal values in the *red* color channel (e.g. in the *first* slice of the stack).  In the same way we will use the `X2` value as the green value, and `X3` as the blue value.\n",
    "\n",
    "We will then view the resulting display image. Again, if you are using this tutorial interactively, run the cell a few times to see multiple random mixes across the color channels:"
   ]
  },
  {
   "cell_type": "code",
   "execution_count": null,
   "id": "e8b55269",
   "metadata": {},
   "outputs": [],
   "source": [
    "# Get three random integers between 0 and 255\n",
    "X1, X2, X3 = np.random.uniform(size=3).round(2)\n",
    "\n",
    "# Display the values of the random integers.\n",
    "print(f\"Red (X1) = {X1}\\nGreen (X2) = {X2}\\nBlue (X3) = {X3}\")\n",
    "\n",
    "# Create a 3D stack, with the nonzero values in each slice set by the\n",
    "# random integers.\n",
    "three_D_stack_array_altered_blend= np.stack([two_D_ones_and_zeros * X1,\n",
    "                                             two_D_ones_and_zeros * X2,\n",
    "                                             two_D_ones_and_zeros * X3],\n",
    "                                             axis=2)\n",
    "# Visualise the 3D stack with Matplotlib\n",
    "plt.matshow(three_D_stack_array_altered_blend);"
   ]
  },
  {
   "cell_type": "markdown",
   "id": "b34d3961",
   "metadata": {},
   "source": [
    "So, each two-dimensional display image has a \"hidden\" three-dimensional array behind it. Each slice of the third dimension is a color channel. The mix of values at a given element in each color channel determines the color of that pixel in the rendered image. You may want to view this image in a new browser window, to see more clearly the exact mixes of the color channels, which are shown above each square on the right-hand side of the image:\n",
    "\n",
    "![](images/three_slice_algebraic_multi.png)\n",
    "\n",
    "You can view lots of random mixes across the color channels, as a grid of plots, by running the cell below:"
   ]
  },
  {
   "cell_type": "code",
   "execution_count": null,
   "id": "332a1f6e",
   "metadata": {},
   "outputs": [],
   "source": [
    "# A custom function to demonstrate many mixes of values across the three\n",
    "# color channels.\n",
    "from random_colors import random_color_array\n",
    "random_color_array(8, 8)"
   ]
  },
  {
   "cell_type": "markdown",
   "id": "285fc8d4",
   "metadata": {},
   "source": [
    "We have now completed our perilous expedition into the third dimension... We\n",
    "have seen that we can use 3D arrays to encode *color* information at each\n",
    "pixel. The image array itself contains color information for each pixel.\n",
    "\n",
    "Let's explore a color image of a real object. We will introduce Scikit-image (`skimage`) in more detail on the [next page](2_skimage_intro), but for now we will again use the straightforwardly named `imread()` function to load an image from a file:"
   ]
  },
  {
   "cell_type": "code",
   "execution_count": null,
   "id": "46c7f839",
   "metadata": {},
   "outputs": [],
   "source": [
    "# Import the input/output module from skimage.\n",
    "from skimage import io\n",
    "\n",
    "# Load our image array.\n",
    "coffee = io.imread(\"images/coffee.png\")\n",
    "\n",
    "# Show the \"raw\" array output.\n",
    "coffee"
   ]
  },
  {
   "cell_type": "markdown",
   "id": "ef78e465",
   "metadata": {},
   "source": [
    "Notice that the `coffee` image is nothing but a Numpy array.\n",
    "\n",
    "The cell below defines a function to let us quickly view the attributes of any\n",
    "image array. You'll notice that this function just uses NumPy attributes,\n",
    "given that we are representing images as nothing but NumPy arrays:"
   ]
  },
  {
   "cell_type": "code",
   "execution_count": null,
   "id": "4f6225c1",
   "metadata": {},
   "outputs": [],
   "source": [
    "def show_attributes(img):\n",
    "    \"\"\" Print some attributes of an image array `img`\n",
    "    \"\"\"\n",
    "    print(\"Type:\", type(img))\n",
    "    print(\"dtype:\", img.dtype)\n",
    "    print(\"Shape:\", img.shape)\n",
    "    print(\"Max Pixel Value:\", img.max().round(2))\n",
    "    print(\"Min Pixel Value:\", img.min().round(2))"
   ]
  },
  {
   "cell_type": "code",
   "execution_count": null,
   "id": "accdb094",
   "metadata": {},
   "outputs": [],
   "source": [
    "# Inspect the attributes of the `coffee` image array.\n",
    "show_attributes(coffee)"
   ]
  },
  {
   "cell_type": "markdown",
   "id": "ebd0ad39",
   "metadata": {},
   "source": [
    "We can see that this image has three dimensions, with three slices in the third dimension. We are therefore dealing with a *color* image with three color channels. We can also see that the image array represents the most intense pixel values with the number 255, and the least intense values with the number 0, in each color channel. The `dtype` is `uint8`, in contrast the `float64` `dtype` we have been using in our custom-made low-resolution image arrays.\n",
    "\n",
    "Let's view the image with `imshow()`:"
   ]
  },
  {
   "cell_type": "code",
   "execution_count": null,
   "id": "c8fd24cf",
   "metadata": {},
   "outputs": [],
   "source": [
    "# Show the array.\n",
    "plt.imshow(coffee);"
   ]
  },
  {
   "cell_type": "markdown",
   "id": "60e9f837",
   "metadata": {},
   "source": [
    "Looks great! Though at the time of writing one of the authors is on their third coffee today..."
   ]
  },
  {
   "cell_type": "markdown",
   "id": "95770d58",
   "metadata": {},
   "source": [
    "## Pixels and `dtype`\n",
    "\n",
    "Why is the highest pixel value in the `coffee` image the bizarrely specific\n",
    "integer value of 255? We will talk more about image data types\n",
    "[later](2_skimage_intro), but other values/`dtypes` would work here as well.\n",
    "The display conventions are:\n",
    "\n",
    "- 0 - 1: where 0 is the least intense, 1 is the most intense (floating point\n",
    "  arrays, such as `dtype=np.float64`;\n",
    "- 0 - 255: where 0 is the least intense, 255 is the most intense (integer\n",
    "  arrays, such as `dtype=np.uint8`).\n",
    "\n",
    "You will see both conventions in images you encounter \"in the wild\", and\n",
    "Sci-kit image supports both formats (as well as multiple other formats - see\n",
    "the table below). Neglecting to pay attention to `dtype` is a very common\n",
    "source of errors when dealing with image arrays, so keep track of it, and\n",
    "deliberately specify it as often as possible!\n",
    "\n",
    "The plot below shows how to get the primary colors (red, green, blue) using\n",
    "both the `float64` and `uint8` convention for the maximum and minimum pixel\n",
    "values:"
   ]
  },
  {
   "cell_type": "code",
   "execution_count": null,
   "id": "c2035edc",
   "metadata": {},
   "outputs": [],
   "source": [
    "# Use a custom function to plot the maximum intensity values in the diagonals,\n",
    "# for `int` and `float` data, using our familiar 1's and 0's array.\n",
    "from random_colors import plot_int_float\n",
    "\n",
    "plot_int_float();"
   ]
  },
  {
   "cell_type": "markdown",
   "id": "914a1fc9",
   "metadata": {},
   "source": [
    "**Start of note**\n",
    "\n",
    "**Intensity and display**\n",
    "\n",
    "We haven't made this explicit yet, but it is Matplotlib that determines the\n",
    "color from an image array.\n",
    "\n",
    "That is, it is Matplotlib that looks at a floating point image, and specifies\n",
    "that a pixel (or color channel) value of 1 is the maximum, and 0 is the\n",
    "minimum.  Therefore a pixel that is (1.0, 1.0, 1.0) displays as white, and\n",
    "(0.0, 0.0, 0.0) displays as black.  Matplotlib considers 0 or below 0, and\n",
    "1 or above as 1, so a pixel value of (2.0, 1.0, 99.0) will also display as\n",
    "white, and (-1.0, -99.0, 0) will display as black.\n",
    "\n",
    "It is Matplotlib that says that integer image values of >=255 are the maximum,\n",
    "and <=0 are the minimum; (255, 255, 255) and (1000, 2000, 3000) (in an integer\n",
    "`dtype` that allows those values) display as white; (0, 0, 0) and (-1, -100,\n",
    "-1000) display as black.\n",
    "\n",
    "**End of note**\n",
    "\n",
    "Ok, now we have clarified the mystical 255 pixel value, let's use a `for` loop\n",
    "to extract each color channel of `coffee` image. What do you think Matplotlib\n",
    "will show when we visualise each 2D slice of the 3D image separately?"
   ]
  },
  {
   "cell_type": "code",
   "execution_count": null,
   "id": "e36774fa",
   "metadata": {},
   "outputs": [],
   "source": [
    "# The name of each color channel.\n",
    "RGB_chan_names = [\"Red Channel\",\n",
    "                  \"Green Channel\",\n",
    "                  \"Blue Channel\"]\n",
    "\n",
    "# Loop through, extract each channel as a 2D slice, and visualise.\n",
    "plt.figure(figsize=(15, 5))\n",
    "for i, chan_name in enumerate(RGB_chan_names):\n",
    "    plt.subplot(1, 3, i+1)\n",
    "    current_slice = coffee[:, :, i]\n",
    "    plt.title(f\"{chan_name}:\")\n",
    "    plt.imshow(current_slice)\n",
    "    plt.xticks([])\n",
    "    plt.yticks([])\n",
    "    plt.xlabel(f\"\\n\\nShape: {current_slice.shape}\")"
   ]
  },
  {
   "cell_type": "markdown",
   "id": "cbd2431d",
   "metadata": {},
   "source": [
    "Now we are viewing each slice/color channel separately, we are again visualising 2D arrays — you can see the `.shape` of each slice below each image.\n",
    "\n",
    "The image from each color channel, when visualised separately, is now\n",
    "a single-channel image, and so Matplotlib is rendering it in grayscale. As we\n",
    "know, we could also use the `viridis` colormap to allocate particular colors\n",
    "to the intensity information in the images for the purposes of the display.\n",
    "Though in this instance, `viridis` results in some slightly queasy-looking\n",
    "images:"
   ]
  },
  {
   "cell_type": "code",
   "execution_count": null,
   "id": "3b3b8e58",
   "metadata": {},
   "outputs": [],
   "source": [
    "# Pseudo-color with `viridis`.\n",
    "plt.figure(figsize=(15, 5))\n",
    "for i, chan_name in enumerate(RGB_chan_names):\n",
    "    plt.subplot(1, 3, i+1)\n",
    "    current_slice = coffee[:, :, i]\n",
    "    plt.title(f\"{chan_name}:\")\n",
    "    plt.imshow(current_slice, cmap='viridis')\n",
    "    plt.xticks([])\n",
    "    plt.yticks([])\n",
    "    plt.xlabel(f\"\\n\\nShape: {current_slice.shape}\")"
   ]
  },
  {
   "cell_type": "markdown",
   "id": "5d49006e",
   "metadata": {},
   "source": [
    "When we visualise the full 3D array however, then, as we have seen, each slice controls the amount of a specific color, and the resultant mix gives us our beautiful, full-color image:"
   ]
  },
  {
   "cell_type": "code",
   "execution_count": null,
   "id": "f39c3010",
   "metadata": {},
   "outputs": [],
   "source": [
    "plt.imshow(coffee);"
   ]
  },
  {
   "cell_type": "markdown",
   "id": "01a6ea47",
   "metadata": {},
   "source": [
    "**Start of exercise**\n",
    "\n",
    "Now over to you for some NumPy-fuelled color wizardry. Your job is take our binary `two_D_ones_and_zeros` array and to use numerical and/or NumPy operations **only** to manipulate the image so that it looks as follows, when displayed with `plt.matshow()`:\n",
    "\n",
    "![](images/all_blue.png)\n",
    "\n",
    "Start with an all-zeros array, of the same shape as `two_D_ones_and_zeros`:"
   ]
  },
  {
   "cell_type": "code",
   "execution_count": null,
   "id": "fef97532",
   "metadata": {},
   "outputs": [],
   "source": [
    "start_slice = np.zeros_like(two_D_ones_and_zeros)\n",
    "start_slice\n",
    "# YOUR CODE HERE"
   ]
  },
  {
   "cell_type": "markdown",
   "id": "ef9a2811",
   "metadata": {},
   "source": [
    "**End of exercise**"
   ]
  },
  {
   "cell_type": "markdown",
   "id": "1080bb64",
   "metadata": {},
   "source": [
    "**See the [corresponding page](/skimage-tutorials-temp/1_color_images_as_numpy_arrays.html) for solution**\n",
    "\n",
    "Time for some more horrifying computer art. Your task now is to modify the `smiley` image from earlier, using only numerical and/or NumPy operations, to make a \"blood smiley\". The new \"blood smiley\" should have a black background, and a red face, meaning that Matplotlib will render it as:\n",
    "\n",
    "![](images/blood_smile.png)\n",
    "\n",
    "Once more, your raw ingredients are in the cell below:"
   ]
  },
  {
   "cell_type": "code",
   "execution_count": null,
   "id": "acdb5f4b",
   "metadata": {},
   "outputs": [],
   "source": [
    "# YOUR CODE HERE\n",
    "blood_smiley = smiley.copy()"
   ]
  },
  {
   "cell_type": "markdown",
   "id": "b55056f1",
   "metadata": {},
   "source": [
    "**End of exercise**"
   ]
  },
  {
   "cell_type": "markdown",
   "id": "12d01a64",
   "metadata": {},
   "source": [
    "**See the [corresponding page](/skimage-tutorials-temp/1_color_images_as_numpy_arrays.html) for solution**\n",
    "\n",
    "When we \"invert\" the color of an image this means we reverse the intensity values. So the highest values become the lowest, and the lowest values become the highest.\n",
    "\n",
    "Your job is to figure out how to produce this final result, again using only\n",
    "numerical or NumPy operations on the `smiley` image.\n",
    "\n",
    "![](images/inverted_blood_smiley.png)"
   ]
  },
  {
   "cell_type": "code",
   "execution_count": null,
   "id": "51838120",
   "metadata": {},
   "outputs": [],
   "source": [
    "# YOUR CODE HERE\n",
    "inverted_blood_smiley = smiley.copy()"
   ]
  },
  {
   "cell_type": "markdown",
   "id": "dd2b3c05",
   "metadata": {},
   "source": [
    "**End of exercise**"
   ]
  },
  {
   "cell_type": "markdown",
   "id": "aae0571e",
   "metadata": {},
   "source": [
    "**See the [corresponding page](/skimage-tutorials-temp/1_color_images_as_numpy_arrays.html) for solution**\n",
    "\n",
    "Ok, that was all scary. Now we need a coffee to relax (is coffee relaxing?!).\n",
    "\n",
    "Your next task is to take the `coffee` image and use only numerical or NumPy operations to convert it to a single-channel (e.g. monochrome image):"
   ]
  },
  {
   "cell_type": "code",
   "execution_count": null,
   "id": "f4186588",
   "metadata": {},
   "outputs": [],
   "source": [
    "# YOUR CODE HERE\n",
    "colorless_coffee = coffee.copy()"
   ]
  },
  {
   "cell_type": "markdown",
   "id": "485aa0e5",
   "metadata": {},
   "source": [
    "**End of exercise**"
   ]
  },
  {
   "cell_type": "markdown",
   "id": "d3f5c80d",
   "metadata": {},
   "source": [
    "**See the [corresponding page](/skimage-tutorials-temp/1_color_images_as_numpy_arrays.html) for solution**\n",
    "\n",
    "In image processing \"signal\" can very roughly be thought of as a meaningful visual representation of something, in pixel values. Conversely, noise can be thought of as meaningless randomness in pixel values.\n",
    "\n",
    "Your job now, like an aging memory card or broken file system, is to corrupt the `camera` image below with some noisy pixels.\n",
    "\n",
    "Here is the original image:\n",
    "\n",
    "![](images/camera_plot.png)\n",
    "\n",
    "You should use NumPy and numerical operations only, to create something like\n",
    "the following image (the exact image will depend on your random noise):\n",
    "\n",
    "![](images/corrupted_camera.png)\n",
    "\n",
    "Your final image should have the following attributes (from the\n",
    "`show_attributes` function):\n",
    "\n",
    "```\n",
    "Type: <class 'numpy.ndarray'>\n",
    "dtype: uint8\n",
    "Shape: (512, 512, 3)\n",
    "Max Pixel Value: 255\n",
    "Min Pixel Value: 0\n",
    "```\n",
    "\n",
    "*Hint 1*: this sort of noise is *random*, you can think about functions in the\n",
    "`np.random` module which might be of use here...\n",
    "\n",
    "*Hint 2*: to work out what values (pixels) should be random, it may help to\n",
    "pay attention to the color of the noisy region...\n",
    "\n",
    "*Hint 3*: run the function `hint_corrupted_camera()` for additional help..."
   ]
  },
  {
   "cell_type": "code",
   "execution_count": null,
   "id": "5d9c1060",
   "metadata": {},
   "outputs": [],
   "source": [
    "# Import the camera image.\n",
    "camera = io.imread(\"images/camera.png\")\n",
    "\n",
    "# Show the attributes of `camera`/\n",
    "show_attributes(camera)\n",
    "\n",
    "# YOUR CODE HERE\n",
    "noisy_camera = ..."
   ]
  },
  {
   "cell_type": "markdown",
   "id": "31b3de06",
   "metadata": {},
   "source": [
    "**End of exercise**"
   ]
  },
  {
   "cell_type": "markdown",
   "id": "495813cb",
   "metadata": {},
   "source": [
    "**See the [corresponding page](/skimage-tutorials-temp/1_color_images_as_numpy_arrays.html) for solution**\n",
    "\n",
    "## More (actually) complex images\n",
    "\n",
    "So far we have looked at simple images - 2D binary and grayscale low-resolution image arrays, like `smiley` - or more complex color images with three color channels (like `coffee`). However, the principles we have seen extend to even more complex images, like the image arrays generated by [brain imaging](https://en.wikipedia.org/wiki/Neuroimaging), for instance.\n",
    "\n",
    "Here is an image of one \"slice\" of one of the authors' brains, which was captured by a [magnetic resonance imaging](https://en.wikipedia.org/wiki/Magnetic_resonance_imaging) scanner:"
   ]
  },
  {
   "cell_type": "code",
   "execution_count": null,
   "id": "cdeead5b",
   "metadata": {},
   "outputs": [],
   "source": [
    "# One author's own brain (a 2D slice).\n",
    "brain = io.imread(\"images/pxr_brain.png\")\n",
    "\n",
    "plt.imshow(brain);"
   ]
  },
  {
   "cell_type": "markdown",
   "id": "492af80e",
   "metadata": {},
   "source": [
    "The physics of magnetic resonance imaging is very complicated, but the image\n",
    "arrays that it produces, as with our very simple low-resolution arrays, are\n",
    "nothing but arrays of numbers:"
   ]
  },
  {
   "cell_type": "code",
   "execution_count": null,
   "id": "bcb792f8",
   "metadata": {},
   "outputs": [],
   "source": [
    "# Show the attributes of the brain image.\n",
    "show_attributes(brain)"
   ]
  },
  {
   "cell_type": "markdown",
   "id": "b4095357",
   "metadata": {},
   "source": [
    "Note that this image is 2D, and it is actually a relatively simple brain image. Other brain images can also contain *time* information - e.g. an image of the brain through time, as it responds to different stimuli. Such images are actually 4-D, with an extra dimension for temporal information. However, all of these images can still be represented as NumPy arrays, with varying dimensionalities and various min/max pixel value conventions.  These higher-dimensional images do not always contain color information - the way we have seen above is just one way of using higher-dimensional image arrays, to encode color. We will investigate this topic more on the [next page](2_skimage_intro)."
   ]
  },
  {
   "cell_type": "markdown",
   "id": "2f1934a0",
   "metadata": {},
   "source": [
    "## Summary\n",
    "\n",
    "On this page we have seen how color can be represented in NumPy array images:\n",
    "\n",
    "* Images are (at least) two-dimensional arrays of numbers. Multiple `dtype`s\n",
    "  in image arrays are supported by Sci-kit image.\n",
    "* We have seen images where the number at each array pixel location determines\n",
    "  the gray-level (in a 2D array) or color (in a 3D array) of that location\n",
    "  when the image is displayed. For 3D color arrays the number in each\n",
    "  slice/channel determines the intensity of Red of Green or Blue, and the\n",
    "  resulting color intensities combine to determine the color in the 2D\n",
    "  displayed image.\n",
    "* These methods of color encoding can apply to both to very simple and very\n",
    "  complex images. Some types of image (e.g. brain images) use\n",
    "  higher-dimensionality to encode information other than color (e.g. time).\n",
    "\n",
    "On the [next page](2_skimage_intro) we will formally introduce Scikit-image,\n",
    "which uses NumPy image arrays as its fundamental representation of images."
   ]
  },
  {
   "cell_type": "markdown",
   "id": "7d2420e2",
   "metadata": {},
   "source": [
    "# References\n",
    "\n",
    "* [Scientific Python Lecture Notes - image\n",
    "  processing](https://lectures.scientific-python.org/advanced/image_processing)\n",
    "* [Scientific Python Lecture Notes\n",
    "  - scikit-image](https://lectures.scientific-python.org/packages/scikit-image/index.html)\n",
    "* [Nipraxis course - arrays and\n",
    "  images](https://textbook.nipraxis.org/arrays_and_images.html)\n",
    "* [Nipraxis course - three-dimensional\n",
    "  arrays](https://textbook.nipraxis.org/arrays_3d.html)\n",
    "\n",
    "with further inspiration from `skimage` tutorials."
   ]
  }
 ],
 "metadata": {
  "jupytext": {
   "formats": "ipynb,Rmd"
  },
  "kernelspec": {
   "display_name": "Python (Pyodide)",
   "name": "python"
  }
 },
 "nbformat": 4,
 "nbformat_minor": 5
}

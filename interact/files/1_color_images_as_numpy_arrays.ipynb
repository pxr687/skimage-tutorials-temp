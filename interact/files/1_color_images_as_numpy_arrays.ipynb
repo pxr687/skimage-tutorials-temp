{
 "cells": [
  {
   "cell_type": "markdown",
   "id": "6e9ee229",
   "metadata": {},
   "source": [
    "# What about color? "
   ]
  },
  {
   "cell_type": "markdown",
   "id": "7a688535",
   "metadata": {},
   "source": [
    "All of the arrays we have encountered [so far](0_images_as_numpy_arrays) contain just one value at each array pixel location. This page will look at image arrays with more complex shapes, and show how this can encode color information, giving us beautiful color images, that create deep aesthetic experiences, like this one:\n",
    "\n",
    "![](images/xenomorph.jpg)\n",
    "\n",
    "(Photo by\n",
    "[Stockcake](https://stockcake.com/i/alien-head-close-up_1354662_1093149)).\n",
    "\n",
    "First, some library imports:"
   ]
  },
  {
   "cell_type": "code",
   "execution_count": null,
   "id": "2f118da2",
   "metadata": {},
   "outputs": [],
   "source": [
    "# Library imports.\n",
    "import numpy as np\n",
    "import matplotlib.pyplot as plt\n",
    "\n",
    "# Set 'gray' as the default colormap.\n",
    "plt.rcParams['image.cmap'] = 'gray'\n",
    "\n",
    "# Import a custom function to give hints for some exercises.\n",
    "# This is a function we wrote for the tutorial.\n",
    "from hints import hint_corrupted_camera"
   ]
  },
  {
   "cell_type": "markdown",
   "id": "ede90df0",
   "metadata": {},
   "source": [
    "Below, we create some low-resolution 2D image arrays, with which to explore color representation:"
   ]
  },
  {
   "cell_type": "code",
   "execution_count": null,
   "id": "43a8377d",
   "metadata": {},
   "outputs": [],
   "source": [
    "# A two-dimensional numpy array of 1's and 0's.\n",
    "two_D_ones_and_zeros = np.array([[1, 0,], \n",
    "                                 [0, 1,]],\n",
    "                                 dtype=float)\n",
    "\n",
    "# A two dimensional numpy array of numbers between 0 and 10.\n",
    "two_D_other_integers = np.array([[0, 10], \n",
    "                                 [5, 3]],\n",
    "                                 dtype=float)\n",
    "\n",
    "# Another image array.\n",
    "smiley = np.array([[0, 0, 0, 0, 0, 0, 0, 0],\n",
    "                   [0, 0, 0, 0, 0, 0, 0, 0],\n",
    "                   [0, 0, 1, 0, 0, 1, 0, 0],\n",
    "                   [0, 0, 1, 0, 0, 1, 0, 0],\n",
    "                   [0, 0, 0, 0, 0, 0, 0, 0],\n",
    "                   [0, 1, 0, 0, 0, 0, 1, 0],\n",
    "                   [0, 1, 1, 0, 0, 1, 1, 0],\n",
    "                   [0, 0, 1, 1, 1, 1, 0, 0],\n",
    "                   [0, 0, 0, 1, 1, 0, 0, 0],\n",
    "                   [0, 0, 0, 0, 0, 0, 0, 0],\n",
    "                   [0, 0, 0, 0, 0, 0, 0, 0]],\n",
    "                 dtype=float)"
   ]
  },
  {
   "cell_type": "markdown",
   "id": "15f483c7",
   "metadata": {},
   "source": [
    "In our humble `two_D_ones_and_zeros` image array, each pixel is either a 1 or 0 in the `float64` `dtype`:"
   ]
  },
  {
   "cell_type": "code",
   "execution_count": null,
   "id": "a6fb1d10",
   "metadata": {},
   "outputs": [],
   "source": [
    "# Show the array, via NumPy, then plot.\n",
    "print(two_D_ones_and_zeros)\n",
    "plt.matshow(two_D_ones_and_zeros)\n",
    "plt.colorbar();"
   ]
  },
  {
   "cell_type": "code",
   "execution_count": null,
   "id": "8bd7fecd",
   "metadata": {},
   "outputs": [],
   "source": [
    "two_D_ones_and_zeros.dtype"
   ]
  },
  {
   "cell_type": "markdown",
   "id": "ab4454c4",
   "metadata": {},
   "source": [
    "Conversely, the array `two_D_other_integers` contains different integer values. Note that, though these *numbers* themselves are integers, they are represented by NumPy as `float64` values:"
   ]
  },
  {
   "cell_type": "code",
   "execution_count": null,
   "id": "92cf3de3",
   "metadata": {},
   "outputs": [],
   "source": [
    "# Another image from earlier.\n",
    "print(two_D_other_integers)\n",
    "plt.matshow(two_D_other_integers)\n",
    "plt.colorbar();"
   ]
  },
  {
   "cell_type": "markdown",
   "id": "407224d2",
   "metadata": {},
   "source": [
    "The first image - with black and white squares only, no gray - is a *binary image*. This is an image where each array pixel contains only one of two values. In this case the two values are 0 or 1, with 0 corresponding to black pixels and 1 corresponding to white pixels.\n",
    "\n",
    "The second image - black, white and gray squares - is a *monochrome image*. This image contains more than two unique values. It has black pixels (the lowest pixel values, 0); white pixels (the highest pixel values, 1); and gray pixels (intermediate pixel values, > 0 but < 1).\n",
    "\n",
    "**This is important:** for two-dimensional arrays like these each array pixel is just a *single number*. Because of this, we can refer to both of these arrays as *single-channel image arrays*. Each individual array pixel value determines the *intensity* of that pixel, e.g. the brightness or darkness of that pixel. \n",
    "\n",
    "As we saw on the [last page](0_images_as_numpy_arrays), a colormap (e.g. `viridis` or `gray`) maps  each single-valued pixel intensity to a gradient of colors/shades. This is a black-gray-white gradient for the `gray` colormap and a purple-yellow gradient for the `viridis` colormap. Technically speaking, for single-channel image arrays, the intensity values only convey black-white-gray information - the `viridis` colormap merely *translates* this black-gray-white information into a colored presentation for the purposes of display. \n",
    "\n",
    "What `viridis` is doing is called [*pseudo-coloring*](https://www.spiedigitallibrary.org/conference-proceedings-of-spie/0048/0000/Digital-Image-Processing-With-Pseudo-Color/10.1117/12.954071.short) - it is mapping black-gray-white information to display colors. The plot below show's both arrays, with both colormaps, for comparison:"
   ]
  },
  {
   "cell_type": "code",
   "execution_count": null,
   "id": "0bb9ff0d",
   "metadata": {},
   "outputs": [],
   "source": [
    "# An image from earlier (using the `gray` colormap)\n",
    "plt.figure(figsize=(8, 8))\n",
    "plt.subplot(2, 2, 1)\n",
    "plt.matshow(two_D_ones_and_zeros,\n",
    "            fignum=0)\n",
    "plt.title('`gray` colormap \\n(binary image)')\n",
    "plt.colorbar()\n",
    "plt.subplot(2, 2, 2)\n",
    "# Another image from earlier (using the `gray` colormap)\n",
    "plt.matshow(two_D_other_integers,\n",
    "            fignum=0)\n",
    "plt.title('`gray` colormap \\n(monochrome image)')\n",
    "plt.colorbar();\n",
    "\n",
    "# Show with pseudocolor using the `viridis` colormap\n",
    "plt.subplot(2, 2, 3)\n",
    "plt.matshow(two_D_ones_and_zeros,\n",
    "            cmap='viridis',\n",
    "            fignum=0)\n",
    "plt.title('`viridis` colormap \\n(binary image)')\n",
    "plt.colorbar()\n",
    "plt.subplot(2, 2, 4)\n",
    "plt.matshow(two_D_other_integers, \n",
    "            cmap='viridis',\n",
    "            fignum=0)\n",
    "plt.title('`viridis` colormap \\n(monochrome image)')\n",
    "plt.colorbar()\n",
    "plt.tight_layout();"
   ]
  },
  {
   "cell_type": "markdown",
   "id": "b26f8856",
   "metadata": {},
   "source": [
    "We can say then, that the plots on the bottom row are *displayed using pseudo-color*. The original image arrays only contain black-white-gray information in their pixel intensity values; they do not contain *true color* information. **This will be true of any two-dimensional image array**, and both of these image arrays are two-dimensional:"
   ]
  },
  {
   "cell_type": "code",
   "execution_count": null,
   "id": "428cfcaf",
   "metadata": {},
   "outputs": [],
   "source": [
    "# Show the dimensionality of our binary image array.\n",
    "two_D_ones_and_zeros.shape"
   ]
  },
  {
   "cell_type": "code",
   "execution_count": null,
   "id": "14695b61",
   "metadata": {},
   "outputs": [],
   "source": [
    "# Show the dimensionality of our grayscale image array.\n",
    "two_D_other_integers.shape"
   ]
  },
  {
   "cell_type": "markdown",
   "id": "41c8ce39",
   "metadata": {},
   "source": [
    "An image which has what we will call *true color* contains information in each array pixel about more than just *intensity* - it also contains information about *color*. So, to hammer this point home: grayscale and binary images displayed with the `viridis` colormap do not contain true color information in their array pixel values. Instead Matplotlib is *displaying* binary and grayscale information using colors. To introduce true color into the image, we need a spooky third dimension... \n",
    "\n",
    "# True Colour in 3D\n",
    "\n",
    "Sounds Sci-Fi! But what does it mean?\n",
    "\n",
    "Let's focus on our lowly 4-pixel binary array (4 *array pixels*, that is):"
   ]
  },
  {
   "cell_type": "code",
   "execution_count": null,
   "id": "32a6bf9b",
   "metadata": {},
   "outputs": [],
   "source": [
    "# Show the array.\n",
    "two_D_ones_and_zeros"
   ]
  },
  {
   "cell_type": "markdown",
   "id": "7895455e",
   "metadata": {},
   "source": [
    "Let's visualise this array with Matplotlib:"
   ]
  },
  {
   "cell_type": "code",
   "execution_count": null,
   "id": "778b5606",
   "metadata": {},
   "outputs": [],
   "source": [
    "# Our 4-pixel, binary array.\n",
    "plt.matshow(two_D_ones_and_zeros);"
   ]
  },
  {
   "cell_type": "markdown",
   "id": "67f53d65",
   "metadata": {},
   "source": [
    "Now, picture this array as physical object, like a tray, standing on one side, in physical space:\n",
    "\n",
    "![](images/one_slice.png)\n",
    "\n",
    "Now, imagine \"stacking\" multiple copies of this array, and standing them in front of each other, like this:\n",
    "\n",
    "![](images/two_slice.png)\n",
    "\n",
    "Let's refer to each of these objects as a *slice*. So we have two slices in the image above, one in the foreground, and one in the background.\n",
    "\n",
    "We can do the equivalent of this three-dimensional stacking - to our actual binary arrays - using the helpfully named `np.stack()` function. We can use `np.stack()` to - as the name implies - stack two 2D arrays into a 3D array, like in the image shown above. To do this, we stack over the third axis using the argument `axis=2`. This adds new arrays to the stack along the third dimension, when we count the dimensions from 0, as we do in Python indexing:"
   ]
  },
  {
   "cell_type": "code",
   "execution_count": null,
   "id": "3d4f108a",
   "metadata": {},
   "outputs": [],
   "source": [
    "# Stack the arrays in the third dimension.\n",
    "three_D_stack_array = np.stack([two_D_ones_and_zeros,\n",
    "                                two_D_ones_and_zeros],\n",
    "                                axis=2)\n",
    "three_D_stack_array "
   ]
  },
  {
   "cell_type": "markdown",
   "id": "e3f86458",
   "metadata": {},
   "source": [
    "At first glance, the \"raw\" output from NumPy may not look like the \"stacked\" slices in the image above, but please bear with us.\n",
    "Our 3D stacked array is of the right shape:"
   ]
  },
  {
   "cell_type": "code",
   "execution_count": null,
   "id": "0eb1016a",
   "metadata": {},
   "outputs": [],
   "source": [
    "three_D_stack_array.shape"
   ]
  },
  {
   "cell_type": "markdown",
   "id": "c6b17bd9",
   "metadata": {},
   "source": [
    "We can refer to each dimension in the `shape` of `(2, 2, 2)` as `(x, y, z)`. These dimensions map to the image as shown below:\n",
    "\n",
    "![](images/two_slice_dims.png)\n",
    "\n",
    "We can read this shape as \"two slices, each with two rows and two columns\", which now clearly corresponds to the image.\n",
    "\n",
    "Imagine being in the same physical space as these slices. Starting at the front of the image, you begin walking toward the first slice (nearest to the reader, in the foreground), then past it toward the second slice (furthest from the reader, in the background). So, in this imaginative exercise, you are walking along the $z$ dimension.\n",
    "\n",
    "We can use indexing operations to create the experience of this walk, in \"Python space\". Because we are dealing with a three-dimensional array we use three elements for indexing, separated by commas. The first element is for rows, the second for columns, and the third for slices. We can retrieve the first slice using:"
   ]
  },
  {
   "cell_type": "code",
   "execution_count": null,
   "id": "bdff9f05",
   "metadata": {},
   "outputs": [],
   "source": [
    "# Get the first 2D slice from the 3D image.\n",
    "three_D_stack_array[:, :, 0]"
   ]
  },
  {
   "cell_type": "markdown",
   "id": "0f7397a6",
   "metadata": {},
   "source": [
    "And we can grab the second slice using:"
   ]
  },
  {
   "cell_type": "code",
   "execution_count": null,
   "id": "25a17bbd",
   "metadata": {},
   "outputs": [],
   "source": [
    "# Get the second 2D slice from the 3D image.\n",
    "three_D_stack_array[:, :, 1]"
   ]
  },
  {
   "cell_type": "markdown",
   "id": "e9093b0b",
   "metadata": {},
   "source": [
    "The image below shows these indexing operations represented in three-dimensional space:\n",
    "\n",
    "![](images/two_slice_annotated.png)\n",
    "\n",
    "So far we have two slices in the third dimension. We can easily add a third slice, using `np.stack()`:"
   ]
  },
  {
   "cell_type": "code",
   "execution_count": null,
   "id": "6629ead6",
   "metadata": {},
   "outputs": [],
   "source": [
    "# Add a third slice.\n",
    "three_D_stack_array = np.stack([two_D_ones_and_zeros,\n",
    "                                two_D_ones_and_zeros,\n",
    "                                two_D_ones_and_zeros], # Add a third slice in the third dimension.\n",
    "                                axis=2)\n",
    "three_D_stack_array"
   ]
  },
  {
   "cell_type": "markdown",
   "id": "a56ec914",
   "metadata": {},
   "source": [
    "The `shape` of this new array now reads as \"three slices, each with two rows and two columns\":"
   ]
  },
  {
   "cell_type": "code",
   "execution_count": null,
   "id": "b3869b8e",
   "metadata": {},
   "outputs": [],
   "source": [
    "three_D_stack_array.shape"
   ]
  },
  {
   "cell_type": "markdown",
   "id": "a9ec66b3",
   "metadata": {},
   "source": [
    "We can visualise this new array, in the same three-dimensional space:\n",
    "\n",
    "![](images/three_slice.png)\n",
    "\n",
    "Again, we can use indexing to \"walk\" through the slices, along the $z$ dimension:"
   ]
  },
  {
   "cell_type": "code",
   "execution_count": null,
   "id": "650f618c",
   "metadata": {},
   "outputs": [],
   "source": [
    "# First 2D slice of the stack.\n",
    "three_D_stack_array[:, :, 0]"
   ]
  },
  {
   "cell_type": "code",
   "execution_count": null,
   "id": "b8134a48",
   "metadata": {},
   "outputs": [],
   "source": [
    "# Second 2D slice of the stack.\n",
    "three_D_stack_array[:, :, 1]"
   ]
  },
  {
   "cell_type": "code",
   "execution_count": null,
   "id": "c50596d8",
   "metadata": {},
   "outputs": [],
   "source": [
    "# Third 2D slice of the stack.\n",
    "three_D_stack_array[:, :, 2]"
   ]
  },
  {
   "cell_type": "markdown",
   "id": "fd7a3e7e",
   "metadata": {},
   "source": [
    "![](images/three_slice_annotated.png)\n",
    "\n",
    "So far we have visualised these slices using a similar graphic to depicting an individual slice using the `gray` Matplotlib colormap. We can just as well visualise the slices using the numbers they contain:\n",
    "\n",
    "![](images/three_slice_nums_only_annotated.png)\n",
    "\n",
    "Remember, the actual numbers in each \"slice\" are of the `float64` `dtype` and so contain (empty) decimal places. However, we will show the numbers just as 0 or 1, to keep the image uncluttered. Above we said we wanted to introduce a third dimension to introduce \"true\" color information into the image. Well, now we have three dimensions surely plotting our image will render a vibrantly colored picture?:"
   ]
  },
  {
   "cell_type": "code",
   "execution_count": null,
   "id": "2eb9871a",
   "metadata": {},
   "outputs": [],
   "source": [
    "# Ooof...not what we wanted...\n",
    "plt.matshow(three_D_stack_array);"
   ]
  },
  {
   "cell_type": "markdown",
   "id": "a4579ea0",
   "metadata": {},
   "source": [
    "Ok, that is not what we wanted - nothing has changed! Interestingly though, the 3D image array still renders as a 2D display image:\n",
    "\n",
    "![](images/three_slice_all_1s.png)\n",
    "\n",
    "What happens if we set every element, in every slice, to equal 0? To do this, first we create a 2D, 4-pixel array containing only 0's:"
   ]
  },
  {
   "cell_type": "code",
   "execution_count": null,
   "id": "2775cf73",
   "metadata": {},
   "outputs": [],
   "source": [
    "# Create a 4-pixel array containing only 0's.\n",
    "two_D_zeros = two_D_ones_and_zeros * 0.\n",
    "\n",
    "two_D_zeros"
   ]
  },
  {
   "cell_type": "markdown",
   "id": "6c69f9a8",
   "metadata": {},
   "source": [
    "Then, we stack into three dimensions with `np.stack()`:"
   ]
  },
  {
   "cell_type": "code",
   "execution_count": null,
   "id": "93ef839f",
   "metadata": {},
   "outputs": [],
   "source": [
    "# Stack three of these arrays, making a 3D array containing only 0's.\n",
    "three_D_zeros = np.stack([two_D_zeros,\n",
    "                          two_D_zeros, \n",
    "                          two_D_zeros],\n",
    "                          axis=2)\n",
    "three_D_zeros"
   ]
  },
  {
   "cell_type": "markdown",
   "id": "9f5791e7",
   "metadata": {},
   "source": [
    "We can visualise this new 3D array as:\n",
    "\n",
    "![](images/three_slice_zeros.png)\n",
    "\n",
    "Next, we plot with Matplotlib:"
   ]
  },
  {
   "cell_type": "code",
   "execution_count": null,
   "id": "14c6eac1",
   "metadata": {},
   "outputs": [],
   "source": [
    "# Plot the 3D array which contains only 0s.\n",
    "plt.matshow(three_D_zeros);"
   ]
  },
  {
   "cell_type": "markdown",
   "id": "21c502c9",
   "metadata": {},
   "source": [
    "Ok, so now we have a fully black 2D display image, from our 3D array which contains only 0's:\n",
    "\n",
    "![](images/three_slice_zeros_visualised.png)\n",
    "\n",
    "As an experiment, let's see what happens if put 1's on the diagonal in the *first slice only*. To do this, we will stack the `two_D_ones_and_zeros` array as the first slice, and `two_D_zeros` as the other two slices:"
   ]
  },
  {
   "cell_type": "code",
   "execution_count": null,
   "id": "09cd0e32",
   "metadata": {},
   "outputs": [],
   "source": [
    "# Show the array (for the first slice).\n",
    "two_D_ones_and_zeros"
   ]
  },
  {
   "cell_type": "code",
   "execution_count": null,
   "id": "1b5e0a65",
   "metadata": {},
   "outputs": [],
   "source": [
    "# Show the array (for the second and third slices).\n",
    "two_D_zeros"
   ]
  },
  {
   "cell_type": "code",
   "execution_count": null,
   "id": "dd3ca649",
   "metadata": {},
   "outputs": [],
   "source": [
    "three_D_stack_array_altered_first = np.stack([two_D_ones_and_zeros, # LOOK HERE!\n",
    "                                              two_D_zeros, \n",
    "                                              two_D_zeros], \n",
    "                                              axis=2)\n",
    "three_D_stack_array_altered_first "
   ]
  },
  {
   "cell_type": "markdown",
   "id": "b7d322bd",
   "metadata": {},
   "source": [
    "More intuitively visualised, our new three dimensional array looks like this:\n",
    "\n",
    "![](images/three_slice_red.png)\n",
    "\n",
    "You can see the values of 1 in the top-left and bottom-right elements of the first slice, all other elements are 0. Once more we can \"walk\" along the $z$ dimension, using indexing operations:"
   ]
  },
  {
   "cell_type": "code",
   "execution_count": null,
   "id": "1b38d669",
   "metadata": {},
   "outputs": [],
   "source": [
    "# First 2D slice of the stack.\n",
    "three_D_stack_array_altered_first[:, :, 0]"
   ]
  },
  {
   "cell_type": "code",
   "execution_count": null,
   "id": "fcae0f9d",
   "metadata": {},
   "outputs": [],
   "source": [
    "# Second 2D slice of the stack.\n",
    "three_D_stack_array_altered_first[:, :, 1]"
   ]
  },
  {
   "cell_type": "code",
   "execution_count": null,
   "id": "c2b92b64",
   "metadata": {},
   "outputs": [],
   "source": [
    "# Third 2D slice of the stack.\n",
    "three_D_stack_array_altered_first[:, :, 2]"
   ]
  },
  {
   "cell_type": "markdown",
   "id": "bc293b58",
   "metadata": {},
   "source": [
    "Now let's see what happens if we plot this new 3D array using Matplotlib:"
   ]
  },
  {
   "cell_type": "code",
   "execution_count": null,
   "id": "e8330c90",
   "metadata": {},
   "outputs": [],
   "source": [
    "plt.matshow(three_D_stack_array_altered_first);"
   ]
  },
  {
   "cell_type": "markdown",
   "id": "f573e6c3",
   "metadata": {},
   "source": [
    "Great! We have now used the third dimension to introduce *true color information* into our image array. We can visualise this process using the graphic below:\n",
    "\n",
    "![](images/three_slice_red_visualised.png)\n",
    "\n",
    "Just to clarify, again our *array image* is three-dimensional, but our *display image* - e.g. the image rendered/displayed by Matplotlib - is two-dimensional, like the visualisations we saw earlier. In virtue of being 3D, the image array itself contains three values for each array pixel - with one value in each \"slice\" in the third dimension.\n",
    "\n",
    "To produce this red and black square, we altered the *first slice* of the 3D array, such that it contains 1's along its diagonal, but all other elements in the array are 0's.\n",
    "\n",
    "The first slice of the third dimension - in our 3D image array - controls the amount of red in the image. We can therefore (for now) call this slice the *red slice*. \n",
    "\n",
    "What happens if we alter only the *second slice* in the third dimension, so that only it contains 1's along its diagonal, and all other array elements equal 0?"
   ]
  },
  {
   "cell_type": "code",
   "execution_count": null,
   "id": "81669fde",
   "metadata": {},
   "outputs": [],
   "source": [
    "three_D_stack_array_altered_second = np.stack([two_D_zeros, \n",
    "                                               two_D_ones_and_zeros, # LOOK HERE! Now we alter only the second slice.\n",
    "                                               two_D_zeros], \n",
    "                                               axis=2)\n",
    "three_D_stack_array_altered_second"
   ]
  },
  {
   "cell_type": "markdown",
   "id": "1bc6de9b",
   "metadata": {},
   "source": [
    "We can visualise this new 3D array as:\n",
    "\n",
    "![](images/three_slice_green.png)\n",
    "\n",
    "We can proceed with another \"walk\" through the image again, with the familiar indexing operations:"
   ]
  },
  {
   "cell_type": "code",
   "execution_count": null,
   "id": "d508cf2a",
   "metadata": {},
   "outputs": [],
   "source": [
    "# First 2D place of the stack.\n",
    "three_D_stack_array_altered_second[:, :, 0]"
   ]
  },
  {
   "cell_type": "code",
   "execution_count": null,
   "id": "b233737b",
   "metadata": {},
   "outputs": [],
   "source": [
    "# Second 2D place of the stack.\n",
    "three_D_stack_array_altered_second[:, :, 1]"
   ]
  },
  {
   "cell_type": "code",
   "execution_count": null,
   "id": "4661a6f9",
   "metadata": {},
   "outputs": [],
   "source": [
    "# Third 2D slice of the stack.\n",
    "three_D_stack_array_altered_second[:, :, 2]"
   ]
  },
  {
   "cell_type": "markdown",
   "id": "098c798e",
   "metadata": {},
   "source": [
    "How does this 3D array look when we visualise it with Matplotlib?"
   ]
  },
  {
   "cell_type": "code",
   "execution_count": null,
   "id": "aad3519c",
   "metadata": {},
   "outputs": [],
   "source": [
    "plt.matshow(three_D_stack_array_altered_second);"
   ]
  },
  {
   "cell_type": "markdown",
   "id": "e7980b60",
   "metadata": {},
   "source": [
    "Here we have altered only the second slice, such that only it contains nonzero (1) values. We now see green squares in the display image:\n",
    "\n",
    "![](images/three_slice_green_visualised.png)\n",
    "\n",
    "Alterations to the second slice in the third dimension control the amount of green in the image - the second slice in the third dimension is therefore the *green slice*.\n",
    "\n",
    "For completeness, let's change only the *third slice* in the third dimension:"
   ]
  },
  {
   "cell_type": "code",
   "execution_count": null,
   "id": "23ebd98d",
   "metadata": {},
   "outputs": [],
   "source": [
    "# Put 1 values in the third slice only.\n",
    "three_D_stack_array_altered_third = np.stack([two_D_zeros,\n",
    "                                              two_D_zeros, \n",
    "                                              two_D_ones_and_zeros ], # LOOK HERE!\n",
    "                                              axis=2)\n",
    "three_D_stack_array_altered_third"
   ]
  },
  {
   "cell_type": "markdown",
   "id": "a9a48d9b",
   "metadata": {},
   "source": [
    "Which gives us the following stacked slices:\n",
    "\n",
    "![](images/three_slice_blue.png)\n",
    "\n",
    "...and the following \"walk\" through the slices, via array indexing:"
   ]
  },
  {
   "cell_type": "code",
   "execution_count": null,
   "id": "c5babc27",
   "metadata": {},
   "outputs": [],
   "source": [
    "# First 2D slice of the stack.\n",
    "three_D_stack_array_altered_third[:, :, 0]"
   ]
  },
  {
   "cell_type": "code",
   "execution_count": null,
   "id": "9a5adb47",
   "metadata": {},
   "outputs": [],
   "source": [
    "# Second 2D slice of the stack.\n",
    "three_D_stack_array_altered_third[:, :, 1]"
   ]
  },
  {
   "cell_type": "code",
   "execution_count": null,
   "id": "e333bda0",
   "metadata": {},
   "outputs": [],
   "source": [
    "# Third 2D slice of the stack.\n",
    "three_D_stack_array_altered_third[:, :, 2]"
   ]
  },
  {
   "cell_type": "markdown",
   "id": "072cc805",
   "metadata": {},
   "source": [
    "Finally, when plotted, we get:"
   ]
  },
  {
   "cell_type": "code",
   "execution_count": null,
   "id": "92559c94",
   "metadata": {},
   "outputs": [],
   "source": [
    "plt.matshow(three_D_stack_array_altered_third);"
   ]
  },
  {
   "cell_type": "markdown",
   "id": "fed5e712",
   "metadata": {},
   "source": [
    "So, this has given us:\n",
    "\n",
    "![](images/three_slice_blue_visualised.png)\n",
    "\n",
    "## Colour channels\n",
    "\n",
    "What is happening here?\n",
    "\n",
    "Recall that we referred to the 2D arrays that we used at the start of this tutorial as *single-channel image arrays*? The 3D arrays we just created are  *three-channel image arrays*. This means that each array pixel has three values, one in each slice of the 3D stacks we created. You can think of each slice as being one *color channel*. Each color channel controls the amount of a specific color in the image, depending on the values of the array pixels in that slice.\n",
    "\n",
    "Using these three-channel arrays, when Matplotlib produces a two-dimensional *display image* (e.g. the matrix with colored squares along the diagonal and black squares elsewhere). However, behind this 2D display image there are three slices in the third dimension, each with the same number of rows and columns as the final 2D display image. Each pixel (e.g. each array element) in the display image gets its color information from a mix of the corresponding elements in each slice in the 3D image array.\n",
    "\n",
    "As we have seen, the first slice is the red channel, the second slice is the green channel and the third slice is the blue channel. The intensities in each color channel are *mixed* to produce the rendered 2D image:\n",
    "\n",
    "![](images/color_channels_all.png)\n",
    "\n",
    "Now, despite the visualisations of our array containing only one primary color, the color channels are in fact being mixed together. However, because we have set two of the slices to contain only 0's, we are essentially \"switching off\" those color channels in the final mix (e.g. in the image displayed by Matplotlib). \n",
    "\n",
    "Other non-primary colors can be created using different blends of the primary colors (red, green, blue) in each slice of the array. For `float64` image data, you can think of 0 as meaning 0% and 1 as meaning 100%, 0.5 meaning 50% and so on. So a 1 in the red slice means 100% red is mixed in for that pixel, along with the percentages from the other color channels (which in the arrays above, are 0's).\n",
    "\n",
    "We can see this by choosing intensity values randomly for each color channel. The function `np.random.uniform()` can supply us with three random decimal numbers between 0 and 1. Run the cell below a few times if you are using this tutorial interactively, to see the random draw a few times:"
   ]
  },
  {
   "cell_type": "code",
   "execution_count": null,
   "id": "7e996a17",
   "metadata": {},
   "outputs": [],
   "source": [
    "# Three random integers.\n",
    "X1, X2, X3 = np.random.uniform(size=3).round(2)\n",
    "\n",
    "print(f\"X1 = {X1}\\nX2 = {X2}\\nX3 = {X3}\")"
   ]
  },
  {
   "cell_type": "markdown",
   "id": "923e3b2f",
   "metadata": {},
   "source": [
    "We will use the `X1` value from this random draw to set nonzero diagonal values in the *red* color channel (e.g. in the *first* slice of the stack).\n",
    "\n",
    "We will use the `X2` value from this random draw to set nonzero diagonal values in the *green* color channel (e.g. in the *second* slice of the stack).\n",
    "\n",
    "We will use the `X3` value from this random draw to set nonzero diagonal values in  the *blue* color channel (e.g. in the *third* slice of the stack).\n",
    "\n",
    "We will then view the resulting display image. Again, if you are using this tutorial interactively, run the cell a few times to see multiple random mixes across the color channels:"
   ]
  },
  {
   "cell_type": "code",
   "execution_count": null,
   "id": "a846d0b9",
   "metadata": {},
   "outputs": [],
   "source": [
    "# Get three random integers between 0 and 255\n",
    "X1, X2, X3 = np.random.uniform(size=3).round(2)\n",
    "\n",
    "# Display the values of the random integers.\n",
    "print(f\"Red (X1) = {X1}\\nGreen (X2) = {X2}\\nBlue (X3) = {X3}\")\n",
    "\n",
    "# Create a 3D stack, with the nonzero values in each slice set by the\n",
    "# random integers.\n",
    "three_D_stack_array_altered_blend= np.stack([two_D_ones_and_zeros * X1,\n",
    "                                             two_D_ones_and_zeros * X2,\n",
    "                                             two_D_ones_and_zeros * X3], \n",
    "                                             axis=2)\n",
    "# Visualise the 3D stack with Matplotlib\n",
    "plt.matshow(three_D_stack_array_altered_blend);"
   ]
  },
  {
   "cell_type": "markdown",
   "id": "6f9efd54",
   "metadata": {},
   "source": [
    "So, each two-dimensional display image has a \"hidden\" three-dimensional array behind it. Each slice of the third dimension is a color channel. The mix of values at a given element in each color channel determines the color of that pixel in the rendered image. You may want to view this image in a new browser window, to see more clearly the exact mixes of the color channels, which are shown above each square on the right-hand side of the image:\n",
    "\n",
    "![](images/three_slice_algebraic_multi.png)\n",
    "\n",
    "You can view lots of random mixes across the color channels, as a grid of plots, by running the cell below:"
   ]
  },
  {
   "cell_type": "code",
   "execution_count": null,
   "id": "b45f0cc0",
   "metadata": {},
   "outputs": [],
   "source": [
    "# A custom function to demonstrate many mixes of values across the three\n",
    "# color channels.\n",
    "from random_colors import random_color_array\n",
    "random_color_array(8, 8)"
   ]
  },
  {
   "cell_type": "markdown",
   "id": "1b94c8e7",
   "metadata": {},
   "source": [
    "We have now completed our perilous expedition into the third dimension... We have seen that we can use 3D arrays to encode *true color* information. This means that the image array itself contains color information for each pixel, where we are *not* just pseudocoloring grayscale information using `viridis` or another colormap...\n",
    "\n",
    "Let's explore a color image of a real object. We will introduce Scikit-image (`skimage`) in more detail on the [next page](2_skimage_intro), but for now we will again use the straightforwardly named `imread()` function to load an image from a file:"
   ]
  },
  {
   "cell_type": "code",
   "execution_count": null,
   "id": "f48e5a77",
   "metadata": {},
   "outputs": [],
   "source": [
    "# Import the input/output module from skimage.\n",
    "from skimage import io\n",
    "\n",
    "# Load our image array.\n",
    "coffee = io.imread(\"images/coffee.png\")\n",
    "\n",
    "# Show the \"raw\" array output.\n",
    "coffee"
   ]
  },
  {
   "cell_type": "markdown",
   "id": "5b8e2b7a",
   "metadata": {},
   "source": [
    "The cell below defines a function to let us quickly view the attributes of any image array. You'll noticed that this function just uses NumPy attributes, given that we are representing images as nothing but NumPy arrays:"
   ]
  },
  {
   "cell_type": "code",
   "execution_count": null,
   "id": "0d8239bc",
   "metadata": {},
   "outputs": [],
   "source": [
    "def show_attributes(img):\n",
    "\n",
    "    print(\"Type:\", type(img))\n",
    "    print(\"dtype:\", img.dtype)\n",
    "    print(\"Shape:\", img.shape)\n",
    "    print(\"Max Pixel Value:\", img.max().round(2))\n",
    "    print(\"Min Pixel Value:\", img.min().round(2))"
   ]
  },
  {
   "cell_type": "code",
   "execution_count": null,
   "id": "81f06134",
   "metadata": {},
   "outputs": [],
   "source": [
    "# Inspect the attributes of the `coffee` image array.\n",
    "show_attributes(coffee)"
   ]
  },
  {
   "cell_type": "markdown",
   "id": "03888505",
   "metadata": {},
   "source": [
    "We can see that this image has three dimensions, with three slices in the third dimension. We are therefore dealing with a *true color* image with three color channels. We can also see that the image array represents the most intense pixel values with the number 255, and the least intense values with the number 0, in each color channel. The `dtype` is `uint8`, in contrast the `float64` `dtype` we have been using in our custom-made low-resolution image arrays.\n",
    "\n",
    "Let's view the image with `imshow()`:"
   ]
  },
  {
   "cell_type": "code",
   "execution_count": null,
   "id": "ad8c1dff",
   "metadata": {},
   "outputs": [],
   "source": [
    "# Show the array.\n",
    "plt.imshow(coffee);"
   ]
  },
  {
   "cell_type": "markdown",
   "id": "87001289",
   "metadata": {},
   "source": [
    "Looks great! Though at the time of writing one of the authors is on their third coffee today...\n",
    "\n",
    "# Pixels and `dtype`\n",
    "\n",
    "Why is the highest pixel value in the `coffee` image the bizarrely specific integer value of 255? We will talk more about image data types [later](2_skimage_intro), but other values/`dtypes` would work here as well. For the two `dtype`s we have seen, the conventions are:\n",
    "\n",
    "0 - 1: where 0 is the least intense, 1 is the most intense (`float64`).\n",
    "\n",
    "0 - 255: where 0 is the least intense, 255 is the most intense (`uint8`).\n",
    "\n",
    "You will see both conventions in images you encounter \"in the wild\", and Sci-kit image supports both formats (as well as multiple other formats - see the table below). Neglecting to pay attention to `dtype` is a very common source of errors when dealing with image arrays, so keep track of it, and deliberately specify it as often as possible!\n",
    "\n",
    "![](images/dtypes_skimage.png)\n",
    "\n",
    "The plot below shows how to get the primary colors (red, green, blue) using both the `float64` and `unint8` convention for the maximum and minimum pixel values:"
   ]
  },
  {
   "cell_type": "code",
   "execution_count": null,
   "id": "1ed8de5d",
   "metadata": {},
   "outputs": [],
   "source": [
    "# Use a custom function to plot the maximum intensity values in the diagonals, for `int` and `float` data,\n",
    "# using our familiar 1's and 0's array.\n",
    "from random_colors import plot_int_float\n",
    "plot_int_float();"
   ]
  },
  {
   "cell_type": "markdown",
   "id": "d3093c31",
   "metadata": {},
   "source": [
    "Ok, now we have clarified the mystical 255 pixel value, let's use a for loop to extract each color channel of `coffee` image. What do you think Matplotlib will show when we visualise each 2D slice of the 3D image separately?"
   ]
  },
  {
   "cell_type": "code",
   "execution_count": null,
   "id": "2919964a",
   "metadata": {},
   "outputs": [],
   "source": [
    "# The name of each color channel.\n",
    "RGB_chan_names = [\"Red Channel\",\n",
    "                  \"Green Channel\",\n",
    "                  \"Blue Channel\"]\n",
    "\n",
    "# Loop through, extract each channel as a 2D slice, and visualise.\n",
    "plt.figure(figsize=(15, 5))\n",
    "for i in np.arange(len(RGB_chan_names)):\n",
    "        chan_name = RGB_chan_names[i]\n",
    "        plt.subplot(1, 3, i+1)\n",
    "        current_slice = coffee[:, :, i]\n",
    "        plt.title(f\"{chan_name}:\")\n",
    "        plt.imshow(current_slice)\n",
    "        plt.xticks([])\n",
    "        plt.yticks([])\n",
    "        plt.xlabel(f\"\\n\\nShape: {current_slice.shape}\")"
   ]
  },
  {
   "cell_type": "markdown",
   "id": "c9fc92cf",
   "metadata": {},
   "source": [
    "Now we are viewing each slice/color channel separately, we are again visualising 2D arrays - you can see the `.shape` of each slice below each image. \n",
    "\n",
    "The image from each color channel, when visualised separately, is now essentially a single-channel image, and so Matplotlib is rendering it in grayscale. As we know, we could also use the `viridis` colormap to pseudocolor the grayscale information in the images for the purposes of the display. Though in this instance, `viridis` results in some slightly queasy-looking images:"
   ]
  },
  {
   "cell_type": "code",
   "execution_count": null,
   "id": "11c6a372",
   "metadata": {},
   "outputs": [],
   "source": [
    "# Pseudo-color with `viridis`.\n",
    "plt.figure(figsize=(15, 5))\n",
    "for i in np.arange(len(RGB_chan_names)):\n",
    "        chan_name = RGB_chan_names[i]\n",
    "        plt.subplot(1, 3, i+1)\n",
    "        current_slice = coffee[:, :, i]\n",
    "        plt.title(f\"{chan_name}:\")\n",
    "        plt.imshow(current_slice, cmap='viridis')\n",
    "        plt.xticks([])\n",
    "        plt.yticks([])\n",
    "        plt.xlabel(f\"\\n\\nShape: {current_slice.shape}\")"
   ]
  },
  {
   "cell_type": "markdown",
   "id": "b70ec0be",
   "metadata": {},
   "source": [
    "When we visualise the full 3D array however, then, as we have seen, each slice controls the amount of a specific color, and the resultant mix gives us our beautiful, full-color image:"
   ]
  },
  {
   "cell_type": "code",
   "execution_count": null,
   "id": "b791274f",
   "metadata": {},
   "outputs": [],
   "source": [
    "plt.imshow(coffee);"
   ]
  },
  {
   "cell_type": "markdown",
   "id": "2efeae4e",
   "metadata": {},
   "source": [
    "**Start of exercise**\n",
    "\n",
    "Now over to you for some NumPy-fuelled color wizardry. Your job is take our binary `two_D_ones_and_zeros` array and to use numerical and/or NumPy operations **only** to manipulate the image so that it looks as follows, when displayed with `plt.matshow()`:\n",
    "\n",
    "![](images/all_blue.png)\n",
    "\n",
    "An array called `all_blue` contains your raw materials..."
   ]
  },
  {
   "cell_type": "code",
   "execution_count": null,
   "id": "9925961f",
   "metadata": {},
   "outputs": [],
   "source": [
    "# Show `two_D_ones_and_zeros`.\n",
    "two_D_ones_and_zeros"
   ]
  },
  {
   "cell_type": "code",
   "execution_count": null,
   "id": "6ddad43d",
   "metadata": {},
   "outputs": [],
   "source": [
    "# YOUR CODE HERE\n",
    "all_blue = two_D_ones_and_zeros.copy()"
   ]
  },
  {
   "cell_type": "markdown",
   "id": "62acf7ab",
   "metadata": {},
   "source": [
    "**End of exercise**"
   ]
  },
  {
   "cell_type": "markdown",
   "id": "98c2f226",
   "metadata": {},
   "source": [
    "**See the [corresponding page](/skimage-tutorials-temp/1_color_images_as_numpy_arrays.html) for solution**\n",
    "\n",
    "Time for some more horrifying computer art. Your task now is to modify the `smiley` image from earlier, using only numerical and/or NumPy operations, to make a \"blood smiley\". The new \"blood smiley\" should have a black background, and a red face, meaning that Matplotlib will render it as:\n",
    "\n",
    "![](images/blood_smile.png)\n",
    "\n",
    "Once more, your raw ingredients are in the cell below:"
   ]
  },
  {
   "cell_type": "code",
   "execution_count": null,
   "id": "a85b8d36",
   "metadata": {},
   "outputs": [],
   "source": [
    "# YOUR CODE HERE\n",
    "blood_smiley = smiley.copy()"
   ]
  },
  {
   "cell_type": "markdown",
   "id": "bb50bb7e",
   "metadata": {},
   "source": [
    "**End of exercise**"
   ]
  },
  {
   "cell_type": "markdown",
   "id": "1cd8f2fe",
   "metadata": {},
   "source": [
    "**See the [corresponding page](/skimage-tutorials-temp/1_color_images_as_numpy_arrays.html) for solution**\n",
    "\n",
    "When we \"invert\" the color of an image this means we reverse the intensity values. So the highest values become the lowest, and the lowest values become the highest. \n",
    "\n",
    "Your job is to figure out how, again using only numerical or NumPy operations on the `smiley` image, to produce this final result:\n",
    "\n",
    "![](images/inverted_blood_smiley.png)"
   ]
  },
  {
   "cell_type": "code",
   "execution_count": null,
   "id": "ad0675b1",
   "metadata": {},
   "outputs": [],
   "source": [
    "# YOUR CODE HERE\n",
    "inverted_blood_smiley = smiley.copy()"
   ]
  },
  {
   "cell_type": "markdown",
   "id": "20e8acae",
   "metadata": {},
   "source": [
    "**End of exercise**"
   ]
  },
  {
   "cell_type": "markdown",
   "id": "2ecca6ad",
   "metadata": {},
   "source": [
    "**See the [corresponding page](/skimage-tutorials-temp/1_color_images_as_numpy_arrays.html) for solution**\n",
    "\n",
    "Ok, that was all scary. Now we need a coffee to relax (is coffee relaxing?!). \n",
    "\n",
    "Your next task is to take the `coffee` image and use only numerical or NumPy operations to convert it to a single-channel (e.g. monochrome image):"
   ]
  },
  {
   "cell_type": "code",
   "execution_count": null,
   "id": "7e0b4d2c",
   "metadata": {},
   "outputs": [],
   "source": [
    "# YOUR CODE HERE\n",
    "colorless_coffee = coffee.copy()"
   ]
  },
  {
   "cell_type": "markdown",
   "id": "3e8d22ee",
   "metadata": {},
   "source": [
    "**End of exercise**"
   ]
  },
  {
   "cell_type": "markdown",
   "id": "9eb9a150",
   "metadata": {},
   "source": [
    "**See the [corresponding page](/skimage-tutorials-temp/1_color_images_as_numpy_arrays.html) for solution**\n",
    "\n",
    "In image processing \"signal\" can very roughly be thought of as a meaningful visual representation of something, in pixel values. Conversely, noise can be thought of as meaningless randomness in pixel values. \n",
    "\n",
    "Your job now, like an aging memory card or broken file system, is to corrupt the `camera` image below with some noisy pixels.\n",
    "\n",
    "Here is the original image:\n",
    "\n",
    "![](images/camera_plot.png)\n",
    "\n",
    "You should use NumPy and numerical operations only, to create the following image:\n",
    "\n",
    "![](images/corrupted_camera.png)\n",
    "\n",
    "Your final image should have the following attributes:\n",
    "\n",
    "```\n",
    "Type: <class 'numpy.ndarray'>\n",
    "dtype: uint8\n",
    "Shape: (512, 512, 3)\n",
    "Max Pixel Value: 255\n",
    "Min Pixel Value: 0\n",
    "```\n",
    "\n",
    "*Hint 1*: this sort of noise is *random*, you can think about functions in the `np.random` module which might be of use here...\n",
    "\n",
    "*Hint 2*: to work out what values should random, it may help to pay attention to the color of the noisy region...\n",
    "\n",
    "*Hint 3*: run the function `hint_corrupted_camera()` for additional help..."
   ]
  },
  {
   "cell_type": "code",
   "execution_count": null,
   "id": "69bd8189",
   "metadata": {},
   "outputs": [],
   "source": [
    "# Import the camera image.\n",
    "camera = io.imread(\"images/camera.png\")\n",
    "\n",
    "# Show the attributes of `camera`/\n",
    "show_attributes(camera)\n",
    "\n",
    "# YOUR CODE HERE\n",
    "noisy_camera = ..."
   ]
  },
  {
   "cell_type": "markdown",
   "id": "91c54c6e",
   "metadata": {},
   "source": [
    "**End of exercise**"
   ]
  },
  {
   "cell_type": "markdown",
   "id": "0e9f7f2a",
   "metadata": {},
   "source": [
    "**See the [corresponding page](/skimage-tutorials-temp/1_color_images_as_numpy_arrays.html) for solution**\n",
    "\n",
    "# More (actually) complex images\n",
    "\n",
    "So far we have looked at simple images - 2D binary and grayscale low-resolution image arrays, like `smiley` - or more complex color images with three color channels (like `coffee`). However, the principles we have seen extend to even more complex images, like the image arrays generated by [brain imaging](https://en.wikipedia.org/wiki/Neuroimaging), for instance.\n",
    "\n",
    "Here is an image of one \"slice\" of one of the authors brains, which was captured by a [magnetic resonance imaging](https://en.wikipedia.org/wiki/Magnetic_resonance_imaging) scanner:"
   ]
  },
  {
   "cell_type": "code",
   "execution_count": null,
   "id": "8a28bf99",
   "metadata": {},
   "outputs": [],
   "source": [
    "# One author's own brain (a 2D slice).\n",
    "brain = io.imread(\"images/pxr_brain.png\")\n",
    "\n",
    "plt.imshow(brain);"
   ]
  },
  {
   "cell_type": "markdown",
   "id": "d8ffa119",
   "metadata": {},
   "source": [
    "The physics of magnetic resonance imaging are very complicated, but the image arrays that it produces, as with our very simple low-resolution arrays, are nothing but arrays of numbers:"
   ]
  },
  {
   "cell_type": "code",
   "execution_count": null,
   "id": "603b8f4b",
   "metadata": {},
   "outputs": [],
   "source": [
    "# Show the attributes of the brain image.\n",
    "show_attributes(brain)"
   ]
  },
  {
   "cell_type": "markdown",
   "id": "fbb4666c",
   "metadata": {},
   "source": [
    "Note that this image is 2D, and it is actually a relatively simple brain image. Other brain images can also contain *time* information - e.g. an image of the brain through time, as it responds to different stimuli. Such images are actually 4-D, with an extra dimension for temporal information. However, all of these images can still be represented as NumPy arrays, with varying dimensionalities and various min/max pixel value conventions. Importantly, these higher-dimensional images do not always contain color information - the way we have seen above is just one way of using higher-dimensional image arrays, to encode color. We will investigate this topic more on the [next page](2_skimage_intro).\n",
    "\n",
    "# Summary\n",
    "\n",
    "On this page we have seen how color can be represented in NumPy array images:\n",
    "\n",
    "* Images are (at least) two-dimensional arrays of numbers. Multiple `dtype`s in image arrays are supported by Sci-kit image.\n",
    "\n",
    "* We have seen images where the number at each array pixel location determines the gray-level (in a 2D array) or color (in a 3D array) of that location when the image is displayed. For 3D color arrays the number in each slice/channel is summed to determine the color in the 2D displayed image.\n",
    "\n",
    "* These methods of color encoding can apply to both to very simple and very complex images. Some types of image (e.g. brain images) use higher-dimensionality to encode information other than color (e.g. time).\n",
    "\n",
    "On the [next page](2_skimage_intro) we will formally introduce Scikit-image, which uses NumPy image arrays as its fundamental representation of images."
   ]
  },
  {
   "cell_type": "markdown",
   "id": "baccd381",
   "metadata": {},
   "source": [
    "# References\n",
    "\n",
    "Adapted from: https://lectures.scientific-python.org/advanced/image_processing\n",
    "\n",
    "Adapted from: https://lectures.scientific-python.org/packages/scikit-image/index.html \n",
    "\n",
    "Reference: inspiration from Nipraxis also re: arrays/images.\n",
    "\n",
    "Reference: inspiration from `skimage` tutorials\n",
    "\n",
    "Reference: https://bic-berkeley.github.io/psych-214-fall-2016/arrays_and_images.html"
   ]
  }
 ],
 "metadata": {
  "jupytext": {
   "formats": "ipynb,Rmd"
  },
  "kernelspec": {
   "display_name": "Python (Pyodide)",
   "name": "python"
  }
 },
 "nbformat": 4,
 "nbformat_minor": 5
}

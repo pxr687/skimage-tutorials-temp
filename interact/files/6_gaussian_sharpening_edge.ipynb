{
 "cells": [
  {
   "cell_type": "markdown",
   "id": "d0d7f551",
   "metadata": {},
   "source": [
    "# Convolution filters II - Gaussian blur, sharpening and edge detection\n",
    "\n",
    "This page will explore additional foundational filters which use convolutional kernels, implementing them first with NumPy and SciPy, and then with Scikit-image. As usual, we begin with some imports:"
   ]
  },
  {
   "cell_type": "code",
   "execution_count": null,
   "id": "78fbaf5a",
   "metadata": {},
   "outputs": [],
   "source": [
    "# Library imports.\n",
    "import numpy as np\n",
    "import matplotlib.pyplot as plt\n",
    "import scipy.ndimage as ndi\n",
    "import scipy.stats as sps\n",
    "import skimage as ski\n",
    "from mpl_toolkits.mplot3d import Axes3D\n",
    "\n",
    "# Set 'gray' as the default colormap\n",
    "plt.rcParams['image.cmap'] = 'gray'\n",
    "\n",
    "# Set NumPy precision to 2 decimal places\n",
    "np.set_printoptions(precision=2)\n",
    "\n",
    "#  Custom functions/variables for illustrations, to quickly report image attributes, and for exercises.\n",
    "from gaussian_illustration import make_gaussian_kernel\n",
    "from show_attributes import show_attributes\n",
    "from hints import secret_val\n",
    "from hints import hint_krazy_kernel_1, hint_krazy_kernel_2, hint_edgy"
   ]
  },
  {
   "cell_type": "markdown",
   "id": "362d9a94",
   "metadata": {},
   "source": [
    "# Gaussian filtering\n",
    "\n",
    "An important kernel-based filter with, let's be honest, a pretty cool name is the *Gaussian filter*. You may recognise the name from the famous [Gaussian distribution](https://en.wikipedia.org/wiki/Normal_distribution), which we plot below:"
   ]
  },
  {
   "cell_type": "code",
   "execution_count": null,
   "id": "0cc8d3a6",
   "metadata": {},
   "outputs": [],
   "source": [
    "# Plot a normal/Gaussian distribution.\n",
    "x = np.linspace(-4, 4, 10_000)\n",
    "y = sps.norm().pdf(x)\n",
    "plt.plot(x, y)\n",
    "plt.xlabel('X value')\n",
    "plt.ylabel('Probability')\n",
    "plt.xticks([])\n",
    "plt.yticks([]);"
   ]
  },
  {
   "cell_type": "markdown",
   "id": "d4c13519",
   "metadata": {},
   "source": [
    "This is the well-known normal distribution, which is sometimes described as having a \"bell-shape\". We will talk in more detail further down the page about why the Gaussian filter has its name. For now, take a look at this fancy [kernel]( https://www.geeksforgeeks.org/deep-learning/types-of-convolution-kernels):"
   ]
  },
  {
   "cell_type": "code",
   "execution_count": null,
   "id": "3b9b010f",
   "metadata": {},
   "outputs": [],
   "source": [
    "# A fancy kernel.\n",
    "gaussian_like_kernel =  np.array([[0.06, 0.12, 0.06],\n",
    "                                  [0.12, 0.25, 0.12],                                  \n",
    "                                  [0.06, 0.12, 0.06]])\n",
    "gaussian_like_kernel"
   ]
  },
  {
   "cell_type": "markdown",
   "id": "de4a7745",
   "metadata": {},
   "source": [
    "Imagine this kernel plotted in a 3D space. It is in the `shape` of `(3, 3)`, so imagine that the \"floor\" of the 3D plot is a 3-by-3 grid, with the integer index labels shown in the horizontal ($x$ and $y$-axis) directions. Imagine further that we plot the kernel element values in the vertical direction, on the $z$-axis. \n",
    "\n",
    "So on this plot, in the vertical direction, our graph will be highest where the kernel values are highest (e.g. for the central element of 0.25), and lowest where the kernel elements are lowest (e.g. in the corners for the values of 0.06).\n",
    "\n",
    "Such a plot is shown below. A red surface connects the space in between each kernel value, to make the pattern between the individual elements clearer. The kernel values themselves are shown as dark blue text. The axis ticks show the integer index location of the kernel values, in the `gaussian_like_kernel` NumPy array:"
   ]
  },
  {
   "cell_type": "code",
   "execution_count": null,
   "id": "58a9379d",
   "metadata": {},
   "outputs": [],
   "source": [
    "# Plot the fancy kernel, with a convenience function.\n",
    "def kernel_plot(kernel, surface=True, elev=30, azim=-45, text=True):\n",
    "    x = np.arange(kernel.shape[0])\n",
    "    y = np.arange(kernel.shape[1])\n",
    "    X, Y = np.meshgrid(x, y, indexing='ij')\n",
    "    Z = kernel\n",
    "    fig = plt.figure(figsize=(9,9))\n",
    "    ax = fig.add_subplot(111, projection='3d')\n",
    "    if surface == True:\n",
    "        ax.plot_surface(X, Y, Z, color='red')\n",
    "    else:\n",
    "        ax.plot_wireframe(X, Y, Z, color='red')\n",
    "    ax.set_xticks(x)\n",
    "    ax.set_yticks(y)\n",
    "    ax.set_xlabel('Integer Index (axis = 0)')\n",
    "    ax.set_ylabel('Integer Index (axis = 1)')\n",
    "    ax.set_zlabel('Kernel Element Value', labelpad=1)\n",
    "    ax.view_init(elev=elev, azim=azim) \n",
    "    if azim == 0:\n",
    "        ax.set_zlabel(\"\")\n",
    "        ax.set_zticks([]) \n",
    "    if text == True:\n",
    "        for i in np.arange(kernel.shape[0]):\n",
    "            for j in np.arange(kernel.shape[1]):\n",
    "                ax.text(i, j, kernel[i, j], \n",
    "                        str(kernel[i, j].round(2)), \n",
    "                        color='darkblue')\n",
    "# Make the plot.            \n",
    "kernel_plot(gaussian_like_kernel);"
   ]
  },
  {
   "cell_type": "markdown",
   "id": "dcdf07b2",
   "metadata": {},
   "source": [
    "Now, it may not be immediately apparent to some readers what this plot has to do with a Gaussian distribution. For now let's use \"Gaussian\" very loosely - for the moment all we will take from it is that, like a Gaussian distribution, at the center the kernel has high values, then the values fall off as we get nearer to the sides. Let's warmly refer to the graph as the \"red mountain\".\n",
    "\n",
    "The kernel is shown, via the \"raw\" NumPy output, in the cell below. Compare this to the plot, to make sure you understand the visualisation. Remember that the numbers on each axis are the integer index locations of the NumPy array. And the vertical height of the red surface is the value of the kernel element at each row/column integer index location:"
   ]
  },
  {
   "cell_type": "code",
   "execution_count": null,
   "id": "4a78d655",
   "metadata": {},
   "outputs": [],
   "source": [
    "# Show the kernel again, in NumPy, for comparison to the plot.\n",
    "gaussian_like_kernel"
   ]
  },
  {
   "cell_type": "markdown",
   "id": "eda4fc1c",
   "metadata": {},
   "source": [
    "If you prefer, you can view the NumPy array kernel with prettier graphics below:\n",
    "\n",
    "![](images/gaussian_kernel_2.png)\n",
    "\n",
    "Just as final comparison between the  NumPy array kernel and the plot, here is the \"red mountain\" viewed from directly above, with the NumPy array kernel, in pretty graphics, shown to the right-hand side of the plot:\n",
    "\n",
    "![](images/sky_gauss.png)"
   ]
  },
  {
   "cell_type": "markdown",
   "id": "095b9928",
   "metadata": {},
   "source": [
    "Remember that the kernel has only 9 values (shown as blue text on the plot), so there are no values in between the array values. If you prefer, we can visualise the kernel using a wireframe, to make it clearer that there are no values in between the kernel elements (e.g. in between the points where there is blue text):"
   ]
  },
  {
   "cell_type": "code",
   "execution_count": null,
   "id": "2f9d2af2",
   "metadata": {},
   "outputs": [],
   "source": [
    "# Plot the fancy kernel.\n",
    "kernel_plot(gaussian_like_kernel, surface=False)"
   ]
  },
  {
   "cell_type": "markdown",
   "id": "fe100011",
   "metadata": {},
   "source": [
    "Let's refer to the highest point on this kernel surface as the [\"crimson peak\"](https://en.wikipedia.org/wiki/Crimson_Peak). The crimson peak is the central kernel element of 0.25, at row/column integer index location `[1, 1]`:"
   ]
  },
  {
   "cell_type": "code",
   "execution_count": null,
   "id": "1d92bdc2",
   "metadata": {},
   "outputs": [],
   "source": [
    "# The central kernel value, at the crimson peak - check that you can also see this on the graph above.\n",
    "gaussian_like_kernel[1, 1]"
   ]
  },
  {
   "cell_type": "markdown",
   "id": "577b8c6d",
   "metadata": {},
   "source": [
    "Essentially, if we filter using this kernel, we \"walk\" this kernel through the\n",
    "image, with the top of the \"crimson peak\" centered on a given pixel. The\n",
    "central pixel value is then replaced with an average of the pixels in the\n",
    "neighbourhood, but the contribution of the other pixels in the neighbourhood\n",
    "to the average is *weighted by the height of the \"red mountain\" at that\n",
    "pixel*.\n",
    "\n",
    "So array pixels which fall under higher points of the kernel's \"red mountain\" will exert more influence on the weighted average, and pixels falling under lower points will exert a weaker influence. The central pixel, laying under the crimson peak, will exert the most influence on the weighted average.\n",
    "\n",
    "Let's use this kernel to filter the following image array:"
   ]
  },
  {
   "cell_type": "code",
   "execution_count": null,
   "id": "29942d23",
   "metadata": {},
   "outputs": [],
   "source": [
    "# Make a small image array.\n",
    "small_square = np.zeros((20, 20))\n",
    "small_square[9:11, 9:11] = 1\n",
    "print(small_square)\n",
    "plt.imshow(small_square);"
   ]
  },
  {
   "cell_type": "markdown",
   "id": "f62c0436",
   "metadata": {},
   "source": [
    "We use use `scipy.ndimage.correlate()` to \"walk\" our kernel over every pixel in the image, multiply each array pixel value under the kernel by the corresponding kernel value, then take the sum of the result to replace the central pixel value:"
   ]
  },
  {
   "cell_type": "code",
   "execution_count": null,
   "id": "1c015979",
   "metadata": {},
   "outputs": [],
   "source": [
    "# Apply the `gaussian_like_kernel` to filter the image.\n",
    "gaussian_like_filtered_small_square = ndi.correlate(small_square,\n",
    "                                                    weights=gaussian_like_kernel)\n",
    "\n",
    "# Plot comparison images.\n",
    "plt.figure(figsize=(12, 4))\n",
    "plt.subplot(1, 3, 1)\n",
    "plt.title('Original')\n",
    "plt.imshow(small_square)\n",
    "plt.subplot(1, 3, 2)\n",
    "plt.title('Gaussian-like Filter \\n(3, 3) Kernel')\n",
    "plt.imshow(gaussian_like_filtered_small_square);"
   ]
  },
  {
   "cell_type": "markdown",
   "id": "d9a5e2bf",
   "metadata": {},
   "source": [
    "Blurry! So to recap, we have averaged within a 3-by-3 pixel neighbourhood, replacing the central pixel value with a weighted average of all the pixel values in the neighbourhood. The weights are larger for pixels closer to the central value of the kernel (e.g. closer to the center of the \"crimson peak\" on the plot above).\n",
    "\n",
    "This type of filtering is called *Gaussian filtering* because the kernel element values approximate a [Gaussian (e.g. normal) distribution](https://en.wikipedia.org/wiki/Normal_distribution). The plot of the kernel above, with the \"red mountain\" may not look much like the normal distribution to you at the moment, but bear with us.\n",
    "\n",
    "To see the Gaussian nature of this filtering operation, let's take a look at another, larger kernel below - it has `shape` `(9, 9)`:"
   ]
  },
  {
   "cell_type": "code",
   "execution_count": null,
   "id": "6b49478c",
   "metadata": {
    "lines_to_next_cell": 0
   },
   "outputs": [],
   "source": [
    "# Another kernel.\n",
    "big_gaussian_kernel = make_gaussian_kernel(9)\n",
    "\n",
    "big_gaussian_kernel.round(2)"
   ]
  },
  {
   "cell_type": "markdown",
   "id": "fc2f89bd",
   "metadata": {},
   "source": [
    "Can you see any pattern in the arrangement of the numbers? Where are the high numbers, where are the low numbers? The `big_gaussian_kernel` NumPy array is shown below, in prettier form, to aid your ruminations:\n",
    "\n",
    "![](images/big_gaussian_kernel_array.png)\n",
    "\n",
    "We will also plot this kernel in 3D, as with the last kernel. Again, the integer index locations of the array form the horizontal ($x$ and $y$) axis values, and the values within the array are plotted on the vertical ($z$) axis. "
   ]
  },
  {
   "cell_type": "code",
   "execution_count": null,
   "id": "20f53259",
   "metadata": {},
   "outputs": [],
   "source": [
    "# Show the new, bigger gaussian kernel.\n",
    "kernel_plot(big_gaussian_kernel, text=False)"
   ]
  },
  {
   "cell_type": "markdown",
   "id": "c45158fe",
   "metadata": {},
   "source": [
    "Again, if you prefer, we can view the kernel as a wireframe plot, which we show in the cell below. We first show the NumPy view of the array again, above the plot. The plot looks messy when the kernel element values (blue text) are also shown, but we show them for easy comparison to the `big_gaussian_kernel` NumPy array. If you are running interactively, you can set `text = False` in the plotting function and re-run the cell, to switch the blue numbers off, if you wish:"
   ]
  },
  {
   "cell_type": "code",
   "execution_count": null,
   "id": "3e966909",
   "metadata": {},
   "outputs": [],
   "source": [
    "# Compare the NumPy array to the plot.\n",
    "print(\"\\n`big_gaussian_kernel` NumPy view:\\n\\n\",big_gaussian_kernel.round(2))\n",
    "kernel_plot(big_gaussian_kernel, surface=False)\n",
    "plt.title('`big_gaussian_kernel` \\nRed Mountain View:');"
   ]
  },
  {
   "cell_type": "markdown",
   "id": "1c64fbf5",
   "metadata": {},
   "source": [
    "Again, to make the relationship between the NumPy array and the graph as clear as possible, here is the \"red mountain\" viewed from directly above, with the `big_gaussian_kernel` array shown to its right:\n",
    "\n",
    "![](images/sky_gauss_2.png)"
   ]
  },
  {
   "cell_type": "markdown",
   "id": "7b08031f",
   "metadata": {},
   "source": [
    "You  may (or may not) recognise the \"red mountain\" - when we plot the `big_gaussian_kernel` - as a multivariate [Gaussian distribution](https://en.wikipedia.org/wiki/Gaussian_function). Here is one way of writing the formula for the multivariate Gaussian distribution:\n",
    "\n",
    "$\n",
    " \\Large p(x, y) = \\frac{1}{2 \\pi  \\sigma_x  \\sigma_y}  \\\n",
    "    e^{-\\frac{1}{2} (\\frac{(X - \\mu_x)^2} {\\sigma_x^2} + \\frac{(Y - \\mu_y)^2} {\\sigma_y^2})}\n",
    "$\n",
    "\n",
    "Essentially, the function takes the input variables $x$ and $y$, a mean ($\\mu$) and standard deviation ($\\sigma$; e.g. spread) for each variable, and returns a probability of a particular combination of $x$ and $y$. Here is a plot of a prototypical multivariate Gaussian, where both input variables have a mean of 0, a spread of 1, and are uncorrelated with each other:"
   ]
  },
  {
   "cell_type": "code",
   "execution_count": null,
   "id": "def05b3e",
   "metadata": {},
   "outputs": [],
   "source": [
    "# Plot a multivariate Gaussian, where both x and y have a mean of 0 and variance of 1.\n",
    "x = np.linspace(-5, 5, 10_00)\n",
    "y = np.linspace(-5, 5, 10_00)\n",
    "X, Y = np.meshgrid(x,y)\n",
    "mu_x = 0\n",
    "mu_y = 0\n",
    "sigma_x = 1\n",
    "sigma_y = 1\n",
    "Z = 1/(2 * np.pi * sigma_x * sigma_y) * np.exp(-0.5 * ((X - mu_x)**2 / sigma_x**2 + (Y - mu_y)**2 / sigma_y**2))\n",
    "\n",
    "# Generate the plot.\n",
    "fig = plt.figure(figsize=(8, 8))\n",
    "ax = plt.axes(projection='3d')\n",
    "ax.plot_surface(X, Y, Z)\n",
    "ax.set_xlabel('X')\n",
    "ax.set_ylabel('Y')\n",
    "ax.set_zlabel('Probability', labelpad=1)\n",
    "ax.set_title(\"Multivariate Gaussian Distribution\");"
   ]
  },
  {
   "cell_type": "markdown",
   "id": "57a0e969",
   "metadata": {},
   "source": [
    "Here is the plot of `big_gaussian_kernel` again, for comparison to the perfect Gaussian shown in the image above:"
   ]
  },
  {
   "cell_type": "code",
   "execution_count": null,
   "id": "c8088b56",
   "metadata": {},
   "outputs": [],
   "source": [
    "# Show the plot of `big_gaussian_kernel` again.\n",
    "kernel_plot(big_gaussian_kernel, text = False)"
   ]
  },
  {
   "cell_type": "markdown",
   "id": "d993a234",
   "metadata": {},
   "source": [
    "The \"crimson peak\" of the `big_gaussian_kernel` is spikier than for the prototypical Gaussian, simply because it is centered on a single pixel (creating the spike at the \"crimson peak\"). For the smaller `gaussian_like_kernel` the whole 3D plot appeared more \"spiky\" as it has less array elements. In the bigger `(9, 9)` `big_gaussian_kernel`, we can see a smoother, more obviously Gaussian \"mountain\", much more visually similar to prototypical multivariate Gaussian distribution.\n",
    "\n",
    "Both our `(3, 3)` kernel above, and the larger kernel we just plotted, are called [gaussian blur kernels](https://www.geeksforgeeks.org/deep-learning/types-of-convolution-kernels). Let's look at the `gaussian_like_kernel` array again, to compare it to `big_gaussian_kernel` directly:\n",
    "\n",
    "![](images/gaussian_kernel_2.png)\n",
    "\n",
    "When comparing to the `big_gaussian_kernel`, shown below, you can see that the pattern in the numbers is the same. The biggest value occurs in the center of the array, the smallest values are in the corners of the array. For the bigger Gaussian kernel, it is apparent that kernel values *closer* to the center are larger, the values get smaller the further we get from the central element:\n",
    "\n",
    "![](images/big_gaussian_kernel_array.png)\n",
    "\n",
    "As we said above, when we filter using these Gaussian kernels, we \"walk\" the kernel through the image, with the top of the \"mountain\", the crimson peak, centered on a given pixel at each step. The central pixel value is then replaced with an average of the pixels in the neighbourhood, but each pixels contribution to the average is weighted by how close it is to the central pixel. E.g. by how close it falls to the crimson peak of the Gaussian surfaces we showed above. Pixels closer to the central pixel, under the crimson peak, will exert more influence, pixels further away will exert a weaker influence.\n",
    "\n",
    "Let's convolve `big_gaussian_kernel` with the `camera` image, using `ndi.correlate()`, as we used for the mean filter:"
   ]
  },
  {
   "cell_type": "code",
   "execution_count": null,
   "id": "f7ffdad4",
   "metadata": {},
   "outputs": [],
   "source": [
    "# Appl the `big_gaussian_kernel` as a filter.\n",
    "big_gaussian_filtered_small_square = ndi.correlate(small_square,\n",
    "                                                   weights=big_gaussian_kernel)\n",
    "\n",
    "# Plot comparison images.\n",
    "plt.figure(figsize=(14, 4))\n",
    "plt.subplot(1, 3, 1)\n",
    "plt.title('Original')\n",
    "plt.matshow(small_square, fignum=0)\n",
    "plt.subplot(1, 3, 2)\n",
    "plt.title('Gaussian filter \\n(3, 3) kernel')\n",
    "plt.matshow(gaussian_like_filtered_small_square, fignum=0);\n",
    "plt.subplot(1, 3, 3)\n",
    "plt.title('Gaussian filter \\n(9, 9) kernel')\n",
    "plt.matshow(big_gaussian_filtered_small_square, fignum=0);"
   ]
  },
  {
   "cell_type": "markdown",
   "id": "975a5e4e",
   "metadata": {},
   "source": [
    "It is apparent that the larger kernel has \"spread\" the intensity of higher-valued pixels further than the small kernel. This makes sense, because it is averaging across bigger pixel neighbourhoods. \n",
    "\n",
    "Both of these kernels, in relative terms, are quite small. As such, it is easier to see their effect in lower-resolution images. Higher resolution images will typically require larger kernels for the same results.\n",
    "\n",
    "Below, we make a pixelated version of `camera`:"
   ]
  },
  {
   "cell_type": "code",
   "execution_count": null,
   "id": "04bc10ab",
   "metadata": {},
   "outputs": [],
   "source": [
    "# Pixelate the `camera` image.\n",
    "camera = ski.data.camera()\n",
    "pixelated_camera = ski.transform.rescale(camera, 0.2) # Rescale to 20% of original size, this\n",
    "plt.imshow(pixelated_camera);                         # induces pixelation."
   ]
  },
  {
   "cell_type": "markdown",
   "id": "c0cbf27d",
   "metadata": {},
   "source": [
    "Below, we filter with separately with `gaussian_like_kernel` and `big_gaussian_kernel`:"
   ]
  },
  {
   "cell_type": "code",
   "execution_count": null,
   "id": "7852718b",
   "metadata": {},
   "outputs": [],
   "source": [
    "# Filter with the small Gaussian kernel.\n",
    "gaussian_like_filtered_pixelated_camera = ndi.correlate(pixelated_camera,\n",
    "                                               weights=gaussian_like_kernel)\n",
    "\n",
    "# Filter with the big Gaussian kernel.\n",
    "big_gaussian_filtered_pixelated_camera = ndi.correlate(pixelated_camera,\n",
    "                                               weights=big_gaussian_kernel)\n",
    "\n",
    "# Plot comparison images.\n",
    "plt.figure(figsize=(14, 4))\n",
    "plt.subplot(1, 3, 1)\n",
    "plt.title('Original (Pixelated)')\n",
    "plt.matshow(pixelated_camera, fignum=0)\n",
    "plt.subplot(1, 3, 2)\n",
    "plt.title('Gaussian filter \\n(3, 3) Kernel')\n",
    "plt.matshow(gaussian_like_filtered_pixelated_camera, fignum=0);\n",
    "plt.subplot(1, 3, 3)\n",
    "plt.title('Gaussian filter \\n(9, 9) Kernel')\n",
    "plt.matshow(big_gaussian_filtered_pixelated_camera, fignum=0);"
   ]
  },
  {
   "cell_type": "markdown",
   "id": "8be54486",
   "metadata": {},
   "source": [
    "The smoothing effect is clear, with the larger kernel creating a more striking smoothing effect.\n",
    "\n",
    "# Gaussian filters in `skimage`\n",
    "\n",
    "This Gaussian filter is easy to implement in `skimage`, let's try it with the `cat` image from `ski.data`:"
   ]
  },
  {
   "cell_type": "code",
   "execution_count": null,
   "id": "c3be4bbd",
   "metadata": {},
   "outputs": [],
   "source": [
    "# Load the `cat` image.\n",
    "cat = ski.data.cat()\n",
    "show_attributes(cat)\n",
    "plt.imshow(cat);"
   ]
  },
  {
   "cell_type": "markdown",
   "id": "6eefbc9f",
   "metadata": {},
   "source": [
    "`ski.filters.gaussian()` implements the Gaussian filter. We can control the `sigma` parameter, which controls the spread of the Gaussian \"mountain\" in the kernel. Lower values will reduce the weight of pixel values far from the central pixel, weighting only those close to it highly. Conversely, higher values will give greater weight to pixels further away from the central pixel:\n",
    "\n",
    "![](images/low_sigma_v_high_sigma.png)"
   ]
  },
  {
   "cell_type": "markdown",
   "id": "d9aa7616",
   "metadata": {},
   "source": [
    "Let's apply the filter with a `sigma` of 3:"
   ]
  },
  {
   "cell_type": "code",
   "execution_count": null,
   "id": "3abac60a",
   "metadata": {},
   "outputs": [],
   "source": [
    "# Gaussian filter `cat`, with `skimage`.\n",
    "plt.imshow(ski.filters.gaussian(cat, \n",
    "                                sigma=3));"
   ]
  },
  {
   "cell_type": "markdown",
   "id": "98ec9a4e",
   "metadata": {},
   "source": [
    "Different sigma values will introduce a blurrier effect, because for higher `sigma` values, pixels further from the central value within each kernel are exerting more influence in the averaging calculation:"
   ]
  },
  {
   "cell_type": "code",
   "execution_count": null,
   "id": "3a3ec2ca",
   "metadata": {},
   "outputs": [],
   "source": [
    "# Plot with different `sigma` values.\n",
    "plt.figure(figsize=(14, 6))\n",
    "for i, sigma in enumerate(np.arange(2, 14, 2)):\n",
    "    plt.subplot(2, 3, i+1)\n",
    "    plt.imshow(ski.filters.gaussian(cat, \n",
    "                                    sigma=sigma))\n",
    "\n",
    "    plt.xticks([])\n",
    "    plt.yticks([])\n",
    "    plt.title(f\"sigma = {sigma}\")\n",
    "plt.suptitle('skimage.filters.gaussian()')\n",
    "plt.tight_layout();"
   ]
  },
  {
   "cell_type": "markdown",
   "id": "68c214b8",
   "metadata": {},
   "source": [
    "**Start of exercise**\n",
    "\n",
    "Here is another kernel which follows a roughly Gaussian-like pattern - e.g. pixels closer to the center are weighted more heavily, pixels towards the sides have less weight. However, it is only somewhat Gaussian-like, and in fact is a very strange kernel, as we will see when we view it on a 3D plot:\n",
    "\n",
    "![](images/almost_gaussian.png)\n",
    "\n",
    "It is defined as a variable in the cell below:"
   ]
  },
  {
   "cell_type": "code",
   "execution_count": null,
   "id": "a19ee822",
   "metadata": {},
   "outputs": [],
   "source": [
    "# Create the strange kernel.\n",
    "almost_gaussian_kernel = np.array([[1, 1, 1, 2, 2, 2, 1, 1, 1],\n",
    "                                   [1, 1, 1, 2, 2, 2, 1, 1, 1],\n",
    "                                   [1, 1, 1, 2, 2, 2, 1, 1, 1],\n",
    "                                   [2, 2, 2, 4, 4, 4, 2, 2, 2],\n",
    "                                   [2, 2, 2, 4, 4, 4, 2, 2, 2],\n",
    "                                   [2, 2, 2, 4, 4, 4, 2, 2, 2],\n",
    "                                   [1, 1, 1, 2, 2, 2, 1, 1, 1],\n",
    "                                   [1, 1, 1, 2, 2, 2, 1, 1, 1],\n",
    "                                   [1, 1, 1, 2, 2, 2, 1, 1, 1]])\n",
    "\n",
    "almost_gaussian_kernel"
   ]
  },
  {
   "cell_type": "markdown",
   "id": "19d796a6",
   "metadata": {},
   "source": [
    "We plot this oddball kernel in 3D, in the cell below:"
   ]
  },
  {
   "cell_type": "code",
   "execution_count": null,
   "id": "a8225a25",
   "metadata": {},
   "outputs": [],
   "source": [
    "# Super weird!\n",
    "kernel_plot(almost_gaussian_kernel)"
   ]
  },
  {
   "cell_type": "markdown",
   "id": "f6259fd7",
   "metadata": {},
   "source": [
    "It looks like a late 90s games console graphics take on a Gaussian! When we filter the `camera` image using this kernel, we get some strange results. First, we show the original `camera` image, as a starting point:"
   ]
  },
  {
   "cell_type": "code",
   "execution_count": null,
   "id": "be5ebb2b",
   "metadata": {},
   "outputs": [],
   "source": [
    "# Show the original `camera` image.\n",
    "show_attributes(camera)\n",
    "plt.imshow(camera);"
   ]
  },
  {
   "cell_type": "markdown",
   "id": "16a611e0",
   "metadata": {},
   "source": [
    "Now, we filter with weird kernel:"
   ]
  },
  {
   "cell_type": "code",
   "execution_count": null,
   "id": "4ef3c8ed",
   "metadata": {},
   "outputs": [],
   "source": [
    "# Filter with the oddball kernel. (Probably) not the result we want...\n",
    "almost_gaussian_filtered_camera = ndi.correlate(camera,\n",
    "                                                weights=almost_gaussian_kernel)\n",
    "# Show the attributes and plot the result.\n",
    "show_attributes(almost_gaussian_filtered_camera)      \n",
    "plt.matshow(almost_gaussian_filtered_camera);"
   ]
  },
  {
   "cell_type": "markdown",
   "id": "7a3d25e9",
   "metadata": {},
   "source": [
    "This may be a pretty cool effect, but, because the kernel we used looks like the weird cousin of a Gaussian, we would maybe expect this kernel to do something closer to Gaussian smoothing than to totally psych out the image, as it has done here.\n",
    "\n",
    "With a small modification to the `dtype`, however, we can get the following Gaussian-like smoothing on `camera`, using the oddball `almost_gaussian_kernel`:"
   ]
  },
  {
   "cell_type": "code",
   "execution_count": null,
   "id": "9fcd845c",
   "metadata": {},
   "outputs": [],
   "source": [
    "# Convert to `float64` dtype.\n",
    "camera_as_float = ski.util.img_as_float64(camera)\n",
    "\n",
    "# Filter with the oddball kernel, successfully.\n",
    "almost_gaussian_filtered_camera = ndi.correlate(camera_as_float,\n",
    "                                                weights=almost_gaussian_kernel)\n",
    "                                                     \n",
    "plt.matshow(almost_gaussian_filtered_camera);"
   ]
  },
  {
   "cell_type": "markdown",
   "id": "086e89ec",
   "metadata": {},
   "source": [
    "Why did this happen? Take a moment to think about possible explanations. After your pause for thought, your task is to *make adjustments to the kernel **only** to prevent the original psychedelic error from happening*. You should be able to obtain the same smoothed image from the cell above, if you modify the kernel correctly. Just for reference, to save you scrolling, here is the target image again:\n",
    "\n",
    "![](images/krazy_kernel_target_image.png)\n",
    "\n",
    "...and here is the psychedelic image that you should avoid:\n",
    "\n",
    "![](images/psych_out.png)\n",
    "\n",
    "When you modify the kernel **DO NOT** recreate the kernel array and \"manually\" modify the original numbers by editing them directly. Use `numpy`, `scipy` or `skimage` functions to alter the kernel to do what you need.\n",
    "\n",
    "*Hint*: run the `hint_krazy_kernel_1()` function for a hint about how you could modify the kernel...\n",
    "\n",
    "*Hint 2*: run the `hint_krazy_kernel_2()` function for some additional help regarding the source of the original error..."
   ]
  },
  {
   "cell_type": "code",
   "execution_count": null,
   "id": "8fdcc94f",
   "metadata": {
    "lines_to_next_cell": 2
   },
   "outputs": [],
   "source": [
    "# YOUR CODE HERE\n",
    "my_new_kernel = almost_gaussian_kernel.copy()"
   ]
  },
  {
   "cell_type": "markdown",
   "id": "26326d9e",
   "metadata": {},
   "source": [
    "**End of exercise**"
   ]
  },
  {
   "cell_type": "markdown",
   "id": "aae4ff47",
   "metadata": {},
   "source": [
    "**See the [corresponding page](/skimage-tutorials-temp/6_gaussian_sharpening_edge.html) for solution**\n",
    "\n",
    "Below is another way of writing the formula for generating a 2D Gaussian distribution, and therefore for generating a 2D Gaussian kernel.\n",
    "\n",
    "$ \\Large \\text{Gaussian}(x, y) = \\frac{1}{\\sqrt{2 \\pi \\sigma^2}} e^{- \\frac{x^2 + y^2}{2\\sigma^2}} $\n",
    "\n",
    "In contrast the formula we saw above for the same distribution, *this formula assumes that both $x$ and $y$ have an equal spread*. Generally we will want this equality of spread, for a Gaussian kernel.\n",
    "\n",
    "Your task is to define a function in the cell below (called `DIY_gauss`) which implements this revised Gaussian formula. Your function should take two 2D arrays ($x$ and $y$), and a `sigma` ($\\sigma$) value, as arguments. Figure out what needs to be in each input argument to produce the following `target_kernel`:"
   ]
  },
  {
   "cell_type": "code",
   "execution_count": null,
   "id": "f91849b2",
   "metadata": {},
   "outputs": [],
   "source": [
    "# Show the target kernel.\n",
    "target_kernel = np.array([[0.  , 0.  , 0.  , 0.  , 0.  , 0.  , 0.  ],\n",
    "                          [0.  , 0.  , 0.01, 0.02, 0.01, 0.  , 0.  ],\n",
    "                          [0.  , 0.01, 0.06, 0.1 , 0.06, 0.01, 0.  ],\n",
    "                          [0.  , 0.02, 0.1 , 0.16, 0.1 , 0.02, 0.  ],\n",
    "                          [0.  , 0.01, 0.06, 0.1 , 0.06, 0.01, 0.  ],\n",
    "                          [0.  , 0.  , 0.01, 0.02, 0.01, 0.  , 0.  ],\n",
    "                          [0.  , 0.  , 0.  , 0.  , 0.  , 0.  , 0.  ]])\n",
    "\n",
    "# Plot and show the target kernel.\n",
    "kernel_plot(target_kernel);\n",
    "\n",
    "target_kernel"
   ]
  },
  {
   "cell_type": "markdown",
   "id": "bb296f55",
   "metadata": {},
   "source": [
    "Once you have successfully generated the `target_kernel` using your function, use it to blur the following image:"
   ]
  },
  {
   "cell_type": "code",
   "execution_count": null,
   "id": "13e47720",
   "metadata": {},
   "outputs": [],
   "source": [
    "# Read in and show the image which you should blur with your new kernel.\n",
    "xenomorph = ski.io.imread(\"images/xenomorph.jpg\", as_gray=True)\n",
    "plt.imshow(xenomorph);"
   ]
  },
  {
   "cell_type": "markdown",
   "id": "e8f04315",
   "metadata": {},
   "source": [
    "You should find the `sigma` value that you need in order to produce the following target image:\n",
    "\n",
    "![](images/xeno_blur.png)\n",
    "\n",
    "To help narrow things down, we have put some scaffolding code in the cell below, which shows how to generate the 2D `x` and `y` arrays with `np.meshgrid()`. The code is currently commented out, you will need to uncomment it, and modify it so it can be used to produce the `target_kernel`.\n",
    "\n",
    "*Hint*: the values you need, for your `x` and `y` arrays, and your `sigma` value, are all positive or negative integers smaller than 5.\n",
    "\n",
    "*Hint 2*: you should also think about the sum of all the values in the `target_kernel`.\n",
    "\n",
    "*Note*: there is a cell two cells below which can \"mark\" your work - it will test whether your function produces a kernel identical to the `target_kernel`. Once you have written your function, uncomment the marking code and run it. If you have done everything correctly, it will run with no error. If not, you will get a nasty-looking error (but keep going!)."
   ]
  },
  {
   "cell_type": "code",
   "execution_count": null,
   "id": "58e8a7f7",
   "metadata": {},
   "outputs": [],
   "source": [
    "# YOUR CODE HERE\n",
    "\n",
    "# The input vectors for your function.\n",
    "#x_lin = np.arange(...)\n",
    "#y_lin = x_lin.copy()\n",
    "#x, y = np.meshgrid(x_lin,\n",
    "                   #y_lin)\n",
    "\n",
    "# Your function.\n",
    "def DIY_gauss(x, y, sigma):\n",
    "    ..."
   ]
  },
  {
   "cell_type": "code",
   "execution_count": null,
   "id": "35d2e008",
   "metadata": {},
   "outputs": [],
   "source": [
    "# MARK YOUR ANSWER HERE\n",
    "# If the code below runs with no error, you have written the function correctly...\n",
    "# You will need to un-comment the code first (obvivously!).\n",
    "\n",
    "# UNCOMMENT THE LINE BELOW AND RUN THE CODE\n",
    "# assert all(DIY_gauss_solution(x, y, sigma=secret_val()).round(2) == target_kernel.round(2).round(2))"
   ]
  },
  {
   "cell_type": "markdown",
   "id": "0641869c",
   "metadata": {},
   "source": [
    "Do not forget to use your kernel to blur the `xenomorph` image in the cell below:"
   ]
  },
  {
   "cell_type": "code",
   "execution_count": null,
   "id": "28ebb83c",
   "metadata": {},
   "outputs": [],
   "source": [
    "# Convolve your kernel with the xenomorph image...\n",
    "xenomorph_gauss_blurred = ..."
   ]
  },
  {
   "cell_type": "markdown",
   "id": "e0a6c75a",
   "metadata": {},
   "source": [
    "**End of exercise**"
   ]
  },
  {
   "cell_type": "markdown",
   "id": "f32e02a8",
   "metadata": {},
   "source": [
    "**See the [corresponding page](/skimage-tutorials-temp/6_gaussian_sharpening_edge.html) for solution**\n",
    "\n",
    "# Image sharpening\n",
    "\n",
    "Gaussian filtering is a nice visual effect by itself, but filters like the Gaussian filter which blur an image can also, somewhat paradoxically, be used to *sharpen* an image. *Sharpening* is the opposite of blurring, it makes images clearer, with the features and edges more defined.\n",
    "\n",
    "How can we sharpen an image with a Gaussian *blur* filter, we hear you ask? We will demonstrate below. Sharpening is easiest to appreciate if we start with a slightly blurry image. In the cell below, we create a `blurry_cat` image by applying a Gaussian filter, we use a low `sigma` value, to keep the blur only slight:"
   ]
  },
  {
   "cell_type": "code",
   "execution_count": null,
   "id": "ccd16d87",
   "metadata": {},
   "outputs": [],
   "source": [
    "# Add a little blur.\n",
    "blurry_cat = ski.filters.gaussian(ski.data.cat(), \n",
    "                                  sigma=1)\n",
    "plt.imshow(blurry_cat);"
   ]
  },
  {
   "cell_type": "markdown",
   "id": "7dbabff4",
   "metadata": {},
   "source": [
    "A simple way to sharpen the image is via the [following procedure](https://blog.demofox.org/2022/02/26/image-sharpening-convolution-kernels):\n",
    "\n",
    "$$\n",
    "\\text{sharpened_image} = \\text{original_image} + (\\text{original_image} – \\text{blurred_image})\n",
    "$$\n",
    "\n",
    "Theoretically speaking, $\\text{(original_image – blurred_image)}$ contains *sharpened details* of the image, because it results from subtracting out a version of the image which is much blurrier than the original, giving us the *difference* between the original image and the blurry image. This effect is easiest to appreciate visually:"
   ]
  },
  {
   "cell_type": "code",
   "execution_count": null,
   "id": "4e1bde2e",
   "metadata": {},
   "outputs": [],
   "source": [
    "# Perform the sharpening, on each color channel separately, to avoid altering the color of the image.\n",
    "gaussian_filtered_cats = []\n",
    "sharpened = []\n",
    "for i in np.arange(blurry_cat.shape[2]):\n",
    "    gaussian_filtered_cats.append(ski.filters.gaussian(blurry_cat[:, :, i], 4))\n",
    "    sharpened.append(blurry_cat[:, :, i] + (blurry_cat[:, :, i] - gaussian_filtered_cats[i]))\n",
    "    \n",
    "# Stack back to 3D.\n",
    "sharpened = np.stack(sharpened, axis=2)\n",
    "gaussian_filter_cat = np.stack(gaussian_filtered_cats, \n",
    "                             axis=2)\n",
    "\n",
    "# Rescale to legal pixel ranges.\n",
    "sharpened = ski.exposure.rescale_intensity(sharpened, out_range=(0, 1))\n",
    "\n",
    "# Show the result.\n",
    "plt.figure(figsize=(16, 6))\n",
    "plt.subplot(1,3,1)\n",
    "plt.title('Original')\n",
    "plt.imshow(blurry_cat)\n",
    "plt.subplot(1,3,2)\n",
    "plt.title('Blurred')\n",
    "plt.imshow(gaussian_filter_cat)\n",
    "plt.subplot(1,3,3)\n",
    "plt.title('Sharpened')\n",
    "plt.imshow(sharpened)\n",
    "plt.tight_layout();"
   ]
  },
  {
   "cell_type": "markdown",
   "id": "84e1ced8",
   "metadata": {},
   "source": [
    "You can see that the sharpened image, as intended, has better clarity than the original. We can also use a specialised [sharpening kernel](https://www.geeksforgeeks.org/deep-learning/types-of-convolution-kernels/#3-sharpening-kernel) to achieve the same effect:\n",
    "\n",
    "![](images/sharpening_kernel.png)\n",
    "\n",
    "We show this kernel in 3D below (it does look pretty sharp!):"
   ]
  },
  {
   "cell_type": "code",
   "execution_count": null,
   "id": "d66f642c",
   "metadata": {},
   "outputs": [],
   "source": [
    "sharpening_kernel = np.array([[0, -1 , 0],\n",
    "                              [-1, 5, -1],\n",
    "                              [0, -1,  0]])\n",
    "print(sharpening_kernel)\n",
    "kernel_plot(sharpening_kernel)"
   ]
  },
  {
   "cell_type": "markdown",
   "id": "a675e0a4",
   "metadata": {},
   "source": [
    "This kernel works by [emphasising differences between adjacent pixels](https://setosa.io/ev/image-kernels/#:~:text=The%20sharpen%20kernel%20emphasizes%20differences,differences%20in%20adjacent%20pixel%20values.). Essentially, the more different than a pixel is from its surrounding pixels, the bigger value it will get in the sharpened image. \n",
    "\n",
    "To see this in detail, let's take just the middle row of the `sharpening_kernel`:"
   ]
  },
  {
   "cell_type": "code",
   "execution_count": null,
   "id": "8cb5819c",
   "metadata": {},
   "outputs": [],
   "source": [
    "# Slice out the middle row of the `sharpening_kernel`.\n",
    "middle_row_sharp = sharpening_kernel[1, :]\n",
    "\n",
    "middle_row_sharp"
   ]
  },
  {
   "cell_type": "markdown",
   "id": "8bbaa80d",
   "metadata": {},
   "source": [
    "We can convolve this middle row with a 1-D array of numbers, using the same machinery as for larger image arrays:"
   ]
  },
  {
   "cell_type": "code",
   "execution_count": null,
   "id": "fc01f3e8",
   "metadata": {},
   "outputs": [],
   "source": [
    "# An array of numbers.\n",
    "my_nums = np.array([0, 1, 2, 100])\n",
    "my_nums"
   ]
  },
  {
   "cell_type": "markdown",
   "id": "2216c728",
   "metadata": {},
   "source": [
    "We perform the convolution in the cell below:"
   ]
  },
  {
   "cell_type": "code",
   "execution_count": null,
   "id": "456dd921",
   "metadata": {},
   "outputs": [],
   "source": [
    "ndi.correlate(my_nums, \n",
    "              weights=middle_row_sharp)"
   ]
  },
  {
   "cell_type": "markdown",
   "id": "cb79f132",
   "metadata": {},
   "source": [
    "You can see that bigger differences between adjacent values result in larger absolute numbers in the output array, emphasising the differences. We show this principle again below, using 2D arrays the full `sharpening_kernel`. First, we create a 2D array where there are no differences between the adjacent pixels:"
   ]
  },
  {
   "cell_type": "code",
   "execution_count": null,
   "id": "46a1a1e3",
   "metadata": {},
   "outputs": [],
   "source": [
    "# A boring array.\n",
    "no_diff = np.ones((6, 6))\n",
    "no_diff"
   ]
  },
  {
   "cell_type": "markdown",
   "id": "7ab64015",
   "metadata": {},
   "source": [
    "Convolving this array with the `sharpening_kernel` will yield the same array, as there are no differences in the input."
   ]
  },
  {
   "cell_type": "code",
   "execution_count": null,
   "id": "08957ad3",
   "metadata": {},
   "outputs": [],
   "source": [
    "ndi.correlate(no_diff, \n",
    "              weights=sharpening_kernel)"
   ]
  },
  {
   "cell_type": "markdown",
   "id": "6ff94fc9",
   "metadata": {},
   "source": [
    "Conversely, the array below contains a repeating pattern of 2's and 3's in the first three rows, so the differences between pixel neighbourhoods in the early rows are fairly consistent. \n",
    "\n",
    "In the last three rows, the same pattern is repeated, only now the 3's are negative, increasing the difference between the pixels in each neighbourhood:"
   ]
  },
  {
   "cell_type": "code",
   "execution_count": null,
   "id": "9b23dcb2",
   "metadata": {},
   "outputs": [],
   "source": [
    "diffs = np.array([[2, 3, 2, 3, 2, 3],\n",
    "                  [3, 2, 3, 2, 3, 2],\n",
    "                  [2, 3, 2, 3, 2, 3],\n",
    "                  [2, -3, 2, -3, 2, -3],\n",
    "                  [-3, 2, -3, 2, -3, 2],\n",
    "                  [2, -3, 2, -3, 2, -3]])\n",
    "diffs"
   ]
  },
  {
   "cell_type": "markdown",
   "id": "d1ccb92e",
   "metadata": {},
   "source": [
    "Convolving with the `sharpening_kernel` results in a larger number of larger absolute values in the bottom three rows, amplifying the differences between the pixels, such that larger differences become even larger thanks to the sharpening operation:"
   ]
  },
  {
   "cell_type": "code",
   "execution_count": null,
   "id": "640b7e65",
   "metadata": {},
   "outputs": [],
   "source": [
    "# Larger differences in later rows, where there is greater variance in the pixel intensities.\n",
    "sharp_diffs = ndi.correlate(diffs, \n",
    "                            weights=sharpening_kernel)\n",
    "print(sharp_diffs)"
   ]
  },
  {
   "cell_type": "markdown",
   "id": "6d340dcb",
   "metadata": {},
   "source": [
    "Let's apply the `sharpening_kernel` to the `blurry_cat` image array. As this array is a 3D color image, we apply the kernel to each color channel separately:"
   ]
  },
  {
   "cell_type": "code",
   "execution_count": null,
   "id": "72d3efd1",
   "metadata": {},
   "outputs": [],
   "source": [
    "# Separately sharpen each color channel of the `blurry_cat` image.\n",
    "sharpened_channels = {}\n",
    "for i in np.arange(3):\n",
    "    sharpened_cat_channel = ndi.correlate(blurry_cat[:, :, i],\n",
    "                                          weights=sharpening_kernel)\n",
    "    sharpened_channels[i] = sharpened_cat_channel\n",
    "\n",
    "# Stack back to 3D.\n",
    "sharpened_cat = np.stack([sharpened_channels[0],\n",
    "                          sharpened_channels[1],\n",
    "                          sharpened_channels[2]],\n",
    "                          axis=2)\n",
    "\n",
    "# Rescale to avoid illegal an pixel range.\n",
    "sharpened_cat = ski.exposure.rescale_intensity(sharpened_cat, out_range=(0, 1))\n",
    "\n",
    "# Show the result.\n",
    "plt.figure(figsize=(16, 6))\n",
    "plt.subplot(1,2,1)\n",
    "plt.title('Original')\n",
    "plt.imshow(blurry_cat)\n",
    "plt.subplot(1,2,2)\n",
    "plt.title('Sharpened')\n",
    "plt.imshow(sharpened_cat)\n",
    "plt.tight_layout();"
   ]
  },
  {
   "cell_type": "markdown",
   "id": "1f61e5ca",
   "metadata": {},
   "source": [
    "Sci-kit image (unsurprisingly) also has filters to sharpen images. The `ski.filters.unsharp_mask()` filter is one such filter,  and it uses a similar approach to the one we used above,  when we sharpened an image using a Gaussian filter. `ski.filters.unsharp_mask()` uses the following approach:\n",
    "\n",
    "$ \\text{sharpened_img = original_img + scaling_amount * (original_img - blurred_img)} $\n",
    "\n",
    "...where \"scaling_amount\" is a single value which amplifies the sharpened details. Here is the result on `blurry_cat`, using the default parameters, aside from `channel_axis`. We set this to 2 to tell the function that this is a color image, with the color channels in the third dimension (`axis = 2`). This prevents the sharpening filter from affecting the color of the image:"
   ]
  },
  {
   "cell_type": "code",
   "execution_count": null,
   "id": "032a4b7b",
   "metadata": {},
   "outputs": [],
   "source": [
    "# Sharpen `blurry_cat`.\n",
    "sharpen_cat = ski.filters.unsharp_mask(blurry_cat,\n",
    "                                      channel_axis=2)\n",
    "\n",
    "# Show the result.\n",
    "plt.figure(figsize=(16, 6))\n",
    "plt.subplot(1,2,1)\n",
    "plt.title('Original')\n",
    "plt.imshow(blurry_cat)\n",
    "plt.subplot(1,2,2)\n",
    "plt.title('Sharpened \\n(with `ski.filters.unsharp_mask()`)')\n",
    "plt.imshow(sharpen_cat)\n",
    "plt.tight_layout();"
   ]
  },
  {
   "cell_type": "markdown",
   "id": "31476410",
   "metadata": {},
   "source": [
    "Changing the `amount` parameter will intensify the sharpening effect:"
   ]
  },
  {
   "cell_type": "code",
   "execution_count": null,
   "id": "59f5fba9",
   "metadata": {},
   "outputs": [],
   "source": [
    "# Sharpen `blurry_cat`.\n",
    "sharpen_cat = ski.filters.unsharp_mask(blurry_cat,\n",
    "                                       amount=2,\n",
    "                                       channel_axis=2)\n",
    "\n",
    "# Show the result.\n",
    "plt.figure(figsize=(16, 6))\n",
    "plt.subplot(1,2,1)\n",
    "plt.title('Original')\n",
    "plt.imshow(blurry_cat)\n",
    "plt.subplot(1,2,2)\n",
    "plt.title('Sharpened \\n(with `ski.filters.unsharp_mask(amount=3)`)')\n",
    "plt.imshow(sharpen_cat)\n",
    "plt.tight_layout();"
   ]
  },
  {
   "cell_type": "markdown",
   "id": "afb32db6",
   "metadata": {},
   "source": [
    "**Start of exercise**\n",
    "\n",
    "In keeping with the \"sharp\" topic, below we load in a picture of a very regal-looking eagle, from `ski.data`:"
   ]
  },
  {
   "cell_type": "code",
   "execution_count": null,
   "id": "0b1df98a",
   "metadata": {},
   "outputs": [],
   "source": [
    "# Load in and show an image.\n",
    "eagle = ski.data.eagle()\n",
    "show_attributes(eagle)\n",
    "plt.imshow(eagle);"
   ]
  },
  {
   "cell_type": "markdown",
   "id": "553b0a4b",
   "metadata": {},
   "source": [
    "We're feeling vandalistic, and so have ruined this image by adding a boatload of Gaussian blur, in the cell below:"
   ]
  },
  {
   "cell_type": "code",
   "execution_count": null,
   "id": "90dfe046",
   "metadata": {},
   "outputs": [],
   "source": [
    "# Blur the `eagle` image.\n",
    "blurry_eagle = ski.filters.gaussian(eagle,\n",
    "                                    sigma=5)\n",
    "plt.imshow(blurry_eagle);"
   ]
  },
  {
   "cell_type": "markdown",
   "id": "141e832b",
   "metadata": {},
   "source": [
    "You mission is the following. Make a custom sharpening kernel to sharpen `blurry_eagle`. You need to modify the kernel, because if we use the original `sharpening_kernel` on `blurry_eagle`, it does not perform well. The image below shows the result of sharpening with the original `sharpening_kernel`:\n",
    "\n",
    "![](images/not_great_sharp.png)\n",
    "\n",
    "When making your modifications to the kernel pay attention to the original values in `sharpening_kernel` to decide what values you can use to achieve a similar but stronger effect. Here is the original `sharpening_kernel`, to act as your spiritual guide:\n",
    "\n",
    "![](images/sharpening_kernel.png)\n",
    "\n",
    "...think carefully about what you can change to improve the sharpening performance. \n",
    "\n",
    "As a final step use `ski.filters.unsharp_mask()` as an alternate method sharpen the `blurry_eagle` image. Use whatever argument settings you need. Compare the result to your custom kernel."
   ]
  },
  {
   "cell_type": "code",
   "execution_count": null,
   "id": "d4194042",
   "metadata": {},
   "outputs": [],
   "source": [
    "# YOUR CODE HERE\n",
    "my_sharpening_kernel = ...\n",
    "\n",
    "sharp_eagle = ..."
   ]
  },
  {
   "cell_type": "markdown",
   "id": "6674fd44",
   "metadata": {},
   "source": [
    "**End of exercise**"
   ]
  },
  {
   "cell_type": "markdown",
   "id": "1b8a358a",
   "metadata": {},
   "source": [
    "**See the [corresponding page](/skimage-tutorials-temp/6_gaussian_sharpening_edge.html) for solution**\n",
    "\n",
    "# Edge detection filtering \n",
    "\n",
    "We saw a simple [edge detection filter](3_skimage_processing_from_numpy_and_scipy) in one of the exercises on an earlier page. In image processing and computer vision, an edge is a rapid change in intensity between pixels - e.g. there is a high *gradient* of change between the pixel values. We can construct a [kernel](https://www.geeksforgeeks.org/deep-learning/types-of-convolution-kernels) which will detect such intensity changes in the vertical ($y$) direction, and thus will detect horizontal edges. That may sound paradoxical, but *horizontal* edges have *vertical* gradients:"
   ]
  },
  {
   "cell_type": "code",
   "execution_count": null,
   "id": "db7ddf6b",
   "metadata": {},
   "outputs": [],
   "source": [
    "# A horizontal edge detection kernel.\n",
    "horizontal_edge_detection_kernel = np.array([[-1, -1, -1],\n",
    "                                             [ 0,  0,  0],\n",
    "                                             [ 1,  1,  1]])\n",
    "\n",
    "horizontal_edge_detection_kernel"
   ]
  },
  {
   "cell_type": "markdown",
   "id": "eb85cc0e",
   "metadata": {},
   "source": [
    "To show how this kernel works, we will make an image array with very clear edges - one horizontal edge is at the top of the white square, another is at the bottom of the white square. One vertical edge is on the left side of the square, and another vertical edge is on the right side of the square:"
   ]
  },
  {
   "cell_type": "code",
   "execution_count": null,
   "id": "ec6bc99f",
   "metadata": {},
   "outputs": [],
   "source": [
    "# An image array containing clear edges.\n",
    "edgy = np.array([ [0, 0, 0, 0, 0, 0, 0, 0, 0, 0],\n",
    "                  [0, 0, 0, 0, 0, 0, 0, 0, 0, 0],\n",
    "                  [0, 0, 1, 1, 1, 1, 1, 1, 0, 0],\n",
    "                  [0, 0, 1, 1, 1, 1, 1, 1, 0, 0],\n",
    "                  [0, 0, 1, 1, 1, 1, 1, 1, 0, 0],\n",
    "                  [0, 0, 1, 1, 1, 1, 1, 1, 0, 0],\n",
    "                  [0, 0, 1, 1, 1, 1, 1, 1, 0, 0],\n",
    "                  [0, 0, 1, 1, 1, 1, 1, 1, 0, 0],\n",
    "                  [0, 0, 1, 1, 1, 1, 1, 1, 0, 0],\n",
    "                  [0, 0, 0, 0, 0, 0, 0, 0, 0, 0],\n",
    "                  [0, 0, 0, 0, 0, 0, 0, 0, 0, 0]])\n",
    "\n",
    "plt.imshow(edgy);"
   ]
  },
  {
   "cell_type": "markdown",
   "id": "2584e351",
   "metadata": {},
   "source": [
    "Convolving with our horizontal edge detection kernel finds the horizontal edges. Note again that the change in pixel intensities is in the *vertical* direction, but the edge itself runs in the *horizontal* direction:"
   ]
  },
  {
   "cell_type": "code",
   "execution_count": null,
   "id": "7bc7fadb",
   "metadata": {},
   "outputs": [],
   "source": [
    "# Use the horizontal edge detection filter.\n",
    "edgy_horizontal = ndi.correlate(edgy,\n",
    "                                horizontal_edge_detection_kernel)\n",
    "\n",
    "plt.imshow(edgy_horizontal);"
   ]
  },
  {
   "cell_type": "markdown",
   "id": "50bd2832",
   "metadata": {},
   "source": [
    "Let's think about what has happened here at the level of the individual pixels. Three kernel locations from the top of the array are represented below (once again, you can right click on these images and open them in a new tab/window, for easier viewing):\n",
    "\n",
    "![](images/horizontal_edge_detection_1.png)\n",
    "\n",
    "You can see that, for a binary image, the horizontal kernel convolution essential \"counts\" the number of 0-to-1 vertical changes in the kernel location, which lets it detect horizontal edges.\n",
    "\n",
    "Conversely, when the kernel hits the 1-to-0 vertical changes at the bottom of the array, we get a similar count of the 1-to-0 changes, but indicated by a negative value, telling us that the gradient is in the other direction:\n",
    "\n",
    "![](images/horizontal_edge_detection_2.png)\n",
    "\n",
    "The original `edgy` array, and the array resulting from convolution with the `horizontal_edge_detection_kernel` are both shown in \"raw\" NumPy output below:"
   ]
  },
  {
   "cell_type": "code",
   "execution_count": null,
   "id": "37a58485",
   "metadata": {},
   "outputs": [],
   "source": [
    "# Show the horizontal edge-filtered array.\n",
    "print(\"Original `edgy` array:\\n\", edgy)\n",
    "print(\"\\nHorizontally edge filtered:\\n\", edgy_horizontal)"
   ]
  },
  {
   "cell_type": "markdown",
   "id": "84087406",
   "metadata": {},
   "source": [
    "You can also view these arrays, in prettier form, below:\n",
    "\n",
    "![](images/horizontal_edge_matrices.png)\n",
    "\n",
    "We can \"flip\" our edge detection [kernel](https://www.geeksforgeeks.org/deep-learning/types-of-convolution-kernels) to look for big changes in gradient in the *horizontal* ($x$) direction, which will find *vertical* edges:"
   ]
  },
  {
   "cell_type": "code",
   "execution_count": null,
   "id": "effe69fc",
   "metadata": {},
   "outputs": [],
   "source": [
    "# A vertical edge detection kernel.\n",
    "vertical_edge_detection_kernel = horizontal_edge_detection_kernel.T\n",
    "\n",
    "vertical_edge_detection_kernel"
   ]
  },
  {
   "cell_type": "markdown",
   "id": "1a4b8b18",
   "metadata": {},
   "source": [
    "It should be easy to appreciate why this edge detection kernel operates to detect gradients and edges in a different direction! \n",
    "Now, when applied to our `edgy` image array, the vertical edge detection kernel, true to its name, detects vertical edges, and it does show by looking for large pixel intensity changes in the horizontal direction (e.g. those at the left/right side edges of the square):"
   ]
  },
  {
   "cell_type": "code",
   "execution_count": null,
   "id": "637ce070",
   "metadata": {},
   "outputs": [],
   "source": [
    "# The original square.\n",
    "plt.imshow(edgy);"
   ]
  },
  {
   "cell_type": "code",
   "execution_count": null,
   "id": "1811f42b",
   "metadata": {},
   "outputs": [],
   "source": [
    "# Detect edges in the vertical direction.\n",
    "edgy_vertical = ndi.correlate(edgy,\n",
    "                              vertical_edge_detection_kernel)\n",
    "\n",
    "plt.imshow(edgy_vertical);"
   ]
  },
  {
   "cell_type": "markdown",
   "id": "a805475c",
   "metadata": {},
   "source": [
    "Again, in the resultant image, changes from black to white (0-to-1) end up as white pixels (with value 1). Conversely, changes from white to black (1-to-0) end up as black pixels (with value -1). No change ends up as gray (0):\n",
    "\n",
    "![](images/vertical_edge_matrices.png)\n",
    "\n",
    "Applied to more complex images, this edge detection can have some pretty cool effects:"
   ]
  },
  {
   "cell_type": "code",
   "execution_count": null,
   "id": "5622308f",
   "metadata": {},
   "outputs": [],
   "source": [
    "# Load in an image, convert to grayscale.\n",
    "coffee_gray = ski.color.rgb2gray(ski.data.coffee())\n",
    "\n",
    "# Plot the original image.\n",
    "plt.imshow(coffee_gray)\n",
    "show_attributes(coffee_gray);"
   ]
  },
  {
   "cell_type": "markdown",
   "id": "eec59b24",
   "metadata": {},
   "source": [
    "First, we detect edges in the horizontal direction:"
   ]
  },
  {
   "cell_type": "code",
   "execution_count": null,
   "id": "bed7f900",
   "metadata": {},
   "outputs": [],
   "source": [
    "# Filter using the horizontal edge detection kernel.\n",
    "gradient_horizontal_coffee_gray = ndi.correlate(coffee_gray,\n",
    "                                              horizontal_edge_detection_kernel)\n",
    "plt.imshow(gradient_horizontal_coffee_gray);"
   ]
  },
  {
   "cell_type": "markdown",
   "id": "ab99dfaf",
   "metadata": {},
   "source": [
    "Then, in the vertical direction:"
   ]
  },
  {
   "cell_type": "code",
   "execution_count": null,
   "id": "e7b65a45",
   "metadata": {},
   "outputs": [],
   "source": [
    "# Filter using the vertical edge detection kernel.\n",
    "gradient_vertical_coffee_gray = ndi.correlate(coffee_gray,\n",
    "                                               vertical_edge_detection_kernel)\n",
    "plt.imshow(gradient_vertical_coffee_gray);"
   ]
  },
  {
   "cell_type": "markdown",
   "id": "07e99129",
   "metadata": {},
   "source": [
    "We can combine these two edge detection filters together to search for edges in both directions. First, lets refreseh our memory of what `edgy` looked like, filtered in both directions separately:"
   ]
  },
  {
   "cell_type": "code",
   "execution_count": null,
   "id": "df53e913",
   "metadata": {},
   "outputs": [],
   "source": [
    "# Show the image which has been filtered with the horizontal edge detection kernel.\n",
    "plt.subplot(1, 2, 1)\n",
    "plt.imshow(edgy_horizontal)\n",
    "plt.title('Horizontal Edges')\n",
    "# Show the image which has been filtered with the vertical edge detection kernel.\n",
    "plt.subplot(1, 2, 2)\n",
    "plt.imshow(edgy_vertical)\n",
    "plt.title('Vertical Edges');"
   ]
  },
  {
   "cell_type": "markdown",
   "id": "e7a4bd3c",
   "metadata": {},
   "source": [
    "A simple way to combine these filters is to:\n",
    "\n",
    "- `np.stack()` them into 3D...\n",
    "\n",
    "- ...then convert pixel values to absolute numbers (e.g. remove the signs)...\n",
    "\n",
    "- ...and then take to the maximum value across the third dimension (e.g. using `.max(axis = 2)`). This will resize the array down to 2D and...\n",
    "\n",
    "...at the end of this process, only pixels for which an edge was detected in either direction will remain in the resulting image array:"
   ]
  },
  {
   "cell_type": "code",
   "execution_count": null,
   "id": "6bdd5f5b",
   "metadata": {},
   "outputs": [],
   "source": [
    "# Combine the filters.\n",
    "edgy_vertical_horizontal_stack = np.stack([edgy_vertical, edgy_horizontal], axis=2) # Stack to 3D, `shape` = (11, 10, 2).\n",
    "edgy_vertical_horizontal_stack = np.abs(edgy_vertical_horizontal_stack) # Remove the signs, from all elements in the 3D array.\n",
    "edgy_vertical_horizontal_stack = edgy_vertical_horizontal_stack.max(axis=2) # Reshape to 2D, leaving only the largest value from\n",
    "                                                                            # either slice in the resulting array.\n",
    "# Show the result.\n",
    "plt.imshow(edgy_vertical_horizontal_stack);"
   ]
  },
  {
   "cell_type": "markdown",
   "id": "b8b134e8",
   "metadata": {},
   "source": [
    "Pretty cool, here are all the steps, visualised together:"
   ]
  },
  {
   "cell_type": "code",
   "execution_count": null,
   "id": "33055d74",
   "metadata": {},
   "outputs": [],
   "source": [
    "# Plot all the `edgy` images together.\n",
    "plt.figure(figsize=(16, 6))\n",
    "plt.subplot(1, 4, 1)\n",
    "plt.title(\"Original\")\n",
    "plt.imshow(edgy)\n",
    "plt.subplot(1, 4, 2)\n",
    "plt.title(\"Horizontal Edges\")\n",
    "plt.imshow(edgy_horizontal)\n",
    "plt.subplot(1, 4, 3)\n",
    "plt.title(\"Vertical Edges\")\n",
    "plt.imshow(edgy_vertical)\n",
    "plt.subplot(1, 4, 4)\n",
    "plt.title(\"Both Combined\")\n",
    "plt.imshow(edgy_vertical_horizontal_stack);"
   ]
  },
  {
   "cell_type": "markdown",
   "id": "78e0ac1c",
   "metadata": {},
   "source": [
    "The pixel values throughout this edge detection process, on the `edgy` array, are shown on the image below:\n",
    "\n",
    "![](images/edge_detection_process.png)"
   ]
  },
  {
   "cell_type": "markdown",
   "id": "be7eae4b",
   "metadata": {},
   "source": [
    "Let's do this again, for the images that resulted from filtering `coffee_gray` with our horizontal and vertical edge detection kernels, respectively."
   ]
  },
  {
   "cell_type": "code",
   "execution_count": null,
   "id": "a0af715a",
   "metadata": {},
   "outputs": [],
   "source": [
    "# Search for both types of edge (with `coffee_gray`).\n",
    "coffee_vertical_horizontal_stack = np.stack([gradient_vertical_coffee_gray, \n",
    "                                             gradient_horizontal_coffee_gray], axis=2) # Stack to 3D, `shape` = (400, 600, 2).\n",
    "coffee_vertical_horizontal_stack = np.abs(coffee_vertical_horizontal_stack) # Remove the signs, from all elements in the 3D array.\n",
    "coffee_vertical_horizontal_stack = coffee_vertical_horizontal_stack.max(axis=2)# Reshape to 2D, leaving only the largest value from\n",
    "                                                                               # from either slice in the resulting 2D array.\n",
    "\n",
    "# Show the result.\n",
    "plt.imshow(coffee_vertical_horizontal_stack);"
   ]
  },
  {
   "cell_type": "markdown",
   "id": "2a15bbfb",
   "metadata": {},
   "source": [
    "Edgy indeed...\n",
    "\n",
    "We can view all of these steps together, on the plot below:"
   ]
  },
  {
   "cell_type": "code",
   "execution_count": null,
   "id": "05705430",
   "metadata": {},
   "outputs": [],
   "source": [
    "# Plot all the `coffee_gray` images together.\n",
    "plt.figure(figsize=(12,8))\n",
    "plt.subplot(2, 2, 1)\n",
    "plt.title(\"Original\")\n",
    "plt.imshow(coffee_gray)\n",
    "plt.subplot(2, 2, 2)\n",
    "plt.title(\"Horizontal Edges\")\n",
    "plt.imshow(gradient_horizontal_coffee_gray)\n",
    "plt.subplot(2, 2, 3)\n",
    "plt.title(\"Vertical Edges\")\n",
    "plt.imshow(gradient_vertical_coffee_gray)\n",
    "plt.subplot(2, 2, 4)\n",
    "plt.title(\"Both Combined\")\n",
    "plt.imshow(coffee_vertical_horizontal_stack);"
   ]
  },
  {
   "cell_type": "markdown",
   "id": "675b9d9b",
   "metadata": {},
   "source": [
    "# Sobel edge detection filtering\n",
    "\n",
    "A similar edge detection filter is the Sobel filter, which uses the [following](https://www.geeksforgeeks.org/deep-learning/types-of-convolution-kernels/) [kernels](https://nrsyed.com/2018/02/18/edge-detection-in-images-how-to-derive-the-sobel-operator):"
   ]
  },
  {
   "cell_type": "code",
   "execution_count": null,
   "id": "628db595",
   "metadata": {},
   "outputs": [],
   "source": [
    "# Sobel horizontal edge detection kernel.\n",
    "sobel_horizontal =np.array([[-1,-2,-1],\n",
    "                            [0, 0, 0],\n",
    "                            [1, 2, 1]])\n",
    "print(\"\\nSobel horizontal edge detection kernel:\\n\", sobel_horizontal)"
   ]
  },
  {
   "cell_type": "code",
   "execution_count": null,
   "id": "d6fd4a69",
   "metadata": {},
   "outputs": [],
   "source": [
    "# Sobel vertical edge detection kernel.\n",
    "sobel_vertical = np.array([[-1, 0, 1],\n",
    "                           [-2, 0, 2],\n",
    "                           [-1, 0, 1]])\n",
    "print(\"\\nSobel vertical edge detection kernel:\\n\", sobel_vertical)"
   ]
  },
  {
   "cell_type": "markdown",
   "id": "bb95b79a",
   "metadata": {},
   "source": [
    "Let's try these out with `edgy`:"
   ]
  },
  {
   "cell_type": "code",
   "execution_count": null,
   "id": "0fcfde70",
   "metadata": {},
   "outputs": [],
   "source": [
    "# Apply the Sobel horizontal edge detection filter.\n",
    "sobel_edgy_horizontal = ndi.correlate(edgy,\n",
    "                                      sobel_horizontal)\n",
    "\n",
    "plt.imshow(sobel_edgy_horizontal);"
   ]
  },
  {
   "cell_type": "markdown",
   "id": "88024b92",
   "metadata": {},
   "source": [
    "The effect on the individual pixel values is shown below:\n",
    "\n",
    "![](images/horizontal_edge_matrices_sobel.png)"
   ]
  },
  {
   "cell_type": "code",
   "execution_count": null,
   "id": "c90cc5b4",
   "metadata": {},
   "outputs": [],
   "source": [
    "# Apply the Sobel vertical edge detection filter.\n",
    "sobel_edgy_vertical = ndi.correlate(edgy,\n",
    "                                      sobel_vertical)\n",
    "\n",
    "plt.imshow(sobel_edgy_vertical);"
   ]
  },
  {
   "cell_type": "markdown",
   "id": "f49f37cb",
   "metadata": {},
   "source": [
    "Again, you can inspect the effect on the individual pixel values below:\n",
    "\n",
    "![](images/vertical_edge_matrices_sobel.png)"
   ]
  },
  {
   "cell_type": "markdown",
   "id": "a97f46e7",
   "metadata": {},
   "source": [
    "We can combine each edge-filtered image using the method we saw above, taking the absolute maximum values after stacking:"
   ]
  },
  {
   "cell_type": "code",
   "execution_count": null,
   "id": "deef1c79",
   "metadata": {},
   "outputs": [],
   "source": [
    "# Combine the filters.\n",
    "sobel_edgy_vertical_horizontal_stack = np.stack([sobel_edgy_vertical, sobel_edgy_horizontal], axis=2) # Stack to 3D, `shape` = (11, 10, 2).\n",
    "sobel_edgy_vertical_horizontal_stack = np.abs(sobel_edgy_vertical_horizontal_stack) # Remove the signs, from all elements in the 3D array.\n",
    "sobel_edgy_vertical_horizontal_stack = sobel_edgy_vertical_horizontal_stack.max(axis=2) # Reshape to 2D, leaving only the largest value from\n",
    "                                                                            # either slice in the resulting array.\n",
    "# Show the result.\n",
    "plt.imshow(sobel_edgy_vertical_horizontal_stack);"
   ]
  },
  {
   "cell_type": "markdown",
   "id": "1550952b",
   "metadata": {},
   "source": [
    "The more formal method is to use the following [formula](https://nrsyed.com/2018/02/18/edge-detection-in-images-how-to-derive-the-sobel-operator), where the filtered image containing the *vertical edges* (e.g. the *horizontal* gradients) is $G_x$, and the the filtered image containing the *horizontal edges* (e.g. the *vertical* gradients) is $G_y$:\n",
    "\n",
    "$ \\large G_{\\text{overall}} = \\sqrt{ G_x^2 + G_y^2 } $\n",
    "\n",
    "You may recognise this as the [Euclidean distance](https://en.wikipedia.org/wiki/Euclidean_distance) formula. It will give us the edges in both directions, pretty nifty!:"
   ]
  },
  {
   "cell_type": "code",
   "execution_count": null,
   "id": "d2f1ec44",
   "metadata": {},
   "outputs": [],
   "source": [
    "# Run the numbers...\n",
    "sobel_overall = np.sqrt(sobel_edgy_vertical**2 + sobel_edgy_horizontal**2)\n",
    "plt.imshow(sobel_overall);"
   ]
  },
  {
   "cell_type": "markdown",
   "id": "2b2d0555",
   "metadata": {},
   "source": [
    "Below we show the pixel values in this  Sobel-filtered image, with edges in both directions - the numbers in the final array have been rounded to keep it uncluttered:\n",
    "\n",
    "![](images/sobel_both.png)"
   ]
  },
  {
   "cell_type": "markdown",
   "id": "9747e77e",
   "metadata": {},
   "source": [
    "# Edge detection filters in `skimage`\n",
    "\n",
    "`skimage` contains a variety of edge detection filters, and makes it a breeze to implement them. You know the drill now, just pass `skimage` your NumPy image array and pray the `dtype`s are all in order (we kid, but also not...).\n",
    "\n",
    "Remember the first edge detection kernels that we used above?:\n",
    "\n",
    "![](images/edge_dector_kernels.png)\n",
    "\n",
    "[Similar](https://scikit-image.org/docs/0.25.x/api/skimage.filters.html#skimage.filters.prewitt_h) [kernels](https://scikit-image.org/docs/0.25.x/api/skimage.filters.html#skimage.filters.prewitt_v) [are are used by](https://en.wikipedia.org/wiki/Prewitt_operator) `ski.filters.prewitt()` edge detection filter, which we implement in the cell below, on the `edgy` array:"
   ]
  },
  {
   "cell_type": "code",
   "execution_count": null,
   "id": "28be54de",
   "metadata": {},
   "outputs": [],
   "source": [
    "# Prewhitt filtering.\n",
    "edgy_prewitt_ski = ski.filters.prewitt(edgy)\n",
    "plt.imshow(edgy_prewitt_ski);"
   ]
  },
  {
   "cell_type": "markdown",
   "id": "eb5a6cb0",
   "metadata": {},
   "source": [
    "Here we implement the Sobel filter using `skimage`:"
   ]
  },
  {
   "cell_type": "code",
   "execution_count": null,
   "id": "13911e74",
   "metadata": {},
   "outputs": [],
   "source": [
    "# The same Sobel result, via `skimage`.`\n",
    "edgy_sobel_ski = ski.filters.sobel(edgy)\n",
    "plt.imshow(edgy_sobel_ski);"
   ]
  },
  {
   "cell_type": "markdown",
   "id": "62257ef5",
   "metadata": {},
   "source": [
    "The plot below shows the effect of both filters, side by side:"
   ]
  },
  {
   "cell_type": "code",
   "execution_count": null,
   "id": "4e9cf4bc",
   "metadata": {},
   "outputs": [],
   "source": [
    "# Altogether...\n",
    "coins = ski.data.coins()\n",
    "prewitt_coins = ski.filters.prewitt(coins)\n",
    "sobel_coins = ski.filters.sobel(coins)\n",
    "prewitt_coffee = ski.filters.prewitt(coffee_gray)\n",
    "sobel_coffee = ski.filters.sobel(coffee_gray)\n",
    "fig, ax = plt.subplots(3, 3, \n",
    "                       figsize=(12, 12),\n",
    "                       constrained_layout=True)\n",
    "ax[0, 0].imshow(edgy)\n",
    "ax[0, 0].set_title('Original')\n",
    "ax[0, 0].axis('off')\n",
    "ax[0, 1].imshow(edgy_prewitt_ski)\n",
    "ax[0, 1].set_title('Prewitt Edge Filter')\n",
    "ax[0, 1].axis('off')\n",
    "ax[0, 2].imshow(edgy_sobel_ski)\n",
    "ax[0, 2].set_title('Sobel Edge Filter')\n",
    "ax[0, 2].axis('off')\n",
    "ax[1, 0].imshow(coins)\n",
    "ax[1, 0].set_title('Original')\n",
    "ax[1, 0].axis('off')\n",
    "ax[1, 1].imshow(prewitt_coins)\n",
    "ax[1, 1].set_title('Prewitt Edge Filter')\n",
    "ax[1, 1].axis('off')\n",
    "ax[1, 2].imshow(sobel_coins)\n",
    "ax[1, 2].set_title('Sobel Edge Filter')\n",
    "ax[1, 2].axis('off')\n",
    "ax[2, 0].imshow(coffee_gray)\n",
    "ax[2, 0].set_title('Original')\n",
    "ax[2, 0].axis('off')\n",
    "ax[2, 1].imshow(prewitt_coffee)\n",
    "ax[2, 1].set_title('Prewitt Edge Filter')\n",
    "ax[2, 1].axis('off')\n",
    "ax[2, 2].imshow(sobel_coffee)\n",
    "ax[2, 2].set_title('Sobel Edge Filter')\n",
    "ax[2, 2].axis('off')\n",
    "plt.show();"
   ]
  },
  {
   "cell_type": "markdown",
   "id": "b0b93510",
   "metadata": {},
   "source": [
    "**Start of exercise**\n",
    "\n",
    "Think about all of the edge detection filter types we have seen above. You may have noticed that, for all of the final output images from each filter, the edges detected are two pixels wide. For instance the image below results from filtering `edgy` with the Sobel filter:"
   ]
  },
  {
   "cell_type": "code",
   "execution_count": null,
   "id": "6ebb9aa7",
   "metadata": {},
   "outputs": [],
   "source": [
    "# Edgy, filtered with `ski.filters.sobel()`.\n",
    "plt.imshow(edgy_sobel_ski);"
   ]
  },
  {
   "cell_type": "markdown",
   "id": "ac76d014",
   "metadata": {},
   "source": [
    "You can see that both the horizontal edges and the vertical edges are two pixels wide. \n",
    "\n",
    "Can you think of the modifications you could make to the edge detection kernels, such that after convolving `edgy` with the kernels, and combining the results into one image, that the edges in the combined image are *only one pixel wide*?\n",
    "\n",
    "Think about what you need to do, and try to recreate this target image:\n",
    "\n",
    "![](images/one_edge.png)\n",
    "\n",
    "Here are the original edge detection kernels we used, for comparison, to help you think about what modifications you need to recreate the target image:\n",
    "\n",
    "![](images/edge_dector_kernels.png)\n",
    "\n",
    "Please note that you will \"pass\" this exercise if you make kernels which detect one-pixel wide edges, even if your final image does not exactly match the one above. You could modify the Sobel kernels as well, or investigate other edge detection kernel types...\n",
    "\n",
    "*Hint:* run the function `hint_edgy()` for some help if you get stuck."
   ]
  },
  {
   "cell_type": "code",
   "execution_count": null,
   "id": "08616d4d",
   "metadata": {},
   "outputs": [],
   "source": [
    "# YOUR CODE HERE"
   ]
  },
  {
   "cell_type": "markdown",
   "id": "8eff9b13",
   "metadata": {},
   "source": [
    "**End of exercise**"
   ]
  },
  {
   "cell_type": "markdown",
   "id": "681baa5c",
   "metadata": {},
   "source": [
    "**See the [corresponding page](/skimage-tutorials-temp/6_gaussian_sharpening_edge.html) for solution**\n",
    "\n",
    "# Summary\n",
    "\n",
    "This page has showed how to use various convolution kernels to filter images, using `numpy`, `scipy` and `skimage`. We have seen how changing the convolutional kernel can alter the filtering process to achieve different aims, like blurring/smoothing and edge detection. On the [next page](7_median_nonlocal_filters) we will explore different types of filters, which do not use convolution to implement their filtering effects."
   ]
  },
  {
   "cell_type": "markdown",
   "id": "20ab51a2",
   "metadata": {},
   "source": [
    "# References\n",
    "\n",
    "3.3.5 onward from: https://lectures.scientific-python.org/packages/scikit-image/index.html\n",
    "\n",
    "Based on: https://scikit-image.org/skimage-tutorials/lectures/1_image_filters.html\n",
    "\n",
    "Reference: https://www.kdnuggets.com/numpy-for-image-processing\n",
    "\n",
    "Reference: https://setosa.io/ev/image-kernels\n",
    "\n",
    "Reference: https://wiki.imindlabs.com.au/ds/aml/4_problem_domains/1-image-processing/3_edge_detectors\n",
    "\n",
    "Reference: https://www.geeksforgeeks.org/deep-learning/types-of-convolution-kernels\n",
    "\n",
    "Reference: https://scikit-image.org/skimage-tutorials/lectures/1_image_filters.html\n",
    "\n",
    "Reference: https://jni.github.io/i2k-skimage-napari/lectures/1_image_filters.html"
   ]
  }
 ],
 "metadata": {
  "jupytext": {
   "cell_metadata_filter": "-all",
   "main_language": "python",
   "notebook_metadata_filter": "-all"
  },
  "kernelspec": {
   "display_name": "Python (Pyodide)",
   "name": "python"
  }
 },
 "nbformat": 4,
 "nbformat_minor": 5
}

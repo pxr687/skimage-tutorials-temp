{
 "cells": [
  {
   "cell_type": "markdown",
   "id": "0b6611f2",
   "metadata": {},
   "source": [
    "# Images as NumPy arrays\n",
    "\n",
    "This page explores how images can be represented as NumPy arrays. To get\n",
    "started, let's think about the meaning of the word \"image\".  The *intuitive\n",
    "meaning* is roughly \"a picture of something\", or perhaps more broadly \"a\n",
    "visual representation of something\". This is the familiar meaning which\n",
    "applies to images we encounter in everyday life, like advertisement posters,\n",
    "paintings, drawings, photographs and so on.\n",
    "\n",
    "An image - in scientific computing - is *an array that has at least two dimensions*. Depending on your background and familiarity with the topic, this definition may sound more or less strange. We assure you that the two meanings are consistent with one other. However, each meaning refers to different, but overlapping, sets of things.\n",
    "\n",
    "Imagine an image — in the intuitive sense — printed on a piece of paper. The\n",
    "image has two dimensions, one dimension runs along the *length* of the paper\n",
    "and one runs along the *width* of the paper. Now imagine the *computer file*\n",
    "that was used to print the image onto the paper (e.g. the image file that was\n",
    "sent to a run-of-the-mill printer to produce the printed image). The computer\n",
    "file must contain information which tells the printer what to put where, along\n",
    "each dimension of the piece of paper. For instance, consider some location in\n",
    "the middle of the image.  Should that location contain black, white, grey or\n",
    "a colour? By controlling these things, the information contained in the file\n",
    "will ultimately determine the look of the printed image (e.g. what it is\n",
    "a picture *of*).\n",
    "\n",
    "![](images/printed_paper.png)\n",
    "\n",
    "The file and resulting printed image might depict an object that was not\n",
    "originally created on a computer. The image may be of an oil painting, for\n",
    "example. Things like paintings fall under the intuitive meaning of \"image\",\n",
    "but, until they are represented on a computer, they do not fall under the\n",
    "technical meaning of \"image\". A painting is not an array of numbers, but\n",
    "the computer file which represents it is. The technical meaning of \"image\"\n",
    "refers to the computer representations of these things (e.g. a scan or\n",
    "photograph of a painting), as well as to other inherently digital images like\n",
    "digital photographs, CT scans, MRI scans etc. (more on these\n",
    "[later](2_skimage_intro)).\n",
    "\n",
    "Normally, we take an image (in the intuitive sense) and *then* represent it on\n",
    "a computer (by taking a digital photograph or scanning it etc.). This can be\n",
    "referred to as *digitizing* an image. When digitizing, we take an image in the\n",
    "intuitive sense and convert it to an image in the technical sense, by\n",
    "representing it as an at least two-dimensional array of numbers.\n",
    "\n",
    "To get a deeper understanding of the computer representation of images, let's\n",
    "create an image, in the technical sense of a two-dimensional array, and then\n",
    "*view it* as an image, in the intuitive sense, as a visual representation that\n",
    "we can look at as we would any picture."
   ]
  },
  {
   "cell_type": "markdown",
   "id": "a00c7930",
   "metadata": {},
   "source": [
    "## The simplest images\n",
    "\n",
    "First, we will import some Python libraries:"
   ]
  },
  {
   "cell_type": "code",
   "execution_count": null,
   "id": "f82a88bf",
   "metadata": {},
   "outputs": [],
   "source": [
    "# Library imports.\n",
    "# The Numpy library stores and manipulates arrays.\n",
    "import numpy as np\n",
    "# The Matplotlib library can display arrays as images.\n",
    "import matplotlib.pyplot as plt"
   ]
  },
  {
   "cell_type": "markdown",
   "id": "0adc1432",
   "metadata": {},
   "source": [
    "Let's create a two-dimensional array using the familiar NumPy syntax. Notice\n",
    "that we specify the `dtype` — the type the numbers we store in the array. For\n",
    "reasons we will discuss later, when dealing with images it is best to manually\n",
    "control the `dtype` we use, rather than letting NumPy or other libraries\n",
    "decide it for us:"
   ]
  },
  {
   "cell_type": "code",
   "execution_count": null,
   "id": "a25dd0cf",
   "metadata": {},
   "outputs": [],
   "source": [
    "# A two-dimensional numpy array of 1's and 0's.\n",
    "two_D_ones_and_zeros = np.array([[1, 0,],\n",
    "                                 [0, 1,]],\n",
    "                                 dtype=float)\n",
    "\n",
    "two_D_ones_and_zeros"
   ]
  },
  {
   "cell_type": "markdown",
   "id": "3aba93ec",
   "metadata": {},
   "source": [
    "Look at the output of the cell above. This is how NumPy shows us the contents of the array. For the rest of these tutorial pages, we will refer to this as the \"raw\" view of the array e.g. the default view that we see when we inspect the contents of the array without any fancy visualisation.\n",
    "\n",
    "This array is small enough that we can easily see its dimensionality. If we so wish, we can also use the `.shape` attribute to confirm the dimensions:"
   ]
  },
  {
   "cell_type": "code",
   "execution_count": null,
   "id": "dd45ba10",
   "metadata": {},
   "outputs": [],
   "source": [
    "# The `.shape` attribute\n",
    "two_D_ones_and_zeros.shape"
   ]
  },
  {
   "cell_type": "markdown",
   "id": "50d4c516",
   "metadata": {},
   "source": [
    "As you know, the output of the cell above means that the\n",
    "`two_d_ones_and_zeros` array has 2 rows and 2 columns. In virtue of having two\n",
    "dimensions, *this array is an image in the technical sense*. In fact, we will\n",
    "use the terms \"array\", \"image\" and \"image array\" interchangeably throughout\n",
    "this tutorial series, where we are referring to arrays of two-dimensions or\n",
    "more.\n",
    "\n",
    "**Start of note**\n",
    ":class: dropdown\n",
    ":name: on-rows-and-columns\n",
    "\n",
    "**On rows and columns**\n",
    "\n",
    "You'll notice that we used \"rows\" and \"columns\" above.\n",
    "\n",
    "*Row* and *column* can mean different things in different contexts.  We will\n",
    "always use these terms to refer to the first (row) and second (column) axis of\n",
    "the *array* that represents the image.  Therefore the first row of this image,\n",
    "in our sense, is given by (here) `two_D_ones_and_zeros[0]`, and the first\n",
    "column is given by `two_D_ones_and_zeros[:, 0]`.  That is, if you are looking\n",
    "at the display of the array values, you read the first row from left to right,\n",
    "and the first column from top to bottom.  We might call this *the Numpy convention* for referring to rows and columns.\n",
    "\n",
    "Please keep this in mind, because it is also relatively common in imaging\n",
    "papers and textbooks to use rows and columns in the exact opposite sense — to\n",
    "mean, respectively, the second and first axis of the array.  This is the *imaging* convention for rows and columns.\n",
    "\n",
    "To repeat and rephrase, when we refer to *row* `i`, we mean the values from\n",
    "`arr[i]` (where `arr` is an image array).  When we refer to column `j`, we\n",
    "mean the values from `arr[:, j]`.  The first axis is the *row* axis, and the\n",
    "second axis is the *column* axis.  We are therefore following the Numpy\n",
    "convention for the meaning of \"row\" and \"column\".\n",
    "\n",
    "**End of note**\n",
    "\n",
    "You may (understandably) be thinking \"that array does not look much like an\n",
    "image...\". This is a reasonable thought. So how can we view our array as an\n",
    "image in the intuitive sense — as a picture we can look at and appreciate with\n",
    "our high society friends at a gallery opening? One way is to use\n",
    "`plt.matshow()`, a function from the [Matplotlib\n",
    "library](https://matplotlib.org). The function name `plt.matshow()` stands for\n",
    "`mat`rix `show`. The function has this name because arrays are\n",
    "a representation of\n",
    "[matrices](https://en.wikipedia.org/wiki/Matrix_(mathematics)), where *matrix*\n",
    "is the mathematical name for a two-dimensional array. As the name implies, it\n",
    "will display a two-dimensional array graphically.\n",
    "\n",
    "Let's see how our `two_D_ones_and_zeros` looks when we pass it as an argument\n",
    "to `plt.matshow()`. We will use `plt.axis('off')` to avoid some distracting\n",
    "labels on the image *axes*.  In our case the image axes are on the left and at\n",
    "the top of the image."
   ]
  },
  {
   "cell_type": "code",
   "execution_count": null,
   "id": "11fb89fc",
   "metadata": {},
   "outputs": [],
   "source": [
    "# Show the array using `plt.matshow()`.\n",
    "plt.matshow(two_D_ones_and_zeros)\n",
    "plt.axis('off');"
   ]
  },
  {
   "cell_type": "markdown",
   "id": "77a2cb11",
   "metadata": {},
   "source": [
    "Well, now it certainly is an image in the intuitive sense, albeit a strange\n",
    "one! Let's break down what we see here.\n",
    "\n",
    "Each element of the array is shown as a coloured square. The exact colour of\n",
    "the square is determined by the number at the corresponding element of the\n",
    "array. Compare the \"raw\" array to the plot above - you'll see that the yellow\n",
    "squares correspond to 1's in the original array, and the blue squares\n",
    "correspond to 0's:"
   ]
  },
  {
   "cell_type": "code",
   "execution_count": null,
   "id": "e15a2c62",
   "metadata": {},
   "outputs": [],
   "source": [
    "# Show the array (\"raw\" NumPy output).\n",
    "two_D_ones_and_zeros"
   ]
  },
  {
   "cell_type": "markdown",
   "id": "85e743ce",
   "metadata": {},
   "source": [
    "We will now create the same visualisation, but will allow Matplotlib to show\n",
    "us the default axis ticks, as we will not use `plt.axis('off')` to clear the\n",
    "axes of the plot:"
   ]
  },
  {
   "cell_type": "code",
   "execution_count": null,
   "id": "1d905537",
   "metadata": {},
   "outputs": [],
   "source": [
    "# Show the array via `plt.matshow()`\n",
    "plt.matshow(two_D_ones_and_zeros);"
   ]
  },
  {
   "cell_type": "markdown",
   "id": "edec8cc1",
   "metadata": {},
   "source": [
    "We can see the numbers 0 and 1 on the axes. These numbers refer to the\n",
    "integer index location of each element. For instance, the element in the\n",
    "top-left corner is at row/column coordinate (0, 0), the element in the\n",
    "top-right corner is at (0, 1) and so on:"
   ]
  },
  {
   "cell_type": "code",
   "execution_count": null,
   "id": "14b1e90b",
   "metadata": {},
   "outputs": [],
   "source": [
    "# Get the element in the top-left (0, 0) location\n",
    "two_D_ones_and_zeros[0, 0]"
   ]
  },
  {
   "cell_type": "code",
   "execution_count": null,
   "id": "2db38ad2",
   "metadata": {},
   "outputs": [],
   "source": [
    "# Get the element in the top-right (0, 1) location\n",
    "two_D_ones_and_zeros[0, 1]"
   ]
  },
  {
   "cell_type": "markdown",
   "id": "d9b717fd",
   "metadata": {},
   "source": [
    "Also notice that for now we are dealing with the `float64` `dtype`. You will\n",
    "find other `dtypes` in image arrays, and this has a variety of important\n",
    "implications for how the image is displayed by Matplotlib. For now we will\n",
    "just deal with these `float64` numbers, and we will return to the topic of\n",
    "`dtype`s [later](1_color_images_as_numpy_arrays)."
   ]
  },
  {
   "cell_type": "markdown",
   "id": "01572300",
   "metadata": {},
   "source": [
    "## Pixels, pixel coordinates and interpolation\n",
    "\n",
    "So far we have seen that each element in the image array controls what will be seen in each square of the image displayed by `plt.matshow()`. We can refer to each element in our image array as a *pixel*. This is an abbreviation of *picture element*. An image array, then, is a collection of pixels.\n",
    "\n",
    "Our image contains as many pixels as there are elements in the array. Since\n",
    "our image array contains 4 elements, it therefore has 4 pixels. Each pixel has\n",
    "either a 1 or a 0 value, in the `float64` `dtype`. This type of image, because\n",
    "it contains only values of 0 and 1, is called a *binary image*. When this\n",
    "array is displayed by `plt.matshow()`, by default, 1's are shown as yellow\n",
    "squares and 0's are shown as blue squares.\n",
    "\n",
    "It is important to distinguish between what we will call *array pixels* and\n",
    "*display pixels*. *Array pixels* are the pixel values in the image, considered\n",
    "as a two-dimensional array of numbers. However, the screen (display) you are\n",
    "reading this tutorial on has a certain number of tiny \"dots\" which can be\n",
    "coloured in different ways. The image you see on the display is determined by\n",
    "the precise configuration and colouring of these dots. These dots are also\n",
    "called \"pixels\", and because they are dots on the *display*, rather than in\n",
    "the original array, we will refer to them as *display pixels*.\n",
    "\n",
    "When we *visualise*, *render* or *display* an array image, our computer\n",
    "interprets our *array pixels* and then shows them as *display pixels*.\n",
    "*Visualise*, *render* and *display* are synonyms here for the process of\n",
    "taking an image, in the technical sense of an two-dimensional array, and\n",
    "showing it graphically using a visualisation tool like Matplotlib.\n",
    "\n",
    "Astute readers might reasonably say \"hang on...if *display pixels* are tiny\n",
    "dots on my screen, then the image from `plt.matshow()` looks bigger than four\n",
    "pixels!\". This is correct. Matplotlib is drawing an image with many more\n",
    "pixels on your display screen than the array has values. Our image array\n",
    "contains 4 *array pixels*, but if Matplotlib displayed it with just 4 *display\n",
    "pixels*, the resulting visualisation would be tiny on your screen.  For\n",
    "example, the display on the (at time of writing) 13 inch Macbook Air laptop\n",
    "has 2560 pixels from left to right and 1664 from bottom to top, giving 224\n",
    "pixels per inch.  If we displayed our 2 by 2 array pixels as 2 by 2 display\n",
    "pixels, the displayed image would be $\\frac{1}{112}$ of an inch in each\n",
    "direction, and would be very difficult to see.\n",
    "\n",
    "Thus, when our small (or *low-resolution*) image array is displayed/visualised\n",
    "on your screen by something like `plt.matshow()`, Matplotlib has to:\n",
    "\n",
    "1. work out what size the displayed image should be *on the monitor*;\n",
    "2. work out how many *monitor pixels* this will be.  In our case, with a tiny\n",
    "   input array (2 x 2), there will be many more monitor pixel values than\n",
    "   input array values;\n",
    "3. calculate the monitor pixels corresponding to make this much larger\n",
    "   displayed image, and\n",
    "4. display the *monitor pixels* on the monitor.\n",
    "\n",
    "In working out the monitor pixels, Matplotlib is doing something called *image\n",
    "interpolation*. This is defined as [\"a technique by which a low-resolution\n",
    "image can be scaled up to a high-resolution image without degrading the visual\n",
    "quality\"](https://www.sciencedirect.com/topics/computer-science/image-interpolation#:~:text=Image%20interpolation%20is%20a%20technique,without%20degrading%20the%20visual%20quality.).\n",
    "We will [go this process in more detail later in this tutorial\n",
    "series](3_skimage_processing_from_numpy_and_scipy).\n",
    "\n",
    "To give a glimpse of the kind of thing that has happened behind the scenes we\n",
    "can ask Matplotlib to do the same process of creating an output display image,\n",
    "by *saving* the image to a new [Portable Network Graphics\n",
    "(PNG)](https://en.wikipedia.org/wiki/PNG) file, using `plt.savefig()`.  In\n",
    "doing so Matplotlib will do the same process as it did in displaying to the\n",
    "screen, but in this case, for saving to an output file.  Matplotlib will:\n",
    "\n",
    "1. work out what size the displayed image should be *as stored in the file*,\n",
    "   in physical units, such as inches;\n",
    "2. work out how many *pixels* this will be — in doing this, Matplotlib makes\n",
    "   use of a setting called DPI (dots per inch — pixels per inch);\n",
    "3. calculate the saved pixels corresponding to make this much larger displayed\n",
    "   image, and\n",
    "4. save the *output image pixels* to the image file.\n",
    "\n",
    "For example, in our case, we can work out (in ways that we won't show here)\n",
    "that the desired (default) size will be 4.8 by 4.8 inches, that the DPI\n",
    "setting is 100, and therefore, the number of pixels in each dimension is 4.8\n",
    "x 100 = 480.\n",
    "\n",
    "We have saved the file in the following path in the directory this notebook is\n",
    "stored in: `images/two_D_ones_and_zeros_from_plot.png`."
   ]
  },
  {
   "cell_type": "code",
   "execution_count": null,
   "id": "6b8c063c",
   "metadata": {},
   "outputs": [],
   "source": [
    "# Show the image.\n",
    "plt.matshow(two_D_ones_and_zeros)\n",
    "\n",
    "# Save the image.\n",
    "plt.savefig(\"images/two_D_ones_and_zeros_from_plot.png\")"
   ]
  },
  {
   "cell_type": "markdown",
   "id": "59500233",
   "metadata": {},
   "source": [
    "We will now read this new `.png` image back into this notebook as a NumPy\n",
    "array, to view its `shape` attribute.\n",
    "\n",
    "Loading files using Scikit-image (`skimage`) will be covered on [later pages](2_skimage_intro), but for now we import the `.imread()` function from the input/output (`io`) module of `skimage`  to load the `.png` filter that we just saved via the code cell above.\n",
    "\n",
    "*Note*: for reasons that will become clear later, we set the `as_gray` argument to `True` to ensure the image has the same number of dimensions as our original array."
   ]
  },
  {
   "cell_type": "code",
   "execution_count": null,
   "id": "23c88550",
   "metadata": {},
   "outputs": [],
   "source": [
    "# Import the input/output module from `skimage`.\n",
    "from skimage import io\n",
    "\n",
    "# Read in the image from the file we just saved.\n",
    "from_file = io.imread(\"images/two_D_ones_and_zeros_from_plot.png\",\n",
    "                      as_gray=True)\n",
    "\n",
    "# Show the shape of the image file.\n",
    "from_file.shape"
   ]
  },
  {
   "cell_type": "markdown",
   "id": "00aabbc0",
   "metadata": {},
   "source": [
    "You can see that the image we have saved, and then loaded back into this notebook, has a `shape` of `(480, 480)`. This is much larger than our original `(4, 4)` image array. We displayed our original 2-by-2 *array image* (`two_D_ones_and_zeros`) using Matplotlib.  When saving this image to an image (PNG) file with `plt.savefig()`, Matplotlib decided this should be saved as a 480 by 480 array.  Because it was upscaled for the purposes of display, the display image contains many more pixels than the original `two_d_ones_and_zeros` array."
   ]
  },
  {
   "cell_type": "markdown",
   "id": "b0c144ba",
   "metadata": {},
   "source": [
    "## More on array pixels vs display pixels\n",
    "\n",
    "We have used `plt.matshow()` so far on this page. Perhaps more commonly, you will see another Matplotlib function used to visualise/display/render image arrays. This more commonly seen function is called `plt.imshow()` (for `im`age `show`). It is a more general purpose function than `plt.matshow()` and can be used to display a wider variety of image arrays. See the documentation for each function [(matshow) here](https://matplotlib.org/stable/api/_as_gen/matplotlib.pyplot.matshow.html) and [(imshow) here](https://matplotlib.org/stable/api/_as_gen/matplotlib.pyplot.imshow.html).\n",
    "\n",
    "Using the (more common) `plt.imshow()` can lead to some different and potentially slightly confusing default axis tick labels, for very small (e.g. low-resolution) image arrays:"
   ]
  },
  {
   "cell_type": "code",
   "execution_count": null,
   "id": "8b8f55ff",
   "metadata": {},
   "outputs": [],
   "source": [
    "# Visualize our array with `plt.imshow()`\n",
    "plt.imshow(two_D_ones_and_zeros);"
   ]
  },
  {
   "cell_type": "markdown",
   "id": "6b68fcc7",
   "metadata": {},
   "source": [
    "When using `plt.imshow()` we now see some (possibly strange-seeming) information on the axes. The `plt.matshow()` function, by default shows us the integer index of each element in the array. For the new display output from `plt.imshow()` we see axis tick labels ranging from -0.5 to 1.5.\n",
    "\n",
    "These numbers refer to the scaled *display pixel coordinates* of the displayed\n",
    "image, where, for example, 0.50 on the left-right (x) axis refers to the\n",
    "display coordinate value half way between 0 (corresponding to the center of\n",
    "the first column in the original array) and 1 (corresponding to the center of\n",
    "second column in the original array).  In contrast, `plt.matshow` labels the\n",
    "axes with the *array pixel coordinates*. Compare the output from the cell\n",
    "below (from `plt.matshow()`) to the output of the cell above (from\n",
    "`plt.imshow()`) to see the difference in the default axis values:"
   ]
  },
  {
   "cell_type": "code",
   "execution_count": null,
   "id": "5b03be9d",
   "metadata": {},
   "outputs": [],
   "source": [
    "# Use `plt.matshow()` - the axis ticks now show the array pixel coordinates\n",
    "# which are the integer indexes of each value in the image array\n",
    "plt.matshow(two_D_ones_and_zeros);"
   ]
  },
  {
   "cell_type": "markdown",
   "id": "6020cc78",
   "metadata": {},
   "source": [
    "For the rest of this tutorial, for small arrays we will use `plt.matshow()`, to keep the axes labels more intuitively interpretable.\n",
    "\n",
    "## Shades of gray and colormaps\n",
    "\n",
    "Why does our image array display in vibrant purple and yellow, you may ask? This is because both `plt.matshow()` - and its cousin `plt.imshow()` - have a default *colourmap*. This is a mapping between the numbers in the array, and the colours that the plot will depict each number with when the array is visualised. The default colourmap is called [`viridis`](https://matplotlib.org/3.5.3/api/_as_gen/matplotlib.pyplot.viridis.html). This default colourmap maps low array pixel values to purple, and high array pixel values to yellow.\n",
    "\n",
    "We can adjust the color by changing the `cmap` argument of `plt.matshow()` - for instance, we can change the plot to visualise the array using a grayscale map:"
   ]
  },
  {
   "cell_type": "code",
   "execution_count": null,
   "id": "3cd01ccd",
   "metadata": {},
   "outputs": [],
   "source": [
    "# Show the array, change the colourmap.\n",
    "plt.matshow(two_D_ones_and_zeros,\n",
    "            cmap=\"gray\"); # Specify the colourmap"
   ]
  },
  {
   "cell_type": "markdown",
   "id": "ae78269c",
   "metadata": {},
   "source": [
    "So far so good. We have hand-crafted an image of something which looks like a very small chessboard. Using the `gray` colormap, each number in the array is now mapped to a shade between black and white. We can call this the *gray-level* of each element. This is a technical term, and may seem a bit odd given that the image shows only black or white squares. This helpful image makes things clearer:\n",
    "\n",
    "![](images/grey-colours.png)\n",
    "(Image from [here](https://www.pythoninformer.com/computer-science/colour/grey-colour)).\n",
    "\n",
    "Personally, we think a better term here would be \"white-level\", but the term \"gray-level\" is already established...\n",
    "\n",
    "Our image array so far contains only 1's and 0's; you might naturally ask \"what happens if we use other numbers, how does this affect the color/gray-level of the display image?\". To demonstrate, in the cell below, we create a new two-dimensional array which contains decimal numbers 0 and 1."
   ]
  },
  {
   "cell_type": "code",
   "execution_count": null,
   "id": "42824bcf",
   "metadata": {},
   "outputs": [],
   "source": [
    "# A two dimensional numpy array of numbers between 0 and 1.\n",
    "two_D_other_numbers= np.array([[0,  1],\n",
    "                               [0.5, 0.3]])\n",
    "\n",
    "two_D_other_numbers"
   ]
  },
  {
   "cell_type": "markdown",
   "id": "30a96c62",
   "metadata": {},
   "source": [
    "These numbers are again of the `float64` `dtype`:"
   ]
  },
  {
   "cell_type": "code",
   "execution_count": null,
   "id": "7119680e",
   "metadata": {},
   "outputs": [],
   "source": [
    "# Show the `dtype`.\n",
    "two_D_other_numbers.dtype"
   ]
  },
  {
   "cell_type": "markdown",
   "id": "8a28558d",
   "metadata": {},
   "source": [
    "Let's show this image using the grayscale colormap:"
   ]
  },
  {
   "cell_type": "code",
   "execution_count": null,
   "id": "996c74b8",
   "metadata": {},
   "outputs": [],
   "source": [
    "# Show the new array (using Matplotlib).\n",
    "plt.matshow(two_D_other_numbers,\n",
    "           cmap=\"gray\");"
   ]
  },
  {
   "cell_type": "markdown",
   "id": "46111e17",
   "metadata": {},
   "source": [
    "You can compare this visualisation of the image to the \"raw\" array output from the cell below. You'll notice that *larger* numbers are represented with *lighter* squares, and *smaller* numbers are represented with *darker* squares. When we are using `float64` data, as we are here, you can think of each pixel value (0, 1 or in between) as specifying the gray-level as a percentage - with 1 being 100%, 0 being 0%, 0.5 being 50% and so on:"
   ]
  },
  {
   "cell_type": "code",
   "execution_count": null,
   "id": "d39c018e",
   "metadata": {},
   "outputs": [],
   "source": [
    "# Show the new array (from the NumPy output).\n",
    "two_D_other_numbers"
   ]
  },
  {
   "cell_type": "markdown",
   "id": "f57a2ffa",
   "metadata": {},
   "source": [
    "This \"larger numbers as lighter shades, lower numbers as darker shades\" principle will also apply if we use larger integer numbers:"
   ]
  },
  {
   "cell_type": "code",
   "execution_count": null,
   "id": "1b08b911",
   "metadata": {},
   "outputs": [],
   "source": [
    "# Make 'em bigger!\n",
    "two_D_other_numbers_bigger = two_D_other_numbers * 100\n",
    "two_D_other_numbers_bigger"
   ]
  },
  {
   "cell_type": "markdown",
   "id": "84be41f7",
   "metadata": {},
   "source": [
    "Using larger numbers, the *maximum* number will be colored lightest, and the *minimum* number will be colored darkest:"
   ]
  },
  {
   "cell_type": "code",
   "execution_count": null,
   "id": "ee145350",
   "metadata": {},
   "outputs": [],
   "source": [
    "# Visualise the array containing the larger numbers.\n",
    "plt.matshow(two_D_other_numbers_bigger,\n",
    "            cmap=\"gray\");"
   ]
  },
  {
   "cell_type": "markdown",
   "id": "a9c982ce",
   "metadata": {},
   "source": [
    "We can make the color mapping more explicit and interpretable by using the [`plt.colorbar()`](https://matplotlib.org/stable/api/_as_gen/matplotlib.pyplot.colorbar.html) function:"
   ]
  },
  {
   "cell_type": "code",
   "execution_count": null,
   "id": "6cd0fc21",
   "metadata": {},
   "outputs": [],
   "source": [
    "# Add a colorbar.\n",
    "plt.matshow(two_D_other_numbers,\n",
    "          cmap=\"gray\")\n",
    "plt.colorbar(); # Show a helpful colorbar."
   ]
  },
  {
   "cell_type": "markdown",
   "id": "c67a9f4c",
   "metadata": {},
   "source": [
    "The colorbar on the right of the image now shows us which number in the array - which *array pixel* - is mapped to which shade on the rendered image.\n",
    "\n",
    "Importantly, both our image arrays contain only *one numeric value per array pixel*. For each colormap (`viridis` vs `gray`) each single numeric value maps to a darker or lighter display color. Let's view the plots side-by-side with each colormap, for comparison:"
   ]
  },
  {
   "cell_type": "code",
   "execution_count": null,
   "id": "96ee89e6",
   "metadata": {},
   "outputs": [],
   "source": [
    "# Show the plots side-by-side.\n",
    "plt.subplot(1, 2, 1) # Creat the first subplot.\n",
    "plt.matshow(two_D_other_numbers,\n",
    "            fignum=0) # This is needed to allow `matshow` to work as a subplot.\n",
    "plt.colorbar() # Show the colorbar.\n",
    "plt.subplot(1, 2, 2) # Repeat the above for the second subplot.\n",
    "plt.matshow(two_D_other_numbers,\n",
    "            fignum=0,\n",
    "            cmap='gray')\n",
    "plt.colorbar();"
   ]
  },
  {
   "cell_type": "markdown",
   "id": "b767e3e6",
   "metadata": {},
   "source": [
    "We will talk more about color in the [next tutorial](1_color_images_as_numpy_arrays). For now, you can think of these plots as showing the same array pixel information, just using a different color gradient. The single numeric value in each array pixel location determines *pixel intensity*. This is the brightness or darkness with which that pixel will be displayed when the image is displayed by something like Matplotlib. The `viridis` colormap maps these pixel intensities to a gradient of purple-yellow; the `gray` colormap maps these pixel intensities to a gradient of black-gray-white.\n",
    "\n",
    "We can change the default colormap for the rest of the plots we create in this session by using the code in the cell below. See [here](https://matplotlib.org/stable/tutorials/introductory/customizing.html) for more information on how to change Matplotlib's default behaviour across every session:"
   ]
  },
  {
   "cell_type": "code",
   "execution_count": null,
   "id": "b3b7e3a7",
   "metadata": {},
   "outputs": [],
   "source": [
    "# Set 'gray' as the default colormap\n",
    "plt.rcParams['image.cmap'] = 'gray'"
   ]
  },
  {
   "cell_type": "markdown",
   "id": "e1efd8cf",
   "metadata": {},
   "source": [
    "You now understand the fundamentals of the computer representation of images! Before moving on, let's recap where we are:\n",
    "\n",
    "* We know that an image (in the technical sense) is a numeric array of at least two dimensions - often but not necessarily containing information about, or depicting, something in the world.\n",
    "\n",
    "* We know that the number at each element of the array tells a computer what pixel intensity (e.g. gray-level) to show at that array pixel location. These pixel intensities determine the color of the corresponding display pixels in the rendered image. In the arrays we have seen, color is determined in accordance with the `colormap` we use for plotting.\n",
    "\n",
    "* We know what happens when an image array contains fewer pixels than the rendered image e.g. using interpolation, the image will be upscaled to be displayed using more *display pixels* than there are *array pixels* in the original image array.\n",
    "\n",
    "* We have seen how changing the elements in an array can change how the image looks when it is displayed.\n",
    "\n",
    "# (Slightly) more complex images\n",
    "\n",
    "Let's dive deeper by using some new two-dimensional image arrays with more complex array pixel arrangements. First, we make an array with 15 rows and 8 columns. **Please inspect the contents of the array carefully!**:"
   ]
  },
  {
   "cell_type": "code",
   "execution_count": null,
   "id": "434fb2a5",
   "metadata": {},
   "outputs": [],
   "source": [
    "# Another array.\n",
    "mostly_blank_canvas = np.array([[0, 0, 0, 0, 0, 0, 0, 0],\n",
    "                                [0, 0, 0, 1, 0, 0, 0, 0],\n",
    "                                [0, 0, 0, 0, 0, 0, 0, 0],\n",
    "                                [0, 0, 0, 0, 0, 0, 0, 0],\n",
    "                                [0, 0, 0, 0, 0, 0, 0, 0],\n",
    "                                [0, 0, 0, 0, 0, 0, 0, 0],\n",
    "                                [0, 0, 0, 0, 0, 0, 0, 0],\n",
    "                                [0, 0, 0, 0, 0, 0, 0, 0],\n",
    "                                [0, 0, 0, 0, 0, 0, 0, 0],\n",
    "                                [0, 0, 0, 0, 0, 0, 0, 0],\n",
    "                                [0, 0, 0, 0, 0, 0, 0, 0],\n",
    "                                [0, 0, 0, 0, 0, 0, 0, 0],\n",
    "                                [0, 0, 0, 0, 0, 0, 0, 0],\n",
    "                                [0, 0, 0, 0, 0, 0, 0, 0],\n",
    "                                [0, 0, 0, 0, 0, 0, 0, 0]],\n",
    "                                dtype=float)\n",
    "mostly_blank_canvas"
   ]
  },
  {
   "cell_type": "code",
   "execution_count": null,
   "id": "eaac1e4e",
   "metadata": {},
   "outputs": [],
   "source": [
    "# Show the shape.\n",
    "mostly_blank_canvas.shape"
   ]
  },
  {
   "cell_type": "code",
   "execution_count": null,
   "id": "2222354c",
   "metadata": {},
   "outputs": [],
   "source": [
    "# Show the `dtype`.\n",
    "mostly_blank_canvas.dtype"
   ]
  },
  {
   "cell_type": "markdown",
   "id": "420db543",
   "metadata": {},
   "source": [
    "From looking at the \"raw\" array (from the NumPy output of the cell above the last two cells), what do you think this array will look like when we visualise it with `plt.imshow()`? There is a clue in the variable name...\n",
    "\n",
    "*Note:* this array is now large enough that we get interpretable index labels with `plt.imshow()` e.g. labels which show the integer index location of each array pixel."
   ]
  },
  {
   "cell_type": "code",
   "execution_count": null,
   "id": "6cd17e14",
   "metadata": {},
   "outputs": [],
   "source": [
    "# Show the newest array.\n",
    "plt.imshow(mostly_blank_canvas);"
   ]
  },
  {
   "cell_type": "markdown",
   "id": "5ae77068",
   "metadata": {},
   "source": [
    "As you probably expected, the image is mostly of a uniform color, aside from the single array pixel location which contains a 1 rather than a 0.\n",
    "\n",
    "You can see that this is an image in the intuitive sense. It is a *picture* by a loose definition, though arguably it does not *represent* anything.\n",
    "\n",
    "What about the array below? What do you think this will show when we visualise it? Try to make your prediction from looking at the \"raw\" numbers:"
   ]
  },
  {
   "cell_type": "code",
   "execution_count": null,
   "id": "bdae8263",
   "metadata": {},
   "outputs": [],
   "source": [
    "what_is_it = np.array([[0, 0, 0, 0, 0, 0, 0, 0],\n",
    "                       [0, 0, 0, 1, 1, 0, 0, 0],\n",
    "                       [0, 0, 0, 1, 1, 0, 0, 0],\n",
    "                       [0, 0, 0, 0, 0, 0, 0, 0],\n",
    "                       [0, 0, 0, 1, 1, 0, 0, 0],\n",
    "                       [0, 0, 0, 1, 1, 0, 0, 0],\n",
    "                       [0, 0, 0, 1, 1, 0, 0, 0],\n",
    "                       [0, 0, 0, 1, 1, 0, 0, 0],\n",
    "                       [0, 0, 0, 1, 1, 0, 0, 0],\n",
    "                       [0, 0, 0, 1, 1, 0, 0, 0],\n",
    "                       [0, 0, 0, 1, 1, 0, 0, 0],\n",
    "                       [0, 0, 0, 1, 1, 0, 0, 0],\n",
    "                       [0, 0, 0, 1, 1, 0, 0, 0],\n",
    "                       [0, 0, 0, 1, 1, 0, 0, 0],\n",
    "                       [0, 0, 0, 0, 0, 0, 0, 0]],\n",
    "                       dtype=float)\n",
    "what_is_it"
   ]
  },
  {
   "cell_type": "markdown",
   "id": "e448d73e",
   "metadata": {},
   "source": [
    "Let's see how good your prediction was:"
   ]
  },
  {
   "cell_type": "code",
   "execution_count": null,
   "id": "c5530470",
   "metadata": {},
   "outputs": [],
   "source": [
    "# Show the array.\n",
    "plt.imshow(what_is_it);"
   ]
  },
  {
   "cell_type": "markdown",
   "id": "f3a83881",
   "metadata": {},
   "source": [
    "We hope you agree that this image is a pretty good representation of the English letter \"i\". We now have an image which represents a *symbol* e.g. as opposed to representing a visual scene or object. For any image, which is to say on any array of at least two dimensions, we can do something called *image manipulation*. This might sound like we are deceiving someone about our appearance or character, but in fact what it means is that we *do something which changes the numbers inside the array, and therefore changes the corresponding visual image*.\n",
    "\n",
    "Let's use the helpfully named NumPy function [`np.flip()`](https://numpy.org/doc/2.1/reference/generated/numpy.flip.html). This function, by default, will \"flip\" an array along the rows. Somewhat biblically, the first row will become the last row, and the last row will become the first row. Let's apply this function to our present image, and inspect the corresponding \"raw\" output:"
   ]
  },
  {
   "cell_type": "code",
   "execution_count": null,
   "id": "a5110d06",
   "metadata": {},
   "outputs": [],
   "source": [
    "# Flip the array.\n",
    "flipped_array = np.flip(what_is_it)\n",
    "\n",
    "# Show the flipped array.\n",
    "flipped_array"
   ]
  },
  {
   "cell_type": "markdown",
   "id": "c4d2f1d3",
   "metadata": {},
   "source": [
    "What do you think the array now depicts? How will it look when we visualise it with `plt.imshow()`?\n",
    "\n",
    "Let's take a look:"
   ]
  },
  {
   "cell_type": "code",
   "execution_count": null,
   "id": "2608e304",
   "metadata": {},
   "outputs": [],
   "source": [
    "# Show the flipped array graphically.\n",
    "plt.imshow(flipped_array);"
   ]
  },
  {
   "cell_type": "markdown",
   "id": "0f22ab45",
   "metadata": {},
   "source": [
    "We hope you'll agree that the image now better represents the exclamation mark symbol (\"!\") than the English letter \"i\". This change was achieved through altering the location of the numbers in the image array.\n",
    "\n",
    "Applying changes such as these to the numbers in the array is the fundamental mechanism of *image processing* - which can be defined as:\n",
    "\n",
    "![](images/processing_definition.png)\n",
    "So, remember this maxim: *\"image processing\" is when we do something that analyzes or changes the numbers inside the image array*. If we change the array, we change the corresponding visual image. Such image processing operations are carried out by popular software, including that used to edit images for various social media platforms. They are also carried out in a scientific context in fields like medical imaging, where they are applied to the image arrays we get from CT scans and MRI scans, for example.\n",
    "\n",
    "\n",
    "## Even more complex images\n",
    "\n",
    "All of the principles we have seen apply both to the very small, low-resolution images we looked at above, and also to more complex images. The cell below loads in a picture of a Xenomorph (a creature from the [Alien film franchise](https://en.wikipedia.org/wiki/Alien_(franchise))). We show the image with `plt.imshow()`:"
   ]
  },
  {
   "cell_type": "code",
   "execution_count": null,
   "id": "05181167",
   "metadata": {},
   "outputs": [],
   "source": [
    "# Load in and `imshow` the image, with a colorbar.\n",
    "xeno = io.imread(\"images/xenomorph.jpg\", as_gray=True)\n",
    "plt.imshow(xeno)\n",
    "plt.colorbar();"
   ]
  },
  {
   "cell_type": "markdown",
   "id": "16b3c4ec",
   "metadata": {},
   "source": [
    "(Photo by\n",
    "[Stockcake](https://stockcake.com/i/alien-head-close-up_1354662_1093149)).\n",
    "\n",
    "Scary stuff. This image will seem slightly less intimidating when we see that it is, in fact, nothing by a 2D NumPy array of pixel intensity values. We promise it cannot hurt you:"
   ]
  },
  {
   "cell_type": "code",
   "execution_count": null,
   "id": "32034f40",
   "metadata": {},
   "outputs": [],
   "source": [
    "# Show the NumPy \"raw\" view of the `xeno` array\n",
    "xeno.round(2) # We round the numbers for display, to make them nicer to view."
   ]
  },
  {
   "cell_type": "markdown",
   "id": "9593325c",
   "metadata": {},
   "source": [
    "These same principles apply to images of any complexity, including those produced by complex imaging eqauipment like [functional brain imaging](https://en.wikipedia.org/wiki/Functional_neuroimaging) devices."
   ]
  },
  {
   "cell_type": "markdown",
   "id": "85d6577d",
   "metadata": {},
   "source": [
    "**Start of exercise**\n",
    "\n",
    "Now over to you to create some [computer art](https://en.wikipedia.org/wiki/Computer_art). Your job is to recreate the (slightly terrifying) image in the output of the cell below, **using only a NumPy array and `plt.matshow()`.** Run the cell to show the image."
   ]
  },
  {
   "cell_type": "code",
   "execution_count": null,
   "id": "e9223c39",
   "metadata": {},
   "outputs": [],
   "source": [
    "# Importing a custom function to create the image.\n",
    "from smiley import create_smiley\n",
    "\n",
    "# Create and show the image.\n",
    "create_smiley();"
   ]
  },
  {
   "cell_type": "markdown",
   "id": "95d1ad89",
   "metadata": {},
   "source": [
    "The array you create should have `.shape` of (11, 8) - so 11 rows and 8 columns.\n",
    "\n",
    "*Hint*: Remember that the axis tick numbers show the integer index location of each cell in the two-dimensional array. You can use this knowledge along with your knowledge from the previous sections, to work out what pixel values need to be at each location in your array.\n",
    "\n",
    "*Hint 2*: You may also want to investigate placing [`plt.grid()`](https://matplotlib.org/stable/api/_as_gen/matplotlib.pyplot.grid.html) in the last line of the cell above, and re-running the cell, in order to make it easier to identify row/column coordinates..."
   ]
  },
  {
   "cell_type": "code",
   "execution_count": null,
   "id": "451ccca1",
   "metadata": {},
   "outputs": [],
   "source": [
    "# YOUR CODE HERE\n",
    "..."
   ]
  },
  {
   "cell_type": "markdown",
   "id": "a6d5a601",
   "metadata": {},
   "source": [
    "**End of exercise**"
   ]
  },
  {
   "cell_type": "markdown",
   "id": "7a70bd5c",
   "metadata": {},
   "source": [
    "**See the [corresponding page](/skimage-tutorials-temp/0_images_as_numpy_arrays.html) for solution**\n",
    "\n",
    "## Summary\n",
    "\n",
    "On this page we have examined the fundamental components of computer images:\n",
    "\n",
    "* Images are (at least) two-dimensional arrays of numbers.\n",
    "\n",
    "* For small/low-resolution arrays, the values in the array will be displayed on more pixels than there are values in the array.\n",
    "\n",
    "* The number at each location in an image array determines the pixel intensity (gray-level) in a 2D array. We have seen that different `colormap`s can display this information using different color gradients.\n",
    "\n",
    "* These principles apply both to very simple and very complex images.\n",
    "\n",
    "On the [next page](1_color_images_as_numpy_arrays), we will look at the representation of color in NumPy image arrays."
   ]
  },
  {
   "cell_type": "markdown",
   "id": "3f42d14a",
   "metadata": {},
   "source": [
    "## References\n",
    "\n",
    "Adapted from:\n",
    "\n",
    "* [Scientific Python Lecture Notes - image\n",
    "  processing](https://lectures.scientific-python.org/advanced/image_processing)\n",
    "* [Scientific Python Lecture Notes; scikit-image](https://lectures.scientific-python.org/packages/scikit-image/index.html)\n",
    "* [Nipraxis course - arrays and\n",
    "  images](https://textbook.nipraxis.org/arrays_and_images.html)\n",
    "* [Nipraxis course - three-dimensional\n",
    "  arrays](https://textbook.nipraxis.org/arrays_3d.html)\n",
    "\n",
    "with further inspiration from [`skimage`](https://github.com/scikit-image/skimage-tutorials) [tutorials](https://scipy-2024-image-analysis.github.io/tutorial/01_images_are_arrays.html)."
   ]
  }
 ],
 "metadata": {
  "jupytext": {
   "formats": "ipynb,Rmd"
  },
  "kernelspec": {
   "display_name": "Python (Pyodide)",
   "name": "python"
  }
 },
 "nbformat": 4,
 "nbformat_minor": 5
}

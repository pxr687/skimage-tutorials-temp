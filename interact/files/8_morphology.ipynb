{
 "cells": [
  {
   "cell_type": "markdown",
   "id": "266c4c95",
   "metadata": {},
   "source": [
    "# Morphology\n",
    "\n",
    "[Morphology](https://en.wikipedia.org/wiki/Mathematical_morphology) is the mathematical study of shapes and has numerous applications in image processing. As such, Scikit-image has a dedicated module (`ski.morphology`) for associated functions. \n",
    "\n",
    "We already encountered structuring elements - (of which kernels are one type) - on [earlier](4_threshold_filters) [pages](5_mean_filter). A structuring element is a grid of a certain shape - you can think of it as a \"template\" - which is used to define the \"neighbourhood\" of pixels which an image processing operation affects. \n",
    "\n",
    "A (3, 3) structuring element can be applied as a square which affects 9 pixels - we might alter the image by centering this structuring element over every pixel, and replacing each pixel with the mean of the other pixels in its \"neighbourhood\", for instance:\n",
    "\n",
    "![](images/kernel_general.png)\n",
    "\n",
    "You will also recall that we need a strategy for pixels at the edge of the image, where we center the structuring element on a pixel where part of the structuring element \"falls off\" the edge of the image:\n",
    "\n",
    "![](images/kernel_hit_the_edge.png)\n",
    "\n",
    "Options here including \"padding\" the empty structuring element locations with a repeated value (like 0), or just duplicating the existing pixels at the edge of the image.\n",
    "\n",
    "We have seen structuring elements applied during filtering operations, courtesy of the `ski.filters` module. Morphological operations also make use of structuring elements, though in morphological operations, structuring elements are binary (contain only 0s and 1s). \n",
    "\n",
    "Morphological operations differ from the filtering operations we have seen previously because they are specifically related to the shape (...or, well, [*morphology*](https://www.cs.auckland.ac.nz/courses/compsci773s1c/lectures/ImageProcessing-html/topic4.htm)) of features with in the image. This contrasts with operations like [mean filtering](5_mean_filter) which \"spread\" pixel values around within a neighbourhood, rather than identifying and altering features with a specific shape/morphology.\n",
    "\n",
    "# Structuring elements\n",
    "\n",
    "Because morphological operations are part of image processing, they involve the modification of array pixel values, which is [all image processing is](3_skimage_processing_from_numpy_and_scipy). In morphological operations, the structural element will alter pixel values *depending upon the match between the shape of the structural element and the shape of the pixels in the \"neighbourhood\" of the structural element*.\n",
    "\n",
    "The structural element, typically, is centered once on every pixel in an image, and this central pixel is modified (or not) depending upon the match between the shape of the structural element and the shape depicted by the pixels in that neighbourhood.\n",
    "\n",
    "Let's make ourselves a simple binary image, so we can clearly see the effect of the foundational morphological operations:"
   ]
  },
  {
   "cell_type": "code",
   "execution_count": null,
   "id": "42fa04b0",
   "metadata": {},
   "outputs": [],
   "source": [
    "import skimage as ski\n",
    "import numpy as np\n",
    "import matplotlib.pyplot as plt\n",
    "\n",
    "# A custom function for displaying image attributes.\n",
    "from show_attributes import show_attributes\n",
    "\n",
    "# A custom function for comparison plots.\n",
    "def show_both(original,\n",
    "              altered, \n",
    "              alteration='',\n",
    "              figsize=(14, 14)):\n",
    "    plt.figure(figsize=figsize)\n",
    "    plt.subplot(1, 2, 1)\n",
    "    plt.title('Original')\n",
    "    plt.imshow(original)\n",
    "    plt.subplot(1, 2, 2)\n",
    "    plt.title(alteration)\n",
    "    plt.imshow(altered)\n",
    "    plt.show()\n",
    "\n",
    "# Set 'gray' as the default colormap\n",
    "plt.rcParams['image.cmap'] = 'gray'\n",
    "\n",
    "# Make a binary square.\n",
    "square = np.array([[0, 0, 0, 0, 0, 0, 0],\n",
    "                   [0, 0, 0, 0, 0, 0, 0],\n",
    "                   [0, 0, 1, 1, 1, 0, 0],\n",
    "                   [0, 0, 1, 1, 1, 0, 0],\n",
    "                   [0, 0, 1, 1, 1, 0, 0],\n",
    "                   [0, 0, 0, 0, 0, 0, 0],\n",
    "                   [0, 0, 0, 0, 0, 0, 0]], dtype=np.uint8)\n",
    "plt.imshow(square);"
   ]
  },
  {
   "cell_type": "markdown",
   "id": "922a0aaa",
   "metadata": {},
   "source": [
    "Let's get fancy and ostentacious now, and invest in some diamonds, by which we mean let's use `ski.morphology.diamond()` to construct a structuring element:"
   ]
  },
  {
   "cell_type": "code",
   "execution_count": null,
   "id": "38b52c2a",
   "metadata": {},
   "outputs": [],
   "source": [
    "# Create a `diamond` structuring element.\n",
    "diamond = ski.morphology.diamond(radius=1) # Changing `radius` will change the size of the diamond.\n",
    "\n",
    "# Show the diamond.\n",
    "print(diamond)\n",
    "plt.matshow(diamond);"
   ]
  },
  {
   "cell_type": "markdown",
   "id": "de456324",
   "metadata": {},
   "source": [
    "Using `ski.morphology.diamond(radius=1)` gives us a diamond shaped structuring element of `shape` (3, 3). We'd call it a \"cross\" but \"diamond\" is the canonical term... be assured that it will look more diamond-like (diamond-y?) when set to a bigger `radius`...:"
   ]
  },
  {
   "cell_type": "code",
   "execution_count": null,
   "id": "8dfcf527",
   "metadata": {},
   "outputs": [],
   "source": [
    "diamond.shape"
   ]
  },
  {
   "cell_type": "markdown",
   "id": "73bd774a",
   "metadata": {},
   "source": [
    "# Erosion\n",
    "\n",
    "The fundamental operations of morphological image processing are *erosion* and *dilation*. These affect bright and dark regions in an image. We will consider erosion first.\n",
    "\n",
    "Much like when bad behaviour spreads through a social group, erosion will lower a given pixels value down to lowest value within its neighbourhood - which is to say the lowest pixel value under the structuring element. The structuring element is centered on a pixel, and it is this central pixel that is altered and set to the lowest value in the neighbourhood. However, it will only perform this lowering *if the pixels in the neighbourhood do not match the shape of the structuring element*, else it will leave the central pixel unchanged.\n",
    "\n",
    "As mentioned above, a full morphological operation involves centering the structuring element on *every pixel in the image*, so every pixel gets assessed for alteration with reference to the other pixels in its neighbourhood. Like most (efficient) processes in computing, the operation is done in parallel (at the same time to all pixels in the images, rather than sequentially). \n",
    "\n",
    "We can erode our binary square using `ski.morphology.erosion()`, we use the `footprint` argument to specify our structuring element:"
   ]
  },
  {
   "cell_type": "code",
   "execution_count": null,
   "id": "d2928dac",
   "metadata": {},
   "outputs": [],
   "source": [
    "# Erode our image.\n",
    "eroded_square = ski.morphology.erosion(square,\n",
    "                                       footprint=diamond)\n",
    "\n",
    "# Show the result.\n",
    "print(eroded_square)\n",
    "plt.imshow(eroded_square);"
   ]
  },
  {
   "cell_type": "markdown",
   "id": "89960f92",
   "metadata": {},
   "source": [
    "What has happened here? We can think of our `diamond` structing element as being a bit like a weird [crosshair/reticle](https://en.wikipedia.org/wiki/Reticle) of a gun. In a morphological operation, we \"target\" the crosshair on a given array pixel. Because we are eroding, the central pixel will be *lowered to the value of the lowest pixel in its neighbourhood* if the pixels in the neighbourhood do not \"match\" the shape of the structuring element. This is illustrated below. \n",
    "\n",
    "Now, because our `square` array contains only 1s and 0s, central pixels \"match\" the structuring element if the pixels under the structuring element are 1 where the values in the structuring element are 1. The image below shows the `diamond` structuring element being applied to three different central pixels. \"Matches\" between the structuring element and the array pixels are depicted with a green tick; \"clashes\" between the structuring element and the array pixels are depicted with a red X. \"Clashes\" occur where the structuring element value is 1 and the array pixel value is 0. \n",
    "\n",
    "If a \"clash\" occurs, then the central pixel gets lowered to the lowest value under the structuring element (0). (We call this, loosely, the central pixel \"dying\").\n",
    "\n",
    "If a full \"match\" occurs between the neighbourhood values and the structuring element, then the central pixel is left altered (we say that it \"survives\"):\n",
    "\n",
    "![](images/hit_n_miss_with_text.png)"
   ]
  },
  {
   "cell_type": "markdown",
   "id": "a83327c6",
   "metadata": {},
   "source": [
    "Let's repeat this erosion process with two `square` arrays `concatenate`d together.\n",
    "\n",
    "What do you think will happen when we erode them using the `diamond` structuring element? Try to predict before you check:"
   ]
  },
  {
   "cell_type": "code",
   "execution_count": null,
   "id": "cf287c08",
   "metadata": {},
   "outputs": [],
   "source": [
    "# `concatenate` two `square` arrays.\n",
    "two_squares = np.concatenate([square, square], axis=1)\n",
    "plt.imshow(two_squares);"
   ]
  },
  {
   "cell_type": "code",
   "execution_count": null,
   "id": "9ba3a48b",
   "metadata": {},
   "outputs": [],
   "source": [
    "# Perform the erosion.\n",
    "eroded_two_squares = ski.morphology.erosion(two_squares, diamond)\n",
    "\n",
    "eroded_two_squares"
   ]
  },
  {
   "cell_type": "code",
   "execution_count": null,
   "id": "5b1e9469",
   "metadata": {},
   "outputs": [],
   "source": [
    "# Plot the result of the erosion.\n",
    "plt.imshow(eroded_two_squares);"
   ]
  },
  {
   "cell_type": "markdown",
   "id": "d3cf0d9e",
   "metadata": {},
   "source": [
    "What happened here? Well, again a \"match\" only occurs for two pixels in the image, the pixels at the center of each white square. This illustration below shows what happened:\n",
    "\n",
    "![](images/hit_n_miss_with_text_2.png)"
   ]
  },
  {
   "cell_type": "markdown",
   "id": "ac069c0a",
   "metadata": {},
   "source": [
    "All other \"neighbourhoods\" did not match the structuring element, and so the values in the neighbourhood were lowered to 0, 0 being the lowest value in each neighbourhood. This has the effect, if a non-matching pixel has the value of 1, of setting it to 0. If a non-matching pixel has a value of 0, it also gets set to 0, but it was already 0, so there is no appreciable change.\n",
    "\n",
    "Let's alter our image array slightly, to see how this affects the erosion operation with our `diamond` structuring element. We will place a black array pixel inside the right-hand white square:"
   ]
  },
  {
   "cell_type": "code",
   "execution_count": null,
   "id": "75abee0e",
   "metadata": {},
   "outputs": [],
   "source": [
    "# A modified array.\n",
    "square_the_circle = np.array([[0, 0, 0, 0, 0, 0, 0, 0, 0, 0, 0, 0, 0, 0],\n",
    "                               [0, 0, 0, 0, 0, 0, 0, 0, 0, 0, 0, 0, 0, 0],\n",
    "                               [0, 0, 1, 1, 1, 0, 0, 0, 0, 1, 1, 1, 0, 0],\n",
    "                               [0, 0, 1, 1, 1, 0, 0, 0, 0, 1, 0, 1, 0, 0],\n",
    "                               [0, 0, 1, 1, 1, 0, 0, 0, 0, 1, 1, 1, 0, 0],\n",
    "                               [0, 0, 0, 0, 0, 0, 0, 0, 0, 0, 0, 0, 0, 0],\n",
    "                               [0, 0, 0, 0, 0, 0, 0, 0, 0, 0, 0, 0, 0, 0]], \n",
    "                               dtype=\"uint8\")\n",
    "\n",
    "plt.imshow(square_the_circle);"
   ]
  },
  {
   "cell_type": "markdown",
   "id": "37e58124",
   "metadata": {},
   "source": [
    "Before looking at the output of the cell below, try to think carefully about how you think this will affect the erosion operation, using the (3, 3) `diamond` structuring element. Picture what will happen on the black pixel in the center of the right-hand square.\n",
    "\n",
    "Scroll down to the output of the cell below to see if your prediction was correct:"
   ]
  },
  {
   "cell_type": "code",
   "execution_count": null,
   "id": "e98e4425",
   "metadata": {},
   "outputs": [],
   "source": [
    "eroded_square_the_circle = ski.morphology.erosion(square_the_circle, diamond)\n",
    "\n",
    "plt.imshow(eroded_square_the_circle);"
   ]
  },
  {
   "cell_type": "markdown",
   "id": "64fe6093",
   "metadata": {},
   "source": [
    "Ok, so now the whole right-hand square got taken out. Brutal.\n",
    "\n",
    "Why did this happen? The cell below illustrates, again using green ticks for \"matches\" between the structuring element and the pixel \"neighbourhood\", and red X's for \"clashes\" between the structuring element and the pixel \"neighbourhood\".\n",
    "\n",
    "Remember that a \"clash\" means the central pixel \"dies\"; a \"match\" means the central pixel \"survives\":\n",
    "\n",
    "![](images/hit_n_miss_with_text_3.png)"
   ]
  },
  {
   "cell_type": "markdown",
   "id": "59775a9d",
   "metadata": {},
   "source": [
    "# Dilation\n",
    "\n",
    "The other foundational operation in morphological image processing is *dilation*. Dilation works the same as erosion in terms of centering a structuring element on each pixel and looking for \"matches\" or \"clashes\". However, it does exactly the opposite thing for pixels where it finds a \"clash\". Where, in the event of a \"clash\", erosion *lowers* central pixel values down to the neighbourhood minimum, dilation instead *raises* central pixel to the value of the neighbourhood maximum.\n",
    "\n",
    "Let's dilate the `square` array:"
   ]
  },
  {
   "cell_type": "code",
   "execution_count": null,
   "id": "405ada93",
   "metadata": {},
   "outputs": [],
   "source": [
    "# Show the `square` array.\n",
    "print(square)\n",
    "plt.imshow(square);"
   ]
  },
  {
   "cell_type": "markdown",
   "id": "149afa61",
   "metadata": {},
   "source": [
    "Now, we use `ski.morphology.dilation()` to dilate the image, again using `diamond` as our structuring element:"
   ]
  },
  {
   "cell_type": "code",
   "execution_count": null,
   "id": "e7359cbb",
   "metadata": {},
   "outputs": [],
   "source": [
    "# Perform the dilaton.\n",
    "dilated_square = ski.morphology.dilation(square,\n",
    "                                         footprint=diamond)\n",
    "\n",
    "# Show the result.\n",
    "print(dilated_square)\n",
    "plt.imshow(dilated_square);"
   ]
  },
  {
   "cell_type": "markdown",
   "id": "8a10cffc",
   "metadata": {},
   "source": [
    "Ok, so now some of the \"clashes\" have resulted in *more* white pixels in the image. The illustration below shows this for three pixels, two \"clashes\" and the one \"match\":\n",
    "\n",
    "![](images/hit_n_miss_dilation.png)"
   ]
  },
  {
   "cell_type": "markdown",
   "id": "d04e8d16",
   "metadata": {},
   "source": [
    "What do you think will happen if we dilate the `square_the_circle` array image shown below, using the `diamond` structuring element?\n",
    "\n",
    "Try to predict before checking:"
   ]
  },
  {
   "cell_type": "code",
   "execution_count": null,
   "id": "0f856718",
   "metadata": {},
   "outputs": [],
   "source": [
    "# Show the array.\n",
    "print(square_the_circle)\n",
    "plt.imshow(square_the_circle);"
   ]
  },
  {
   "cell_type": "markdown",
   "id": "224f1b4d",
   "metadata": {},
   "source": [
    "Let's see how good your prediction was:"
   ]
  },
  {
   "cell_type": "code",
   "execution_count": null,
   "id": "7d9927a2",
   "metadata": {},
   "outputs": [],
   "source": [
    "# Dilate the `square_the_circle` array, and show the result.\n",
    "dilated_square_the_circle = ski.morphology.dilation(square_the_circle, \n",
    "                                                   footprint=diamond)\n",
    "plt.imshow(dilated_square_the_circle);"
   ]
  },
  {
   "cell_type": "markdown",
   "id": "19184248",
   "metadata": {},
   "source": [
    "Why did this happen? The image below explains:\n",
    "\n",
    "\n",
    "![](images/hit_n_miss_with_text_3_dilation.png)"
   ]
  },
  {
   "cell_type": "markdown",
   "id": "a4916a9f",
   "metadata": {},
   "source": [
    "For erosion, all of the \"clashing\" pixels in the right-hand square get *lowered* to their neighbourhood minimum, in this case 0, and so they \"die\" and fade into the black background.\n",
    "\n",
    "For dilation, clashing central pixels get *raised* to the neighbourhood maximum, which in this case is 1. \n",
    "\n",
    "So, [remember](https://scikit-image.org/docs/0.25.x/auto_examples/applications/plot_morphology.html):\n",
    "\n",
    "*Erosion enlarges dark regions and shrinks bright regions.*\n",
    "\n",
    "*Dilation enlarges bright regions and shrinks dark regions.*"
   ]
  },
  {
   "cell_type": "markdown",
   "id": "6e87da4f",
   "metadata": {},
   "source": [
    "# Morphology using more complex images\n",
    "\n",
    "Let's apply some of this to more complex images. Fittingly, we will use\n",
    "a terrifying picture of\n",
    "a [Xenomorph](https://en.wikipedia.org/wiki/Xenomorph), which at the time of\n",
    "writing Wikipedia defines as \"a fictional endoparasitoid extraterrestrial\n",
    "species that serves as the main antagonist of the Alien and Alien vs. Predator\n",
    "franchises\". Yikes."
   ]
  },
  {
   "cell_type": "code",
   "execution_count": null,
   "id": "7e0b0cc6",
   "metadata": {},
   "outputs": [],
   "source": [
    "# Photo by Stockcake\n",
    "# - https://stockcake.com/i/alien-head-close-up_1354662_1093149\n",
    "xenomorph = ski.io.imread(\"images/xenomorph.jpg\", as_gray=True)\n",
    "# Convert to binary.\n",
    "xenomorph = ski.util.img_as_bool(xenomorph).astype(int)\n",
    "\n",
    "# Show the \"raw\" array, then show graphically.\n",
    "print(xenomorph)\n",
    "plt.imshow(xenomorph);"
   ]
  },
  {
   "cell_type": "code",
   "execution_count": null,
   "id": "39d49fb1",
   "metadata": {},
   "outputs": [],
   "source": [
    "# Show the attributes of `xenomorph`.\n",
    "show_attributes(xenomorph)"
   ]
  },
  {
   "cell_type": "markdown",
   "id": "6faefa75",
   "metadata": {},
   "source": [
    "Scary, especially as a binary image, but not quite as scary as the `smiley` image we [made](0_images_as_numpy_arrays) that still haunts our dreams.\n",
    "\n",
    "True to form, eroding this image using the `diamond` structuring element increases the size of dark regions:"
   ]
  },
  {
   "cell_type": "code",
   "execution_count": null,
   "id": "bb11444e",
   "metadata": {},
   "outputs": [],
   "source": [
    "# Erode the xenomorph.\n",
    "xeno_binary_ero_rad_1_diamond = ski.morphology.erosion(xenomorph,\n",
    "                                                       footprint=diamond)\n",
    "\n",
    "# Show the result.\n",
    "show_both(xenomorph, xeno_binary_ero_rad_1_diamond, \"Eroded\");"
   ]
  },
  {
   "cell_type": "markdown",
   "id": "8439596a",
   "metadata": {},
   "source": [
    "Whilst dilation increases the size of bright regions (creating a truly, truly terrifying image):"
   ]
  },
  {
   "cell_type": "code",
   "execution_count": null,
   "id": "317a6277",
   "metadata": {},
   "outputs": [],
   "source": [
    "# Dilate the xenomorph.\n",
    "xeno_binary_dilate_rad_1_diamond = ski.morphology.dilation(xenomorph,\n",
    "                                                           footprint=diamond)\n",
    "\n",
    "# Show the result.\n",
    "show_both(xenomorph, xeno_binary_dilate_rad_1_diamond, \"Dilated\");"
   ]
  },
  {
   "cell_type": "markdown",
   "id": "56f6d97a",
   "metadata": {},
   "source": [
    "We can alter the size of the structuring element to change the nature of the effect. The exact change will be heavily dependent on the image array we are processing. Here we create a diamond with `radius = 6`:"
   ]
  },
  {
   "cell_type": "code",
   "execution_count": null,
   "id": "5e361d2e",
   "metadata": {},
   "outputs": [],
   "source": [
    "# Create and show a larger diamond structuring element.\n",
    "diamond_6 = ski.morphology.diamond(radius=6)\n",
    "print(diamond_6)\n",
    "plt.imshow(diamond_6);"
   ]
  },
  {
   "cell_type": "markdown",
   "id": "1df5a567",
   "metadata": {},
   "source": [
    "Applied to the `xenomorph` image in an erosion operation, this has some radical results:"
   ]
  },
  {
   "cell_type": "code",
   "execution_count": null,
   "id": "9241407d",
   "metadata": {},
   "outputs": [],
   "source": [
    "xeno_binary_ero_rad_6_diamond = ski.morphology.erosion(xenomorph, \n",
    "                                                       footprint=diamond_6)\n",
    "show_both(xenomorph, xeno_binary_ero_rad_6_diamond, \"Eroded \\n(13, 13) Diamond SE\");"
   ]
  },
  {
   "cell_type": "markdown",
   "id": "a9befb83",
   "metadata": {},
   "source": [
    "There are less \"matches\" between the large structuring element and pixel neighbourhoods in the image - this leaves less central pixels unchanged, than for a smaller structuring element of the same shape. Thus, because in erorison we are *lowering* central pixel values in the event of a \"clash\", the darker regions have expanded substantially more than when we used a smaller `diamond`, which gave more \"matches\".\n",
    "\n",
    "Dilation, again has the opposite effect of increasing brighter regions, in the event of \"clashes\":"
   ]
  },
  {
   "cell_type": "code",
   "execution_count": null,
   "id": "33a0e8de",
   "metadata": {},
   "outputs": [],
   "source": [
    "# Dilate the xenomorph with the `radius = 6` diamond.\n",
    "xeno_binary_dilate_rad_6_diamond = ski.morphology.dilation(xenomorph, \n",
    "                                                           footprint=diamond_6)\n",
    "show_both(xenomorph, xeno_binary_dilate_rad_6_diamond, \"Dilated \\n(13, 13) Diamond SE\");"
   ]
  },
  {
   "cell_type": "markdown",
   "id": "8560f935",
   "metadata": {},
   "source": [
    "We can also change the shape of the structuring element - here we create a rectangle of `shape` (3, 3):"
   ]
  },
  {
   "cell_type": "code",
   "execution_count": null,
   "id": "de07b010",
   "metadata": {},
   "outputs": [],
   "source": [
    "# A square structuring element.\n",
    "square_SE = ski.morphology.footprint_rectangle((3, 3))\n",
    "square_SE"
   ]
  },
  {
   "cell_type": "markdown",
   "id": "fb170a67",
   "metadata": {},
   "source": [
    "This new structuring element is the same `shape` as the kernels we used on the [filtering page](5_mean_filter). Below we use it to erode the xenomorph image:"
   ]
  },
  {
   "cell_type": "code",
   "execution_count": null,
   "id": "cea30eb0",
   "metadata": {},
   "outputs": [],
   "source": [
    "# Erode the xenomorph (with the square structuring element).\n",
    "xeno_binary_ero_square = ski.morphology.erosion(xenomorph,\n",
    "                                                footprint=square_SE)\n",
    "show_both(xenomorph, xeno_binary_ero_square, \"Eroded \\n(3,3) Square SE\");"
   ]
  },
  {
   "cell_type": "markdown",
   "id": "beed8dbb",
   "metadata": {},
   "source": [
    "Dilation with this new structuring element once more enlarges brighter regions, again with horrific results:"
   ]
  },
  {
   "cell_type": "code",
   "execution_count": null,
   "id": "6495f19a",
   "metadata": {},
   "outputs": [],
   "source": [
    "# Dilate the xenomorph, with the new structuring element.\n",
    "xeno_binary_dilate_square = ski.morphology.dilation(xenomorph, \n",
    "                                                    footprint=square_SE)\n",
    "show_both(xenomorph, xeno_binary_dilate_square, \"Dilated \\n(3,3) Square SE\");"
   ]
  },
  {
   "cell_type": "markdown",
   "id": "d475bae7",
   "metadata": {},
   "source": [
    "Changing the shape or size of the structuring element (likely) changes the number of \"matches\", and therefore the degree and location of changes to the bright/dark regions, for both erosion and dilation. We are essentially looking for features of a certain shape (the shape of our structuring element) in the image, and then dilating/eroding on the basis of the number of matches/clashes.\n",
    "\n",
    "**Start of exercise**\n",
    "\n",
    "Try to recreate the following image by processing `xenomorph`, using only `skimage` morphological operations, as well as operations from the other tutorials, from `numpy`, `scipy` and `skimage`:\n",
    "\n",
    "![](images/xeno_ex_1.png)\n",
    "\n",
    "Look at the shape, the *morphology* of the features in the image - what shape and size structuring element do you think you need? Do you think you need dilation or erosion?\n",
    "\n",
    "For comparison, here is the original binarized image:"
   ]
  },
  {
   "cell_type": "code",
   "execution_count": null,
   "id": "259d935d",
   "metadata": {},
   "outputs": [],
   "source": [
    "plt.imshow(xenomorph);"
   ]
  },
  {
   "cell_type": "code",
   "execution_count": null,
   "id": "135fa2ff",
   "metadata": {},
   "outputs": [],
   "source": [
    "# YOUR CODE HERE\n",
    "img = ..."
   ]
  },
  {
   "cell_type": "markdown",
   "id": "8af187da",
   "metadata": {},
   "source": [
    "**End of exercise**"
   ]
  },
  {
   "cell_type": "markdown",
   "id": "296d30d1",
   "metadata": {},
   "source": [
    "**See the [corresponding page](/skimage-tutorials-temp/8_morphology.html) for solution**\n",
    "\n",
    "# Skeletonizing an image\n",
    "\n",
    "In keeping with the horror theme of the `xenomorph` image, and the legacy of the [`smiley`](0_images_as_numpy_arrays) array, let's look at the `ski.morpholoy.skeletonize()` function. \n",
    "\n",
    "This takes a binary image and finds its \"skeleton\" - e.g. the centerline of shapes in the image, and marks it out with a [single pixel-wide set of lines](https://scikit-image.org/docs/0.25.x/auto_examples/applications/plot_morphology.html#skeletonize):"
   ]
  },
  {
   "cell_type": "code",
   "execution_count": null,
   "id": "b8e2f405",
   "metadata": {},
   "outputs": [],
   "source": [
    "# Skeletonize the xenomorph (skeletonomorph?)\n",
    "skeletonized_xenomorph = ski.morphology.skeletonize(xenomorph)\n",
    "plt.imshow(skeletonized_xenomorph);"
   ]
  },
  {
   "cell_type": "markdown",
   "id": "37b78b82",
   "metadata": {},
   "source": [
    "We can also do this with less nightmarish results, to other images, such as the much more friendly `horse` from `ski.data`:"
   ]
  },
  {
   "cell_type": "code",
   "execution_count": null,
   "id": "1496425c",
   "metadata": {},
   "outputs": [],
   "source": [
    "# Import the `horse` image from `ski.data`\n",
    "horse = ski.data.horse()\n",
    "plt.imshow(horse);"
   ]
  },
  {
   "cell_type": "code",
   "execution_count": null,
   "id": "2dc32cb9",
   "metadata": {},
   "outputs": [],
   "source": [
    "show_attributes(horse)"
   ]
  },
  {
   "cell_type": "code",
   "execution_count": null,
   "id": "89e2776d",
   "metadata": {},
   "outputs": [],
   "source": [
    "# Skeletonize `horse`.\n",
    "skeleton_horse = ski.morphology.skeletonize(horse == 0) # The image must be binary numeric, not Boolean, to `skeletonize`.\n",
    "\n",
    "plt.imshow(skeleton_horse);"
   ]
  },
  {
   "cell_type": "markdown",
   "id": "ba7eaa16",
   "metadata": {},
   "source": [
    "Ok, maybe that is still quite nightmarish..."
   ]
  },
  {
   "cell_type": "markdown",
   "id": "0f258a41",
   "metadata": {},
   "source": [
    "# Summary\n",
    "\n",
    "On this page we have looked at fundamental morphological operations in `skimage`."
   ]
  },
  {
   "cell_type": "markdown",
   "id": "774989c5",
   "metadata": {},
   "source": [
    "# References\n",
    "\n",
    "Based on: https://scikit-image.org/skimage-tutorials/lectures/3_morphological_operations.html\n",
    "\n",
    "Based on on: https://biapol.github.io/Image-data-science-with-Python-and-Napari-EPFL2022/day2d_image_segmentation/03_Morphological_operations.html"
   ]
  }
 ],
 "metadata": {
  "jupytext": {
   "formats": "ipynb,Rmd"
  },
  "kernelspec": {
   "display_name": "Python (Pyodide)",
   "name": "python"
  }
 },
 "nbformat": 4,
 "nbformat_minor": 5
}
